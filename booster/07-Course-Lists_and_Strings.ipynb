{
 "cells": [
  {
   "cell_type": "markdown",
   "metadata": {},
   "source": [
    "<img style=\"margin-top: 0px\" src=\" data:image/png;base64,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\" align=\"left\" alt=\"logo esme\"  height=\"20\"> \n",
    "<div class=\"alert alert-block alert-info\" style=\"margin-top: 10px; padding: 10px; background: linear-gradient(to right, #f7f9fa, #d9edfb);\">\n",
    "    <h1 style=\"margin-left: 85px\">IngeSUP - Course 07 - Lists and Strings I</h1>\n",
    "</div>"
   ]
  },
  {
   "cell_type": "markdown",
   "metadata": {},
   "source": [
    "<div style='color: rgb(49, 112, 143)'>\n",
    "    <h3>Summary</h3>\n",
    "</div>"
   ]
  },
  {
   "cell_type": "markdown",
   "metadata": {
    "slideshow": {
     "slide_type": "skip"
    }
   },
   "source": [
    "* <a href=\"#list-in-Python\">List in Python</a>\n",
    "* <a href=\"#modify-lists\">Modify Lists</a>\n",
    "* <a href=\"#lists-operators\">Lists Operators</a>\n",
    "* <a href=\"#iterate-through-lists\">Iterate through lists</a>\n",
    "* <a href=\"#strings-in-python\">Strings in Python</a>\n"
   ]
  },
  {
   "cell_type": "markdown",
   "metadata": {
    "slideshow": {
     "slide_type": "slide"
    }
   },
   "source": [
    "<div class=\"alert alert-block alert-info\" style='color:white; background-color:blue; border-color: blue; '>\n",
    "    <h2>List in Python</h2>\n",
    "</div>"
   ]
  },
  {
   "cell_type": "markdown",
   "metadata": {
    "slideshow": {
     "slide_type": "slide"
    }
   },
   "source": [
    "A list is a sequence of elements. It can be anything ; a list of integers, for example $[5,-7,12,99]$, or a list of strings, for example $[\"March\", \"April\", \"May\"]$ or objects of various types $[3.14, \"pi\",10e-3, \"x\",True]$."
   ]
  },
  {
   "cell_type": "markdown",
   "metadata": {
    "slideshow": {
     "slide_type": "slide"
    }
   },
   "source": [
    "<div style=\"border-color: #007bff; margin: 1.5625em auto; padding: 0 .6rem .8rem !important; overflow: hidden; page-break-inside: avoid;border-left: .2rem solid #007bff; border-radius: .1rem; box-shadow: 0 .2rem .5rem rgba(0,0,0,.05),0 0 .05rem rgba(0,0,0,.1); transition: color .25s,background-color .25s,border-color .25s;\">\n",
    "    <p style=\"background-color: #e7f2fa; position: relative; margin: 0 -.6rem !important; padding: .4rem .6rem .4rem 2rem; font-weight: 700;\">📝 Note</p>\n",
    "    <p style=\"padding: 0 1.4rem; margin-top: .4em; margin-bottom: 0; font-size: 1em;\">\n",
    "    A list starts and ends with square brackets. The elements of a list are separated by commas. They are sometimes called <strong>arrays</strong>. In Python, these two words are synonymous.\n",
    "    </p>\n",
    "</div>"
   ]
  },
  {
   "cell_type": "markdown",
   "metadata": {
    "slideshow": {
     "slide_type": "slide"
    }
   },
   "source": [
    "From an **algorithmic** point of view, lists are **data structures**. A data structure is an object in a program that contains a series of data. \n",
    "\n",
    "A simple data structure might be, for example, an array containing the components of a vector, or a list of names."
   ]
  },
  {
   "cell_type": "markdown",
   "metadata": {},
   "source": [
    "<div style='color: forestgreen'>\n",
    "    <h3>List Creation</h3>\n",
    "</div>"
   ]
  },
  {
   "cell_type": "markdown",
   "metadata": {
    "slideshow": {
     "slide_type": "subslide"
    }
   },
   "source": [
    "Lists in Python are created simply by enclosing the sequence in square brackets[].\n",
    "\n",
    ">Note: A list can contain similar values ! As opposite to a [set](https://docs.python.org/3/library/stdtypes.html#set-types-set-frozenset) that contains unique values."
   ]
  },
  {
   "cell_type": "code",
   "execution_count": 1,
   "metadata": {
    "slideshow": {
     "slide_type": "subslide"
    }
   },
   "outputs": [],
   "source": [
    "empyt_list = [] \n",
    " \n",
    "# list with elements\n",
    "week = ['Monday','Tuesday']\n",
    " \n",
    "# list with different typed elements\n",
    "list2 = ['ESME','Sudria', True, 2023]\n",
    " \n",
    "# list of integers\n",
    "numbers = [1, 2, 3]"
   ]
  },
  {
   "cell_type": "markdown",
   "metadata": {},
   "source": [
    "<div style='color: forestgreen'>\n",
    "    <h3>More examples</h3>\n",
    "</div>"
   ]
  },
  {
   "cell_type": "code",
   "execution_count": null,
   "metadata": {
    "slideshow": {
     "slide_type": "subslide"
    }
   },
   "outputs": [],
   "source": [
    "lab_group0 = [\"Théo\", \"Emilie\", \"Sarah\", \"Marc\"]\n",
    "\n",
    "print(lab_group0)\n",
    "\n",
    "values = [4.3, 5.2, 0.75, 3.14]\n",
    "\n",
    "print(values)"
   ]
  },
  {
   "cell_type": "markdown",
   "metadata": {},
   "source": [
    "<div style='color: forestgreen'>\n",
    "    <h3>In short</h3>\n",
    "</div>"
   ]
  },
  {
   "cell_type": "markdown",
   "metadata": {
    "slideshow": {
     "slide_type": "subslide"
    }
   },
   "source": [
    "A list is defined by elements enclosed in square brackets:\n",
    "- list1 = $[5,4,3,2,1]$, a list of 5 integers,\n",
    "- list2 = $[\"Friday\", \"Saturday\", \"Sunday\"]$, a list of 3 strings,\n",
    "- list3 = $[]$, **the empty list** (very useful for adding to later!)."
   ]
  },
  {
   "cell_type": "markdown",
   "metadata": {},
   "source": [
    "<div style='color: forestgreen'>\n",
    "    <h3>Access an element from a list using a positive index</h3>\n",
    "</div>"
   ]
  },
  {
   "cell_type": "markdown",
   "metadata": {
    "slideshow": {
     "slide_type": "subslide"
    }
   },
   "source": [
    "To get an element from a list you can write `list[i]` where `i` is the index of the requested element.\n",
    "\n",
    "> /!\\ remember that the index starts at 0 !\n",
    "\n",
    "For example with the list $alphabet = [\"A\",\"B\",\"C\",\"D\",\"E\",\"F\"]$\n"
   ]
  },
  {
   "cell_type": "markdown",
   "metadata": {
    "slideshow": {
     "slide_type": "subslide"
    }
   },
   "source": [
    "- alphabet[0] returns \"A\"\n",
    "- alphabet[1] returns \"B\"\n",
    "- alphabet[2] returns \"C\"\n",
    "- alphabet[3] returns \"D\"\n",
    "- alphabet[4] returns \"E\"\n",
    "- alphabet[5] returns \"F\""
   ]
  },
  {
   "cell_type": "markdown",
   "metadata": {
    "slideshow": {
     "slide_type": "subslide"
    }
   },
   "source": [
    "<img src=\" data:image/png;base64,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\" alt=\"listes\">"
   ]
  },
  {
   "cell_type": "code",
   "execution_count": 2,
   "metadata": {
    "slideshow": {
     "slide_type": "subslide"
    }
   },
   "outputs": [
    {
     "name": "stdout",
     "output_type": "stream",
     "text": [
      "nbrs at index 0 1\n",
      "nbrs at index 1 2\n",
      "nbrs at index 2 3\n"
     ]
    },
    {
     "ename": "IndexError",
     "evalue": "list index out of range",
     "output_type": "error",
     "traceback": [
      "\u001b[0;31m---------------------------------------------------------------------------\u001b[0m",
      "\u001b[0;31mIndexError\u001b[0m                                Traceback (most recent call last)",
      "\u001b[1;32m/workspaces/esme/booster/07-Course-Lists_and_Strings.ipynb Cell 19\u001b[0m line \u001b[0;36m5\n\u001b[1;32m      <a href='vscode-notebook-cell://codespaces%2Bfictional-spork-ppqpqwgwwrp2rpp9/workspaces/esme/booster/07-Course-Lists_and_Strings.ipynb#X24sdnNjb2RlLXJlbW90ZQ%3D%3D?line=2'>3</a>\u001b[0m \u001b[39mprint\u001b[39m(\u001b[39m\"\u001b[39m\u001b[39mnbrs at index 1\u001b[39m\u001b[39m\"\u001b[39m, nbrs[\u001b[39m1\u001b[39m])\n\u001b[1;32m      <a href='vscode-notebook-cell://codespaces%2Bfictional-spork-ppqpqwgwwrp2rpp9/workspaces/esme/booster/07-Course-Lists_and_Strings.ipynb#X24sdnNjb2RlLXJlbW90ZQ%3D%3D?line=3'>4</a>\u001b[0m \u001b[39mprint\u001b[39m(\u001b[39m\"\u001b[39m\u001b[39mnbrs at index 2\u001b[39m\u001b[39m\"\u001b[39m, nbrs[\u001b[39m2\u001b[39m])\n\u001b[0;32m----> <a href='vscode-notebook-cell://codespaces%2Bfictional-spork-ppqpqwgwwrp2rpp9/workspaces/esme/booster/07-Course-Lists_and_Strings.ipynb#X24sdnNjb2RlLXJlbW90ZQ%3D%3D?line=4'>5</a>\u001b[0m nbrs[\u001b[39m3\u001b[39;49m]\n",
      "\u001b[0;31mIndexError\u001b[0m: list index out of range"
     ]
    }
   ],
   "source": [
    "nbrs = [1,2,3]\n",
    "print(\"nbrs at index 0\", nbrs[0])\n",
    "print(\"nbrs at index 1\", nbrs[1])\n",
    "print(\"nbrs at index 2\", nbrs[2])\n",
    "nbrs[3]"
   ]
  },
  {
   "cell_type": "markdown",
   "metadata": {
    "slideshow": {
     "slide_type": "slide"
    }
   },
   "source": [
    "<div style=\"border-color: #fd7e14; margin: 1.5625em auto; padding: 0 .6rem .8rem !important; overflow: hidden; page-break-inside: avoid;border-left: .2rem solid #fd7e14; border-radius: .1rem; box-shadow: 0 .2rem .5rem rgba(0,0,0,.05),0 0 .05rem rgba(0,0,0,.1); transition: color .25s,background-color .25s,border-color .25s;\">\n",
    "    <p style=\"background-color: #ffedcc; position: relative; margin: 0 -.6rem !important; padding: .4rem .6rem .4rem 2rem; font-weight: 700;\">🚧 Question</p>\n",
    "    <p style=\"padding: 0 1.4rem; margin-top: .4em; margin-bottom: 0; font-size: 1em;\">What happens if we try to get the value at index 3 ? </p> \n",
    "</div>"
   ]
  },
  {
   "cell_type": "markdown",
   "metadata": {},
   "source": [
    "<div style='color: forestgreen'>\n",
    "    <h3>Access an element with a negative index</h3>\n",
    "</div>"
   ]
  },
  {
   "cell_type": "markdown",
   "metadata": {},
   "source": [
    "Python, like Ruby and few other langagues, allows to access elements of a list with negative indexes.\n",
    "For example the index `-1` returns the last element of the list, `-2` the penultimate, etc.\n",
    "\n",
    "Therefore `-1` points to the last element while `-length` points to the first.\n",
    "\n",
    "|     | \"A\" | \"B\" | \"C\" | \"D\" | \"E\" | \"F\" |\n",
    "|-----|-----|-----|-----|-----|-----|-----|\n",
    "|index| -6  | -5  | -4  | -3  | -2  | -1  |  "
   ]
  },
  {
   "cell_type": "markdown",
   "metadata": {
    "slideshow": {
     "slide_type": "slide"
    }
   },
   "source": [
    "<div style=\"border-color: rgba(40, 167, 70, 0.294); margin: 1.5625em auto; padding: 0 .6rem .8rem !important; overflow: hidden; page-break-inside: avoid; border-left: .2rem solid rgba(40, 167, 70, 0.294); border-radius: .1rem; box-shadow: 0 .2rem .5rem rgba(0,0,0,.05),0 0 .05rem rgba(0,0,0,.1); transition: color .25s,background-color .25s,border-color .25s;\">\n",
    "    <p style=\"background-color: rgba(40,167,70,0.1); position: relative; margin: 0 -.6rem !important; padding: .4rem .6rem .4rem 2rem; font-weight: 700;\">💡 Tips</p>\n",
    "    <h4>It is often useful to access the last element of a list, you can just use <b><i>-1</i></b>.</p>\n",
    "</div>"
   ]
  },
  {
   "cell_type": "code",
   "execution_count": null,
   "metadata": {
    "slideshow": {
     "slide_type": "subslide"
    }
   },
   "outputs": [],
   "source": [
    "liste = [\"one\", \"two\", \"three\", \"four\"]\n",
    "print(liste[-1])"
   ]
  },
  {
   "cell_type": "markdown",
   "metadata": {},
   "source": [
    "<div class=\"alert alert-block alert-info\" style='color:white; background-color:blue; border-color: blue; '>\n",
    "    <h2>Modify lists</h2>\n",
    "</div>"
   ]
  },
  {
   "cell_type": "markdown",
   "metadata": {},
   "source": [
    "<div style='color: forestgreen'>\n",
    "    <h3>Add elements at the end of a list with <code>append()</code></h3>\n",
    "</div>"
   ]
  },
  {
   "cell_type": "markdown",
   "metadata": {
    "slideshow": {
     "slide_type": "subslide"
    }
   },
   "source": [
    "To add elements to a list, you can use the `append()` function. Only one element at a time can be added with this method.\n",
    "\n",
    "To add multiple elements using the `append()` method, **you'll need to use loops**."
   ]
  },
  {
   "cell_type": "code",
   "execution_count": null,
   "metadata": {
    "slideshow": {
     "slide_type": "subslide"
    }
   },
   "outputs": [],
   "source": [
    "# Create an empty list\n",
    "numbers = []\n",
    "# and add nimbers\n",
    "numbers.append(1) \n",
    "numbers.append(2) \n",
    "numbers.append(3) \n",
    " \n",
    "print(\"\\n Result after the append calls\") \n",
    "print(liste) "
   ]
  },
  {
   "cell_type": "code",
   "execution_count": null,
   "metadata": {
    "slideshow": {
     "slide_type": "subslide"
    }
   },
   "outputs": [],
   "source": [
    "numbers = []\n",
    "# And with a loop\n",
    "for i in range(1, 4): \n",
    "    numbers.append(i)\n",
    "print(numbers)"
   ]
  },
  {
   "cell_type": "markdown",
   "metadata": {
    "slideshow": {
     "slide_type": "slide"
    }
   },
   "source": [
    "<div style=\"border-color: #fd7e14; margin: 1.5625em auto; padding: 0 .6rem .8rem !important; overflow: hidden; page-break-inside: avoid;border-left: .2rem solid #fd7e14; border-radius: .1rem; box-shadow: 0 .2rem .5rem rgba(0,0,0,.05),0 0 .05rem rgba(0,0,0,.1); transition: color .25s,background-color .25s,border-color .25s;\">\n",
    "    <p style=\"background-color: #ffedcc; position: relative; margin: 0 -.6rem !important; padding: .4rem .6rem .4rem 2rem; font-weight: 700;\">🚧 Question</p>\n",
    "    <p style=\"padding: 0 1.4rem; margin-top: .4em; margin-bottom: 0; font-size: 1em;\">If we put the <code>print(numbers)</code><strong> with the <strong>for</strong> loop, what would have been displayed and why ?</p> \n",
    "</div>"
   ]
  },
  {
   "cell_type": "markdown",
   "metadata": {},
   "source": [
    "<div style='color: forestgreen'>\n",
    "    <h3>Add multiple elements at the end of a list with <code>extend()</code></h3>\n",
    "</div>"
   ]
  },
  {
   "cell_type": "markdown",
   "metadata": {
    "slideshow": {
     "slide_type": "subslide"
    }
   },
   "source": [
    "Multiple elements can be added one-shot at the end of a list using the `extend()` function."
   ]
  },
  {
   "cell_type": "code",
   "execution_count": null,
   "metadata": {
    "slideshow": {
     "slide_type": "slide"
    }
   },
   "outputs": [],
   "source": [
    "list1 = [1,2]\n",
    "list2 = [3,4]\n",
    "\n",
    "list1.extend(list2)\n",
    "print(list1)"
   ]
  },
  {
   "cell_type": "markdown",
   "metadata": {},
   "source": [
    "<div style='color: forestgreen'>\n",
    "    <h3>Add elements at a specific position with <code>insert()</code></h3>\n",
    "</div>"
   ]
  },
  {
   "cell_type": "markdown",
   "metadata": {
    "slideshow": {
     "slide_type": "subslide"
    }
   },
   "source": [
    "To add an element at a specific index, use the `insert()` function.\n",
    "\n",
    "As opposite to `append()` which takes a single argument, `insert()` needs two arguments (index, value)."
   ]
  },
  {
   "cell_type": "code",
   "execution_count": null,
   "metadata": {
    "slideshow": {
     "slide_type": "subslide"
    }
   },
   "outputs": [],
   "source": [
    "my_list = [0,1,2,4]\n",
    "\n",
    "# Add 12 at index 0 (i.e. begining of the list)\n",
    "my_list.insert(0, 12) \n",
    "# [12, 0, 1, 2, 4]\n",
    " \n",
    "# Add 12 at the position2\n",
    "my_list.insert(2, 12) \n",
    "# [12, 0, 12, 1, 2, 4]\n",
    "\n",
    "print(my_list)"
   ]
  },
  {
   "cell_type": "markdown",
   "metadata": {},
   "source": [
    "<div style='color: forestgreen'>\n",
    "    <h3>Modify a list using its index.</h3>\n",
    "</div>"
   ]
  },
  {
   "cell_type": "markdown",
   "metadata": {
    "slideshow": {
     "slide_type": "subslide"
    }
   },
   "source": [
    "The bracket notation like $mylist[i]$, can access the value in index **i** but can also be use as a variable access using `=`.\n",
    "\n",
    "So with variable definition (=) **we can modify the value in the index `i`**."
   ]
  },
  {
   "cell_type": "code",
   "execution_count": null,
   "metadata": {
    "scrolled": true,
    "slideshow": {
     "slide_type": "subslide"
    }
   },
   "outputs": [],
   "source": [
    "my_list = [\"e\",\"p\",\"s\"]\n",
    "print(my_list[2])    # Affiche s\n",
    "\n",
    "my_list[2] = \"z\"    # On change le 3ème élément\n",
    "print(my_list)\n",
    "\n",
    "my_list[0] = \"f\"    # Cette fois on change le 1er\n",
    "print(my_list)"
   ]
  },
  {
   "cell_type": "markdown",
   "metadata": {},
   "source": [
    "<div style='color: forestgreen'>\n",
    "    <h3>Remove an element from the list</h3>\n",
    "</div>"
   ]
  },
  {
   "cell_type": "markdown",
   "metadata": {
    "slideshow": {
     "slide_type": "subslide"
    }
   },
   "source": [
    "#### Delete an element using its value"
   ]
  },
  {
   "cell_type": "markdown",
   "metadata": {
    "slideshow": {
     "slide_type": "subslide"
    }
   },
   "source": [
    "Elements can be removed from the list using the `remove()` function. An error will trigger if the element does not exist in the list.\n",
    "\n",
    "The `remove()` method only deletes one element at a time, the first element found. \n",
    "\n",
    "To delete several elements, use a loop."
   ]
  },
  {
   "cell_type": "code",
   "execution_count": 3,
   "metadata": {
    "slideshow": {
     "slide_type": "subslide"
    }
   },
   "outputs": [
    {
     "name": "stdout",
     "output_type": "stream",
     "text": [
      "\n",
      "my_list after deletion: \n",
      "[5, 7, 8, 12]\n"
     ]
    }
   ],
   "source": [
    "my_list = [5, 5, 7, 8, 12]\n",
    "\n",
    "my_list.remove(5)\n",
    "# my_list.remove(8) \n",
    "print(\"\\nmy_list after deletion: \") \n",
    "print(my_list)"
   ]
  },
  {
   "cell_type": "markdown",
   "metadata": {
    "slideshow": {
     "slide_type": "slide"
    }
   },
   "source": [
    "#### Delete an element using its index"
   ]
  },
  {
   "cell_type": "markdown",
   "metadata": {
    "slideshow": {
     "slide_type": "subslide"
    }
   },
   "source": [
    "To delete an element using the list name and its index (rank), use the **del** keyword, mentioning the list name and the index of the element to be deleted.\n"
   ]
  },
  {
   "cell_type": "markdown",
   "metadata": {
    "slideshow": {
     "slide_type": "subslide"
    }
   },
   "source": [
    "<div style=\"border-color: #dc3545; margin: 1.5625em auto; padding: 0 .6rem .8rem !important; overflow: hidden; page-break-inside: avoid; border-left: .2rem solid #dc3545; border-radius: .1rem; box-shadow: 0 .2rem .5rem rgba(0,0,0,.05),0 0 .05rem rgba(0,0,0,.1); transition: color .25s,background-color .25s,border-color .25s;\">\n",
    "    <p style=\"background-color: #fdf3f2; position: relative; margin: 0 -.6rem !important; padding: .4rem .6rem .4rem 2rem; font-weight: 700;\">⚠️ Warning</p>\n",
    "    <p style=\"padding: 0 1.4rem; margin-top: .4em; margin-bottom: 0; font-size: 1em;\">Be careful <b>del</b> is not a function but a keyword in Python. Therefore there are no parenthesis !</p>\n",
    "    \n",
    "</div>"
   ]
  },
  {
   "cell_type": "code",
   "execution_count": null,
   "metadata": {
    "slideshow": {
     "slide_type": "subslide"
    }
   },
   "outputs": [],
   "source": [
    "# syntaxe del liste[indice]\n",
    "my_list = [10, 2, 3, 9, 2, 1, 2, 3, 2]\n",
    "del my_list[2]\n",
    "# -> my_list = [10, 2, 9, 2, 1, 2, 3, 2]\n",
    "print(my_list)"
   ]
  },
  {
   "cell_type": "markdown",
   "metadata": {},
   "source": [
    "<div style='color: forestgreen'>\n",
    "    <h3>Empty a list</h3>\n",
    "</div>"
   ]
  },
  {
   "cell_type": "markdown",
   "metadata": {
    "slideshow": {
     "slide_type": "subslide"
    }
   },
   "source": [
    "To clear a list, just replace it with an empty list."
   ]
  },
  {
   "cell_type": "code",
   "execution_count": null,
   "metadata": {
    "slideshow": {
     "slide_type": "slide"
    }
   },
   "outputs": [],
   "source": [
    "my_list = [10, 2, 3, 9, 2, 1, 2, 3, 2]\n",
    "print(my_list)\n",
    "\n",
    "my_list = []\n",
    "print(my_list)"
   ]
  },
  {
   "cell_type": "markdown",
   "metadata": {},
   "source": [
    "<div style='color: forestgreen'>\n",
    "    <h3>💡 <code>len</code> function</h3>\n",
    "</div>"
   ]
  },
  {
   "cell_type": "markdown",
   "metadata": {},
   "source": [
    "`len()` returns the number of elements in a list."
   ]
  },
  {
   "cell_type": "code",
   "execution_count": null,
   "metadata": {},
   "outputs": [],
   "source": [
    "# syntaxe : len(liste)\n",
    "liste = [10, 2, 3, 9, 2, 1, 2, 3, 2] \n",
    "print(len(liste)) \n",
    "# -> 9"
   ]
  },
  {
   "cell_type": "markdown",
   "metadata": {},
   "source": [
    "> In a list the element index are from `0` to `len(my_list) -1`"
   ]
  },
  {
   "cell_type": "markdown",
   "metadata": {},
   "source": [
    "<div class=\"alert alert-block alert-info\" style='color:white; background-color:blue; border-color: blue; '>\n",
    "    <h2>Lists Operators</h2>\n",
    "</div>"
   ]
  },
  {
   "cell_type": "markdown",
   "metadata": {},
   "source": [
    "<div style='color: forestgreen'>\n",
    "    <h3><code>*</code> Operator</h3>\n",
    "</div>"
   ]
  },
  {
   "cell_type": "markdown",
   "metadata": {
    "slideshow": {
     "slide_type": "subslide"
    }
   },
   "source": [
    "The `*` operator can be used with a list and an integer **to repeat the same element in the list**."
   ]
  },
  {
   "cell_type": "code",
   "execution_count": null,
   "metadata": {
    "slideshow": {
     "slide_type": "subslide"
    }
   },
   "outputs": [],
   "source": [
    "my_list = [\"Thomas\"]*5\n",
    "print(my_list)\n",
    "\n",
    "my_list_of_zeros = [0]*25\n",
    "print(my_list_of_zeros) \n",
    "\n",
    "L1 = [1, 2, 3]\n",
    "L2=L1 * 3\n",
    "print(L2)\n",
    "# [1, 2, 3, 1, 2, 3, 1, 2, 3]"
   ]
  },
  {
   "cell_type": "markdown",
   "metadata": {},
   "source": [
    "<div style='color: forestgreen'>\n",
    "    <h3><code>+</code> Operator</h3>\n",
    "</div>"
   ]
  },
  {
   "cell_type": "markdown",
   "metadata": {
    "slideshow": {
     "slide_type": "subslide"
    }
   },
   "source": [
    "`+` concatenates two lists."
   ]
  },
  {
   "cell_type": "code",
   "execution_count": null,
   "metadata": {
    "slideshow": {
     "slide_type": "subslide"
    }
   },
   "outputs": [],
   "source": [
    "my_list = [1,2,3] + [4,5,6]\n",
    "print(my_list)\n",
    "\n",
    "list1 = [1,2,3]\n",
    "list2 = [4,5,6]\n",
    "my_list = list1 + list2\n",
    "print(liste)"
   ]
  },
  {
   "cell_type": "markdown",
   "metadata": {},
   "source": [
    "<div style='color: forestgreen'>\n",
    "    <h3><code>in</code> Operator</h3>\n",
    "</div>"
   ]
  },
  {
   "cell_type": "markdown",
   "metadata": {
    "slideshow": {
     "slide_type": "subslide"
    }
   },
   "source": [
    "This operator is used to check whether or not an element is present in the list. It returns **_True_** if the element is present in the list, otherwise it returns **_False_**."
   ]
  },
  {
   "cell_type": "code",
   "execution_count": 3,
   "metadata": {
    "slideshow": {
     "slide_type": "subslide"
    }
   },
   "outputs": [
    {
     "name": "stdout",
     "output_type": "stream",
     "text": [
      "élément 9 est présent dans la liste\n"
     ]
    }
   ],
   "source": [
    "my_list = [10, 2, 3, 9, 2, 1, 2, 3, 2]\n",
    "if 9 in my_list:\n",
    "    print(\"9 is present in the list :-)\")\n",
    "else:\n",
    "    print(\"9 is not present in the list :-(\") "
   ]
  },
  {
   "cell_type": "markdown",
   "metadata": {},
   "source": [
    "<div style='color: forestgreen'>\n",
    "    <h3><code>not in</code> Operator</h3>\n",
    "</div>"
   ]
  },
  {
   "cell_type": "markdown",
   "metadata": {
    "slideshow": {
     "slide_type": "subslide"
    }
   },
   "source": [
    "This operator is used to check if an element is not present in the list. Returns **_True_** if the element is not present in the list, otherwise returns **_False_**."
   ]
  },
  {
   "cell_type": "code",
   "execution_count": null,
   "metadata": {
    "slideshow": {
     "slide_type": "subslide"
    }
   },
   "outputs": [],
   "source": [
    "List = [10, 2, 3, 9, 2, 1, 2, 3, 2]\n",
    "if 9 not in List:\n",
    "    print(\"the element is not in the list :-(\")\n",
    "else:\n",
    "    print(\"the element is in the list :-)\")"
   ]
  },
  {
   "cell_type": "markdown",
   "metadata": {},
   "source": [
    "<div class=\"alert alert-block alert-info\" style='color:white; background-color:blue; border-color: blue; '>\n",
    "    <h2>Iterate through lists</h2>\n",
    "</div>"
   ]
  },
  {
   "cell_type": "markdown",
   "metadata": {},
   "source": [
    "<div style='color: forestgreen'>\n",
    "    <h3>💡 Browse the values of the list using the loop <code>for..in</code></h3>\n",
    "</div>"
   ]
  },
  {
   "cell_type": "markdown",
   "metadata": {
    "slideshow": {
     "slide_type": "subslide"
    }
   },
   "source": [
    "When you want to iterate through a list (or a string), you may wonder whether it's always useful to access the index of the elements...\n",
    "\n",
    "If this isn't the case, you can use the `for` loop to **iterate directly other each value** of the list and not on the indices:"
   ]
  },
  {
   "cell_type": "markdown",
   "metadata": {
    "slideshow": {
     "slide_type": "subslide"
    }
   },
   "source": [
    "```\n",
    "for element in list:\n",
    "    print(element)\n",
    "```\n",
    "\n",
    "Here _element_ is a variable whose name is chosen by the programmer."
   ]
  },
  {
   "cell_type": "code",
   "execution_count": null,
   "metadata": {
    "slideshow": {
     "slide_type": "subslide"
    }
   },
   "outputs": [],
   "source": [
    "my_list = [1, 10, 100, 250, 500]\n",
    "\n",
    "for v in my_list:\n",
    "    print(v, end=\" \")\n"
   ]
  },
  {
   "cell_type": "markdown",
   "metadata": {},
   "source": [
    "> There is no need to use the length of the list or an indices like other langagues ; for example in Go:\n",
    "```golang\n",
    " \ts := \"hello world\"\n",
    "\tfor i := 0; i < len(s); i++ {\n",
    "\t\tfmt.Printf(\"%c \", s[i])\n",
    "\t}\n",
    "```"
   ]
  },
  {
   "cell_type": "markdown",
   "metadata": {},
   "source": [
    "<div style='color: forestgreen'>\n",
    "    <h3>💡 Browse index and values in the same loop with <code>for..enumerate</code></h3>\n",
    "</div>"
   ]
  },
  {
   "cell_type": "markdown",
   "metadata": {
    "slideshow": {
     "slide_type": "subslide"
    }
   },
   "source": [
    "If we want to iterate (loop) over the values in a list and also know the position of these values in the list, we can use the `enumerate` function:"
   ]
  },
  {
   "cell_type": "markdown",
   "metadata": {
    "slideshow": {
     "slide_type": "subslide"
    }
   },
   "source": [
    "`enumerate` returns a iterator with a tuple of the index and the value for each element of the list."
   ]
  },
  {
   "cell_type": "markdown",
   "metadata": {
    "slideshow": {
     "slide_type": "subslide"
    }
   },
   "source": [
    "```\n",
    "for index, value in enumerate(liste):\n",
    "    print(index, value)\n",
    "```\n",
    "\n",
    "Ici indice et valeur sont des variables dont le nom est choisi par la personne qui programme."
   ]
  },
  {
   "cell_type": "code",
   "execution_count": 5,
   "metadata": {
    "scrolled": true,
    "slideshow": {
     "slide_type": "subslide"
    }
   },
   "outputs": [
    {
     "name": "stdout",
     "output_type": "stream",
     "text": [
      "0 Etienne\n",
      "1 Emilie\n",
      "2 Jean\n",
      "3 Rachid\n",
      "4 Brian\n"
     ]
    }
   ],
   "source": [
    "lab_group0 = [\"Etienne\", \"Emilie\", \"Jean\", \"Rachid\", \"Brian\"]\n",
    "\n",
    "for n, member in enumerate(lab_group0):\n",
    "    print(n, member)"
   ]
  },
  {
   "cell_type": "markdown",
   "metadata": {
    "slideshow": {
     "slide_type": "slide"
    }
   },
   "source": [
    "<div class=\"alert alert-block alert-info\" style='color:white; background-color:blue; border-color: blue; '>\n",
    "    <h2>Strings in Python</h2>\n",
    "</div>"
   ]
  },
  {
   "cell_type": "markdown",
   "metadata": {},
   "source": [
    "<div style='color: forestgreen'>\n",
    "    <h3>Characters and Strings</h3>\n",
    "</div>"
   ]
  },
  {
   "cell_type": "markdown",
   "metadata": {
    "slideshow": {
     "slide_type": "subslide"
    }
   },
   "source": [
    "A character is a single symbol, e.g. a lowercase letter \"a\", an uppercase letter \"B\", a special symbol \"&\", a number symbol \"7\", a space \" \", also known as ' '. \n",
    "\n",
    "To designate a character, enclose it in single quotation mark 'z' or double quote \"z\"."
   ]
  },
  {
   "cell_type": "markdown",
   "metadata": {
    "slideshow": {
     "slide_type": "subslide"
    }
   },
   "source": [
    "**A string** is a sequence of characters, such as the word \"Good morning\", the phrase \"The weather's fine\", or the password \"N[w5ms}e!\".\n",
    "\n",
    "In Python, both a character or string is **str** (for string)."
   ]
  },
  {
   "cell_type": "code",
   "execution_count": 6,
   "metadata": {
    "slideshow": {
     "slide_type": "slide"
    }
   },
   "outputs": [
    {
     "name": "stdout",
     "output_type": "stream",
     "text": [
      "<class 'str'>\n"
     ]
    }
   ],
   "source": [
    "chaine = \"Bonjour\"\n",
    "\n",
    "print(type(chaine))"
   ]
  },
  {
   "cell_type": "markdown",
   "metadata": {},
   "source": [
    "<div style='color: forestgreen'>\n",
    "    <h3>Access a character of a string using an index</h3>\n",
    "</div>"
   ]
  },
  {
   "cell_type": "markdown",
   "metadata": {
    "slideshow": {
     "slide_type": "subslide"
    }
   },
   "source": [
    "Strings behave like **lists** of characters.\n",
    "\n",
    "To obtain a character from a string, simply write _**string[i]**_ where _i_ is the **index** of the desired character.\n"
   ]
  },
  {
   "cell_type": "markdown",
   "metadata": {
    "slideshow": {
     "slide_type": "slide"
    }
   },
   "source": [
    "Everything you know about lists works with strings.\n",
    "\n",
    "Just as a list, characters in a string can be accessed using negative indices starting with `-1` from the last element. \n",
    "\n",
    "Thus, `-1` is associated with the last character of the string and `-length` with the first character of the string, using negative indices.\n",
    "\n",
    "Comme pour les listes on peut accéder aux caractères d'une chaine à l'aide d'indices négatifs qui commencent par `-1` en partant du dernier élément. \n",
    "\n",
    "\n",
    "For example, for $string = \"Hello\"$ we have :"
   ]
  },
  {
   "cell_type": "markdown",
   "metadata": {
    "slideshow": {
     "slide_type": "slide"
    }
   },
   "source": [
    "<br>\n",
    "<div style=\"margin-left:10%;\">\n",
    "    <div style=\"width: 100px; text-align: center; display: inline-block; padding: 5px;\">Letter : </div>\n",
    "    <div style=\"border:2px black solid;text-align:center;display:inline-block;padding: 5px;margin:-3px;width:40px;\">H</div>\n",
    "    <div style=\"border:2px black solid;text-align:center;display:inline-block;padding: 5px;margin:-3px;width:40px;\">e</div>\n",
    "    <div style=\"border:2px black solid;text-align:center;display:inline-block;padding: 5px;margin:-3px;width:40px;\">l</div>\n",
    "    <div style=\"border:2px black solid;text-align:center;display:inline-block;padding: 5px;margin:-3px;width:40px;\">l</div>\n",
    "    <div style=\"border:2px black solid;text-align:center;display:inline-block;padding: 5px;margin:-3px;width:40px;\">o</div>\n",
    "</div>\n",
    "<div style=\"margin-left:10%\">\n",
    "    <div style=\"width: 100px; text-align: center; display: inline-block; padding: 5px;\">positif index : </div>\n",
    "    <div style=\"width: 40px; text-align: center; display: inline-block; padding: 5px; margin: -3px;\">0</div>\n",
    "    <div style=\"width: 40px; text-align: center; display: inline-block; padding: 5px; margin: -3px;\">1</div>\n",
    "    <div style=\"width: 40px; text-align: center; display: inline-block; padding: 5px; margin: -3px;\">2</div>\n",
    "    <div style=\"width: 40px; text-align: center; display: inline-block; padding: 5px; margin: -3px;\">3</div>\n",
    "    <div style=\"width: 40px; text-align: center; display: inline-block; padding: 5px; margin: -3px;\">4</div>\n",
    "</div>\n",
    "<div style=\"margin-left:10%\">\n",
    "    <div style=\"width: 100px; text-align: center; display: inline-block; padding: 5px;\">negative index : </div>\n",
    "    <div style=\"width: 40px; text-align: center; display: inline-block; padding: 5px; margin: -3px;\">-5</div>\n",
    "    <div style=\"width: 40px; text-align: center; display: inline-block; padding: 5px; margin: -3px;\">-4</div>\n",
    "    <div style=\"width: 40px; text-align: center; display: inline-block; padding: 5px; margin: -3px;\">-3</div>\n",
    "    <div style=\"width: 40px; text-align: center; display: inline-block; padding: 5px; margin: -3px;\">-2</div>\n",
    "    <div style=\"width: 40px; text-align: center; display: inline-block; padding: 5px; margin: -3px;\">-1</div>\n",
    "</div>"
   ]
  },
  {
   "cell_type": "markdown",
   "metadata": {
    "slideshow": {
     "slide_type": "slide"
    }
   },
   "source": [
    "- chain[0] and chain[-5] returns \"H\"\n",
    "- chain[1] and chain[-4] returns \"e\"\n",
    "- chain[2] and chain[-3] returns \"l\"\n",
    "- chain[3] and chain[-2] returns \"l\"\n",
    "- chain[4] and chain[-1] returns \"o\""
   ]
  }
 ],
 "metadata": {
  "celltoolbar": "Format de la Cellule Texte Brut",
  "kernelspec": {
   "display_name": "Python 3",
   "language": "python",
   "name": "python3"
  },
  "language_info": {
   "codemirror_mode": {
    "name": "ipython",
    "version": 3
   },
   "file_extension": ".py",
   "mimetype": "text/x-python",
   "name": "python",
   "nbconvert_exporter": "python",
   "pygments_lexer": "ipython3",
   "version": "3.10.8"
  }
 },
 "nbformat": 4,
 "nbformat_minor": 2
}
