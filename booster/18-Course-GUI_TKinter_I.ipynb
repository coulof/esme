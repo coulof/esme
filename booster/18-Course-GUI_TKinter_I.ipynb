{
 "cells": [
  {
   "cell_type": "markdown",
   "metadata": {},
   "source": [
    "<img style=\"margin-top: 0px\" src=\" data:image/png;base64,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\" align=\"left\" alt=\"logo esme\"  height=\"20\"> \n",
    "<div class=\"alert alert-block alert-info\" style=\"margin-top: 10px; padding: 10px; background: linear-gradient(to right, #f7f9fa, #d9edfb);\">\n",
    "    <h1 style=\"margin-left: 85px\">IngeSUP - Cours 18 - Graphical User Interface with TKinter 1 - First windows</h1>\n",
    "</div>"
   ]
  },
  {
   "cell_type": "markdown",
   "metadata": {},
   "source": [
    "![](https://tkdocs.com/images/bookad3.png)"
   ]
  },
  {
   "cell_type": "markdown",
   "metadata": {},
   "source": [
    "<div class=\"alert alert-block alert-info\" style='color:white; background-color:blue; border-color: blue; '>\n",
    "    <h2>Introduction</h2>\n",
    "</div>"
   ]
  },
  {
   "cell_type": "markdown",
   "metadata": {},
   "source": [
    "<div style='color: forestgreen'>\n",
    "   <h3>Before we begin...</h3>\n",
    "</div>"
   ]
  },
  {
   "cell_type": "markdown",
   "metadata": {},
   "source": [
    "The Python language has a [*tkinter*](https://docs.python.org/3/library/tkinter.html) module that is found in all distributions. It can be used to display windows, buttons, images...\n",
    "\n",
    "You'll be able to create real little applications.\n",
    "\n",
    "Let's start with a quick example."
   ]
  },
  {
   "cell_type": "code",
   "execution_count": 1,
   "metadata": {},
   "outputs": [
    {
     "ename": "TclError",
     "evalue": "no display name and no $DISPLAY environment variable",
     "output_type": "error",
     "traceback": [
      "\u001b[0;31m---------------------------------------------------------------------------\u001b[0m",
      "\u001b[0;31mTclError\u001b[0m                                  Traceback (most recent call last)",
      "\u001b[1;32m/workspaces/esme/booster/18-Course-GUI_TKinter_I.ipynb Cell 7\u001b[0m line \u001b[0;36m3\n\u001b[1;32m      <a href='vscode-notebook-cell://codespaces%2Bfictional-spork-ppqpqwgwwrp2rpp9/workspaces/esme/booster/18-Course-GUI_TKinter_I.ipynb#X11sdnNjb2RlLXJlbW90ZQ%3D%3D?line=0'>1</a>\u001b[0m \u001b[39mfrom\u001b[39;00m \u001b[39mtkinter\u001b[39;00m \u001b[39mimport\u001b[39;00m \u001b[39m*\u001b[39m\n\u001b[0;32m----> <a href='vscode-notebook-cell://codespaces%2Bfictional-spork-ppqpqwgwwrp2rpp9/workspaces/esme/booster/18-Course-GUI_TKinter_I.ipynb#X11sdnNjb2RlLXJlbW90ZQ%3D%3D?line=2'>3</a>\u001b[0m fen \u001b[39m=\u001b[39m Tk()\n\u001b[1;32m      <a href='vscode-notebook-cell://codespaces%2Bfictional-spork-ppqpqwgwwrp2rpp9/workspaces/esme/booster/18-Course-GUI_TKinter_I.ipynb#X11sdnNjb2RlLXJlbW90ZQ%3D%3D?line=3'>4</a>\u001b[0m fen\u001b[39m.\u001b[39mmainloop()\n",
      "File \u001b[0;32m~/.python/current/lib/python3.10/tkinter/__init__.py:2299\u001b[0m, in \u001b[0;36mTk.__init__\u001b[0;34m(self, screenName, baseName, className, useTk, sync, use)\u001b[0m\n\u001b[1;32m   2297\u001b[0m         baseName \u001b[39m=\u001b[39m baseName \u001b[39m+\u001b[39m ext\n\u001b[1;32m   2298\u001b[0m interactive \u001b[39m=\u001b[39m \u001b[39mFalse\u001b[39;00m\n\u001b[0;32m-> 2299\u001b[0m \u001b[39mself\u001b[39m\u001b[39m.\u001b[39mtk \u001b[39m=\u001b[39m _tkinter\u001b[39m.\u001b[39;49mcreate(screenName, baseName, className, interactive, wantobjects, useTk, sync, use)\n\u001b[1;32m   2300\u001b[0m \u001b[39mif\u001b[39;00m useTk:\n\u001b[1;32m   2301\u001b[0m     \u001b[39mself\u001b[39m\u001b[39m.\u001b[39m_loadtk()\n",
      "\u001b[0;31mTclError\u001b[0m: no display name and no $DISPLAY environment variable"
     ]
    }
   ],
   "source": [
    "from tkinter import *\n",
    "\n",
    "fen = Tk()\n",
    "fen.mainloop()"
   ]
  },
  {
   "cell_type": "markdown",
   "metadata": {},
   "source": [
    "What a beautiful window! We can always customize it later. Like all the other objects in this library, the window will have a name that you can change."
   ]
  },
  {
   "cell_type": "markdown",
   "metadata": {},
   "source": [
    "<div style='color: forestgreen'>\n",
    "   <h3>Our first window...</h3>\n",
    "</div>"
   ]
  },
  {
   "cell_type": "markdown",
   "metadata": {},
   "source": [
    "So let's start by looking at how to adjust its dimensions."
   ]
  },
  {
   "cell_type": "markdown",
   "metadata": {},
   "source": [
    "<div style='color: cadetblue'>\n",
    "    <h4>The method <code>fen.geometry(\"500x150\")</code></h4>\n",
    "</div>"
   ]
  },
  {
   "cell_type": "markdown",
   "metadata": {},
   "source": [
    "Resizes the *fen* window to $500$ pixels wide and $150$ pixels high."
   ]
  },
  {
   "cell_type": "markdown",
   "metadata": {},
   "source": [
    "<div style='color: cadetblue'>\n",
    "    <h4>The method <code>fen.title(\"T\")</code></h4>\n",
    "</div>"
   ]
  },
  {
   "cell_type": "markdown",
   "metadata": {},
   "source": [
    "Displays the *T* title in the window."
   ]
  },
  {
   "cell_type": "markdown",
   "metadata": {},
   "source": [
    "<div style='color: cadetblue'>\n",
    "    <h4>The method <code>fen.winfo_width()</code></h4>\n",
    "</div>"
   ]
  },
  {
   "cell_type": "markdown",
   "metadata": {},
   "source": [
    "Displays the *T* title in the window."
   ]
  },
  {
   "cell_type": "markdown",
   "metadata": {},
   "source": [
    "<div style='color: cadetblue'>\n",
    "    <h4>The method <code>fen.winfo_height()</code></h4>\n",
    "</div>"
   ]
  },
  {
   "cell_type": "markdown",
   "metadata": {},
   "source": [
    "Returns the (internal) height of the *fen* window."
   ]
  },
  {
   "cell_type": "markdown",
   "metadata": {},
   "source": [
    "<div style='color: cadetblue'>\n",
    "    <h4>The methods <code>fen.resizable(width=False)</code> and <code>fen.resizable(height=False)</code></h4>\n",
    "</div>"
   ]
  },
  {
   "cell_type": "markdown",
   "metadata": {},
   "source": [
    "Prevents resizing (in width and height, respectively) of the *fen* window.\n",
    "\n",
    "> Note that for this last method, you can place the two arguments in parentheses, separated by a comma, to use a single line: `fen.resizable(width=False, height=False)`."
   ]
  },
  {
   "cell_type": "markdown",
   "metadata": {},
   "source": [
    "**Windows are objects on which we can define functions (called methods).**"
   ]
  },
  {
   "cell_type": "markdown",
   "metadata": {},
   "source": [
    "<div style=\"border-color: #007bff; margin: 1.5625em auto; padding: 0 .6rem .8rem !important; overflow: hidden; page-break-inside: avoid;border-left: .2rem solid #007bff; border-radius: .1rem; box-shadow: 0 .2rem .5rem rgba(0,0,0,.05),0 0 .05rem rgba(0,0,0,.1); transition: color .25s,background-color .25s,border-color .25s;\">\n",
    "    <p style=\"background-color: #e7f2fa; position: relative; margin: 0 -.6rem !important; padding: .4rem .6rem .4rem 2rem; font-weight: 700;\">📝 Note</p>\n",
    "    <p style=\"padding: 0 1.4rem; margin-top: .4em; margin-bottom: 0; font-size: 1em;\">\n",
    "        \n",
    " Many methods exist for functions. We won't go into detail about all of them, but the official *tkinter* documentation is full of information.\n",
    "        \n",
    "   </p>\n",
    "</div>"
   ]
  },
  {
   "cell_type": "markdown",
   "metadata": {},
   "source": [
    "<div class=\"alert alert-block alert-info\" style='color:white; background-color:blue; border-color: blue; '>\n",
    "    <h2>First Widgets</h2>\n",
    "</div>"
   ]
  },
  {
   "cell_type": "markdown",
   "metadata": {},
   "source": [
    "On our window, we'll be able to place various objects known as \"widgets\". There are lots of them, but here are three to get you started."
   ]
  },
  {
   "cell_type": "markdown",
   "metadata": {},
   "source": [
    "- The **_Button_** widget: for displaying a button with text (YES, NO, Confirm...).\n",
    "\n",
    "\n",
    "- The **_label_** widget: to display text in your window.\n",
    "\n",
    "\n",
    "- The **_Entry_** widget: for entering text."
   ]
  },
  {
   "cell_type": "markdown",
   "metadata": {},
   "source": [
    "Here is a simple example, the Python code of which is detailed below:"
   ]
  },
  {
   "cell_type": "markdown",
   "metadata": {},
   "source": [
    "<img src=\" data:image/png;base64,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\" width=\"350\">"
   ]
  },
  {
   "cell_type": "code",
   "execution_count": 8,
   "metadata": {},
   "outputs": [],
   "source": [
    "from tkinter import *\n",
    "\n",
    "window = Tk()\n",
    "window.title('Some widgets')\n",
    "window.geometry('200x100')\n",
    "\n",
    "B = Button(window, text=\"OK\", width=20)\n",
    "L = Label(window, text=\"What's your name ?\")\n",
    "E = Entry(window)\n",
    "\n",
    "B.place(x = 40, y = 60)\n",
    "L.place(x = 40, y = 0)\n",
    "E.place(x = 40, y = 30)\n",
    "\n",
    "window.mainloop()"
   ]
  },
  {
   "cell_type": "markdown",
   "metadata": {},
   "source": [
    "- Lines 1 to 4 initialize the window with a size of 200x100 pixels and a title, as we've already seen.\n",
    "\n",
    "- Lines 5, 6 and 7 create a *Button*, a *Label* and an *Entry* respectively, which we've decided to store in variables B, L and E in our program. The first argument is the name of the object on which the widget is placed (in this case, *window*), followed by a number of parameters, which are described in more detail later. \n",
    "\n",
    "- Lines 8, 9 and 10 are important, as they tell Python to draw the 3 components. If you don't put them in (try!) you won't see anything on the window.\n",
    "\n",
    "- The last line launches the window setup process, known as the *event manager*."
   ]
  },
  {
   "cell_type": "markdown",
   "metadata": {},
   "source": [
    "<div style='color: forestgreen'>\n",
    "    <h3>Place widgets using the <code>place</code> method</h3>\n",
    "</div>"
   ]
  },
  {
   "cell_type": "markdown",
   "metadata": {},
   "source": [
    "\n",
    "There are various methods for placing components on a window. The **_place_** method is the simplest to understand, although it's not necessarily recommended for certain reasons, which we'll see at the end of the chapter.\n",
    "\n",
    "In fact, to place widgets we use a system of coordinates on the window. Caution:\n",
    "- The coordinate point (0;0) is at the top left of the screen.\n",
    "- The y values increase as you move down the screen.\n",
    "\n",
    "A widget can be hidden at its location using the `place_forget()` method, so `B.place_forget()` will hide object B."
   ]
  },
  {
   "cell_type": "markdown",
   "metadata": {},
   "source": [
    "<div style='color: forestgreen'>\n",
    "    <h3>Label : Display a text</h3>\n",
    "</div>"
   ]
  },
  {
   "cell_type": "markdown",
   "metadata": {},
   "source": [
    "The **_Label_** widget is used to display text on the screen. When creating the widget, you can specify a number of parameters:"
   ]
  },
  {
   "cell_type": "markdown",
   "metadata": {},
   "source": [
    "| Parameters | Effect\n",
    "|--------------|:-----:|\n",
    "| **text** | Specifies text to display |\n",
    "| **fg** | Specifies text color |\n",
    "| **bg** | Specifies background color |\n",
    "| **height** | Specifies label height |\n",
    "| **width** | Specifies label width |\n",
    "**font** | Specifies font and formatting (bold, italic,...) |"
   ]
  },
  {
   "cell_type": "markdown",
   "metadata": {},
   "source": [
    "A few comments:\n",
    "\n",
    "- If no size is specified when the widget is created, it takes the minimum size necessary to display the text.\n",
    "\n",
    "- Height and width are in text units, i.e. a label with a width of 20 will be wider with a font size of 10 than with a font size of 8.\n",
    "\n",
    "Once our *Label* widget has been created and displayed, a number of actions (methods) are possible. As with all objects, the call is made as follows:\n",
    "```python\n",
    "object.method(arguments)\n",
    "```"
   ]
  },
  {
   "cell_type": "markdown",
   "metadata": {},
   "source": [
    "<div style='color: cadetblue'>\n",
    "    <h4>Method <code>L.config(...)</code></h4>\n",
    "</div>"
   ]
  },
  {
   "cell_type": "markdown",
   "metadata": {},
   "source": [
    "Allows you to modify widget parameters, for example `L.config(text=\"You only have one life left\")` allows you to modify the display of the *L* label. You can modify several options at once, separated by commas. Modifiable options are those mentioned in the previous chapter."
   ]
  },
  {
   "cell_type": "markdown",
   "metadata": {},
   "source": [
    "<div style='color: cadetblue'>\n",
    "    <h4>Method <code>L.cget(...)</code></h4>\n",
    "</div>"
   ]
  },
  {
   "cell_type": "markdown",
   "metadata": {},
   "source": [
    "Returns the value of the requested option as a string. e.g. `print(L.cget(\"fg\"))` will return the value of the `fg` parameter within the label."
   ]
  },
  {
   "cell_type": "markdown",
   "metadata": {},
   "source": [
    "<div style='color: forestgreen'>\n",
    "    <h3>Button</h3>\n",
    "</div>"
   ]
  },
  {
   "cell_type": "markdown",
   "metadata": {},
   "source": [
    "The *Button* widget is therefore a button on which you can define the triggering of an action when clicked.\n",
    "\n",
    "The parameters are the same as for the Label (**text**,**fg**, **bg**, **height**, **font**), plus one in particular: **command**: **command**."
   ]
  },
  {
   "cell_type": "markdown",
   "metadata": {},
   "source": [
    "<div style='color: cadetblue'>\n",
    "    <h4>Parameter <code>command</code></h4>\n",
    "</div>"
   ]
  },
  {
   "cell_type": "markdown",
   "metadata": {},
   "source": [
    "The `command` parameter is used to specify the function to be launched when this button is clicked. For example, `command=go` indicates that the `go` command should be executed."
   ]
  },
  {
   "cell_type": "markdown",
   "metadata": {},
   "source": [
    "<div style=\"border-color: #dc3545; margin: 1.5625em auto; padding: 0 .6rem .8rem !important; overflow: hidden; page-break-inside: avoid; border-left: .2rem solid #dc3545; border-radius: .1rem; box-shadow: 0 .2rem .5rem rgba(0,0,0,.05),0 0 .05rem rgba(0,0,0,.1); transition: color .25s,background-color .25s,border-color .25s;\">\n",
    "    <p style=\"background-color: #fdf3f2; position: relative; margin: 0 -.6rem !important; padding: .4rem .6rem .4rem 2rem; font-weight: 700;\">⚠️ Attention</p>\n",
    "    <p style=\"padding: 0 1.4rem; margin-top: .4em; margin-bottom: 0; font-size: 1em;\">The function must have no parameters.. In fact, unlike in a program, here we only include the name of the <code>go</code> function eand a call to it, which would be written as <em>go()</em></p>\n",
    "</div>"
   ]
  },
  {
   "cell_type": "markdown",
   "metadata": {},
   "source": [
    "Here's an example to illustrate:"
   ]
  },
  {
   "cell_type": "code",
   "execution_count": 9,
   "metadata": {},
   "outputs": [],
   "source": [
    "from tkinter import *\n",
    "\n",
    "def change():\n",
    "    if B.cget('text') == 'DAY':\n",
    "        B.config(text = 'NIGHT')\n",
    "    else:\n",
    "        B.config(text = 'DAY')\n",
    "        \n",
    "window = Tk()\n",
    "window.title('Hello dear visitor...')\n",
    "window.geometry('280x50')\n",
    "\n",
    "B = Button(window, text=\"DAY\", width=30, command=change)\n",
    "B.place(x = 20, y = 10)\n",
    "\n",
    "window.mainloop()"
   ]
  },
  {
   "cell_type": "markdown",
   "metadata": {},
   "source": [
    "<div style='color: forestgreen'>\n",
    "    <h3>Entry : Fill a text</h3>\n",
    "</div>"
   ]
  },
  {
   "cell_type": "markdown",
   "metadata": {},
   "source": [
    "The **_Entry_** widget lets you enter short text on one line. It too has the **fg**, **bg**, **height**, **width**, **font** parameters, but NOT **text** or **command**, for example.\n",
    "\n",
    "It is used to create a single-line input zone, **which can be used to retrieve data entered by the user** for use as variables (registration form, identification form...).\n",
    "\n",
    "\n",
    "Its syntax is :\n",
    "```python\n",
    "E = Entry( Window_name, options...)\n",
    "```\n",
    "\n",
    "To access the content of the text entered, here are a number of different methods, **consider that we have an _Entry_ object named $E$** :"
   ]
  },
  {
   "cell_type": "markdown",
   "metadata": {},
   "source": [
    "<div style='color: cadetblue'>\n",
    "    <h4>Method <code>E.get()</code></h4>\n",
    "</div>"
   ]
  },
  {
   "cell_type": "markdown",
   "metadata": {},
   "source": [
    "Returns the text entered in *Entry* E."
   ]
  },
  {
   "cell_type": "markdown",
   "metadata": {},
   "source": [
    "<div style='color: cadetblue'>\n",
    "    <h4>Method <code>E.insert(...)</code></h4>\n",
    "</div>"
   ]
  },
  {
   "cell_type": "markdown",
   "metadata": {},
   "source": [
    "Insert the text *T* in the *Entry* **_E_**\n",
    "\n",
    "These commands respectively insert :\n",
    "\n",
    "- the text identified by *T* at position *i* in the `E.insert(i,T)` use case\n",
    "\n",
    "\n",
    "- The text identified by *T* at the cursor position in the `E.insert(INSERT, T)` use case.\n",
    "\n",
    "\n",
    "- The text identified by *T* at the end of existing content in the case of `E.insert(END, T)`."
   ]
  },
  {
   "cell_type": "markdown",
   "metadata": {},
   "source": [
    "<div style='color: cadetblue'>\n",
    "    <h4>Method <code>E.delete(...)</h4>\n",
    "</div>"
   ]
  },
  {
   "cell_type": "markdown",
   "metadata": {},
   "source": [
    "Delete a chunk of *Entry* E.\n",
    "\n",
    "These commands respectively delete\n",
    "- The character at position *i* in the case of <code>E.delete(i)</code>\n",
    "\n",
    "- The characters placed between the *start* and *end* indices in the case of <code>E.delete(start, end)</code>\n",
    "\n",
    "\n",
    "- L'intégralité du texte présent dans l'*Entry* dans le cas de <code>E.delete(0,END)</code>"
   ]
  },
  {
   "cell_type": "markdown",
   "metadata": {},
   "source": [
    "<div style='color: forestgreen'>\n",
    "    <h3>Place widgets using the <code>pack</code> method</h3>\n",
    "</div>"
   ]
  },
  {
   "cell_type": "markdown",
   "metadata": {},
   "source": [
    "The `pack` method, as literally stated, packs the widget into the window frame after it has been created"
   ]
  },
  {
   "cell_type": "code",
   "execution_count": 10,
   "metadata": {},
   "outputs": [],
   "source": [
    "from tkinter import *\n",
    "\n",
    "app = Tk()\n",
    "app.geometry(\"300x200\")\n",
    "\n",
    "buttonW = Button(app, text=\"West\", width=15)\n",
    "buttonW.pack(side=\"left\")\n",
    "\n",
    "buttonE = Button(app, text=\"East\", width=15)\n",
    "buttonE.pack(side=\"right\")\n",
    "\n",
    "app.mainloop()"
   ]
  },
  {
   "cell_type": "markdown",
   "metadata": {},
   "source": [
    "As you can see, **_buttonW_** snaps onto the left-hand side of the window and **_buttonEast_** snaps onto the right-hand side of the window. You can try scaling the window size below, but you'll find that they'll remain snapped to the sides of the window and the relative position won't change.\n",
    "\n",
    "The side identified by the **side** parameter has four options:\n",
    "\n",
    "1. top\n",
    "2. bottom\n",
    "3. left\n",
    "4. right\n",
    "\n",
    "This method places the widget on one of the sides of the window. As shown in the example, **_buttonW_** is allocated on the left side of the window, because `side='left'`, while **_buttonE_** is on the right side of the window, because `side='right'`."
   ]
  },
  {
   "cell_type": "markdown",
   "metadata": {},
   "source": [
    "What happens if two widgets have the same **side** property? What will the layout look like?"
   ]
  },
  {
   "cell_type": "code",
   "execution_count": 11,
   "metadata": {},
   "outputs": [],
   "source": [
    "from tkinter import *\n",
    "\n",
    "app = Tk()\n",
    "app.geometry(\"300x200\")\n",
    "\n",
    "buttonW = Button(app, text=\"West\", width=15)\n",
    "buttonW.pack(side=\"left\")\n",
    "\n",
    "buttonE1 = Button(app, text=\"East 1\", width=15)\n",
    "buttonE1.pack(side=\"right\")\n",
    "\n",
    "buttonE2 = Button(app, text=\"East 2\", width=15)\n",
    "buttonE2.pack(side=\"right\")\n",
    "\n",
    "app.mainloop()"
   ]
  },
  {
   "cell_type": "markdown",
   "metadata": {},
   "source": [
    "The `pack` is \"cumulative\", meaning that the button assigned to the right moves further to the right of the previously assigned button."
   ]
  },
  {
   "cell_type": "markdown",
   "metadata": {},
   "source": [
    "<div style=\"border-color: #007bff; margin: 1.5625em auto; padding: 0 .6rem .8rem !important; overflow: hidden; page-break-inside: avoid;border-left: .2rem solid #007bff; border-radius: .1rem; box-shadow: 0 .2rem .5rem rgba(0,0,0,.05),0 0 .05rem rgba(0,0,0,.1); transition: color .25s,background-color .25s,border-color .25s;\">\n",
    "    <p style=\"background-color: #e7f2fa; position: relative; margin: 0 -.6rem !important; padding: .4rem .6rem .4rem 2rem; font-weight: 700;\">📝 Note</p>\n",
    "    <p style=\"padding: 0 1.4rem; margin-top: .4em; margin-bottom: 0; font-size: 1em;\">\n",
    "        \n",
    "If no parameters are set, widgets will be displayed in the center, one below the other (depending on the order of insertion).\n",
    "        \n",
    "   </p>\n",
    "</div>"
   ]
  },
  {
   "cell_type": "code",
   "execution_count": 12,
   "metadata": {},
   "outputs": [],
   "source": [
    "from tkinter import *\n",
    "\n",
    "root = Tk()\n",
    "\n",
    "user_Entry = Entry(root,bg=\"blue\")\n",
    "user = Label(root, text = \"User Name\")\n",
    "\n",
    "user.pack()\n",
    "user_Entry.pack()\n",
    "\n",
    "root.mainloop()"
   ]
  },
  {
   "cell_type": "markdown",
   "metadata": {},
   "source": [
    "<div class=\"alert alert-block alert-info\" style='color:white; background-color:blue; border-color: blue; '>\n",
    "    <h2>To go further</h2>\n",
    "</div>"
   ]
  },
  {
   "cell_type": "markdown",
   "metadata": {},
   "source": [
    "<div style='color: forestgreen'>\n",
    "    <h3>Other ways of placing widgets</h3>\n",
    "</div>"
   ]
  },
  {
   "cell_type": "markdown",
   "metadata": {},
   "source": [
    "Using the **_place_** method to place widgets can be a bit risky if you decide to program your own application, as sometimes window borders or button thicknesses are not identical from one computer to another, if operating system versions differ or if the user has installed personal themes on his machine.\n",
    "\n",
    "So there are other ways of placing objects that give the computer more freedom to arrange widgets in the best possible way. Here's how the **grid** method works: the window is cut into a virtual grid, and objects are placed as follows:\n",
    "\n",
    "```python\n",
    "widget.grid(options)\n",
    "```"
   ]
  },
  {
   "cell_type": "markdown",
   "metadata": {},
   "source": [
    "The main paramters (all optional) are detailed below:"
   ]
  },
  {
   "cell_type": "markdown",
   "metadata": {},
   "source": [
    "| Option       | Result |\n",
    "|--------------|:-----:|\n",
    "**row=...** | Indicates row where widget is to be placed \n",
    "| **column=...** | Indicates column where to place widget  |\n",
    "| **rowspan=...** | Specifies number of lines occupied by widget |\n",
    "| **columnspan=...** | Specifies the number of columns the widget occupies. |\n",
    "| **padx=...** | Specifies the size of the margin between the widget and the horizontal edges of the box. |\n",
    "| **pady=...** | Indicates the size of the margin between the widget and the vertical edges of the box. |\n",
    "| **sticky=...** | If the widget is too small for its box, indicates which side it should be pasted on <sup>1</sup>|"
   ]
  },
  {
   "cell_type": "markdown",
   "metadata": {},
   "source": [
    "<sup>1</sup>Possible values are \"nw\" (north west), \"n\" (north), \"ne\" (north east), \"w\" (west), \"center\" (default), \"e\" (east), \"sw\" (south west), \"s\" (south), \"se\" (south east).\n",
    "\n",
    "These acronyms follow the points of the compass, so \"nw\" (north west) means \"top left\", \"se\" means \"bottom right\", \"center\" means \"middle\" etc..."
   ]
  },
  {
   "cell_type": "markdown",
   "metadata": {},
   "source": [
    "Here is an example:"
   ]
  },
  {
   "cell_type": "code",
   "execution_count": null,
   "metadata": {},
   "outputs": [],
   "source": [
    "from tkinter import *\n",
    "\n",
    "gui = Tk()\n",
    "\n",
    "Label(gui, text=\"Firstname\").grid(row=0)\n",
    "Label(gui, text=\"Lastname\").grid(row=1)\n",
    "\n",
    "e1 = Entry(gui)\n",
    "e2 = Entry(gui)\n",
    "\n",
    "e1.grid(row=0, column=1)\n",
    "e2.grid(row=1, column=1)\n",
    "\n",
    "gui.mainloop()"
   ]
  },
  {
   "cell_type": "markdown",
   "metadata": {},
   "source": [
    "<div style=\"border-color: #dc3545; margin: 1.5625em auto; padding: 0 .6rem .8rem !important; overflow: hidden; page-break-inside: avoid; border-left: .2rem solid #dc3545; border-radius: .1rem; box-shadow: 0 .2rem .5rem rgba(0,0,0,.05),0 0 .05rem rgba(0,0,0,.1); transition: color .25s,background-color .25s,border-color .25s;\">\n",
    "    <p style=\"background-color: #fdf3f2; position: relative; margin: 0 -.6rem !important; padding: .4rem .6rem .4rem 2rem; font-weight: 700;\">⚠️ Attention</p>\n",
    "    <p style=\"padding: 0 1.4rem; margin-top: .4em; margin-bottom: 0; font-size: 1em;\">In a program, we choose to use either <strong>grid</strong> or <strong>place</strong> but we don't mix the two methods.</p>\n",
    "</div>"
   ]
  },
  {
   "cell_type": "markdown",
   "metadata": {},
   "source": [
    "Finally, if you wish to hide a widget that has been displayed using the **_grid_** method, use the **_B.grid_forget()_** method."
   ]
  }
 ],
 "metadata": {
  "kernelspec": {
   "display_name": "Python 3",
   "language": "python",
   "name": "python3"
  },
  "language_info": {
   "codemirror_mode": {
    "name": "ipython",
    "version": 3
   },
   "file_extension": ".py",
   "mimetype": "text/x-python",
   "name": "python",
   "nbconvert_exporter": "python",
   "pygments_lexer": "ipython3",
   "version": "3.10.8"
  }
 },
 "nbformat": 4,
 "nbformat_minor": 2
}
