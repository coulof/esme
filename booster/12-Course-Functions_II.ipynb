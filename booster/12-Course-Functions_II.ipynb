{
 "cells": [
  {
   "cell_type": "markdown",
   "metadata": {},
   "source": [
    "<img style=\"margin-top: 0px\" src=\" data:image/png;base64,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\" align=\"left\" alt=\"logo esme\"  height=\"20\"> \n",
    "<div class=\"alert alert-block alert-info\" style=\"margin-top: 10px; padding: 10px; background: linear-gradient(to right, #f7f9fa, #d9edfb);\">\n",
    "    <h1 style=\"margin-left: 85px\">IngeSUP - Course 12 - Functions II</h1>\n",
    "</div>"
   ]
  },
  {
   "cell_type": "markdown",
   "metadata": {},
   "source": [
    "<div style='color: rgb(49, 112, 143)'>\n",
    "    <h3>Contents</h3>\n",
    "</div>"
   ]
  },
  {
   "cell_type": "markdown",
   "metadata": {},
   "source": [
    "* <a href=\"#Reminder-about-functions\">Reminder about functions</a>\n",
    "    * <a href=\"Defining-a-function\">Defining a function</a>\n",
    "    * <a href=\"Scope-of-variables\">Scope of variables</a>\n",
    "* <a href=\"TD-Exercices\">TD Exercices</a>"
   ]
  },
  {
   "cell_type": "markdown",
   "metadata": {},
   "source": [
    "<div class=\"alert alert-block alert-info\" style='color:white; background-color:blue; border-color: blue; '>\n",
    "    <h2>Reminder about functions</h2>\n",
    "</div>"
   ]
  },
  {
   "cell_type": "markdown",
   "metadata": {
    "slideshow": {
     "slide_type": "slide"
    }
   },
   "source": [
    "A function is a block of instructions that can be called at any point in the program. Functions have a number of advantages, including\n",
    "\n",
    "- **code reuse**: avoid repeating the same series of instructions in several places in a program;\n",
    "- **modularity**: divide a complex task into several simpler sub-tasks."
   ]
  },
  {
   "cell_type": "markdown",
   "metadata": {},
   "source": [
    "<div style='color: forestgreen'>\n",
    "    <h3>Defining a function</h3>\n",
    "</div>"
   ]
  },
  {
   "cell_type": "markdown",
   "metadata": {
    "slideshow": {
     "slide_type": "slide"
    }
   },
   "source": [
    "In previous chapters, we've already come across a number of functions, such as `print` or `len`. Each of these functions receives an argument and performs an action (the `print` function displays an object on the screen), or returns a value (the `len` function returns the size of a list)."
   ]
  },
  {
   "cell_type": "markdown",
   "metadata": {
    "slideshow": {
     "slide_type": "slide"
    }
   },
   "source": [
    "We also learned how to define our own functions: **we must declare our functions before using them**. Generally, the syntax of a function declaration is as follows."
   ]
  },
  {
   "cell_type": "markdown",
   "metadata": {
    "slideshow": {
     "slide_type": "slide"
    }
   },
   "source": [
    "```python\n",
    "def <function_name>(<parameters>):   # Function header\n",
    "    <instruction1>\n",
    "    <instruction2>                  # Function body\n",
    "    ...\n",
    "    return <value>                 # return is not obligatory\n",
    "```"
   ]
  },
  {
   "cell_type": "markdown",
   "metadata": {
    "slideshow": {
     "slide_type": "slide"
    }
   },
   "source": [
    "The function body describes **the processing to be performed** on the parameters and specifies **the value to be returned by the function**.\n",
    "\n",
    "Consider the following simple example:"
   ]
  },
  {
   "cell_type": "code",
   "execution_count": 1,
   "metadata": {
    "slideshow": {
     "slide_type": "slide"
    }
   },
   "outputs": [],
   "source": [
    "def factorielle(n):\n",
    "    a = 1\n",
    "    for k in range(n,0,-1):\n",
    "        a *= k   # a *= k means a = a*k | x += 1 <=> x = x+1\n",
    "    return a"
   ]
  },
  {
   "cell_type": "markdown",
   "metadata": {
    "slideshow": {
     "slide_type": "slide"
    }
   },
   "source": [
    "The `factorielle` function takes as argument an object _n_ (which we'll assume to be a natural integer), calculates the `factorielle` of _n_ using a variable _a_ and returns this value.\n",
    "\n",
    "As you can see, nothing happens when the function is declared. The function must be called by supplying a value for the integer _n_ for the code to be executed."
   ]
  },
  {
   "cell_type": "code",
   "execution_count": null,
   "metadata": {
    "slideshow": {
     "slide_type": "slide"
    }
   },
   "outputs": [],
   "source": [
    "factorielle(5)"
   ]
  },
  {
   "cell_type": "code",
   "execution_count": null,
   "metadata": {
    "slideshow": {
     "slide_type": "slide"
    }
   },
   "outputs": [],
   "source": [
    "factorielle(7)\n",
    "factorielle(8)"
   ]
  },
  {
   "cell_type": "markdown",
   "metadata": {
    "slideshow": {
     "slide_type": "slide"
    }
   },
   "source": [
    "> It's important to distinguish between **declaring** and **calling** a function. When a function is **declared**, no code is executed. The function must be **called** for the code to be executed."
   ]
  },
  {
   "cell_type": "markdown",
   "metadata": {},
   "source": [
    "<div style='color: forestgreen'>\n",
    "    <h3>Scope of variables</h3>\n",
    "</div>"
   ]
  },
  {
   "cell_type": "markdown",
   "metadata": {
    "slideshow": {
     "slide_type": "slide"
    }
   },
   "source": [
    "A function can use variables defined **outside** the function."
   ]
  },
  {
   "cell_type": "code",
   "execution_count": null,
   "metadata": {
    "slideshow": {
     "slide_type": "slide"
    }
   },
   "outputs": [],
   "source": [
    "a = 2   # Variable defined outside the function\n",
    "\n",
    "def f(x):\n",
    "    return a * x    # returns 2 * x because a=2"
   ]
  },
  {
   "cell_type": "markdown",
   "metadata": {
    "slideshow": {
     "slide_type": "slide"
    }
   },
   "source": [
    "Variables defined outside a function are said to be **global** variables."
   ]
  },
  {
   "cell_type": "markdown",
   "metadata": {
    "slideshow": {
     "slide_type": "slide"
    }
   },
   "source": [
    "> In general, global variables are not recommended, as they make code debugging difficult.\n",
    "\n",
    "In any case, when a global variable is used in a function, it must be declared before the function is called."
   ]
  },
  {
   "cell_type": "markdown",
   "metadata": {
    "slideshow": {
     "slide_type": "slide"
    }
   },
   "source": [
    "<div style=\"border-color: #007bff; margin: 1.5625em auto; padding: 0 .6rem .8rem !important; overflow: hidden; page-break-inside: avoid;border-left: .2rem solid #007bff; border-radius: .1rem; box-shadow: 0 .2rem .5rem rgba(0,0,0,.05),0 0 .05rem rgba(0,0,0,.1); transition: color .25s,background-color .25s,border-color .25s;\">\n",
    "    <p style=\"background-color: #e7f2fa; position: relative; margin: 0 -.6rem !important; padding: .4rem .6rem .4rem 2rem; font-weight: 700;\">📝 Note</p>\n",
    "    <p style=\"padding: 0 1.4rem; margin-top: .4em; margin-bottom: 0; font-size: 1em;\">\n",
    "     Variables defined inside a function are called local variables. They do not exist outside the function.<br><br>\n",
    "If there is a variable in a function that has the same name as a variable in the program (like the x in the example below), it is as if there are two separate variables; <b>the local variable only exists in the function</b>.<br>\n",
    "     </p>\n",
    "</div>"
   ]
  },
  {
   "cell_type": "markdown",
   "metadata": {
    "slideshow": {
     "slide_type": "slide"
    }
   },
   "source": [
    "To clearly understand the scope of variables, in the following example, we color the function's global variables in red, and the local variables with one color per function. \n",
    "\n",
    "The following program defines a function that adds one and another that calculates the double."
   ]
  },
  {
   "cell_type": "markdown",
   "metadata": {
    "slideshow": {
     "slide_type": "slide"
    }
   },
   "source": [
    "<img src=\" data:image/png;base64,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\" width=\"400\">"
   ]
  },
  {
   "cell_type": "code",
   "execution_count": 3,
   "metadata": {},
   "outputs": [
    {
     "name": "stdout",
     "output_type": "stream",
     "text": [
      "7\n",
      "8\n",
      "14\n",
      "7\n"
     ]
    }
   ],
   "source": [
    "x=7\n",
    "def plus_un(x):\n",
    "    x=x+1\n",
    "    return x\n",
    "def double(x):\n",
    "    x=2*x\n",
    "    return(x)\n",
    "print(x)\n",
    "print(plus_un(x))\n",
    "print(double(x))\n",
    "print(x)"
   ]
  },
  {
   "cell_type": "markdown",
   "metadata": {
    "slideshow": {
     "slide_type": "slide"
    }
   },
   "source": [
    "**Question 1:** How will the above code be displayed?"
   ]
  },
  {
   "cell_type": "markdown",
   "metadata": {
    "slideshow": {
     "slide_type": "subslide"
    }
   },
   "source": [
    "**Question 2**: Explain how the following code is displayed"
   ]
  },
  {
   "cell_type": "code",
   "execution_count": 4,
   "metadata": {
    "slideshow": {
     "slide_type": "subslide"
    }
   },
   "outputs": [
    {
     "name": "stdout",
     "output_type": "stream",
     "text": [
      "2 5\n",
      "2 7\n",
      "2 4\n"
     ]
    }
   ],
   "source": [
    "def test():\n",
    "    b = 5\n",
    "    print(a, b)\n",
    "\n",
    "a = 2    # from here on we're outside the function\n",
    "b = 7\n",
    "test()\n",
    "print(a,b)\n",
    "b = 4\n",
    "print(a,b)"
   ]
  },
  {
   "cell_type": "markdown",
   "metadata": {
    "slideshow": {
     "slide_type": "slide"
    }
   },
   "source": [
    "However, you can force Python to modify a global variable in a function by using the **_global_** keyword.\n",
    "\n",
    "This instruction is used to indicate - within the definition of a function - which variables are to be treated globally, **i.e. they will have the same value throughout the code**."
   ]
  },
  {
   "cell_type": "code",
   "execution_count": null,
   "metadata": {
    "slideshow": {
     "slide_type": "slide"
    }
   },
   "outputs": [],
   "source": [
    "def test():\n",
    "    global b\n",
    "    b = 5\n",
    "    print(a, b)\n",
    "    \n",
    "a = 2\n",
    "b = 7\n",
    "test()\n",
    "print(a, b)"
   ]
  },
  {
   "cell_type": "markdown",
   "metadata": {
    "slideshow": {
     "slide_type": "subslide"
    }
   },
   "source": [
    "**Question 3**: Explain the display of the previous code"
   ]
  },
  {
   "cell_type": "markdown",
   "metadata": {},
   "source": [
    "<div class=\"alert alert-block alert-info\" style='color:white; background-color:blue; border-color: blue; '>\n",
    "    <h2>Exercices for TD</h2>\n",
    "</div>"
   ]
  },
  {
   "cell_type": "markdown",
   "metadata": {
    "slideshow": {
     "slide_type": "slide"
    }
   },
   "source": [
    "You can now practice from the notebook [TD 12 - Functions 2](../TD/TD%2012%20-%20Les%20fonctions%202.ipynb)"
   ]
  }
 ],
 "metadata": {
  "celltoolbar": "Format de la Cellule Texte Brut",
  "kernelspec": {
   "display_name": "Python 3",
   "language": "python",
   "name": "python3"
  },
  "language_info": {
   "codemirror_mode": {
    "name": "ipython",
    "version": 3
   },
   "file_extension": ".py",
   "mimetype": "text/x-python",
   "name": "python",
   "nbconvert_exporter": "python",
   "pygments_lexer": "ipython3",
   "version": "3.8.8"
  },
  "latex_envs": {
   "LaTeX_envs_menu_present": true,
   "autoclose": false,
   "autocomplete": true,
   "bibliofile": "biblio.bib",
   "cite_by": "apalike",
   "current_citInitial": 1,
   "eqLabelWithNumbers": true,
   "eqNumInitial": 1,
   "hotkeys": {
    "equation": "Ctrl-E",
    "itemize": "Ctrl-I"
   },
   "labels_anchors": false,
   "latex_user_defs": false,
   "report_style_numbering": false,
   "user_envs_cfg": false
  },
  "varInspector": {
   "cols": {
    "lenName": 16,
    "lenType": 16,
    "lenVar": 40
   },
   "kernels_config": {
    "python": {
     "delete_cmd_postfix": "",
     "delete_cmd_prefix": "del ",
     "library": "var_list.py",
     "varRefreshCmd": "print(var_dic_list())"
    },
    "r": {
     "delete_cmd_postfix": ") ",
     "delete_cmd_prefix": "rm(",
     "library": "var_list.r",
     "varRefreshCmd": "cat(var_dic_list()) "
    }
   },
   "types_to_exclude": [
    "module",
    "function",
    "builtin_function_or_method",
    "instance",
    "_Feature"
   ],
   "window_display": false
  }
 },
 "nbformat": 4,
 "nbformat_minor": 2
}
