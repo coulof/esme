{
 "cells": [
  {
   "cell_type": "markdown",
   "metadata": {},
   "source": [
    "<img style=\"margin-top: 0px\" src=\" data:image/png;base64,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\" align=\"left\" alt=\"logo esme\"  height=\"20\"> \n",
    "<div class=\"alert alert-block alert-info\" style=\"margin-top: 9px; padding: 10px; background: linear-gradient(to right, #f7f9fa, #d9edfb);\">\n",
    "    <h1 style=\"margin-left: 85px\">IngeSUP - TD 16 - Revision II</h1>\n",
    "</div>"
   ]
  },
  {
   "cell_type": "markdown",
   "metadata": {},
   "source": [
    "<blockquote><em>“Le souvenir c'est la présence dans l'absence, c'est la parole dans le silence, le retour sans fin d'un bonheur passé, auquel le coeur donne l'immortalité.”</em></blockquote>&nbsp;&nbsp;<i style=\"font-size: 10px\">Anonyme</i>"
   ]
  },
  {
   "cell_type": "markdown",
   "metadata": {},
   "source": [
    "***\n",
    "## Exercise 00 - Return the n-th column of a Matrix\n",
    "***"
   ]
  },
  {
   "cell_type": "markdown",
   "metadata": {},
   "source": [
    "Write a function to return the n-th column of a matrix"
   ]
  },
  {
   "cell_type": "code",
   "execution_count": 6,
   "metadata": {},
   "outputs": [
    {
     "name": "stdout",
     "output_type": "stream",
     "text": [
      "[3, 6, 9]\n"
     ]
    }
   ],
   "source": [
    "matrix_a = [[1, 2, 3],\n",
    "            [4, 5, 6],\n",
    "            [7, 8, 9]]\n",
    "\n",
    "def get_column(matrix, idx):\n",
    "    column = []\n",
    "    for row in matrix :\n",
    "        column.append(row[idx])\n",
    "\n",
    "    # ...\n",
    "    return column\n",
    "\n",
    "def get_column_short(matrix, idx):\n",
    "    return [matrix[i][idx] for i in range(len(matrix))]\n",
    "\n",
    "print(get_column_short(matrix_a, 2))"
   ]
  },
  {
   "cell_type": "markdown",
   "metadata": {},
   "source": [
    "***\n",
    "## Exercise 01 - Scalar Product\n",
    "***"
   ]
  },
  {
   "cell_type": "markdown",
   "metadata": {},
   "source": [
    "The scalar product of the vector u with coordinates (x,y,z) and v with coordinates (x',y',z') is equal to :\n",
    "\n",
    "$$\n",
    "xx'+yy'+zz'\n",
    "$$\n",
    "\n",
    "For example, the scalar product of u = (2,2,-1) and v = (3,-2,5) is :\n",
    "\n",
    "$$\n",
    "2∗3 + 2∗(−2) + (−1)∗5 = −3\n",
    "$$\n",
    "\n",
    "**Assuming Vectors to Tuples**, Write a function `scalar_product()` which calculates the scalar product of two tuple vectors `u` by `v` passed as parameters.\n",
    "\n",
    "This function will return the scalar product of `u` by `v` stored as a variable `res`. If `u` and `v` are not the same length, the function will display `\"error: u and v are not the same length\"` and `res` will take the value `None`."
   ]
  },
  {
   "cell_type": "code",
   "execution_count": 13,
   "metadata": {},
   "outputs": [
    {
     "name": "stdout",
     "output_type": "stream",
     "text": [
      "-3\n"
     ]
    }
   ],
   "source": [
    "# CODE HERE\n",
    "def scalar_product(u, v):\n",
    "    total = 0\n",
    "    #if...\n",
    "    if len(u)!=len(v):\n",
    "        print(\"error\")\n",
    "        return None\n",
    "    #for\n",
    "\n",
    "    for i in range (0,len(u)):\n",
    "        total=u[i]*v[i]+total\n",
    "    return total\n",
    "\n",
    "u_1 = (2, 2, -1)\n",
    "v_1 = (3, -2, 5)\n",
    "\n",
    "    \n",
    "print(scalar_product(u_1, v_1))"
   ]
  },
  {
   "cell_type": "markdown",
   "metadata": {},
   "source": [
    "***\n",
    "## Exercise 02 - Multiplication table\n",
    "***"
   ]
  },
  {
   "cell_type": "markdown",
   "metadata": {},
   "source": [
    "1. Write a `Table()` function that creates a text file `Multiplication_Table.txt` and stores the multiplication table for the number entered as a parameter in this file.\n",
    "\n",
    "For example, calling the Table(5) function will write the following to the `Multiplication_Table.txt` file: \n",
    "\n",
    "The multiplication table for 5 is :\n",
    "\n",
    "\n",
    "0 x 5 = 0\n",
    "    \n",
    "1 x 5 = 5\n",
    "    \n",
    "2 x 5 = 10\n",
    "\n",
    "3 x 5 = 15\n",
    "    \n",
    "4 x 5 = 20\n",
    "    \n",
    "5 x 5 = 25\n",
    "    \n",
    "6 x 5 = 30\n",
    "    \n",
    "7 x 5 = 35\n",
    " \n",
    "8 x 5 = 40\n",
    "    \n",
    "9 x 5 = 45\n",
    "    \n",
    "10 x 5 = 50\n",
    "\n"
   ]
  },
  {
   "cell_type": "code",
   "execution_count": null,
   "metadata": {},
   "outputs": [],
   "source": [
    "# CODE HERE"
   ]
  },
  {
   "cell_type": "markdown",
   "metadata": {},
   "source": [
    "***\n",
    "## Exercise 03 - File txt\n",
    "***"
   ]
  },
  {
   "cell_type": "markdown",
   "metadata": {},
   "source": [
    "1. Write a function `wc()` returning the number of lines in a file whose name is passed as a parameter."
   ]
  },
  {
   "cell_type": "code",
   "execution_count": 14,
   "metadata": {},
   "outputs": [
    {
     "name": "stdout",
     "output_type": "stream",
     "text": [
      "5398\n"
     ]
    }
   ],
   "source": [
    "# CODE HERE\n",
    "def wc(file):\n",
    "    line_count = 0\n",
    "    with open(file,'r') as file:\n",
    "        for line in file:\n",
    "            line_count = line_count + 1\n",
    "\n",
    "    return line_count\n",
    "\n",
    "print(wc(\"../files/admissibles.txt\"))\n"
   ]
  },
  {
   "cell_type": "markdown",
   "metadata": {},
   "source": [
    "2. Write a `tail()` function that displays the last `n` lines of a file whose name and desired number `n` of lines are passed as parameters (by default the function will display 10 lines)."
   ]
  },
  {
   "cell_type": "code",
   "execution_count": 24,
   "metadata": {},
   "outputs": [
    {
     "name": "stdout",
     "output_type": "stream",
     "text": [
      "13374 \tZRIGUI Yassine \tAdmissible \t3\n",
      "42175 \tZUBER Martin \tAdmissible \t4\n",
      "19570 \tZURLETTO Laure \tEliminé \t-\n",
      "8812 \tZYADI Rime \tEliminé \t-\n",
      "18228 \tZYANI Kamal \tEliminé \t-"
     ]
    },
    {
     "ename": "NameError",
     "evalue": "name 'line' is not defined",
     "output_type": "error",
     "traceback": [
      "\u001b[0;31m---------------------------------------------------------------------------\u001b[0m",
      "\u001b[0;31mNameError\u001b[0m                                 Traceback (most recent call last)",
      "\u001b[1;32m/workspaces/esme/booster/16-TD-Revision_II.ipynb Cell 16\u001b[0m line \u001b[0;36m1\n\u001b[1;32m      <a href='vscode-notebook-cell://codespaces%2Bfictional-spork-ppqpqwgwwrp2rpp9/workspaces/esme/booster/16-TD-Revision_II.ipynb#X21sdnNjb2RlLXJlbW90ZQ%3D%3D?line=6'>7</a>\u001b[0m               \u001b[39mprint\u001b[39m(l[i],end\u001b[39m=\u001b[39m\u001b[39m'\u001b[39m\u001b[39m'\u001b[39m)\n\u001b[1;32m     <a href='vscode-notebook-cell://codespaces%2Bfictional-spork-ppqpqwgwwrp2rpp9/workspaces/esme/booster/16-TD-Revision_II.ipynb#X21sdnNjb2RlLXJlbW90ZQ%3D%3D?line=9'>10</a>\u001b[0m         \u001b[39mprint\u001b[39m(line)\n\u001b[0;32m---> <a href='vscode-notebook-cell://codespaces%2Bfictional-spork-ppqpqwgwwrp2rpp9/workspaces/esme/booster/16-TD-Revision_II.ipynb#X21sdnNjb2RlLXJlbW90ZQ%3D%3D?line=11'>12</a>\u001b[0m tail(\u001b[39m\"\u001b[39;49m\u001b[39m../files/admissibles.txt\u001b[39;49m\u001b[39m\"\u001b[39;49m,\u001b[39m5\u001b[39;49m)\n",
      "\u001b[1;32m/workspaces/esme/booster/16-TD-Revision_II.ipynb Cell 16\u001b[0m line \u001b[0;36m1\n\u001b[1;32m      <a href='vscode-notebook-cell://codespaces%2Bfictional-spork-ppqpqwgwwrp2rpp9/workspaces/esme/booster/16-TD-Revision_II.ipynb#X21sdnNjb2RlLXJlbW90ZQ%3D%3D?line=5'>6</a>\u001b[0m \u001b[39mfor\u001b[39;00m i \u001b[39min\u001b[39;00m \u001b[39mrange\u001b[39m(\u001b[39mlen\u001b[39m(l)\u001b[39m-\u001b[39mn,\u001b[39mlen\u001b[39m(l)):\n\u001b[1;32m      <a href='vscode-notebook-cell://codespaces%2Bfictional-spork-ppqpqwgwwrp2rpp9/workspaces/esme/booster/16-TD-Revision_II.ipynb#X21sdnNjb2RlLXJlbW90ZQ%3D%3D?line=6'>7</a>\u001b[0m       \u001b[39mprint\u001b[39m(l[i],end\u001b[39m=\u001b[39m\u001b[39m'\u001b[39m\u001b[39m'\u001b[39m)\n\u001b[0;32m---> <a href='vscode-notebook-cell://codespaces%2Bfictional-spork-ppqpqwgwwrp2rpp9/workspaces/esme/booster/16-TD-Revision_II.ipynb#X21sdnNjb2RlLXJlbW90ZQ%3D%3D?line=9'>10</a>\u001b[0m \u001b[39mprint\u001b[39m(line)\n",
      "\u001b[0;31mNameError\u001b[0m: name 'line' is not defined"
     ]
    }
   ],
   "source": [
    "# CODE\n",
    "\n",
    "def tail(file,n=10):\n",
    "    with open(file) as f:\n",
    "        l=f.readlines()\n",
    "        for i in range(len(l)-n,len(l)):\n",
    "              print(l[i],end='')\n",
    "\n",
    "    \n",
    "        print(line)\n",
    "\n",
    "tail(\"../files/admissibles.txt\",5)"
   ]
  },
  {
   "cell_type": "markdown",
   "metadata": {},
   "source": [
    "3. Write a function named `head()` returning the `n` first lines of a file for a number `n` passed in parameter (by default the function will display 10 lines)."
   ]
  },
  {
   "cell_type": "code",
   "execution_count": null,
   "metadata": {},
   "outputs": [],
   "source": [
    "# CODE HERE"
   ]
  },
  {
   "cell_type": "markdown",
   "metadata": {},
   "source": [
    "***\n",
    "## Exercise 04 - Iterative function\n",
    "***"
   ]
  },
  {
   "cell_type": "markdown",
   "metadata": {},
   "source": [
    "Write a function `invert_sum()`, which calculates the sum of the inverse squares of the first `n` non-zero natural integers. The number `n` is passed as parameter.\n",
    "$$\n",
    "\\sum_{i=1}^{n} (\\frac{1}{i^{2}})\n",
    "$$\n",
    "\n"
   ]
  },
  {
   "cell_type": "code",
   "execution_count": null,
   "metadata": {},
   "outputs": [],
   "source": [
    "# CODE HERE\n"
   ]
  },
  {
   "cell_type": "markdown",
   "metadata": {},
   "source": [
    "### Exercise 04.1 - alternate invert square root\n",
    "Write a function `alternate_invert_sum()`, which calculates the sum of the inverse squares of the first `n`` non-zero natural integers, but alternates the sign of each term. The number n is passed as a parameter. The formula for this series is:\n",
    "$$\n",
    "F(n)=\n",
    "\\begin{cases}\n",
    "0\\;\\textrm{if}\\;n = 0\\\\\n",
    "\\sum_{i=1}^{n} (-1)^{i+1} \\cdot \\frac{1}{i^{2}}\\end{cases}\n",
    "$$\n",
    "\n"
   ]
  },
  {
   "cell_type": "code",
   "execution_count": null,
   "metadata": {},
   "outputs": [],
   "source": [
    "# CODE HERE\n",
    "def alternate_invert_sum(n):\n",
    "    return 0"
   ]
  },
  {
   "cell_type": "markdown",
   "metadata": {},
   "source": [
    "***\n",
    "## Exercise 05 - 5 Teachers\n",
    "***"
   ]
  },
  {
   "cell_type": "markdown",
   "metadata": {},
   "source": [
    "Given five teachers who want to assess the students in a class. Each teacher uses a different approach to managing student grades:\n",
    "\n",
    "#### A) The first teacher wants to calculate a single student's grade average directly, with no possibility of modifying the grades."
   ]
  },
  {
   "cell_type": "markdown",
   "metadata": {},
   "source": [
    "0 | 1 | 2 | 3 | 4 \n",
    " --- | --- | --- | --- | --- | \n",
    "12 | 10 | 11 | 13 | 14"
   ]
  },
  {
   "cell_type": "markdown",
   "metadata": {},
   "source": [
    "1. What is the right data structure?"
   ]
  },
  {
   "cell_type": "markdown",
   "metadata": {},
   "source": [
    "**Answer:**"
   ]
  },
  {
   "cell_type": "markdown",
   "metadata": {},
   "source": [
    "2. Define and fill this structure, giving it the name _structure1_."
   ]
  },
  {
   "cell_type": "code",
   "execution_count": null,
   "metadata": {},
   "outputs": [],
   "source": [
    "# CODE HERE"
   ]
  },
  {
   "cell_type": "markdown",
   "metadata": {},
   "source": [
    "3. Calculate the student's average using Python code based on the `for...in range()` loop."
   ]
  },
  {
   "cell_type": "code",
   "execution_count": null,
   "metadata": {},
   "outputs": [],
   "source": [
    "# CODE HERE"
   ]
  },
  {
   "cell_type": "markdown",
   "metadata": {},
   "source": [
    "#### B) The second teacher wants to calculate a single student's grade average directly, with the option of modifying the student's grades."
   ]
  },
  {
   "cell_type": "markdown",
   "metadata": {},
   "source": [
    "0 | 1 | 2 | 3 | 4 \n",
    " --- | --- | --- | --- | --- | \n",
    "12 | 10 | 11 | 13 | 14"
   ]
  },
  {
   "cell_type": "markdown",
   "metadata": {},
   "source": [
    "1. What is the right data structure?"
   ]
  },
  {
   "cell_type": "markdown",
   "metadata": {},
   "source": [
    "**Answer:**"
   ]
  },
  {
   "cell_type": "markdown",
   "metadata": {},
   "source": [
    "2. Define and fill this structure, giving it the name _structure2_."
   ]
  },
  {
   "cell_type": "code",
   "execution_count": null,
   "metadata": {},
   "outputs": [],
   "source": [
    "# CODE HERE"
   ]
  },
  {
   "cell_type": "markdown",
   "metadata": {},
   "source": [
    "3. Compute the student's average using Python code based on the `for..in` loop."
   ]
  },
  {
   "cell_type": "code",
   "execution_count": null,
   "metadata": {},
   "outputs": [],
   "source": [
    "# CODE HERE"
   ]
  },
  {
   "cell_type": "markdown",
   "metadata": {},
   "source": [
    "4. Add notes 15 and 16 to the student as shown in the following table"
   ]
  },
  {
   "cell_type": "markdown",
   "metadata": {},
   "source": [
    "0 | 1 | 2 | 3 | 4 | 5 | 6 \n",
    " --- | --- | --- | --- | --- | --- | --- |\n",
    "12 | 10 | 11 | 13 | 14 | 15 | 16"
   ]
  },
  {
   "cell_type": "code",
   "execution_count": null,
   "metadata": {},
   "outputs": [],
   "source": [
    "# CODE HERE"
   ]
  },
  {
   "cell_type": "markdown",
   "metadata": {},
   "source": [
    "#### C) The third teacher wants to display the subject name and grade as shown in the following table:"
   ]
  },
  {
   "cell_type": "markdown",
   "metadata": {},
   "source": [
    "Computer Science | Physic | Maths | French | English \n",
    " --- | --- | --- | --- | --- | \n",
    "12 | 10 | 11 | 13 | 14"
   ]
  },
  {
   "cell_type": "markdown",
   "metadata": {},
   "source": [
    "1. What is the right data structure?"
   ]
  },
  {
   "cell_type": "markdown",
   "metadata": {},
   "source": [
    "**Answer:**"
   ]
  },
  {
   "cell_type": "markdown",
   "metadata": {},
   "source": [
    "2. Define and fill this structure, giving it the name _structure3_."
   ]
  },
  {
   "cell_type": "code",
   "execution_count": null,
   "metadata": {},
   "outputs": [],
   "source": [
    "# CODE HERE"
   ]
  },
  {
   "cell_type": "markdown",
   "metadata": {},
   "source": [
    "3. Display the Computer Science grade using _structure3_."
   ]
  },
  {
   "cell_type": "code",
   "execution_count": null,
   "metadata": {},
   "outputs": [],
   "source": [
    "# CODE HERE"
   ]
  },
  {
   "cell_type": "markdown",
   "metadata": {},
   "source": [
    "4. Same question for English."
   ]
  },
  {
   "cell_type": "code",
   "execution_count": null,
   "metadata": {},
   "outputs": [],
   "source": [
    "# CODE HERE"
   ]
  },
  {
   "cell_type": "markdown",
   "metadata": {},
   "source": [
    "5. Compute the average of all subjects according to this structure using Python code."
   ]
  },
  {
   "cell_type": "code",
   "execution_count": null,
   "metadata": {},
   "outputs": [],
   "source": [
    "# VOTRE CODE ICI"
   ]
  },
  {
   "cell_type": "markdown",
   "metadata": {},
   "source": [
    "#### D) The fourth teacher wants to calculate the average of all students, each of whom is represented by a line in the following table"
   ]
  },
  {
   "cell_type": "markdown",
   "metadata": {},
   "source": [
    "<img src=\" data:image/png;base64,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\" width=\"650\">"
   ]
  },
  {
   "cell_type": "markdown",
   "metadata": {},
   "source": [
    "1. What is the right data structure?"
   ]
  },
  {
   "cell_type": "markdown",
   "metadata": {},
   "source": [
    "**Answer:**"
   ]
  },
  {
   "cell_type": "markdown",
   "metadata": {},
   "source": [
    "2. Define and fill this data structure with the name _structure4_."
   ]
  },
  {
   "cell_type": "code",
   "execution_count": null,
   "metadata": {},
   "outputs": [],
   "source": [
    "# CODE HERE"
   ]
  },
  {
   "cell_type": "markdown",
   "metadata": {},
   "source": [
    "3. Display the 2nd student's 3rd subject grade using _structure4_."
   ]
  },
  {
   "cell_type": "code",
   "execution_count": null,
   "metadata": {},
   "outputs": [],
   "source": [
    "# CODE HERE"
   ]
  },
  {
   "cell_type": "markdown",
   "metadata": {},
   "source": [
    "4. Display the 4th student's grade for the 4th subject."
   ]
  },
  {
   "cell_type": "code",
   "execution_count": null,
   "metadata": {},
   "outputs": [],
   "source": [
    "# CODE HERE"
   ]
  },
  {
   "cell_type": "markdown",
   "metadata": {},
   "source": [
    "5. Compute and display each student's average"
   ]
  },
  {
   "cell_type": "code",
   "execution_count": null,
   "metadata": {},
   "outputs": [],
   "source": [
    "# CODE HERE"
   ]
  },
  {
   "cell_type": "markdown",
   "metadata": {},
   "source": [
    "6. Calculate and display the class average"
   ]
  },
  {
   "cell_type": "code",
   "execution_count": null,
   "metadata": {},
   "outputs": [],
   "source": [
    "# CODE HERE"
   ]
  },
  {
   "cell_type": "markdown",
   "metadata": {},
   "source": [
    "#### D) The 5th teacher wants to calculate the average of all the students, with each student represented by a line, while displaying the names of the subjects and the names of the students, as shown in the following table:"
   ]
  },
  {
   "cell_type": "markdown",
   "metadata": {},
   "source": [
    "<img src=\" data:image/png;base64,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\" width=\"650\">"
   ]
  },
  {
   "cell_type": "markdown",
   "metadata": {},
   "source": [
    "1. What is the most suitable data structure?"
   ]
  },
  {
   "cell_type": "markdown",
   "metadata": {},
   "source": [
    "**Answer:**"
   ]
  },
  {
   "cell_type": "markdown",
   "metadata": {},
   "source": [
    "2. Define and fill in this structure by calling it _structure5_."
   ]
  },
  {
   "cell_type": "code",
   "execution_count": null,
   "metadata": {},
   "outputs": [],
   "source": [
    "# CODE HERE"
   ]
  },
  {
   "cell_type": "markdown",
   "metadata": {},
   "source": [
    "3. Display Maxime's French grade using _structure5_."
   ]
  },
  {
   "cell_type": "code",
   "execution_count": null,
   "metadata": {},
   "outputs": [],
   "source": [
    "# CODE HERE"
   ]
  },
  {
   "cell_type": "markdown",
   "metadata": {},
   "source": [
    "4. Affichez la note de maths de Camille en vous servant de _structure5_."
   ]
  },
  {
   "cell_type": "code",
   "execution_count": null,
   "metadata": {},
   "outputs": [],
   "source": [
    "# CODE HERE"
   ]
  },
  {
   "cell_type": "markdown",
   "metadata": {},
   "source": [
    "5. Compute and display the average for each student."
   ]
  },
  {
   "cell_type": "code",
   "execution_count": null,
   "metadata": {},
   "outputs": [],
   "source": [
    "# CODE HERE"
   ]
  },
  {
   "cell_type": "markdown",
   "metadata": {},
   "source": [
    "6. Compute and display the class average."
   ]
  },
  {
   "cell_type": "code",
   "execution_count": null,
   "metadata": {},
   "outputs": [],
   "source": [
    "# CODE HERE"
   ]
  },
  {
   "cell_type": "markdown",
   "metadata": {},
   "source": [
    "7. Add a new student **_Emma_** with grades **10** in Computer Science, **14** in Physics, **8.75** in Math, **13** in French and **12** in English."
   ]
  },
  {
   "cell_type": "code",
   "execution_count": null,
   "metadata": {},
   "outputs": [],
   "source": [
    "# CODE HERE"
   ]
  },
  {
   "cell_type": "markdown",
   "metadata": {},
   "source": [
    "8. Delete the student Victor who has changed class."
   ]
  },
  {
   "cell_type": "code",
   "execution_count": null,
   "metadata": {},
   "outputs": [],
   "source": [
    "# CODE HERE"
   ]
  }
 ],
 "metadata": {
  "kernelspec": {
   "display_name": "Python 3",
   "language": "python",
   "name": "python3"
  },
  "language_info": {
   "codemirror_mode": {
    "name": "ipython",
    "version": 3
   },
   "file_extension": ".py",
   "mimetype": "text/x-python",
   "name": "python",
   "nbconvert_exporter": "python",
   "pygments_lexer": "ipython3",
   "version": "3.10.8"
  }
 },
 "nbformat": 4,
 "nbformat_minor": 2
}
