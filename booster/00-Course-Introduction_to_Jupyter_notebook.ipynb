{
 "cells": [
  {
   "cell_type": "markdown",
   "id": "19ef0f5b",
   "metadata": {},
   "source": [
    "***\n",
    "# Introduction to Jupyter notebook\n",
    "***\n",
    "\n",
    "The learning format used during the preparatory cycle is the Jupyter notebook (https://jupyter.org/), which runs the Python programming language (https://www.python.org/).\n",
    "\n",
    "Jupyter notebooks provide students with a rich interactive environment, combining cells of text, code, images, graphics and more. This open-source environment is widely used in academia and research around the world."
   ]
  },
  {
   "cell_type": "markdown",
   "id": "c60d6293",
   "metadata": {},
   "source": [
    "## Contents\n",
    "\n",
    "* <a href=\"#Jupyter-notebook-runtime-environment\">Jupyter notebook runtime environment</a>\n",
    "* <a href=\"#Creating-your-Jupyter-notebook\">Creating your Jupyter notebook </a>\n",
    "* <a href=\"#Editing-and-running-your-notebook\">Editing and running your notebook </a>\n",
    "* <a href=\"#Formatting-text-cells\">Formatting text cells </a>\n",
    "* <a href=\"#LaTeX\">LaTeX</a>"
   ]
  },
  {
   "cell_type": "markdown",
   "id": "ee4064ec",
   "metadata": {},
   "source": [
    "<div class=\"alert alert-block alert-info\" style='color:white; background-color:blue; border-color: blue; '>\n",
    "    <h2>Jupyter notebook runtime environment</h2>\n",
    "</div>\n",
    "\n",
    "### Local environment\n",
    "\n",
    "Jupyter can be run locally. For this, the [Anaconda] distribution (https://www.anaconda.com/download) is recommended.\n",
    "\n",
    "### Embedded (web) environment\n",
    "\n",
    "You can run jupyter from an embedded interactive environment. In this configuration, the [Azure Notebook](https://notebooks.azure.com/) platform is recommended. You can log in using your ESME credentials."
   ]
  },
  {
   "cell_type": "markdown",
   "id": "b7a4616d",
   "metadata": {},
   "source": [
    "# Creating your Jupyter notebook</h2>\n",
    "\n",
    "To create a notebook, at the top right of the page, click `New -> Python 3`. You have created your new notebook, you can start working.\n",
    "\n",
    "By default, the name of a new notebook is 'Untitled'. Click 'Untitled' to give it a different name."
   ]
  },
  {
   "cell_type": "markdown",
   "id": "cab0bb67",
   "metadata": {},
   "source": [
    "<div class=\"alert alert-block alert-info\" style='color:white; background-color:blue; border-color: blue; '>\n",
    "    <h2>Editing and running your notebook</h2>\n",
    "</div>\n",
    "\n",
    "A Jupyter notebook proposes *code* cells and *text* cells. If you double-click in a cell, it becomes editable. You'll then see in the menu bar whether it's a code cell ('Code') or a text cell ('Markdown').\n",
    "You can use the drop-down box above the notebook to change the cell type.\n",
    "You can use `Insert` from the menu bar to insert a new cell.\n",
    "\n",
    "The active cell can be executed from the `ctrl-Enter` command or from the `Run` button in the menu bar (the active cell can be identified by a colored bar to the left of the cell). When executed, a text cell will be \"typed\", while the code in a code cell will be executed. All output from the code cell will appear below the cell.\n",
    "\n",
    "If you wish to execute all the cells in a notebook, you can use `Kernel -> Restart & Run All`. This way, after kernel restart, all notebook cells will be executed in order.\n",
    "\n",
    "If you wish to reset all code cell outputs (i.e. all environment variables), you can use `Cell -> All Output -> Clear`. You can also apply it to the active cell only, by running `Cell -> Current Outputs -> Clear`.\n",
    "\n",
    "### Code cell\n",
    "\n",
    "Here's a code cell:"
   ]
  },
  {
   "cell_type": "code",
   "execution_count": 1,
   "id": "8d97cbed",
   "metadata": {},
   "outputs": [
    {
     "name": "stdout",
     "output_type": "stream",
     "text": [
      "7\n",
      "ESME Rules\n"
     ]
    }
   ],
   "source": [
    "a=4+3\n",
    "print(a)\n",
    "print(\"ESME Rules\")"
   ]
  },
  {
   "cell_type": "markdown",
   "id": "81534840",
   "metadata": {},
   "source": [
    "### Text cells\n",
    "\n",
    "Text cells are formatted from the *Markdown* format and use *LaTeX* syntax for mathematical expressions.\n",
    "\n",
    "Full details of how to use text cells can be found in the [Jupyter Markdown documentation](http://jupyter-notebook.readthedocs.io/en/latest/examples/Notebook/Working%20With%20Markdown%20Cells.html)."
   ]
  },
  {
   "cell_type": "markdown",
   "id": "336a94b2",
   "metadata": {},
   "source": [
    "<div class=\"alert alert-block alert-info\" style='color:white; background-color:blue; border-color: blue; '>\n",
    "    <h2>Formatting text cells</h2>\n",
    "</div>\n",
    "\n",
    "The following is a summary of the basic commands used in *Markdown* formatting\n",
    "\n",
    "### Headings\n",
    "\n",
    "In Markdown, headings are indicated by '`#`':\n",
    "```\n",
    "# Title row 1\n",
    "## Title row 2\n",
    "### Title row 3\n",
    "```\n",
    "\n",
    "### Text style\n",
    "\n",
    "Several tags can be used. Text with the following tags:\n",
    "```\n",
    "'A little text'\n",
    "\n",
    "*A little more text*\n",
    "\n",
    "**More text**\n",
    "\n",
    "```\n",
    "\n",
    "Will look like this:\n",
    "\n",
    "'A little text'\n",
    "\n",
    "*A little more text*\n",
    "\n",
    "**More text**\n",
    "### Lists\n",
    "\n",
    "A bulleted list can be created using the following tags:\n",
    "```\n",
    "- Option A\n",
    "- Option B\n",
    "```\n",
    "to display\n",
    "- Option A\n",
    "- Option B\n",
    "\n",
    "and a numbered list will use the following tags:\n",
    "```\n",
    "1. Choice 1\n",
    "1. Choice 2\n",
    "```\n",
    "to display\n",
    "1. Choice 1\n",
    "1. Choice 2\n",
    "\n",
    "In 'Markdown' formatting, list numbering is automatic.\n",
    "\n",
    "### Code\n",
    "\n",
    "Code can be entered as follows:\n",
    "\n",
    "    ```python\n",
    "    def f(x):\n",
    "        return x*x\n",
    "    ```\n",
    "\n",
    "To display\n",
    "\n",
    "```python\n",
    "def f(x):\n",
    "    return x*x\n",
    "```\n",
    "### Images\n",
    "\n",
    "You can also include images in a 'Markdown' cell in the notebook. Click [here](http://jupyter-notebook.readthedocs.io/en/latest/examples/Notebook/Working%20With%20Markdown%20Cells.html) for more details."
   ]
  },
  {
   "cell_type": "markdown",
   "id": "acfa0dd0",
   "metadata": {},
   "source": [
    "<div class=\"alert alert-block alert-info\" style='color:white; background-color:blue; border-color: blue; '>\n",
    "    <h2>LaTeX</h2>\n",
    "</div>"
   ]
  },
  {
   "cell_type": "markdown",
   "id": "e5975714",
   "metadata": {},
   "source": [
    "Markdown cells use [LaTeX](https://www.latex-project.org/) syntax for mathematical formulas. LaTeX is a major tool for writing technical digital documents composed of mathematical formulas, and is a free tool.\n",
    "\n",
    "> Learning LaTeX syntax is an interesting opportunity. You can try https://www.overleaf.com/ to practice in an online environment.\n",
    "\n",
    "To type an equation online, just enter:"
   ]
  },
  {
   "cell_type": "markdown",
   "id": "1a4e4fdb",
   "metadata": {},
   "source": [
    "```\n",
    "The calculation can be obtained from the expression $\\exp(-2x) \\sin(3 x^{4})$.\n",
    "```\n",
    "which will be displayed as:\n",
    "\n",
    "'The calculation can be obtained from the expression $\\exp(-2x) \\sin(\\alpha x^{4})$.'\n",
    "\n",
    "If you want to display a formula, you can enter:\n",
    "```\n",
    "We want to evaluate\n",
    "\n",
    "$$\n",
    "f(x) = \\beta x^{3} \\int_{0}^{2} g(x) \\, dx\n",
    "$$\n",
    "\n",
    "with $\\beta = 4$.\n",
    "```\n",
    "This will be displied as:\n",
    "\n",
    "'We want to evaluate\n",
    "\n",
    "$$\n",
    "f(x) = \\beta x^{3} \\int_{0}^{2} g(x) \\, dx\n",
    "$$\n",
    "\n",
    "with $\\beta = 4$.'"
   ]
  }
 ],
 "metadata": {
  "kernelspec": {
   "display_name": "Python 3",
   "language": "python",
   "name": "python3"
  },
  "language_info": {
   "codemirror_mode": {
    "name": "ipython",
    "version": 3
   },
   "file_extension": ".py",
   "mimetype": "text/x-python",
   "name": "python",
   "nbconvert_exporter": "python",
   "pygments_lexer": "ipython3",
   "version": "3.10.8"
  }
 },
 "nbformat": 4,
 "nbformat_minor": 5
}
