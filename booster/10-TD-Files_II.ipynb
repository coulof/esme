{
 "cells": [
  {
   "cell_type": "markdown",
   "metadata": {},
   "source": [
    "<img style=\"margin-top: 0px\" src=\" data:image/png;base64,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\" align=\"left\" alt=\"logo esme\"  height=\"20\"> \n",
    "<div class=\"alert alert-block alert-info\" style=\"margin-top: 9px; padding: 10px; background: linear-gradient(to right, #f7f9fa, #d9edfb);\">\n",
    "    <h1 style=\"margin-left: 85px\">IngeSUP - TD 10 - Files 2</h1>\n",
    "</div>"
   ]
  },
  {
   "cell_type": "markdown",
   "metadata": {},
   "source": [
    "<blockquote><em>“Computer science: Alliance of inexact science and fallible human activity.”</em></blockquote>&nbsp;&nbsp;<i style=\"font-size: 10px\">Luc Fayard</i>"
   ]
  },
  {
   "cell_type": "markdown",
   "metadata": {},
   "source": [
    "***\n",
    "## Exercice 10.1\n",
    "***"
   ]
  },
  {
   "cell_type": "markdown",
   "metadata": {},
   "source": [
    "This exercise processes a real list of candidates for the 2013 Mines-Ponts MP competitive examination, retrieved from the Internet.\n",
    "\n",
    "Each line is made up of four fields: candidate number, Last name and First name, Admissible or refused, oral series number if admissible. \n",
    "\n",
    "1. Download the file \"admissibles.txt\" from Moodle. Copy it into the same directory as your notebook. Open the file admissibles.txt with a text editor. What seems to be the character separating the four fields?"
   ]
  },
  {
   "cell_type": "markdown",
   "metadata": {},
   "source": [
    "**Answer:**\n"
   ]
  },
  {
   "cell_type": "markdown",
   "metadata": {},
   "source": [
    "2. Complete the first line of the following script to open the file in read mode, your admissibles.txt file:\n",
    "```python\n",
    "f = open(...\n",
    "a= f.readline() # the first line of the file\n",
    "b= f.readline() # the second line of the file\n",
    "f.close()\n",
    "```\n",
    "Run the script, then display `a`."
   ]
  },
  {
   "cell_type": "code",
   "execution_count": 4,
   "metadata": {
    "scrolled": true
   },
   "outputs": [
    {
     "name": "stdout",
     "output_type": "stream",
     "text": [
      "48906 \tAABOUCHE Yacine \tEliminé \t-\n",
      "\n"
     ]
    }
   ],
   "source": [
    "# CODE HERE\n",
    "f = open(\"../files/admissibles.txt\", \"rb\")\n",
    "a = f.readline()\n",
    "b = f.readline()\n",
    "f.close()\n",
    "print(a.decode(\"utf-8\"))"
   ]
  },
  {
   "cell_type": "markdown",
   "metadata": {},
   "source": [
    "3. Which character separates the four columns?"
   ]
  },
  {
   "cell_type": "markdown",
   "metadata": {},
   "source": [
    "**Answer:** "
   ]
  },
  {
   "cell_type": "markdown",
   "metadata": {},
   "source": [
    "4. Write the instructions to find out the number of candidates corresponding to the number of lines in the file."
   ]
  },
  {
   "cell_type": "code",
   "execution_count": 12,
   "metadata": {},
   "outputs": [
    {
     "name": "stdout",
     "output_type": "stream",
     "text": [
      "5398\n"
     ]
    }
   ],
   "source": [
    "# CODE HERE\n",
    "f = open(\"../files/admissibles.txt\", \"r\")\n",
    "content = f.readlines()\n",
    "f.close()\n",
    "print(len(content))\n"
   ]
  },
  {
   "cell_type": "markdown",
   "metadata": {},
   "source": [
    "5. Apply the `split()` method to a line in the file using the separator found in question (3) as a parameter by completing and then executing the lines in the following script:\n",
    "```python\n",
    "f = open( ....\n",
    "a= f.readline() # first line of the file\n",
    "l=a.split(...\n",
    "print(l)\n",
    "f.close()\n",
    "```\n",
    "\n",
    "What does the `.split()` method return when used with the separator as a parameter?"
   ]
  },
  {
   "cell_type": "code",
   "execution_count": 15,
   "metadata": {},
   "outputs": [
    {
     "name": "stdout",
     "output_type": "stream",
     "text": [
      "AABOUCHE Yacine \n"
     ]
    }
   ],
   "source": [
    "# CODE HERE\n",
    "f = open(\"../files/admissibles.txt\", \"r\")\n",
    "a = f.readline()\n",
    "l=a.split(\"\\t\")\n",
    "print(l[1])\n",
    "f.close()\n"
   ]
  },
  {
   "cell_type": "markdown",
   "metadata": {},
   "source": [
    "*Enter your answer here*"
   ]
  },
  {
   "cell_type": "markdown",
   "metadata": {},
   "source": [
    "6. Determine the number of people eligible for the competition."
   ]
  },
  {
   "cell_type": "code",
   "execution_count": 2,
   "metadata": {},
   "outputs": [
    {
     "name": "stdout",
     "output_type": "stream",
     "text": [
      "1718\n",
      "1718\n"
     ]
    }
   ],
   "source": [
    "# CODE HERE\n",
    "sum=0\n",
    "with open(\"../files/admissibles.txt\", \"r\")as my_opened_file:\n",
    "    lines = my_opened_file.readlines()\n",
    "    \n",
    "    for l in lines:\n",
    "        i=l.split(\"\\t\")\n",
    "        admis = i[2].strip()\n",
    "        if admis==\"Admissible\":\n",
    "            # print(i)\n",
    "            sum = sum + 1\n",
    "print(sum)\n",
    "\n",
    "\n",
    "admitted_students = []\n",
    "with open(\"../files/admissibles.txt\", \"r\")as my_opened_file:\n",
    "    \n",
    "    for l in my_opened_file:\n",
    "        i = l.split(\"\\t\")\n",
    "        admis = i[2].strip()\n",
    "        if admis==\"Admissible\":\n",
    "            admitted_students.append(i)\n",
    "print(len(admitted_students))"
   ]
  },
  {
   "cell_type": "markdown",
   "metadata": {},
   "source": [
    "7. Write a file called \"noms_admissibles.txt\" containing all the first and last names of eligible candidates."
   ]
  },
  {
   "cell_type": "code",
   "execution_count": 2,
   "metadata": {},
   "outputs": [],
   "source": [
    "# CODE HERE"
   ]
  },
  {
   "cell_type": "markdown",
   "metadata": {},
   "source": [
    "***\n",
    "## Exercice 10.2\n",
    "***"
   ]
  },
  {
   "cell_type": "markdown",
   "metadata": {},
   "source": [
    "The aim of this exercise is to create a random generator of first and last names.\n",
    "\n",
    "This generator is based on a list of the most common names in France, as well as the most common first names in France. Download the files \"FichierNoms.txt\", \"FichierPrenomsFilles\", \"FichierPrenomsGarçons.txt\" from Moodle.\n",
    "Write a program that :\n",
    "\n",
    "- asks the user how many boys' surnames to generate and also how many girls' surnames;\n",
    "- creates a text file where each line of the file contains: a name drawn randomly from the most popular names, a first name drawn randomly from the most popular first names and the gender, represented by the letters F or M, depending on whether the first name is a boy's or a girl's name."
   ]
  },
  {
   "cell_type": "code",
   "execution_count": null,
   "metadata": {
    "scrolled": true
   },
   "outputs": [],
   "source": [
    "# CODE HERE"
   ]
  },
  {
   "cell_type": "markdown",
   "metadata": {},
   "source": [
    "***\n",
    "## Exercice 10.3\n",
    "***"
   ]
  },
  {
   "cell_type": "markdown",
   "metadata": {},
   "source": [
    "1. Download the text file \"batman.txt\" containing the Batman symbol drawn by Zach Bolinger in ASCII characters:"
   ]
  },
  {
   "cell_type": "markdown",
   "metadata": {},
   "source": [
    "<img src=\" data:image/png;base64,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\" width=\"400\">                                                   "
   ]
  },
  {
   "cell_type": "markdown",
   "metadata": {},
   "source": [
    "2. Write a program that displays the contents of this text file from the first line to the last line, as shown in the figure above."
   ]
  },
  {
   "cell_type": "code",
   "execution_count": null,
   "metadata": {},
   "outputs": [],
   "source": [
    "# CODE HERE"
   ]
  },
  {
   "cell_type": "markdown",
   "metadata": {},
   "source": [
    "3. Write a program that displays even-numbered lines."
   ]
  },
  {
   "cell_type": "code",
   "execution_count": null,
   "metadata": {},
   "outputs": [],
   "source": [
    "# CODE HERE"
   ]
  },
  {
   "cell_type": "markdown",
   "metadata": {},
   "source": [
    "4. Write a program that displays the contents of odd-numbered lines."
   ]
  },
  {
   "cell_type": "code",
   "execution_count": null,
   "metadata": {},
   "outputs": [],
   "source": [
    "# CODE HERE"
   ]
  },
  {
   "cell_type": "markdown",
   "metadata": {},
   "source": [
    "5. Write a program that displays the contents of this text file from last line to first line. How does the Batman appear?"
   ]
  },
  {
   "cell_type": "code",
   "execution_count": null,
   "metadata": {},
   "outputs": [],
   "source": [
    "# CODE HERE"
   ]
  },
  {
   "cell_type": "markdown",
   "metadata": {},
   "source": [
    "***\n",
    "## Answer key for TD 10\n",
    "\n",
    "You can find the answer key for this TD [here](Corrigés/Corrigé_TD%2010.ipynb)."
   ]
  }
 ],
 "metadata": {
  "celltoolbar": "Format de la Cellule Texte Brut",
  "kernelspec": {
   "display_name": "Python 3",
   "language": "python",
   "name": "python3"
  },
  "language_info": {
   "codemirror_mode": {
    "name": "ipython",
    "version": 3
   },
   "file_extension": ".py",
   "mimetype": "text/x-python",
   "name": "python",
   "nbconvert_exporter": "python",
   "pygments_lexer": "ipython3",
   "version": "3.10.8"
  },
  "latex_envs": {
   "LaTeX_envs_menu_present": true,
   "autoclose": false,
   "autocomplete": true,
   "bibliofile": "biblio.bib",
   "cite_by": "apalike",
   "current_citInitial": 1,
   "eqLabelWithNumbers": true,
   "eqNumInitial": 1,
   "hotkeys": {
    "equation": "Ctrl-E",
    "itemize": "Ctrl-I"
   },
   "labels_anchors": false,
   "latex_user_defs": false,
   "report_style_numbering": false,
   "user_envs_cfg": false
  },
  "varInspector": {
   "cols": {
    "lenName": 16,
    "lenType": 16,
    "lenVar": 40
   },
   "kernels_config": {
    "python": {
     "delete_cmd_postfix": "",
     "delete_cmd_prefix": "del ",
     "library": "var_list.py",
     "varRefreshCmd": "print(var_dic_list())"
    },
    "r": {
     "delete_cmd_postfix": ") ",
     "delete_cmd_prefix": "rm(",
     "library": "var_list.r",
     "varRefreshCmd": "cat(var_dic_list()) "
    }
   },
   "types_to_exclude": [
    "module",
    "function",
    "builtin_function_or_method",
    "instance",
    "_Feature"
   ],
   "window_display": false
  }
 },
 "nbformat": 4,
 "nbformat_minor": 4
}
