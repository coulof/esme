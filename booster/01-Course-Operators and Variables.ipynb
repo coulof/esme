{
 "cells": [
  {
   "cell_type": "markdown",
   "metadata": {},
   "source": [
    "<img style=\"margin-top: 0px\" src=\" data:image/png;base64,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\" align=\"left\" alt=\"logo esme\"  height=\"20\"> \n",
    "<div class=\"alert alert-block alert-info\" style=\"margin-top: 10px; padding: 10px; background: linear-gradient(to right, #f7f9fa, #d9edfb);\">\n",
    "    <h1 style=\"margin-left: 85px\">IngeSUP - Course 01 - Operators and variables</h1>\n",
    "</div>"
   ]
  },
  {
   "cell_type": "markdown",
   "metadata": {
    "slideshow": {
     "slide_type": "slide"
    }
   },
   "source": [
    "<div class=\"alert alert-block alert-info\" style='color:white; background-color:blue; border-color: blue; '>\n",
    "    <h2>Contents</h2>\n",
    "</div>\n",
    "\n",
    "* <a href=\"#Objectives\">Objectives</a>\n",
    "* <a href=\"#Video-Materials\">Video Materials</a>\n",
    "* <a href=\"#Definitions\">Definitions</a>\n",
    "* <a href=\"#Evaluating-expressions\">Evaluating expressions</a>\n",
    "* <a href=\"#Comments\">Comments in Python</a>\n",
    "* <a href=\"#Variables-and-assignment\">Variables and assignment</a>\n",
    "***"
   ]
  },
  {
   "cell_type": "markdown",
   "metadata": {
    "slideshow": {
     "slide_type": "slide"
    }
   },
   "source": [
    "<div class=\"alert alert-block alert-info\" style='color:white; background-color:blue; border-color: blue; '>\n",
    "    <h2>Objectives</h2>\n",
    "</div>\n",
    "\n",
    "- Introduce the Python language;\n",
    "- Introduce expressions, basic operators and their priorities;\n",
    "- Understand what a variable is, how to assign it and the types of variables found in Python;\n",
    "- Understand the basic functions that enable communication with the user of a program."
   ]
  },
  {
   "cell_type": "markdown",
   "metadata": {
    "slideshow": {
     "slide_type": "slide"
    }
   },
   "source": [
    "<div class=\"alert alert-block alert-info\" style='color:white; background-color:blue; border-color: blue; '>\n",
    "    <h2>Video Materials</h2>\n",
    "</div>\n",
    "\n",
    "The following videos cover the same concepts on the ionisX platform:\n",
    "\n",
    "-  [Module 1 : Python – introduction](https://courses.ionisx.com/courses/ref/m205/x/courseware/6c4b9c9a9b7f40f5a9d6304b59ddf6cc/)\n",
    "-  [Module 2 : Types and operators](https://courses.ionisx.com/courses/ref/m61/x/course/)\n",
    "-  [Module 3 : Variables and assignment in Python](https://courses.ionisx.com/courses/ref/m203/x/course/)\n",
    "-  [Module 4 : Inputs/outputs - Keyboard / Disply](https://courses.ionisx.com/courses/ref/m188/x/course/)"
   ]
  },
  {
   "cell_type": "markdown",
   "metadata": {
    "slideshow": {
     "slide_type": "slide"
    }
   },
   "source": [
    "<div class=\"alert alert-block alert-info\" style='color:white; background-color:blue; border-color: blue; '>\n",
    "    <h2>Definitions</h2>\n",
    "</div>"
   ]
  },
  {
   "cell_type": "markdown",
   "metadata": {},
   "source": [
    "<div style='color: forestgreen'>\n",
    "    <h3>Algorithm</h3>\n",
    "</div>"
   ]
  },
  {
   "cell_type": "markdown",
   "metadata": {
    "slideshow": {
     "slide_type": "subslide"
    }
   },
   "source": [
    "**In the age of Big Data, Machine Learning and artificial intelligence, algorithms have become ubiquitous in our lives. But what exactly is an algorithm?**"
   ]
  },
  {
   "cell_type": "markdown",
   "metadata": {
    "slideshow": {
     "slide_type": "slide"
    }
   },
   "source": [
    "The term algorithm was coined by the mathematician Mohammed Ibn Musa-Al Khwarizmi, in the ninth century BC. With the rise of artificial intelligence, the latter term is increasingly used. **The aim of this subject is to learn how to build algorithms and evaluate their capabilities.**"
   ]
  },
  {
   "cell_type": "markdown",
   "metadata": {
    "slideshow": {
     "slide_type": "subslide"
    }
   },
   "source": [
    "In the field of mathematics, where the term originated, **an algorithm can be seen as an ordered and finite set of operations that must be followed in order to solve a problem.** \n",
    "\n",
    "As a simple example, let's take a recipe. In each recipe, a specific procedure must be followed in order. The different steps in the recipe represent the operations that make up the algorithm."
   ]
  },
  {
   "cell_type": "markdown",
   "metadata": {},
   "source": [
    "<div style='color: forestgreen'>\n",
    "    <h3>Programming Language</h3>\n",
    "</div>"
   ]
  },
  {
   "cell_type": "markdown",
   "metadata": {
    "slideshow": {
     "slide_type": "slide"
    }
   },
   "source": [
    "To perform any task, a computer needs a computer program. To work, a computer program must tell the computer exactly what to do, step by step."
   ]
  },
  {
   "cell_type": "markdown",
   "metadata": {
    "slideshow": {
     "slide_type": "subslide"
    }
   },
   "source": [
    "The computer then executes the program, mechanically following each step to achieve the goal. But it is also necessary to instruct the computer on how to perform what it needs to do\n",
    "\n",
    "This is the role of computer algorithms and **programming languages**, which transform algorithms into instructions that computers can understand."
   ]
  },
  {
   "cell_type": "markdown",
   "metadata": {},
   "source": [
    "<div style='color: forestgreen'>\n",
    "    <h3>Python Language</h3>\n",
    "</div>"
   ]
  },
  {
   "cell_type": "markdown",
   "metadata": {
    "slideshow": {
     "slide_type": "subslide"
    }
   },
   "source": [
    "Python is a **modern**, **general-purpose**, **object-oriented** and **high-level** programming language.\n",
    "\n",
    "Here are its main technical features:"
   ]
  },
  {
   "cell_type": "markdown",
   "metadata": {
    "slideshow": {
     "slide_type": "subslide"
    }
   },
   "source": [
    "- **dynamic typing** : no need to define the type of variables, arguments or function return types, they are inferred at runtime."
   ]
  },
  {
   "cell_type": "markdown",
   "metadata": {
    "slideshow": {
     "slide_type": "subslide"
    }
   },
   "source": [
    "- **interpreted**: No need to compile the code. The Python interpreter reads and executes the Python code directly."
   ]
  },
  {
   "cell_type": "markdown",
   "metadata": {},
   "source": [
    "<div style=\"border-color: #007bff; margin: 1.5625em auto; padding: 0 .6rem .8rem !important; overflow: hidden; page-break-inside: avoid;border-left: .2rem solid #007bff; border-radius: .1rem; box-shadow: 0 .2rem .5rem rgba(0,0,0,.05),0 0 .05rem rgba(0,0,0,.1); transition: color .25s,background-color .25s,border-color .25s;\">\n",
    "    <p style=\"background-color: #e7f2fa; position: relative; margin: 0 -.6rem !important; padding: .4rem .6rem .4rem 2rem; font-weight: 700;\">📝 Note</p>\n",
    "    <p style=\"padding: 0 1.4rem; margin-top: .4em; margin-bottom: 0; font-size: 1em;\">As Python is an interpreted, dynamically typed programming language, execution of Python code can be slow compared with statically typed, compiled programming languages such as C or Fortran.</p>\n",
    "</div>"
   ]
  },
  {
   "cell_type": "markdown",
   "metadata": {
    "slideshow": {
     "slide_type": "slide"
    }
   },
   "source": [
    "<div style=\"border-color: #B404AE; margin: 1.5625em auto; padding: 0 .6rem .8rem !important; overflow: hidden; page-break-inside: avoid; border-left: .2rem solid #B404AE; border-radius: .1rem; box-shadow: 0 .2rem .5rem rgba(0,0,0,.05),0 0 .05rem rgba(0,0,0,.1); transition: color .25s,background-color .25s,border-color .25s;\">\n",
    "    <p style=\"background-color: #DF01D7; position: relative; margin: 0 -.6rem !important; padding: .4rem .6rem .4rem 2rem; font-weight: 700; color: white\">🧠 Culture</p>\n",
    "<p style=\"padding: 0 1.4rem; margin-top: .4em; margin-bottom: 0; font-size: 1em;\">The Python language was created in 1971 by <strong>Guido van Rossum</strong> who worked at the Dutch Public Institute for Computer Research. The name of the language is a tribute to<em> Monthy python</em>, an English comedy group whose work includes a TV series and four feature films.\n",
    "<br><br>In 2001, the <em>python software foundation</em> was created, a non-profit association whose aim is to develop the language. It is distributed under a specific free license, the Python license.</p>\n",
    "</div>"
   ]
  },
  {
   "cell_type": "markdown",
   "metadata": {
    "slideshow": {
     "slide_type": "slide"
    }
   },
   "source": [
    "<div class=\"alert alert-block alert-info\" style='color:white; background-color:blue; border-color: blue; '>\n",
    "    <h2>Evaluating expressions</h2>\n",
    "</div>\n",
    "\n",
    "Evaluating expressions (and later variables) is an essential step in programming."
   ]
  },
  {
   "cell_type": "markdown",
   "metadata": {
    "slideshow": {
     "slide_type": "subslide"
    }
   },
   "source": [
    "<div style='color: forestgreen'>\n",
    "    <h3>Simple operators</h3>\n",
    "</div>\n",
    "\n",
    "A cell of Python code can be used as a calculator. If we consider the expression $5 + 9$, we can calculate the result by typing:"
   ]
  },
  {
   "cell_type": "code",
   "execution_count": null,
   "metadata": {
    "slideshow": {
     "slide_type": "fragment"
    }
   },
   "outputs": [],
   "source": [
    "5+9"
   ]
  },
  {
   "cell_type": "markdown",
   "metadata": {
    "slideshow": {
     "slide_type": "slide"
    }
   },
   "source": [
    "Scientific notation can be used to express values. For example, the number $8 \\times 10^{-2}$ can be entered as `0.08` or `8e-2`. This can easily be verified by calculating the expression :"
   ]
  },
  {
   "cell_type": "code",
   "execution_count": null,
   "metadata": {
    "slideshow": {
     "slide_type": "fragment"
    }
   },
   "outputs": [],
   "source": [
    "0.08 - 8e-2"
   ]
  },
  {
   "cell_type": "markdown",
   "metadata": {
    "slideshow": {
     "slide_type": "slide"
    }
   },
   "source": [
    "We can also use the powers of a number. For example, the calculation of $3^4$ would be :"
   ]
  },
  {
   "cell_type": "code",
   "execution_count": null,
   "metadata": {
    "slideshow": {
     "slide_type": "fragment"
    }
   },
   "outputs": [],
   "source": [
    "3**4"
   ]
  },
  {
   "cell_type": "markdown",
   "metadata": {
    "slideshow": {
     "slide_type": "slide"
    }
   },
   "source": [
    "The remainder of a division is obtained using the *modulo* `%` operator:"
   ]
  },
  {
   "cell_type": "code",
   "execution_count": null,
   "metadata": {
    "slideshow": {
     "slide_type": "fragment"
    }
   },
   "outputs": [],
   "source": [
    "11 % 3"
   ]
  },
  {
   "cell_type": "markdown",
   "metadata": {
    "slideshow": {
     "slide_type": "slide"
    }
   },
   "source": [
    "To obtain the quotient, we will use the *whole division*, symbolized by `//` :"
   ]
  },
  {
   "cell_type": "code",
   "execution_count": 1,
   "metadata": {
    "slideshow": {
     "slide_type": "fragment"
    }
   },
   "outputs": [
    {
     "data": {
      "text/plain": [
       "3"
      ]
     },
     "execution_count": 1,
     "metadata": {},
     "output_type": "execute_result"
    }
   ],
   "source": [
    "11 // 3"
   ]
  },
  {
   "cell_type": "markdown",
   "metadata": {
    "slideshow": {
     "slide_type": "slide"
    }
   },
   "source": [
    "In short, python can add, subtract, multiply and divide. To do this, it uses the same operators as a calculator: `+`,`-`,`*`,`/`.\n",
    "\n",
    "**Priorities are the same as in mathematics.**"
   ]
  },
  {
   "cell_type": "markdown",
   "metadata": {},
   "source": [
    "<div style='color: forestgreen'>\n",
    "    <h3>Operators priority</h3>\n",
    "</div>"
   ]
  },
  {
   "cell_type": "markdown",
   "metadata": {
    "slideshow": {
     "slide_type": "subslide"
    }
   },
   "source": [
    "Operator priority refers to the order in which operations are performed, e.g. multiplication before addition.\n",
    "\n",
    "Most programming languages (including Python) follow basic mathematical rules regarding operator priorities."
   ]
  },
  {
   "cell_type": "markdown",
   "metadata": {
    "slideshow": {
     "slide_type": "subslide"
    }
   },
   "source": [
    "Consider the expression $4 \\cdot (7 - 2) = 20$. Without being careful, we could write :"
   ]
  },
  {
   "cell_type": "code",
   "execution_count": null,
   "metadata": {
    "slideshow": {
     "slide_type": "fragment"
    }
   },
   "outputs": [],
   "source": [
    "4*7 - 2"
   ]
  },
  {
   "cell_type": "markdown",
   "metadata": {
    "slideshow": {
     "slide_type": "slide"
    }
   },
   "source": [
    "In the calculation above, `4*7` is evaluated first, then `2` is subtracted because multiplication (`*`) comes before subtraction (`-`) in terms of priority. **We can control the order of operations by using parentheses** :"
   ]
  },
  {
   "cell_type": "code",
   "execution_count": null,
   "metadata": {
    "slideshow": {
     "slide_type": "fragment"
    }
   },
   "outputs": [],
   "source": [
    "4*(7 - 2)"
   ]
  },
  {
   "cell_type": "markdown",
   "metadata": {
    "slideshow": {
     "slide_type": "slide"
    }
   },
   "source": [
    "Another classic example is described below:\n",
    "\n",
    "$$\n",
    "\\frac{10}{2 \\times 50} = 0.1\n",
    "$$\n",
    "\n",
    "The following code..."
   ]
  },
  {
   "cell_type": "code",
   "execution_count": null,
   "metadata": {
    "slideshow": {
     "slide_type": "fragment"
    }
   },
   "outputs": [],
   "source": [
    "10/2*50 "
   ]
  },
  {
   "cell_type": "markdown",
   "metadata": {
    "slideshow": {
     "slide_type": "fragment"
    }
   },
   "source": [
    "Don't translate the expression correctly!"
   ]
  },
  {
   "cell_type": "markdown",
   "metadata": {
    "slideshow": {
     "slide_type": "slide"
    }
   },
   "source": [
    "Instead we write :"
   ]
  },
  {
   "cell_type": "code",
   "execution_count": null,
   "metadata": {
    "slideshow": {
     "slide_type": "fragment"
    }
   },
   "outputs": [],
   "source": [
    "10/(2*50)"
   ]
  },
  {
   "cell_type": "markdown",
   "metadata": {},
   "source": [
    "<div class=\"alert alert-block alert-info\" style='color:white; background-color:blue; border-color: blue; '>\n",
    "    <h2>Comments</h2>\n",
    "</div>"
   ]
  },
  {
   "cell_type": "markdown",
   "metadata": {},
   "source": [
    "In a script, anything following the `#` character is ignored by Python until the end of the line and is considered a comment."
   ]
  },
  {
   "cell_type": "markdown",
   "metadata": {},
   "source": [
    "Comments should explain your code in human language. Using comments is part of good Python programming practice. Here's an example:"
   ]
  },
  {
   "cell_type": "code",
   "execution_count": null,
   "metadata": {},
   "outputs": [],
   "source": [
    "# Your first comment in  Python.\n",
    "print(\"Hello world!\")\n",
    "\n",
    "# More useful commands may follow."
   ]
  },
  {
   "cell_type": "markdown",
   "metadata": {
    "slideshow": {
     "slide_type": "slide"
    }
   },
   "source": [
    "<div class=\"alert alert-block alert-info\" style='color:white; background-color:blue; border-color: blue; '>\n",
    "    <h2>Variables and assignment</h2>\n",
    "</div>"
   ]
  },
  {
   "cell_type": "markdown",
   "metadata": {},
   "source": [
    "<div style='color: forestgreen'>\n",
    "    <h3>Variables</h3>\n",
    "</div>"
   ]
  },
  {
   "cell_type": "markdown",
   "metadata": {
    "slideshow": {
     "slide_type": "subslide"
    }
   },
   "source": [
    "In programming, we can easily **access memory locations that store values** by giving them a name, called a **variable**."
   ]
  },
  {
   "cell_type": "code",
   "execution_count": null,
   "metadata": {
    "slideshow": {
     "slide_type": "slide"
    }
   },
   "outputs": [],
   "source": [
    "x = 2\n",
    "print(x)"
   ]
  },
  {
   "cell_type": "markdown",
   "metadata": {},
   "source": [
    "<div style='color: forestgreen'>\n",
    "    <h3>The assignment</h3>\n",
    "</div>"
   ]
  },
  {
   "cell_type": "markdown",
   "metadata": {
    "slideshow": {
     "slide_type": "subslide"
    }
   },
   "source": [
    "**Assignment** consists in giving a value to a variable. The assignment operator (=) is used in a certain sense. For example, the instruction `x = 2` means that the value to the right of the = operator (here, 2) is assigned to the variable to the left (here, x). "
   ]
  },
  {
   "cell_type": "markdown",
   "metadata": {
    "slideshow": {
     "slide_type": "subslide"
    }
   },
   "source": [
    "<div style=\"border-color: #007bff; margin: 1.5625em auto; padding: 0 .6rem .8rem !important; overflow: hidden; page-break-inside: avoid;border-left: .2rem solid #007bff; border-radius: .1rem; box-shadow: 0 .2rem .5rem rgba(0,0,0,.05),0 0 .05rem rgba(0,0,0,.1); transition: color .25s,background-color .25s,border-color .25s;\">\n",
    "    <p style=\"background-color: #e7f2fa; position: relative; margin: 0 -.6rem !important; padding: .4rem .6rem .4rem 2rem; font-weight: 700;\">📝 Note</p>\n",
    "    <p style=\"padding: 0 1.4rem; margin-top: .4em; margin-bottom: 0; font-size: 1em;\">In Python <strong>the assignment</strong> is used with the symbol <strong>(=)</strong></p>\n",
    "    <p>Not to be confused with equality! (which is written ==)</p>\n",
    "</div>"
   ]
  },
  {
   "cell_type": "markdown",
   "metadata": {},
   "source": [
    "<div style='color: forestgreen'>\n",
    "    <h3>Variables naming</h3>\n",
    "</div>"
   ]
  },
  {
   "cell_type": "markdown",
   "metadata": {
    "slideshow": {
     "slide_type": "slide"
    }
   },
   "source": [
    "The choice of variable names is free in Python. However, the following **usual rules must be observed**. "
   ]
  },
  {
   "cell_type": "markdown",
   "metadata": {
    "slideshow": {
     "slide_type": "subslide"
    }
   },
   "source": [
    "- The name must begin with a letter or an underscore ;"
   ]
  },
  {
   "cell_type": "markdown",
   "metadata": {
    "slideshow": {
     "slide_type": "fragment"
    }
   },
   "source": [
    "- Variable names must contain only standard alphanumeric characters (no spaces in variable names, and no **special characters** such as accented characters or other signs);"
   ]
  },
  {
   "cell_type": "markdown",
   "metadata": {
    "slideshow": {
     "slide_type": "subslide"
    }
   },
   "source": [
    "- We can't use some words that already have a special meaning for the language: these are called **reserved words** (_range_ , _print_ , _input_ ...). Reserved words are also called **key words**."
   ]
  },
  {
   "cell_type": "markdown",
   "metadata": {
    "slideshow": {
     "slide_type": "subslide"
    }
   },
   "source": [
    "The sequence of characters (not enclosed in quotation marks) that satisfy these principles are called **identifiers**."
   ]
  },
  {
   "cell_type": "markdown",
   "metadata": {
    "slideshow": {
     "slide_type": "slide"
    }
   },
   "source": [
    "Here are some examples:"
   ]
  },
  {
   "cell_type": "code",
   "execution_count": 1,
   "metadata": {
    "slideshow": {
     "slide_type": "subslide"
    }
   },
   "outputs": [],
   "source": [
    "a = 2    # We put 2 in variable a\n",
    "m = 5    # We put 5 in variable m\n",
    "a = m + a\n",
    "a = a + 1\n",
    "m = a * m\n",
    "m = 2 * m "
   ]
  },
  {
   "cell_type": "markdown",
   "metadata": {
    "slideshow": {
     "slide_type": "slide"
    }
   },
   "source": [
    "Here is a table showing the variables `a` and `m`. Fill in the missing values.\n",
    "\n",
    "Line  | a     | m\n",
    "------ | ------|----------\n",
    "1      | 2     | .\n",
    "2      | 2     | 5\n",
    "3      | 7     | 5\n",
    "4      | 8     | 5\n",
    "5      | 8     | ?\n",
    "6      | ?     | ?"
   ]
  },
  {
   "cell_type": "markdown",
   "metadata": {
    "slideshow": {
     "slide_type": "subslide"
    }
   },
   "source": [
    "<div style=\"border-color: #007bff; margin: 1.5625em auto; padding: 0 .6rem .8rem !important; overflow: hidden; page-break-inside: avoid;border-left: .2rem solid #007bff; border-radius: .1rem; box-shadow: 0 .2rem .5rem rgba(0,0,0,.05),0 0 .05rem rgba(0,0,0,.1); transition: color .25s,background-color .25s,border-color .25s;\">\n",
    "    <p style=\"background-color: #e7f2fa; position: relative; margin: 0 -.6rem !important; padding: .4rem .6rem .4rem 2rem; font-weight: 700;\">📝 Note</p>\n",
    "    <p style=\"padding: 0 1.4rem; margin-top: .4em; margin-bottom: 0; font-size: 1em;\">Note that when you perform an assignment, the machine calculates the right-hand member and <strong>assigns it </strong> to the left-hand variable.</strong></p>\n",
    "</div>"
   ]
  },
  {
   "cell_type": "markdown",
   "metadata": {},
   "source": [
    "<div style='color: forestgreen'>\n",
    "    <h3>Variables types</h3>\n",
    "</div>"
   ]
  },
  {
   "cell_type": "markdown",
   "metadata": {
    "slideshow": {
     "slide_type": "subslide"
    }
   },
   "source": [
    "Depending on their nature, data are divided into different sets called **types**."
   ]
  },
  {
   "cell_type": "markdown",
   "metadata": {
    "slideshow": {
     "slide_type": "subslide"
    }
   },
   "source": [
    "The most important types are **integers** _(type int)_ , **decimal numbers** _(type float)_ , **strings** _(type str)_ and the type that groups **truth values** _(type bool)_."
   ]
  },
  {
   "cell_type": "markdown",
   "metadata": {
    "slideshow": {
     "slide_type": "subslide"
    }
   },
   "source": [
    "We can manipulate the type of a variable using the following instructions:"
   ]
  },
  {
   "cell_type": "code",
   "execution_count": null,
   "metadata": {
    "slideshow": {
     "slide_type": "subslide"
    }
   },
   "outputs": [],
   "source": [
    "# Integer\n",
    "n = 5"
   ]
  },
  {
   "cell_type": "code",
   "execution_count": null,
   "metadata": {
    "slideshow": {
     "slide_type": "subslide"
    }
   },
   "outputs": [],
   "source": [
    "# Decimal\n",
    "x = 1.0  "
   ]
  },
  {
   "cell_type": "code",
   "execution_count": 2,
   "metadata": {
    "slideshow": {
     "slide_type": "fragment"
    }
   },
   "outputs": [],
   "source": [
    "# Boolean\n",
    "c = True  # Be careful with capitalization!"
   ]
  },
  {
   "cell_type": "markdown",
   "metadata": {
    "slideshow": {
     "slide_type": "slide"
    }
   },
   "source": [
    "<div style=\"border-color: #007bff; margin: 1.5625em auto; padding: 0 .6rem .8rem !important; overflow: hidden; page-break-inside: avoid;border-left: .2rem solid #007bff; border-radius: .1rem; box-shadow: 0 .2rem .5rem rgba(0,0,0,.05),0 0 .05rem rgba(0,0,0,.1); transition: color .25s,background-color .25s,border-color .25s;\">\n",
    "    <p style=\"background-color: #e7f2fa; position: relative; margin: 0 -.6rem !important; padding: .4rem .6rem .4rem 2rem; font-weight: 700;\">📝 Note</p>\n",
    "    <p style=\"padding: 0 1.4rem; margin-top: .4em; margin-bottom: 0; font-size: 1em;\"><strong>Les nombres à virgules s'écrivent avec des points (.) en python</strong></p>\n",
    "</div>"
   ]
  },
  {
   "cell_type": "code",
   "execution_count": null,
   "metadata": {
    "slideshow": {
     "slide_type": "fragment"
    }
   },
   "outputs": [],
   "source": [
    "# String\n",
    "s = \"1.0\"  # s = '1.0', also works"
   ]
  },
  {
   "cell_type": "markdown",
   "metadata": {
    "slideshow": {
     "slide_type": "slide"
    }
   },
   "source": [
    "<div style=\"border-color: #007bff; margin: 1.5625em auto; padding: 0 .6rem .8rem !important; overflow: hidden; page-break-inside: avoid;border-left: .2rem solid #007bff; border-radius: .1rem; box-shadow: 0 .2rem .5rem rgba(0,0,0,.05),0 0 .05rem rgba(0,0,0,.1); transition: color .25s,background-color .25s,border-color .25s;\">\n",
    "    <p style=\"background-color: #e7f2fa; position: relative; margin: 0 -.6rem !important; padding: .4rem .6rem .4rem 2rem; font-weight: 700;\">📝 Note</p>\n",
    "    <p style=\"padding: 0 1.4rem; margin-top: .4em; margin-bottom: 0; font-size: 1em;\">In python, <strong>the  strings</strong> are character strings surrounded by single quotation marks <span style=\"background-color: #F2F2F2; padding: 0.25em\">'</span> or double quotation marks <span style=\"background-color: #F2F2F2; padding: 0.25em\">\"</span>.</p>\n",
    "    <blockquote>For example, \"abracadabra\" or \"abracadabra\" are the same thing.</blockquote>\n",
    "</div>"
   ]
  },
  {
   "cell_type": "markdown",
   "metadata": {
    "slideshow": {
     "slide_type": "subslide"
    }
   },
   "source": [
    "Data of one type can sometimes be transformed into data of another type. This is called **transtyping** (or cast)."
   ]
  },
  {
   "cell_type": "code",
   "execution_count": 3,
   "metadata": {
    "slideshow": {
     "slide_type": "subslide"
    }
   },
   "outputs": [
    {
     "name": "stdout",
     "output_type": "stream",
     "text": [
      "1.0\n"
     ]
    }
   ],
   "source": [
    "a = 1\n",
    " \n",
    "a = float(a)  # this operation converts the integer variable 'a' into a real variable\n",
    "\n",
    "print(a)"
   ]
  },
  {
   "cell_type": "code",
   "execution_count": 2,
   "metadata": {
    "slideshow": {
     "slide_type": "subslide"
    }
   },
   "outputs": [
    {
     "name": "stdout",
     "output_type": "stream",
     "text": [
      "12\n"
     ]
    }
   ],
   "source": [
    "var = \"12\"\n",
    "\n",
    "var = int(var)  # This operation converts the string 'var' into an integer variable\n",
    "\n",
    "print(var)"
   ]
  },
  {
   "cell_type": "markdown",
   "metadata": {
    "slideshow": {
     "slide_type": "subslide"
    }
   },
   "source": [
    "<div style=\"border-color: #007bff; margin: 1.5625em auto; padding: 0 .6rem .8rem !important; overflow: hidden; page-break-inside: avoid;border-left: .2rem solid #007bff; border-radius: .1rem; box-shadow: 0 .2rem .5rem rgba(0,0,0,.05),0 0 .05rem rgba(0,0,0,.1); transition: color .25s,background-color .25s,border-color .25s;\">\n",
    "    <p style=\"background-color: #e7f2fa; position: relative; margin: 0 -.6rem !important; padding: .4rem .6rem .4rem 2rem; font-weight: 700;\">📝 Note</p>\n",
    "    <p style=\"padding: 0 1.4rem; margin-top: .4em; margin-bottom: 0; font-size: 1em;\">The symbol <strong>(+)</strong> in Python is also used to paste (we say <strong>concatenate</strong> character strings)</p>\n",
    "</div>"
   ]
  },
  {
   "cell_type": "code",
   "execution_count": null,
   "metadata": {
    "slideshow": {
     "slide_type": "subslide"
    }
   },
   "outputs": [],
   "source": [
    "\"ab\"+\"cd\"    # Becomes \"abcd\""
   ]
  },
  {
   "cell_type": "markdown",
   "metadata": {
    "slideshow": {
     "slide_type": "slide"
    }
   },
   "source": [
    "<div style=\"border-color: #dc3545; margin: 1.5625em auto; padding: 0 .6rem .8rem !important; overflow: hidden; page-break-inside: avoid; border-left: .2rem solid #dc3545; border-radius: .1rem; box-shadow: 0 .2rem .5rem rgba(0,0,0,.05),0 0 .05rem rgba(0,0,0,.1); transition: color .25s,background-color .25s,border-color .25s;\">\n",
    "    <p style=\"background-color: #fdf3f2; position: relative; margin: 0 -.6rem !important; padding: .4rem .6rem .4rem 2rem; font-weight: 700;\">⚠️ Warning</p>\n",
    "    <p style=\"padding: 0 1.4rem; margin-top: .4em; margin-bottom: 0; font-size: 1em;\">We have seen that the <strong>(+) operator</strong> can be used both to <strong>add integers</strong> and <strong>paste two strings together.</strong> But what happens when you try to use it between an integer and a string?</p>\n",
    "<p style=\"padding: 0 1.4rem; margin-top: .4em; margin-bottom: 0; font-size: 1em;\"><strong>Answer: </strong> An error! 😮 (see below)</p>\n",
    "</div>"
   ]
  },
  {
   "cell_type": "code",
   "execution_count": null,
   "metadata": {
    "slideshow": {
     "slide_type": "slide"
    }
   },
   "outputs": [],
   "source": [
    "\"hello\"+5"
   ]
  },
  {
   "cell_type": "markdown",
   "metadata": {
    "slideshow": {
     "slide_type": "slide"
    }
   },
   "source": [
    "<div style=\"border-color: rgba(40, 167, 70, 0.294); margin: 1.5625em auto; padding: 0 .6rem .8rem !important; overflow: hidden; page-break-inside: avoid; border-left: .2rem solid rgba(40, 167, 70, 0.294); border-radius: .1rem; box-shadow: 0 .2rem .5rem rgba(0,0,0,.05),0 0 .05rem rgba(0,0,0,.1); transition: color .25s,background-color .25s,border-color .25s;\">\n",
    "    <p style=\"background-color: rgba(40,167,70,0.1); position: relative; margin: 0 -.6rem !important; padding: .4rem .6rem .4rem 2rem; font-weight: 700;\">💡 Tip</p>\n",
    "    <p style=\"padding: 0 1.4rem; margin-top: .4em; margin-bottom: 0; font-size: 1em;\">One of the techniques can be to convert the relevant integer into a string using the predefined function <span style=\"background-color: #F2F2F2; padding: 0.25em\">str</span></p>\n",
    "<blockquote>In python the function <span style=\"background-color: #F2F2F2; padding: 0.25em\">str</span> transforms the number given as an argument into a string representing that number. Thus,  <strong>str(5)</strong> will return <strong>\"5\"</strong></blockquote>\n",
    "</div>"
   ]
  },
  {
   "cell_type": "code",
   "execution_count": null,
   "metadata": {
    "slideshow": {
     "slide_type": "subslide"
    }
   },
   "outputs": [],
   "source": [
    "# So it's no longer a problem to stick 5 and hello.\n",
    "\"hello\"+str(5)"
   ]
  },
  {
   "cell_type": "code",
   "execution_count": null,
   "metadata": {},
   "outputs": [],
   "source": [
    "# Or\n",
    "\"hello\"+\"5\""
   ]
  },
  {
   "cell_type": "markdown",
   "metadata": {
    "slideshow": {
     "slide_type": "slide"
    }
   },
   "source": [
    "<div class=\"alert alert-block alert-info\" style='color:white; background-color:blue; border-color: blue; '>\n",
    "    <h2>TD exercises </h2>\n",
    "</div>\n",
    "\n",
    "You can now practice from your notebook [TD 01 - Operators and variables](http://localhost:8889/notebooks/TD%2001_Operators%20%26%20variables.ipynb)."
   ]
  }
 ],
 "metadata": {
  "celltoolbar": "Format de la Cellule Texte Brut",
  "kernelspec": {
   "display_name": "Python 3",
   "language": "python",
   "name": "python3"
  },
  "language_info": {
   "codemirror_mode": {
    "name": "ipython",
    "version": 3
   },
   "file_extension": ".py",
   "mimetype": "text/x-python",
   "name": "python",
   "nbconvert_exporter": "python",
   "pygments_lexer": "ipython3",
   "version": "3.8.8"
  }
 },
 "nbformat": 4,
 "nbformat_minor": 2
}
