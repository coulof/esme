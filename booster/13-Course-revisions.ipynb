{
 "cells": [
  {
   "cell_type": "markdown",
   "metadata": {
    "id": "0fSI910BLY5-"
   },
   "source": [
    "<img style=\"margin-top: 0px\" src=\" data:image/png;base64,iVBORw0KGgoAAAANSUhEUgAAAE8AAABYCAYAAAC056qlAAAT8ElEQVR4nO1deZAc1Xn/dU/Pfe/M3itpJe2iA11ISKCAkRQjTgcIoBCTKjtgILbhDxK7oMIRYoixK45dwRjbsl0YZCAEEUsJEggbc+kKIFkK6AKde+/Ozu7OsXPPdKe+1z17dvfsjmZnRVm/qq7dnfm63/e+973veu/1cnNu+BkU3ATg7wAsBiDgPMYiB+AzAM8C+A1GCOm7AB46L66CqAOwFsAVAO4m4V15XnCTxl0A3ucBPPo5Y/xcwcMkvAv/1KVQJGaS8LKfS9anH1lB8SKq4DhAlIB4IoOcKNInZeBYgoHn4bAZ5b8k4oNDNicinsxAog+mlA8JPM/BbjGC53mlPVWImiGJgeeQTOfQ3hNBQ7UTFpMJmo8pIThFYKLCtFEwoHcgjmg8hRnVLsbXVPJB7aczOZzpiqDGZ4fTZmIDpwZN4aWyIvrDCXz33jW47aoFbCTKJbwT7QPY8OBWcOAQjaVgtwjY+PA1WL24DoKBn3LhJdNZbNt1Eo888x7TQrPRoEqrKbz2rjC+8qXF+Mc7Vk8hq+rgeUAURUgSh95gDM/9y1/g1i/OKysP925YjpauMH7w7F7MmVWhzqfWzWIyg5WLaqeSP030R5LMztHUtdpNWHpB9bTwserCWmZDtOyepvBo+JPJc8MRk8OaDiSo/wYdEenxJGp7mrJiuvgo1K6u8KYLFS4LmyrnyNhp4qyqJ23dERg1PFGxyHtbirF4ST1EGInO3kHsPtgOu9XI4tKJIidKLCRZf+lsFo4Ug6KF97f/vB0vv3kEM2pcJRceaZzVLLD4ajCe1qSl+G/tPS/i+OEuCF7bpIRHbWR7Ilh/3SL87qd/rUpTVWEDMpo5RHHCE0UJez/uQCqdRSiaKuYROhjOMAoJoz0QZeFE7Rw/TEXMgEyFDX/8tAePbdzFYslR4IBDJ3pR4Xcwz6+GojXP77GiM2iGy16cyhcCaUYhm8eygVQWg4k0zNnJd4WyFcLjP3yLNEJ+IjVKn1uMcHhtaKhysumthqKF19odwWDbgO60mgzI7tRVOpDJFrZzecyqc2PdJY04cKwHHqe56La9Fw7HsyRO4qGtJwKH1chmmRaKEh5p8U1rL8Cp5qqzYjoPnuPQ0x/H4ZO9MJuECdsur9OCt39+O5u6dF8pQG2Tpr2x+xQe/PE7MBj4yadneiAb8PQD60vCbB6//+AMrvrGy2isd2vaGC3MqnWXlBfCPTcvw+nOEL7/qz2TT8/KjVgiDY4fLzSSI6/yeTmwYkENc2CTT8/KDIq71BSObA5VdKYDLD3ji0zPphusppjIYOeBtmnhpFB6dk6vz5Ijqaly4vFf7oYg8LhkkVzPG4uRGitXnjGm2iyx2uDIj0ijqex1NhWbc0Z4VLUVs6PjKRp3t8OMgWgS33hyBzxOC/N+I0HOhRtzzzjZKRj5EWlVsC+G269fjOe/c73qoBRCUcKj0X1j90n0R5OwlCBEoE7tO9oNl8s6ytPmU7XIYJotpoSCMUU8CowCGmpd7JNRRn0iBQUOsNnN2LHnJMKDKfjc1knzXaTwJHz9ezvQdqQbnN9RzCNGgYRE6Vitf3SQTE4kHEvgga9egrkN3lECIn3r6hvE0y/vZ964mAKF1ZxDpceGSSXFI1C02tRXOtFXn0SV11bsI0aB+B+bXTDhRVO484almFU7vgBBRdJ/2/QBDAIPo1Cc7+O44tfiiva21FGyPxSbleKiXkgYnc9Sx8hRUKqkhhNtA0zAgk44odt5nmPZRE4nBdND0RlGKptD9Fg3olMQ3fNGA+bUe5i31YPNasRAKI6BeAZwFJEm9g2Ca66CxVRcTbLo3PYXD12D965eCK/LUlTD2s/mEBiI4Re/PYhsTl8jmmZ4sfHR67B91wl4mbOZeDuiYhLuuHFJ+Yuhq5fUs2sqkM7m8PR/7i8oPCg5KF3TgXMySD7dEWJTdppS2gnjnE7PznVoC0+SSlYjOxuQJy5FIF4MCrWrq3mlqhJPFvkSFP2Ix9KTqi6XEjFabE/nNHdlaQrPV+XCL7ccxNHTfWVnusprV5YSeFjMAp741S65PFRG0OLSUy/tg9tn1/Ti3Nwbf9qhbFQeBQpOOwODqHBbcOWqRtiUmtpUr0MTn5FYGu/ub2EpmMlkQEtnCMvmVWP5/Joy7ZLK4f0DrWxdmpZWs+qaH+aa/vInqsIjEKNU0Qj0x/U2+ZUctIw4XFqXWOzX0xdjCXxZwNHqoA1+t1Vzbx4JTwCv/iXTVB7gDRI4IQdpgikMdZQa9Vc4EB1MsuQ9p83AOFDAWutzUhjLykb0PMq+eEGU+SjTGAYjUWTFDOoqaelRVJ1zAserc0OJdmcwApfdjK/dsAx2q6nwnOXAFsLfP9iCI5+2o7bOi69ctxhuh2VC91LUf+R0L3b9Xwtm1riZQaZq8pmufixpqsHKhfVy3a1MuyzPdIbwweF2ODQyEAEawgtG4/B5rNjyvS9j8dzJVVu7+qK46e834YE71+KWtZPfbH/39/8bm3YcRGONF62BENZe3IjNT9wmD2AZ8druY9j63mE0zfKprujxbHhVrkAwjLtuXDFpwRFo2u187ptFCY7w5NevhMtpRjSVQiKbxj/dubbsgiOEYinAxKnKh5k0cCJUL4MIp634VSvTWeRWFOf5vVaksmk47MaiSuSlADlJjteQDydq2zwYgFRmenaG0obqnJiDQZCQEcVp44PjZOGRjNRiPUHiNDwhJ0Lipmt3oQSJjbgkj3JZPIQqF5B4CUxGKtLT0TyRSX66wNqmEdfirwyornBAymVA4RzHjTcdAqcR57H4T8ds7fzkFP59y044LGZEkyksb6rHAxvWae6T+5+9h/Hsmx/CY7chEk9i5bwZ+PaGNTAa1Ok5gwhemTJ6fGzdcwinOvvgtJW6KAvsP94Ov8/O4kxOZYZqah4beR3N+4eNW7Hvf4/AVF2BdCaLLdt3Y0VzA65dOX8cbSyZxn3P/BfaTnbAVOFGOpPBlh17cemCmVi3tEml8by9oSsHrTM/J7v6cOsTzyEXjYO3T37pUBcc4LFb0VDpZsVZNQi8hs2jUdfKIskLmY08qudWw+eSk/jTPRxiyaQqfSKdgdNqxIy51XBaLSxzaA0MIJbQTrdY+5ysfVqaF0umUOmxwF7tgslY+rIVNZvNZTSLsppBMtk8Pc0zmw0QSfBkUGkFS4DmPjbKEsxmHuFEnl6EYOT0t8Ly0vClMYhGAw9B4JCTcnTcTvtZkwBbipzgYoi28Hj9aTuucyWlV77L02v0JZ3Lob0vyHbOW82lCaJ9Tju8TjsyGlN1JATohCq6q8Hs+5zyU4JWgWE0/ZhLLwSh5/HK8zXQWFWBVx++h2nK2D0sxeK3ew5g+0efoNpTeJe/oBWOyF5Yu3PkfeRLGrr0hD3kAIboc5r0XJ6ey4dL6ny47VbcctlFBbo4OZzo7MGmt/egxusseJ+g5oLlzub047whIYjDwtDopGxHxNGXji2Td4ONeG4Z481oIs6coZZcRkKznocCoYpst0RlukrD01cLeVpGLxaMI0fTlxGcHB5NpF3NacsXcAAcP2Ya0u86DY2c3nTx9FPPLPCy5vEaeeVUYSifnYC2a2YYnEF/2soJs3JRqVw3tJHG0Ivy6GoKRRqRlJc3t2V7hrh8u/rQdhjcRDRpjMPQ0yRMkn4EbTlhEgRIhey9Ah2HUWDajnIAYNmA3vTilIxh6B5eh57DKJOgNYqtwT489MJ/sLNqJuHsT19SyHMm0IvGSt/EHAavESTzvL70ecUeyfcraZQuY8P0EvL3aWh9Pj3jczIfGnThWAyb9+6GYDDAajr74wbUit/phNcx0SBZq9MF0rOhWlu+0soXoh9BNyFvK8k8iNp0tJW2scbHhGcxlu6sRkbMTGgXj2YxVCqQAUhKGEF0EkT57wIZg5SnZ5d2XCjr5jCtFl0mm0V/PAyHxYKsWPqDLvROF4vRpHkeQ8fm6WsSp2gRs18QFXodToZCgOFLk3QoVNGnq/N6saChHq3B3qEdDaUE242PnKZt1q7n6Rl0Jc7j87GeVDg2GqLl5fgu7xA0n8/KUZJuMdTndOH1Bx9DIBKGWSh9SWrbgY/w2ObfoL7Cr1ppEXiNDhh4/SCWOQzqoBJyaD2HQSlu8solcXmHoU3Pj6DX48NhsbJrKtBQ4UMqk5J5UFsA0txuUcABMI3Ip09SfgpPPD3jCnhzGOTns2B6mhBLxVndUXZuqpqnVxjQCz+USi8njghVtDMMmTbHfkpD9+nR55SpK+odPJxysHCJ2V4V4Z1dPU+5kBfGBOmHLj16SXFCIuzm0i7uTBj5cExj6ZEfVypSrhwysJrUq7Ny8ZH0IzuCPg2XVd32eGwOpkGy55LpRWThtKifHvLaXbLWGUQMpgZxuP1UGSQ1HjRoopRRlQ8n7xhQ1xibSUDfYAi9kdCoOIdTdjPlxDRMRk5OuyQJFqOAjoGAKn04EWPaSWs0nLKwZDYZ0DHQg8ZIzTj6QHiA0ZkEHjUeD/719U1sIJc3zofRIJTl9UjsvQeRIKwmgxJJqJxCv+yJOzQ3N7LjcXSsSZVZafh45tBRzfH0HPOV0qTpJcUekrD6B8OIJhOo9fhg4A1l2Wg5zNdovkcgLGh5VJJ8MpNCKpsZfyMdtzRZWUKe7wjRJ9JJZHLZcedf6Tub2SKPnoQR9AlkcjlVertZNgG0wdBtt8NusSCeScibb0ohnQKQlAqLxWjWfMGLpsMQle2t2suDErNh+Z5IytZ7i+a5GKUQMIreCAu0MgNx1J1kYx2Gs38NyWQxso9jIajFUQbOgHg6gUQmBVESIfAGNn1oyxftXnJaHEwrzYKJ/QwnovDYXIzWJJjkF7uQBnJ0qjANj93F7BvBabHDJBiRSKfgsjqQzeWQyMgam8ll4LI4UOutRncogFA8wkae2qYekDaSdjssdrQPdMPA8fA7vcq9WbZ7nnhKZ9PMLkaTg3BZnYwf4pHapmmff67DbGM8p7NZGAWBaTwpGbXXHe6F2WhGnaeKaZ6ouq1W5cNUNoEadwUq7G5YjRa0DXQhlUljduUM9v3HbUexpKEZrf2daKpqwM0rrsYrH22H0WDEYCqOdDaDGncl6yhN147+Hnz76juQFXPoDAVwsrcVjb56fHT6Y1S7vJhbOZNxUev243SwA+8e2YOL5yzFwromNoD9sRC6QgEEon1Y2LgAH7cdw0PX3Y1YOoE/HN0Lj9UFt83Bnh1NxtDoa2ID11w1Cx2hACKJKObVzkFvtB+BSB9WzV6Klr4OHOk8Dr+jgg3G6d5WmIwmGHkBoUQE31l3H04GWvHm4Z2wCGatjT7jNS8aj2B181L82ZyLwPMGrLlgFbYc+B2zN2vmXYLPuk/js55TuGn5F2E1WfDH1kO4/dIvYV7NHLy6fwcqbG62jkpaddNFV2HDz+7F5fOWMyZe2LsVVy1ajeaq2fA7XbCbbey+Rn8DBmJhhJJhnAqewuO33I8/X7Aav961GQ0VF+Cp2x/BxndfYuWnlbMXYemseTjecwaL6ufiwvpm2EwWXLNoDV7d/wZ7LbHf4cWC2iZsfO8lxufK2Uvw47eexy0r1sNptWPxjCZsWHkN3j62FxfNXIAL6+bhzcPvMc0nBajzVrLg/A/HOBa2kVDHgh+7MJNfOwBL9jm09LdjIB7GXV+4jTmIHYfexcL6Jnz1slsxu7KBTcFHn3sADd4a7G85hC80X4wr5q3CwbYjWL/wctS6K7Fs1gI8u2sz3j62B28d3Yk5/hl45p3ncf/6O7GkYT6e3fUKm27vH/8Qn3Qchd1uh8FgwIlAC14/9A4C0SBagu345rq/QZ2nGktnzMfP332RTbPrl65Df2wA3ZEg07w7LtvAwp1YOs4Gde+p/cxmHek8gbc/3Y1oahD1nlqmoQfaDsHncONw53FWArvnii/D76xgbTz11q8xv3YuLm9egYHEwHgZcRIMs69e+C2Og1NeW1XepSTStPPDbXUxBl/Ztw2pbIrZiRO9Ldh6YAeWNizAxvdfYHbjWzfcj55oEPe+9AjTtFPBFhYjUS1s8/5taK6ezfaT0Oi1h7qwhN37Iq5dtBZHu4/jtU9+j2sXr2PTkNo/2PoJVs1eBr/Dx+wgaeUr+17DyWAL07CtB9/E1y77K2Z7D3d+ioFEGF6bC5v3b2f2jLbhko0jQdBGHbfNyWxyMptiGtkXH2BmIJKk4wJZNlCb921j/TvQeggt/W24fdWNTFneOrYLoXiYxZkjZUTntbm1P7x1XJw3FIOBY/uDySkMpmLw2b3MeQRj8pFOMr70bpJlMxYyTaOOUoeIIY/NjY6BbuZ4mipnsWfSAICpu4H9Ts6HbAnHshAXqpx+1qHucACCQUClw8c+b+nvRDKTRCQxCK/NzTTxopmLGF8nAqdR5apkm4fSuQyzb+QkSJOrXD4W0HeEulHrrmLCod+Dg/3MTvocXmZHiZb4pOc5zQ70x0NY2bgErf1dTKsr7B7G6xiEubU/umWc8EhoJID8DfnANN9Z8kbkFPLRPjVMts9qNLNKRF4gZLQFXkAql5b/BseEQl6b4kS6jzwmeWiaTiRho2CE3WRj35HXJA9K7ZMW0O/kVamdcDLK/qZ2ybZS4ERRAtg7U0T2d0bhkXn9bIYNPKc8T5JE5sDkPoiyIlB1SOGBBspkEGAzW7UymjC37kc3d9MOUtVA5jz0EKUg+fy/rCkOAi160/+1Kf87zD//6CThPQkOr/2pS6II/IAHJ20DpGeGcs/z10SuVwBpY97e3QfgQ3rTBr2uRHnrxfQdgDj3QMEChR4tADYB+AkA/D9FqwetNp/QDAAAAABJRU5ErkJggg==\" align=\"left\" alt=\"logo esme\"  height=\"20\">\n",
    "<div class=\"alert alert-block alert-info\" style=\"margin-top: 9px; padding: 10px; background: linear-gradient(to right, #f7f9fa, #d9edfb);\">\n",
    "    <h1 style=\"margin-left: 85px\">IngeSUP - TD 13 - Review session</h1>\n",
    "</div>"
   ]
  },
  {
   "cell_type": "markdown",
   "metadata": {
    "id": "KRn7EKhYLY5_"
   },
   "source": [
    "<blockquote><em>“On fait le bilan, calmement se remémorant chaque instant. Parler des histoires d'avant, comme si on avait 50 ans”</em></blockquote>&nbsp;&nbsp;<i style=\"font-size: 10px\">Neg'Marrons</i>"
   ]
  },
  {
   "cell_type": "markdown",
   "metadata": {
    "id": "iMoFcnbOLY6A"
   },
   "source": [
    "***\n",
    "## Activity 13.0 - Memories...\n",
    "***"
   ]
  },
  {
   "cell_type": "markdown",
   "metadata": {
    "id": "x-XO8Yp0LY6A"
   },
   "source": [
    "<div style='color: cadetblue'>\n",
    "<h4>💡 Reminder: Browse list values with the\n",
    " <code>for..range</code> loop.</h4>\n",
    "</div>"
   ]
  },
  {
   "cell_type": "markdown",
   "metadata": {
    "id": "WToomNLXLY6A"
   },
   "source": [
    "We have seen that in lists each value\n",
    "\n",
    "1.   List element\n",
    "2.   List element\n",
    "\n",
    "is stocked in a row box, also called an index, with a value starting at 0 (for the very first element in the list)."
   ]
  },
  {
   "cell_type": "markdown",
   "metadata": {
    "id": "GXlw576mLY6A"
   },
   "source": [
    "For a given index i belonging to the set of indices in the list named $list$ :\n",
    "- **_i_** designates the index (the **rank**).\n",
    "- **list[i]_** designates the **value** stored at this index."
   ]
  },
  {
   "cell_type": "markdown",
   "metadata": {
    "id": "dvNWclO3OP0s"
   },
   "source": []
  },
  {
   "cell_type": "markdown",
   "metadata": {
    "id": "UGNtunhhLY6A"
   },
   "source": [
    "<div style=\"border-color: rgba(40, 167, 70, 0.294); margin: 1.5625em auto; padding: 0 .6rem .8rem !important; overflow: hidden; page-break-inside: avoid; border-left: .2rem solid rgba(40, 167, 70, 0.294); border-radius: .1rem; box-shadow: 0 .2rem .5rem rgba(0,0,0,.05),0 0 .05rem rgba(0,0,0,.1); transition: color .25s,background-color .25s,border-color .25s;\">\n",
    "    <p style=\"background-color: rgba(40,167,70,0.1); position: relative; margin: 0 -.6rem !important; padding: .4rem .6rem .4rem 2rem; font-weight: 700;\">💡 Tip</p>\n",
    "    <p style=\"padding: 0 1.4rem; margin-top: .4em; margin-bottom: 0; font-size: 1em;\">If you need both information at the same time (rank and value), you can also use the <code>for...range</code> loop to browse the list.</p>\n",
    "</div>"
   ]
  },
  {
   "cell_type": "markdown",
   "metadata": {
    "id": "73XR7g0gOPn8"
   },
   "source": []
  },
  {
   "cell_type": "markdown",
   "metadata": {
    "id": "7lXOY__YLY6A"
   },
   "source": [
    "Here are two ways to do it:"
   ]
  },
  {
   "cell_type": "markdown",
   "metadata": {
    "id": "FRBSYFGKOPXz"
   },
   "source": []
  },
  {
   "cell_type": "code",
   "execution_count": null,
   "metadata": {
    "id": "tKp7PI3yLY6A"
   },
   "outputs": [],
   "source": [
    "print(my_list)\n",
    "n = len(my_list)\n",
    "for i in range(n):\n",
    "    # the rank (index) : the value\n",
    "    print(i, \":\", my_list[i])"
   ]
  },
  {
   "cell_type": "code",
   "execution_count": null,
   "metadata": {
    "id": "O4__WX97LY6A"
   },
   "outputs": [],
   "source": [
    "print(my_list)\n",
    "n = len(my_list)\n",
    "for i in range(n-1, -1, -1):\n",
    "    # the rank (index) : the value\n",
    "    print(i, \":\", my_list[i])"
   ]
  },
  {
   "cell_type": "markdown",
   "metadata": {
    "id": "Wk0jG1JhLY6A"
   },
   "source": [
    "<div style='color: cadetblue'>\n",
    "<h4>💡 Reminder: Browsing the values of the with the <code>for..in</code> loop.</h4>\n",
    "</div>"
   ]
  },
  {
   "cell_type": "markdown",
   "metadata": {
    "id": "ZZ-eYsrXLY6B"
   },
   "source": [
    "When you want to browse a list (or a string), you may wonder whether it's always useful to access the index of the elements...\n",
    "\n",
    "If this isn't the case, you can use the for loop to **loop directly on the values** of the list and not on the indices:"
   ]
  },
  {
   "cell_type": "markdown",
   "metadata": {
    "id": "sWGZ2L0wLY6B"
   },
   "source": [
    "```\n",
    "for element in my_list:\n",
    "    print(element)\n",
    "```\n",
    "\n",
    "Ici _element_ est une variable dont le nom est choisi par la personne qui programme."
   ]
  },
  {
   "cell_type": "code",
   "execution_count": null,
   "metadata": {
    "id": "viv0vXQXLY6B"
   },
   "outputs": [],
   "source": [
    "my_list = [1, 10, 100, 250, 500]\n",
    "\n",
    "for v in my_list:\n",
    "    print(v)"
   ]
  },
  {
   "cell_type": "markdown",
   "metadata": {
    "id": "VddFAPoVLY6B"
   },
   "source": [
    "<div style='color: cadetblue'>\n",
    "    <h4>💡 Synthesis with <code>for..enumerate</code></h4>\n",
    "</div>"
   ]
  },
  {
   "cell_type": "markdown",
   "metadata": {
    "id": "8khmg0q6LY6B"
   },
   "source": [
    "If we want to iterate (loop) over the values in a list and also know the position of these values in the list, we can use the `enumerate` function:"
   ]
  },
  {
   "cell_type": "markdown",
   "metadata": {
    "id": "Jc6PVwzjLY6B"
   },
   "source": [
    "Here's how it works:"
   ]
  },
  {
   "cell_type": "markdown",
   "metadata": {
    "id": "4Wr-PCdALY6B"
   },
   "source": [
    "```\n",
    "for index, value in enumerate(my_list):\n",
    "    print(index, value)\n",
    "```\n",
    "\n",
    "Here, index and value are variables with names chosen by the programmer."
   ]
  },
  {
   "cell_type": "code",
   "execution_count": null,
   "metadata": {
    "id": "28YZfuXALY6B"
   },
   "outputs": [],
   "source": [
    "lab = [\"Etienne\", \"Emilie\", \"Jean\", \"Rachid\", \"Brian\"]\n",
    "\n",
    "for n, member in enumerate(lab):\n",
    "    print(n, member)"
   ]
  },
  {
   "cell_type": "markdown",
   "metadata": {
    "id": "6snhYm9cLY6B"
   },
   "source": [
    "<div style='color: cadetblue'>\n",
    "<h4>💯 Your turn</h4></div>"
   ]
  },
  {
   "cell_type": "markdown",
   "metadata": {
    "id": "7IquRj2DLY6B"
   },
   "source": [
    "l = [3, 7, 9, \"Hello\", [1,2]]\n",
    "for i \n",
    "\n",
    "1. Browse the elements of this list, displaying them one by one in the console, using two methods from the course"
   ]
  },
  {
   "cell_type": "code",
   "execution_count": 1,
   "metadata": {
    "id": "Ab-Ulbr2LY6B"
   },
   "outputs": [
    {
     "name": "stdout",
     "output_type": "stream",
     "text": [
      "3\n",
      "7\n",
      "9\n",
      "Hello\n",
      "[1, 2]\n",
      "3\n",
      "7\n",
      "9\n",
      "Hello\n",
      "[1, 2]\n"
     ]
    }
   ],
   "source": [
    "# your code here\n",
    "\n",
    "l = [3, 7, 9, \"Hello\", [1,2]]\n",
    "for i in l:\n",
    "    print (i)\n",
    "\n",
    "for i in range (len(l)):\n",
    "    print(l[i])"
   ]
  },
  {
   "cell_type": "markdown",
   "metadata": {
    "id": "Dzh5ewCjLY6B"
   },
   "source": [
    "2. The `eval()` method is a native Python function, which can be used to evaluate/convert the string `\"[1,2,3]\"` (obtained via an input, for example) into the list [1,2,3].\n",
    "\n",
    "Using the `eval()` function, create an algorithm that:\n",
    "\n",
    "  - requests as input the list l to be displayed\n",
    "  - displays, in a Terminal, each element of the list, using the two list traversal methods."
   ]
  },
  {
   "cell_type": "code",
   "execution_count": 2,
   "metadata": {
    "id": "bXZZkEMqLY6B"
   },
   "outputs": [
    {
     "name": "stdout",
     "output_type": "stream",
     "text": [
      "[1, 2, 4, 5]\n",
      "1\n",
      "2\n",
      "4\n",
      "5\n"
     ]
    }
   ],
   "source": [
    "n= eval(input(\"choose whatever you want to put in serie \"))\n",
    "print (n)\n",
    "\n",
    "for i in n:\n",
    "    print(i)\n"
   ]
  },
  {
   "cell_type": "markdown",
   "metadata": {
    "id": "7ouCcPwZLY6B"
   },
   "source": [
    "***\n",
    "## Exercise 13.1 - Counting the number of elements in a list\n",
    "***"
   ]
  },
  {
   "cell_type": "markdown",
   "metadata": {
    "id": "aVHGN7M3LY6B"
   },
   "source": [
    "1. Without using the native function `len()`, and necessarily using a **list run with the for loop**, create a function `length(l)` which:\n",
    "\n",
    " - receives a list **l** as input\n",
    " - returns the **number of elements** in list **l** as output"
   ]
  },
  {
   "cell_type": "code",
   "execution_count": 3,
   "metadata": {
    "id": "Co1wenp6LY6B"
   },
   "outputs": [
    {
     "name": "stdout",
     "output_type": "stream",
     "text": [
      "4\n"
     ]
    }
   ],
   "source": [
    "# your code here\n",
    "def length(l):\n",
    "    count = 0\n",
    "    for v in l:\n",
    "        count += 1\n",
    "    return count \n",
    "print(length([1, 2, 3, 4]))"
   ]
  },
  {
   "cell_type": "markdown",
   "metadata": {
    "id": "acHxEfKvLY6B"
   },
   "source": [
    "***\n",
    "## Exercise 13.2 - Building a list ony element at a time with `.append()`.\n",
    "***"
   ]
  },
  {
   "cell_type": "markdown",
   "metadata": {
    "id": "-53vclX4LY6B"
   },
   "source": [
    "The `l.append(el)` syntax is used to add an `el` element to the end of the `l` list (on the right).\n",
    "\n",
    "1. Create a function `greater_than(el, l)` which :\n",
    "\n",
    "   - receives a floating-point number *el* as input, and a list *l* as output\n",
    "   - returns a list of all elements in l with a value greater than (or equal to) el"
   ]
  },
  {
   "cell_type": "code",
   "execution_count": 5,
   "metadata": {
    "id": "5Lfu2cR6LY6B"
   },
   "outputs": [
    {
     "name": "stdout",
     "output_type": "stream",
     "text": [
      "[6.4]\n"
     ]
    }
   ],
   "source": [
    "# your code here\n",
    "\n",
    "el=[1.2, 3.5, 6.4]\n",
    "def greater_than(el, l):\n",
    "    list=[]\n",
    "    for i in l :\n",
    "        if i>=el :\n",
    "            list.append(i)\n",
    "    return list\n",
    "print(greater_than(5.2, el))"
   ]
  },
  {
   "cell_type": "markdown",
   "metadata": {
    "id": "DukCCy8oLY6B"
   },
   "source": [
    "2. Create a function `lower_than(el, l)` which :\n",
    "\n",
    "   - receives as input a floating-point number `el`, and a list `l`.\n",
    "   - returns a list of all elements of `l` with a value less than (or equal to) `el`"
   ]
  },
  {
   "cell_type": "code",
   "execution_count": 6,
   "metadata": {
    "id": "G3UmKL5XLY6B"
   },
   "outputs": [
    {
     "name": "stdout",
     "output_type": "stream",
     "text": [
      "[2, 3, 2]\n"
     ]
    }
   ],
   "source": [
    "# your code here\n",
    "l = [8,2,3,9,8,5,2]\n",
    "\n",
    "def lower_than(el, l):\n",
    "    return [i for i in l if i < el]\n",
    "\n",
    "print(lower_than(5,l))"
   ]
  },
  {
   "cell_type": "markdown",
   "metadata": {
    "id": "6heF6C9kLY6C"
   },
   "source": [
    "3. Create a function `included_between(a, b, l)` which :\n",
    "\n",
    "   - receives as input two floating-point numbers *a* and *b*, and a list *l*.\n",
    "   - returns as output the list of all elements of l with a value between *a* and *b*."
   ]
  },
  {
   "cell_type": "code",
   "execution_count": 8,
   "metadata": {
    "id": "deTjEhKbLY6C"
   },
   "outputs": [
    {
     "name": "stdout",
     "output_type": "stream",
     "text": [
      "[3, 4, 5]\n"
     ]
    }
   ],
   "source": [
    "# your code here\n",
    "\n",
    "l = [8,2,3,9,8,5,2]\n",
    "\n",
    "def included_between(a, b, l):\n",
    "    l2=[]\n",
    "    for v in l:\n",
    "        if a > b:\n",
    "            if b < v < a:\n",
    "                l2.append(v)\n",
    "        if a < b:\n",
    "            if a < v <b:\n",
    "                l2.append(v)\n",
    "    return l2\n",
    "print(included_between(2,6,[1,2,3,4,5,6,7]))\n"
   ]
  },
  {
   "cell_type": "markdown",
   "metadata": {
    "id": "euR_gcK9LY6C"
   },
   "source": [
    "***\n",
    "## Exercise 13.3 - Inverting a list\n",
    "***"
   ]
  },
  {
   "cell_type": "markdown",
   "metadata": {
    "id": "ztDv3WlWLY6C"
   },
   "source": [
    "Given a list $l = [1, 4, 5, 12, 10, 8]$.\n",
    "\n",
    "1. Create a function reverse(l) which :\n",
    "\n",
    "    - receives a list *l* as input\n",
    "    - returns the same list as output, but reversed (in the opposite order): i.e. [8, 10, 12, 5, 4, 1] in our example."
   ]
  },
  {
   "cell_type": "code",
   "execution_count": 8,
   "metadata": {
    "id": "9FB0vY7VLY6C"
   },
   "outputs": [
    {
     "name": "stdout",
     "output_type": "stream",
     "text": [
      "[7, 6, 5, 4, 3, 2, 1]\n"
     ]
    }
   ],
   "source": [
    "# your code here\n",
    "\n",
    "l =[1,2,3,4,5,6,7]\n",
    "def reverse(l):\n",
    "    list=[]\n",
    "    \n",
    "    for i in range(len(l)-1,-1,-1):\n",
    "        list.append(l[i])\n",
    "    return list\n",
    "        \n",
    "    \n",
    "print(reverse(l))"
   ]
  },
  {
   "cell_type": "markdown",
   "metadata": {
    "id": "2hV0uPgZLY6C"
   },
   "source": [
    "***\n",
    "## Exercise 13.4 - One in the other\n",
    "***"
   ]
  },
  {
   "cell_type": "markdown",
   "metadata": {
    "id": "kGqRytmCLY6C"
   },
   "source": [
    "1. Write a function `includes_word(word, sentence)` which takes as input two arguments **word** and **sentence**, and returns as output: *True* if the word belongs to the sentence *False* otherwise"
   ]
  },
  {
   "cell_type": "markdown",
   "metadata": {
    "id": "YepQ6LQELY6K"
   },
   "source": [
    "> Remember the `.split()` function"
   ]
  },
  {
   "cell_type": "code",
   "execution_count": 12,
   "metadata": {
    "id": "pL4Ah1w6LY6K"
   },
   "outputs": [
    {
     "name": "stdout",
     "output_type": "stream",
     "text": [
      "True\n"
     ]
    }
   ],
   "source": [
    "def includeswords(word,sentence):\n",
    "    \n",
    "    l=sentence.split()\n",
    "    if word in l:\n",
    "        return True \n",
    "    else:\n",
    "        return False \n",
    "    \n",
    "print(includeswords(\"hello\",\"hello world\"))"
   ]
  },
  {
   "cell_type": "markdown",
   "metadata": {
    "id": "35RCQZvQLY6K"
   },
   "source": [
    "***\n",
    "## Exercise 13.5 - Over 18 and vaccinated?...\n",
    "***"
   ]
  },
  {
   "cell_type": "markdown",
   "metadata": {
    "id": "ZaRSfFzbLY6K"
   },
   "source": [
    "1. Write a function `is_major(yearBirth, monthBirth, dayBirth)` which takes as input three arguments *yearBirth*, *monthBirth*, *dayBirth* and returns as output: *True* if the person is of age *False* otherwise"
   ]
  },
  {
   "cell_type": "code",
   "execution_count": null,
   "metadata": {
    "id": "wkd9SLHeLY6K"
   },
   "outputs": [],
   "source": [
    "# your code here"
   ]
  },
  {
   "cell_type": "markdown",
   "metadata": {
    "id": "kAo2D1kZLY6K"
   },
   "source": [
    "***\n",
    "## Exercise 13.6 - Divisibility\n",
    "***"
   ]
  },
  {
   "cell_type": "markdown",
   "metadata": {
    "id": "cFivjFDLLY6K"
   },
   "source": [
    "1. Write a function `is_div_by(a,b)` that tests the divisibility of the integer *a* by the integer *b*, in other words:\n",
    "\n",
    "  - if *a* is divisible by *b*, then the function returns *True*.\n",
    "   - otherwise, it returns *False*."
   ]
  },
  {
   "cell_type": "code",
   "execution_count": null,
   "metadata": {
    "id": "rhkt89SjLY6K"
   },
   "outputs": [],
   "source": [
    "# your code here"
   ]
  },
  {
   "cell_type": "markdown",
   "metadata": {
    "id": "tNQ6QEpULY6K"
   },
   "source": [
    "2. Write a function `divisor(a,b)` which tests whether the integer *a* divides the integer *b*, i.e. *b* is a multiple of *a*, (if you wish, you can use the function from the previous question `is_div_by(a,b)`)."
   ]
  },
  {
   "cell_type": "code",
   "execution_count": null,
   "metadata": {
    "id": "NOg50AqzLY6K"
   },
   "outputs": [],
   "source": [
    "# your code here"
   ]
  },
  {
   "cell_type": "markdown",
   "metadata": {
    "id": "0hPSRFpgLY6K"
   },
   "source": [
    "3. Deduce a function `divisors(n)` that accepts as input an integer *n*, and returns as output the list of all integers *p* that are divisors of *n*."
   ]
  },
  {
   "cell_type": "code",
   "execution_count": null,
   "metadata": {
    "id": "RjpFbDD3LY6K"
   },
   "outputs": [],
   "source": [
    "# your code here"
   ]
  },
  {
   "cell_type": "markdown",
   "metadata": {
    "id": "YGBNOZQ4LY6K"
   },
   "source": [
    "4. Write a function `sigma(n)` which accepts as input an integer n, and returns as output the sum of all divisors of n."
   ]
  },
  {
   "cell_type": "code",
   "execution_count": null,
   "metadata": {
    "id": "0FGh7e7ELY6K"
   },
   "outputs": [],
   "source": [
    "# your code here"
   ]
  },
  {
   "cell_type": "markdown",
   "metadata": {
    "id": "GKdzShlILY6K"
   },
   "source": [
    "> **Definition**: A *strict divisor* of an integer *n* is a divisor of n that is different from 1 and different from n."
   ]
  },
  {
   "cell_type": "markdown",
   "metadata": {
    "id": "FQyAUjbVLY6K"
   },
   "source": [
    "5. Write a function `strict_divisors(n)` which accepts as input an integer argument *n*, and returns as output the list of all **strict divisors** of *n*."
   ]
  },
  {
   "cell_type": "code",
   "execution_count": null,
   "metadata": {
    "id": "HkiyJ2dlLY6L"
   },
   "outputs": [],
   "source": [
    "# your code here"
   ]
  },
  {
   "cell_type": "markdown",
   "metadata": {
    "id": "8LrDjquyLY6L"
   },
   "source": [
    "> 📝 **Definition**\n",
    "\n",
    "A number is called prime if it is only divisible by 1 and itself.\n",
    "\n",
    "Examples: 5 is prime because 5 is divisible by 5 and by 1, and that's all (by no other number).\n",
    "\n",
    "6 is not prime because **6 = 3 * 2**, which proves that 6 is divisible by 1 and by 6 (itself), but also by 2 and 3.\n"
   ]
  },
  {
   "cell_type": "markdown",
   "metadata": {
    "id": "81bao5T3LY6L"
   },
   "source": [
    "6. Write a function `is_prime(n)` which takes as input an argument *n*, and returns as output:\n",
    "\n",
    "    - *True* if *n* is a prime number,\n",
    "    - *False*, otherwise"
   ]
  },
  {
   "cell_type": "code",
   "execution_count": null,
   "metadata": {
    "id": "oGiRV5qPLY6L"
   },
   "outputs": [],
   "source": [
    "# your code here"
   ]
  },
  {
   "cell_type": "markdown",
   "metadata": {
    "id": "kfIOcK-jLY6L"
   },
   "source": [
    "7. Derive a second function `primes(x)` which accepts as input an argument *x*, and returns as output the list of all prime numbers less than or equal to *x*."
   ]
  },
  {
   "cell_type": "code",
   "execution_count": null,
   "metadata": {
    "id": "ZDlMd10cLY6L"
   },
   "outputs": [],
   "source": [
    "# your code here"
   ]
  },
  {
   "cell_type": "markdown",
   "metadata": {
    "id": "LAu1uGSkLY6L"
   },
   "source": [
    "> 📝 **Definition**\n",
    "\n",
    "An integer <em>n</em> is called a **perfect number** when the sum of all its (positive) divisors equals twice <em>n</em>, in other words, when:\n",
    "\n",
    "$$\n",
    "2n = \\sigma({n})\n",
    "$$\n"
   ]
  },
  {
   "cell_type": "markdown",
   "metadata": {
    "id": "IeYZ-O-vLY6L"
   },
   "source": [
    "> $\\sigma(n)$ is the function we programmed in question 4, i.e. the sum of all divisors of *n*."
   ]
  },
  {
   "cell_type": "markdown",
   "metadata": {
    "id": "1mGj5TA2LY6L"
   },
   "source": [
    "8. Write a function `perfects(n)` that accepts as input an integer *n*, and returns as output:\n",
    "\n",
    "   - *True* if n is a perfect number\n",
    "   - *False* otherwise"
   ]
  },
  {
   "cell_type": "code",
   "execution_count": null,
   "metadata": {
    "id": "5uVyi1gqLY6L"
   },
   "outputs": [],
   "source": [
    "# your code here"
   ]
  },
  {
   "cell_type": "markdown",
   "metadata": {
    "id": "JzL76e7ELY6L"
   },
   "source": [
    "9. Write a function `perfect(x)` which accepts as input an integer *x* and returns as output a list of all perfect integers less than or equal to *x*."
   ]
  },
  {
   "cell_type": "code",
   "execution_count": null,
   "metadata": {
    "id": "dSmGCglGLY6L"
   },
   "outputs": [],
   "source": [
    "# your code here"
   ]
  },
  {
   "cell_type": "markdown",
   "metadata": {
    "id": "zN_WQdnfLY6L"
   },
   "source": [
    "***\n",
    "## Correction of TD 13\n",
    "You can find the answer key for this TD [here](../Corrigés/Corrigé_TD%2013.ipynb)."
   ]
  }
 ],
 "metadata": {
  "colab": {
   "provenance": []
  },
  "kernelspec": {
   "display_name": "Python 3",
   "language": "python",
   "name": "python3"
  },
  "language_info": {
   "codemirror_mode": {
    "name": "ipython",
    "version": 3
   },
   "file_extension": ".py",
   "mimetype": "text/x-python",
   "name": "python",
   "nbconvert_exporter": "python",
   "pygments_lexer": "ipython3",
   "version": "3.10.8"
  }
 },
 "nbformat": 4,
 "nbformat_minor": 0
}
