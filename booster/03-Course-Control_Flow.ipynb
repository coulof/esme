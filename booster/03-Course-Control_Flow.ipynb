{
 "cells": [
  {
   "cell_type": "markdown",
   "metadata": {},
   "source": [
    "<img style=\"margin-top: 0px\" src=\" data:image/png;base64,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\" align=\"left\" alt=\"logo esme\"  height=\"20\"> \n",
    "<div class=\"alert alert-block alert-info\" style=\"margin-top: 9px; padding: 10px; background: linear-gradient(to right, #f7f9fa, #d9edfb);\">\n",
    "    <h1 style=\"margin-left: 85px\">IngeSUP - Cours 03 - Control Flow statements</h1>\n",
    "</div>"
   ]
  },
  {
   "cell_type": "markdown",
   "metadata": {},
   "source": [
    "<div class=\"alert alert-block alert-info\" style='color:white; background-color:blue; border-color: blue; '>\n",
    "    <h2>Comparison operators</h2>\n",
    "</div>"
   ]
  },
  {
   "cell_type": "markdown",
   "metadata": {
    "slideshow": {
     "slide_type": "slide"
    }
   },
   "source": [
    "In a program, we often need to compare 2 variables, see if for example one is greater than the other or equal."
   ]
  },
  {
   "cell_type": "markdown",
   "metadata": {
    "slideshow": {
     "slide_type": "subslide"
    }
   },
   "source": [
    "For this, we use comparison operators: `<`, `<=`, `>`, `> =` and `==`.\n",
    "\n",
    "Let's test below whether a variable `a` is larger or smaller than a variable `b`:"
   ]
  },
  {
   "cell_type": "code",
   "execution_count": null,
   "metadata": {
    "slideshow": {
     "slide_type": "subslide"
    }
   },
   "outputs": [],
   "source": [
    "a = 12.0\n",
    "b = 9.7\n",
    "print(a < b)\n",
    "print(a > b)"
   ]
  },
  {
   "cell_type": "markdown",
   "metadata": {
    "slideshow": {
     "slide_type": "slide"
    }
   },
   "source": [
    "Equalities are tested from the operator `==` while `!=` is used to test if two variables are not equal. Below are some examples:"
   ]
  },
  {
   "cell_type": "code",
   "execution_count": null,
   "metadata": {
    "slideshow": {
     "slide_type": "subslide"
    }
   },
   "outputs": [],
   "source": [
    "a = 12\n",
    "b = -9\n",
    "c = 14\n",
    "\n",
    "# Test if a is equal to b\n",
    "print(\"Is a equal to b?\")\n",
    "print(a == b)"
   ]
  },
  {
   "cell_type": "code",
   "execution_count": null,
   "metadata": {
    "slideshow": {
     "slide_type": "subslide"
    }
   },
   "outputs": [],
   "source": [
    "# Teste si a est égale à c\n",
    "print(\"Is a equal to c?\")\n",
    "print(a == c)\n",
    "\n",
    "# Test if a is different from c\n",
    "print(\"Is a different from c?\")\n",
    "print(a != c)"
   ]
  },
  {
   "cell_type": "code",
   "execution_count": null,
   "metadata": {
    "slideshow": {
     "slide_type": "subslide"
    }
   },
   "outputs": [],
   "source": [
    "# Test if a is less than or equal to b\n",
    "print (\"Is a less than or equal to b?\")\n",
    "print (a <= b)\n",
    "\n",
    "# Test if a is less than or equal to c\n",
    "print (\"Is a less than or equal to c?\")\n",
    "print (a <= c)"
   ]
  },
  {
   "cell_type": "code",
   "execution_count": 1,
   "metadata": {
    "slideshow": {
     "slide_type": "subslide"
    }
   },
   "outputs": [
    {
     "name": "stdout",
     "output_type": "stream",
     "text": [
      "Is color0 the same as color1?\n",
      "False\n"
     ]
    }
   ],
   "source": [
    "# Test if two colors are the same\n",
    "color0 = 'blue'\n",
    "color1 = 'BLUE'\n",
    "print (\"Is color0 the same as color1?\")\n",
    "print (color0 == color1)"
   ]
  },
  {
   "cell_type": "markdown",
   "metadata": {},
   "source": [
    "<div class=\"alert alert-block alert-info\" style='color:white; background-color:blue; border-color: blue; '>\n",
    "    <h2>Boolean operators</h2>\n",
    "</div>"
   ]
  },
  {
   "cell_type": "markdown",
   "metadata": {
    "slideshow": {
     "slide_type": "slide"
    }
   },
   "source": [
    "So far, we have only used single comparisons using the comparison operators. Boolean operators allow multiple comparisons from the `and`,` or` and `not` operators ; actually allowing [boolean algebra](https://en.wikipedia.org/wiki/Boolean_algebra) calculation."
   ]
  },
  {
   "cell_type": "markdown",
   "metadata": {
    "slideshow": {
     "slide_type": "subslide"
    }
   },
   "source": [
    "\n",
    "The '`and`' and '` or`' operators consider a boolean on each side of the expression and the code\n",
    "```python\n",
    "X and Y\n",
    "```\n",
    "\n",
    "will evaluate `True` if` X` * and * `Y` are both true or will evaluate` False` if not.\n"
   ]
  },
  {
   "cell_type": "markdown",
   "metadata": {
    "slideshow": {
     "slide_type": "subslide"
    }
   },
   "source": [
    "The code\n",
    "```python\n",
    "X or Y\n",
    "```\n",
    "will evaluate `True` if `X` * or * `Y` is true or will evaluate `False` otherwise.\n",
    "\n",
    "Here are two examples:"
   ]
  },
  {
   "cell_type": "code",
   "execution_count": 2,
   "metadata": {
    "slideshow": {
     "slide_type": "subslide"
    }
   },
   "outputs": [
    {
     "name": "stdout",
     "output_type": "stream",
     "text": [
      "False\n"
     ]
    }
   ],
   "source": [
    "# Test if 10 <9 (false) and 15 <20 (true) -> false\n",
    "print (10<9 and 15<20)"
   ]
  },
  {
   "cell_type": "code",
   "execution_count": 3,
   "metadata": {
    "slideshow": {
     "slide_type": "subslide"
    }
   },
   "outputs": [
    {
     "name": "stdout",
     "output_type": "stream",
     "text": [
      "True\n"
     ]
    }
   ],
   "source": [
    "# Test if 10 < 9 (false) or 15 < 20 (true) -> true\n",
    "print (10<9 or 15<20)"
   ]
  },
  {
   "cell_type": "markdown",
   "metadata": {
    "slideshow": {
     "slide_type": "subslide"
    }
   },
   "source": [
    "Note that the comparison operators (`>=`, `<=`, `<` and `>`) are evaluated **before** the Boolean operators (`and`,` or`)\n",
    "\n",
    "The `not` operator performs a logical negation on the tested expression:"
   ]
  },
  {
   "cell_type": "code",
   "execution_count": null,
   "metadata": {
    "slideshow": {
     "slide_type": "subslide"
    }
   },
   "outputs": [],
   "source": [
    "# Is 12 * not * less than 7 -> true\n",
    "a = 12\n",
    "b = 7\n",
    "print(not a < b)"
   ]
  },
  {
   "cell_type": "markdown",
   "metadata": {
    "slideshow": {
     "slide_type": "slide"
    }
   },
   "source": [
    "Reverse logic can be counter intuitive, only use '`not`' if the expression is easy to read (i.e. understand)!\n",
    "\n",
    "For example:"
   ]
  },
  {
   "cell_type": "code",
   "execution_count": null,
   "metadata": {
    "slideshow": {
     "slide_type": "subslide"
    }
   },
   "outputs": [],
   "source": [
    "print(not 12 == 7)"
   ]
  },
  {
   "cell_type": "markdown",
   "metadata": {
    "slideshow": {
     "slide_type": "fragment"
    }
   },
   "source": [
    "Can be confusion. The best is to test:"
   ]
  },
  {
   "cell_type": "code",
   "execution_count": null,
   "metadata": {
    "slideshow": {
     "slide_type": "fragment"
    }
   },
   "outputs": [],
   "source": [
    "print(12 != 7)"
   ]
  },
  {
   "cell_type": "markdown",
   "metadata": {
    "slideshow": {
     "slide_type": "slide"
    }
   },
   "source": [
    "In most  cases, we will only process a maximum of two comparisons.\n",
    "\n",
    "In some cases, you will need to evaluate more than two comparisons.\n",
    "\n",
    "You can control the order of the comparisons by using parentheses. For example, if we want to test if a number is strictly between **100** and **200** or between **10** and **50**:"
   ]
  },
  {
   "cell_type": "code",
   "execution_count": null,
   "metadata": {
    "slideshow": {
     "slide_type": "slide"
    }
   },
   "outputs": [],
   "source": [
    "value = 150.5\n",
    "print ((value > 100 and value < 200) or (value > 10 and value < 50)) "
   ]
  },
  {
   "cell_type": "markdown",
   "metadata": {
    "slideshow": {
     "slide_type": "slide"
    }
   },
   "source": [
    "The two parentheses are evaluated first (each evaluates to `True` or` False`), and then the `or` checks if either of the two is true"
   ]
  },
  {
   "cell_type": "markdown",
   "metadata": {
    "slideshow": {
     "slide_type": "slide"
    }
   },
   "source": [
    "Now that we are able to compare variables, we can explore conditional statements.\n"
   ]
  },
  {
   "cell_type": "markdown",
   "metadata": {},
   "source": [
    "<div class=\"alert alert-block alert-info\" style='color:white; background-color:blue; border-color: blue; '>\n",
    "    <h2><code>if</code> statement</h2>\n",
    "</div>"
   ]
  },
  {
   "cell_type": "markdown",
   "metadata": {
    "slideshow": {
     "slide_type": "slide"
    }
   },
   "source": [
    "The code executes only if a condition is matched.\n",
    "\n",
    "Here is an example of a conditional statement in pseudo code:"
   ]
  },
  {
   "cell_type": "markdown",
   "metadata": {
    "slideshow": {
     "slide_type": "subslide"
    }
   },
   "source": [
    "```\n",
    "if condition:\n",
    "    < Indentated code one >\n",
    "    < Indentated code two >\n",
    "  \n",
    "< non-indented code>\n",
    "```"
   ]
  },
  {
   "cell_type": "markdown",
   "metadata": {
    "slideshow": {
     "slide_type": "slide"
    }
   },
   "source": [
    "The first line of the **if** statement is a boolean expression that must eval to `True` or `False`.\n",
    "\n",
    "In the next lines we have a block of code that will be entirely executed if the condition is true.\n"
   ]
  },
  {
   "cell_type": "markdown",
   "metadata": {
    "slideshow": {
     "slide_type": "subslide"
    }
   },
   "source": [
    "> In Python the whitespace character is a keyword of the language. Indentation matters ! A lot ! Each block must be indented with the same number of spaces."
   ]
  },
  {
   "cell_type": "code",
   "execution_count": null,
   "metadata": {
    "slideshow": {
     "slide_type": "subslide"
    }
   },
   "outputs": [],
   "source": [
    "x = int(input(\"Be cool, enter 2 please:\"))\n",
    "if x == 2:\n",
    "    print(\"Thanks your are so kind !\")"
   ]
  },
  {
   "cell_type": "markdown",
   "metadata": {},
   "source": [
    "<div style='color: forestgreen'>\n",
    "    <h3>How does it work?</h3>\n",
    "</div>"
   ]
  },
  {
   "cell_type": "markdown",
   "metadata": {
    "slideshow": {
     "slide_type": "slide"
    }
   },
   "source": [
    "When **if** is parsed, the condition is tested. If `True` all the instructions from the block will be parsed. If `False`, all instructions from the block are skipped."
   ]
  },
  {
   "cell_type": "markdown",
   "metadata": {
    "slideshow": {
     "slide_type": "slide"
    }
   },
   "source": [
    "The following non-indented instructions from the `if` don't belong to the `if` block.\n",
    "\n",
    "E.g. in the former pseudo-code, **< non-indented code >** will always be parsed what ever the result of the `if` statement may be. It doesn't belong to the **if block**."
   ]
  },
  {
   "cell_type": "code",
   "execution_count": null,
   "metadata": {
    "slideshow": {
     "slide_type": "slide"
    }
   },
   "outputs": [],
   "source": [
    "a=int(input(\"Input a number : \"))\n",
    "if a>0:\n",
    "    print(\"This number is positive\")\n",
    "print(\"bye\")    # This will always be executed"
   ]
  },
  {
   "cell_type": "markdown",
   "metadata": {
    "slideshow": {
     "slide_type": "subslide"
    }
   },
   "source": [
    "<div style=\"border-color: #dc3545; margin: 1.5625em auto; padding: 0 .6rem .8rem !important; overflow: hidden; page-break-inside: avoid; border-left: .2rem solid #dc3545; border-radius: .1rem; box-shadow: 0 .2rem .5rem rgba(0,0,0,.05),0 0 .05rem rgba(0,0,0,.1); transition: color .25s,background-color .25s,border-color .25s;\">\n",
    "    <p style=\"background-color: #fdf3f2; position: relative; margin: 0 -.6rem !important; padding: .4rem .6rem .4rem 2rem; font-weight: 700;\">⚠️ Attention</p>\n",
    "    <p style=\"padding: 0 1.4rem; margin-top: .4em; margin-bottom: 0; font-size: 1em;\">Don't forget the <strong style=\"background-color: #eff0f1;\">:</strong> right after the <em>if</em> statement.</p>\n",
    "    <p style=\"padding: 0 1.4rem; margin-top: .4em; margin-bottom: 0; font-size: 1em;\">Indentation matters ! Everything on the same level belongs to <em>if</em> statement.</p>\n",
    "</div>"
   ]
  },
  {
   "cell_type": "code",
   "execution_count": 4,
   "metadata": {
    "scrolled": true,
    "slideshow": {
     "slide_type": "slide"
    }
   },
   "outputs": [
    {
     "name": "stdout",
     "output_type": "stream",
     "text": [
      "This number is positive\n",
      "This number is odd\n",
      "4\n",
      "bye\n"
     ]
    }
   ],
   "source": [
    "a=int(input(\"Input a number : \"))\n",
    "if a>0:\n",
    "    print(\"This number is positive\")\n",
    "    if a>10:\n",
    "        print(\"And greater than 10\")\n",
    "    print(a)\n",
    "print(\"bye\")    # Instruction non indentée"
   ]
  },
  {
   "cell_type": "markdown",
   "metadata": {
    "slideshow": {
     "slide_type": "slide"
    }
   },
   "source": [
    "<div style=\"border-color: #007bff; margin: 1.5625em auto; padding: 0 .6rem .8rem !important; overflow: hidden; page-break-inside: avoid;border-left: .2rem solid #007bff; border-radius: .1rem; box-shadow: 0 .2rem .5rem rgba(0,0,0,.05),0 0 .05rem rgba(0,0,0,.1); transition: color .25s,background-color .25s,border-color .25s;\">\n",
    "    <p style=\"background-color: #e7f2fa; position: relative; margin: 0 -.6rem !important; padding: .4rem .6rem .4rem 2rem; font-weight: 700;\">📝 Note</p>\n",
    "    <p style=\"padding: 0 1.4rem; margin-top: .4em; margin-bottom: 0; font-size: 1em;\">So far the examples finish without output if the condition is false.<br><br>If we want to output to the user something on if the condition is false we can use the <strong><em>if-else</em></strong> statement</p>\n",
    "</div>"
   ]
  },
  {
   "cell_type": "markdown",
   "metadata": {},
   "source": [
    "<div class=\"alert alert-block alert-info\" style='color:white; background-color:blue; border-color: blue; '>\n",
    "    <h2><code>if-else</code> statement</h2>\n",
    "</div>"
   ]
  },
  {
   "cell_type": "markdown",
   "metadata": {
    "slideshow": {
     "slide_type": "slide"
    }
   },
   "source": [
    "The **if-else** statement is a set of instructions when the condition is `True` and another set when the condition is `False`. **if-else** allows to cover both cases (true and false) and apply different code."
   ]
  },
  {
   "cell_type": "markdown",
   "metadata": {
    "slideshow": {
     "slide_type": "slide"
    }
   },
   "source": [
    "```|\n",
    "if condition:\n",
    "    < Indentated code one >\n",
    "    < Indentated code two >\n",
    "else:\n",
    "    < Indentated code three >\n",
    "    < Indentated code four >\n",
    "< non-indented code>\n",
    "```"
   ]
  },
  {
   "cell_type": "code",
   "execution_count": null,
   "metadata": {
    "slideshow": {
     "slide_type": "slide"
    }
   },
   "outputs": [],
   "source": [
    "x = 2\n",
    "if x == 2:\n",
    "    print(\"The test is true !\")\n",
    "else:\n",
    "    print(\"The test is false !\")"
   ]
  },
  {
   "cell_type": "markdown",
   "metadata": {},
   "source": [
    "<div style='color: forestgreen'>\n",
    "    <h3>How does it work ?</h3>\n",
    "</div>"
   ]
  },
  {
   "cell_type": "markdown",
   "metadata": {
    "slideshow": {
     "slide_type": "slide"
    }
   },
   "source": [
    "The **if-else** statement is evaluated, if **True**, the instruction of the **if** block will be executed and when **False** the instructions for the **else** block will be."
   ]
  },
  {
   "cell_type": "code",
   "execution_count": null,
   "metadata": {
    "slideshow": {
     "slide_type": "slide"
    }
   },
   "outputs": [],
   "source": [
    "a=int(input(\"Input a number : \"))\n",
    "if a>=0:\n",
    "    print(\"The number is greater or equal to 0\")\n",
    "else:\n",
    "    print(\"The number is negative\")\n",
    "\n",
    "print(\"bye\")"
   ]
  },
  {
   "cell_type": "markdown",
   "metadata": {
    "slideshow": {
     "slide_type": "slide"
    }
   },
   "source": [
    "<div style=\"border-color: #dc3545; margin: 1.5625em auto; padding: 0 .6rem .8rem !important; overflow: hidden; page-break-inside: avoid; border-left: .2rem solid #dc3545; border-radius: .1rem; box-shadow: 0 .2rem .5rem rgba(0,0,0,.05),0 0 .05rem rgba(0,0,0,.1); transition: color .25s,background-color .25s,border-color .25s;\">\n",
    "    <p style=\"background-color: #fdf3f2; position: relative; margin: 0 -.6rem !important; padding: .4rem .6rem .4rem 2rem; font-weight: 700;\">⚠️ Attention</p>\n",
    "    <p style=\"padding: 0 1.4rem; margin-top: .4em; margin-bottom: 0; font-size: 1em;\"> In a <strong>if-else</strong>, always make sure if and else are indented correctly. Best case you will have a syntax error, worst case it can lead to a bug.</p>\n",
    "</div>"
   ]
  },
  {
   "cell_type": "markdown",
   "metadata": {},
   "source": [
    "<div class=\"alert alert-block alert-info\" style='color:white; background-color:blue; border-color: blue; '>\n",
    "    <h2><code>if-elif-else</code> statement</h2>\n",
    "</div>"
   ]
  },
  {
   "cell_type": "markdown",
   "metadata": {
    "slideshow": {
     "slide_type": "slide"
    }
   },
   "source": [
    "L'instruction **if-else** executes two different block if the condition is **True** or **False**. \n",
    "\n",
    "Sometimes there are more than two choices.\n",
    "\n",
    "**if - elif - else** enables to match different conditions and execute different instructions."
   ]
  },
  {
   "cell_type": "markdown",
   "metadata": {
    "slideshow": {
     "slide_type": "slide"
    }
   },
   "source": [
    "```\n",
    "if condition_1:\n",
    "    < Indentated code one >\n",
    "    < Indentated code two >\n",
    "elif condition_2:\n",
    "    < Indentated code three >\n",
    "    < Indentated code four >\n",
    "elif condition_3:\n",
    "    < Indentated code five >\n",
    "    < Indentated code six >\n",
    "...\n",
    "else:\n",
    "    < Indentated code seven >\n",
    "    < Indentated code eight >\n",
    "< non-indented code>\n",
    "```"
   ]
  },
  {
   "cell_type": "code",
   "execution_count": 3,
   "metadata": {
    "slideshow": {
     "slide_type": "subslide"
    }
   },
   "outputs": [
    {
     "name": "stdout",
     "output_type": "stream",
     "text": [
      "Initial value is greater than 0\n",
      "x is : -18.0\n"
     ]
    }
   ],
   "source": [
    "x = int(input(\"Input a float for x: \"))\n",
    "\n",
    "if x > 0.0:  \n",
    "    print('Initial value is greater than 0')\n",
    "    x -= 20.0    # equivalent de x = x - 20.0\n",
    "elif x < 0.0:  \n",
    "    print('Initial value is lower than 0')\n",
    "    x += 21.0    # equivalent de x = x + 21.0\n",
    "else: \n",
    "    print('Inital value is neither greater than 0 nor lower than 0 if must be 0')\n",
    "\n",
    "# Affiche la nouvelle valeur de x\n",
    "print(\"x current value is :\", x)"
   ]
  },
  {
   "cell_type": "markdown",
   "metadata": {
    "slideshow": {
     "slide_type": "subslide"
    }
   },
   "source": [
    "<div style=\"border-color: #007bff; margin: 1.5625em auto; padding: 0 .6rem .8rem !important; overflow: hidden; page-break-inside: avoid;border-left: .2rem solid #007bff; border-radius: .1rem; box-shadow: 0 .2rem .5rem rgba(0,0,0,.05),0 0 .05rem rgba(0,0,0,.1); transition: color .25s,background-color .25s,border-color .25s;\">\n",
    "    <p style=\"background-color: #e7f2fa; position: relative; margin: 0 -.6rem !important; padding: .4rem .6rem .4rem 2rem; font-weight: 700;\">📝 Note</p>\n",
    "    <p style=\"padding: 0 1.4rem; margin-top: .4em; margin-bottom: 0; font-size: 1em;\">There is no limit to the number of <strong>elif</strong> and <strong>else</strong> is optional.</p>\n",
    "</div>"
   ]
  },
  {
   "cell_type": "markdown",
   "metadata": {},
   "source": [
    "> Note Python recently introduce the support for a `switch` statement. `switch` is a popular control flow in many languages. It is mostly use for pattern matching."
   ]
  },
  {
   "cell_type": "markdown",
   "metadata": {
    "slideshow": {
     "slide_type": "slide"
    }
   },
   "source": [
    "## Exercices\n",
    "\n",
    "Let's try it with the notebook [03-TD-Control_Flow](03-TD-Control_Flow.ipynb)"
   ]
  }
 ],
 "metadata": {
  "celltoolbar": "Format de la Cellule Texte Brut",
  "kernelspec": {
   "display_name": "Python 3",
   "language": "python",
   "name": "python3"
  },
  "language_info": {
   "codemirror_mode": {
    "name": "ipython",
    "version": 3
   },
   "file_extension": ".py",
   "mimetype": "text/x-python",
   "name": "python",
   "nbconvert_exporter": "python",
   "pygments_lexer": "ipython3",
   "version": "3.11.5"
  },
  "latex_envs": {
   "LaTeX_envs_menu_present": true,
   "autoclose": false,
   "autocomplete": true,
   "bibliofile": "biblio.bib",
   "cite_by": "apalike",
   "current_citInitial": 1,
   "eqLabelWithNumbers": true,
   "eqNumInitial": 1,
   "hotkeys": {
    "equation": "Ctrl-E",
    "itemize": "Ctrl-I"
   },
   "labels_anchors": false,
   "latex_user_defs": false,
   "report_style_numbering": false,
   "user_envs_cfg": false
  },
  "varInspector": {
   "cols": {
    "lenName": 16,
    "lenType": 16,
    "lenVar": 40
   },
   "kernels_config": {
    "python": {
     "delete_cmd_postfix": "",
     "delete_cmd_prefix": "del ",
     "library": "var_list.py",
     "varRefreshCmd": "print(var_dic_list())"
    },
    "r": {
     "delete_cmd_postfix": ") ",
     "delete_cmd_prefix": "rm(",
     "library": "var_list.r",
     "varRefreshCmd": "cat(var_dic_list()) "
    }
   },
   "types_to_exclude": [
    "module",
    "function",
    "builtin_function_or_method",
    "instance",
    "_Feature"
   ],
   "window_display": false
  }
 },
 "nbformat": 4,
 "nbformat_minor": 4
}
