{
 "cells": [
  {
   "cell_type": "markdown",
   "metadata": {},
   "source": [
    "<img style=\"margin-top: 0px\" src=\" data:image/png;base64,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\" align=\"left\" alt=\"logo esme\"  height=\"20\"> \n",
    "<div class=\"alert alert-block alert-info\" style=\"margin-top: 9px; padding: 10px; background: linear-gradient(to right, #f7f9fa, #d9edfb);\">\n",
    "    <h1 style=\"margin-left: 85px\">IngeSUP - 04-TD-Control_Flow_II (Conditional structures)</h1>\n",
    "</div>"
   ]
  },
  {
   "cell_type": "markdown",
   "metadata": {},
   "source": [
    "<blockquote><em>“There are two ways to write a program without error. Only the third one works.”</em></blockquote>&nbsp;&nbsp;<i style=\"font-size: 10px\">Alan J. Perlis</i>"
   ]
  },
  {
   "cell_type": "markdown",
   "metadata": {},
   "source": [
    "***\n",
    "## Exercice 04.1\n",
    "***"
   ]
  },
  {
   "cell_type": "markdown",
   "metadata": {},
   "source": [
    "Personalized housing allowance (APL in France) is financial assistance intended primarily to reduce the amount of a\n",
    "rent. The goal of this exercise is to design a simplified simulator of APL rights for tenants.\n",
    "\n",
    "\n",
    "To get the amount of APL to which a person is entitled, the Family Allowance Fund (CAF) uses\n",
    "a maximum resource ceiling and a maximum rent ceiling which serves as a basis to calculate rights according to\n",
    "the location and familly size."
   ]
  },
  {
   "cell_type": "markdown",
   "metadata": {},
   "source": [
    "If your rent exceeds the ceilings applied by the CAF, the supplement is not taken into account for the calculation of the APL. We assume that the household's annual reference income ceiling is 16,000 euros. The place of residence is divided into 3 zones:\n",
    "\n",
    "- Zone 1 : Ile de France\n",
    "- Zone 2 : Towns with more than 100000 residents\n",
    "- Zone 3 : Every other cities\n",
    "\n",
    "Here are the APL rent ceilings depending on the geographical area of residence:\n",
    "\n",
    "**Composition du foyer**       | **Zone 1** | **Zone 2** | **Zone 3**\n",
    "---------  | ---------  | ---------  | ---------\n",
    "Single | 295,85 EUR | 257,14 EUR |241,00 EUR |\n",
    "Couple     |  355,85 EUR | 314,74 EUR |292,16 EUR | \n",
    "Single or couple with one dependent |  402,18 EUR | 354,17 EUR |327,59 EUR |\n",
    "Extra people   |  58,34 EUR | 51,54 EUR | 46,95 EUR |\n",
    "\n",
    "From this amount you must subtract a fixed amount which remains your responsibility and which is set at 34.76 euros.\n",
    "\n",
    "**Example** : A single person living in Île-de-France will be able to receive a maximum of 258.09 euros APL.\n",
    "(292,85 - 34,76), whatever her rent is (except if her rent is lower, she will then receive an APL equal to the rent)."
   ]
  },
  {
   "cell_type": "markdown",
   "metadata": {},
   "source": [
    "- Write a Python program which :\n",
    "    - Asks the user for their household's annual reference income in an `income` variable.\n",
    "      \n",
    "    - Asks the user if they live in Ile de France, otherwise the number of inhabitants of their city..\n",
    "    \n",
    "    - Determines the user's living area according to what was entered in the previous question, in a `zone` variable.\n",
    "      \n",
    "    - Asks the user if the person is single or in a relationship.\n",
    "      \n",
    "    - Asks the user if he has any dependents and if so how many people are dependent on him.\n",
    "    \n",
    "    - Dsk the user for their rent amount and store the result in a `rent` variable.\n",
    "    \n",
    "    - Computes and displays the amount of APL received and the remaining amount of rent to pay. You will store this data in variables respectively named `APL` and `remaining`. "
   ]
  },
  {
   "cell_type": "code",
   "execution_count": 26,
   "metadata": {},
   "outputs": [
    {
     "name": "stdout",
     "output_type": "stream",
     "text": [
      "Enter annual household reference income in euros: 18000\n",
      "Do you live in Île-de-France? If yes, write 'y', if no, write 'n':N\n",
      "Enter the number of inhabitants in your town: 32312413413\n",
      "If you're alone write 's', if you're in a couple write 'c', if you're alone or in a couple with only one dependent write '1':C\n",
      "Enter your rent: 807\n",
      "How many dependents do you have? (Enter 0 if none): 2\n",
      "You are not entitled to apl benefits\n"
     ]
    }
   ],
   "source": [
    "## Enter annual income\n",
    "income = float(input(\"Enter annual household reference income in euros: \"))\n",
    "\n",
    "# Ask if the user lives in Île-de-France\n",
    "ile_de_france = input(\"Do you live in Île-de-France? If yes, write 'y', if no, write 'n':\").strip().lower()\n",
    "\n",
    "# If the user doesn't live in Ile-de-France, ask for the number of inhabitants in his city\n",
    "if ile_de_france == 'n':\n",
    "    i = int(input(\"Enter the number of inhabitants in your town: \"))\n",
    "\n",
    "# Identify residential area\n",
    "if ile_de_france == 'y':\n",
    "    zone = \"Zone 1\"\n",
    "elif i > 100000:\n",
    "    zone = \"Zone 2\"\n",
    "else:\n",
    "    zone = \"Zone 3\"\n",
    "    \n",
    "# Request person's status\n",
    "status = input(\"If you're alone write 's', if you're in a couple write 'c', if you're alone or in a couple with only one dependent write '1':\").strip().lower()\n",
    "# Request rent amount\n",
    "rent = float(input(\"Enter your rent: \"))\n",
    "\n",
    "# Set APL amount to zero\n",
    "apl = 0\n",
    "\n",
    "# Calculate APL amount according to rent and status ceilings\n",
    "if zone == \"Zone 1\":\n",
    "    if status == \"s\":\n",
    "        apl = 295.85\n",
    "    elif status == \"c\":\n",
    "        apl = 355.85\n",
    "    elif status == \"1\":\n",
    "        apl = 402.18\n",
    "elif zone == \"Zone 2\":\n",
    "    if status == \"s\":\n",
    "        apl = 257.14\n",
    "    elif status == \"c\":\n",
    "        apl = 314.74\n",
    "    elif status == \"1\":\n",
    "        apl = 354.17\n",
    "else:\n",
    "    if status == \"s\":\n",
    "        apl = 241.00\n",
    "    elif status == \"c\":\n",
    "        apl = 292.16\n",
    "    elif status == \"1\":\n",
    "        apl = 327.59\n",
    "\n",
    "# Request number of dependents\n",
    "dependents = int(input(\"How many dependents do you have? (Enter 0 if none): \"))\n",
    "\n",
    "# Calculate APL amount for more than one dependant\n",
    "if dependents > 1:\n",
    "    if zone == \"Zone 1\":\n",
    "        apl += dependents * 58.34\n",
    "    elif zone == \"Zone 2\":\n",
    "        apl += dependents * 51.54\n",
    "    elif zone == \"Zone 3\":\n",
    "        apl += dependents * 46.95\n",
    "        \n",
    "# Subtract fixed amount\n",
    "apl = apl-34.76\n",
    "\n",
    "# Calculate the remaining rent to be paid\n",
    "remaining = rent - apl\n",
    "\n",
    "# Display results\n",
    "if income < 16000:\n",
    "    print(\"Amount of APL received:\",apl, \"euros\")\n",
    "    print(\"Remaining rent to pay:\",remaining, \"euros\")\n",
    "else:\n",
    "    print(\"You are not entitled to apl benefits\")"
   ]
  },
  {
   "cell_type": "code",
   "execution_count": null,
   "metadata": {},
   "outputs": [],
   "source": [
    "income = int(input(\"Annual income\"))\n",
    "\n",
    "if income > 16000:\n",
    "    print(\"You are not eligible to APL\")\n",
    "    exit()\n",
    "\n",
    "city = input(\"Do you live in Ile de France (y/n)?\")\n",
    "zone = 1\n",
    "if city == 'n':\n",
    "    size = int(input(\"What size is your city?\"))\n",
    "    if size >= 10000:\n",
    "        zone = 2\n",
    "    else:\n",
    "        zone = 3\n",
    "\n",
    "status = input(\"Are you single or couple (s/c)?\")\n",
    "\n",
    "dependents = int(input(\"How many people are dependent on you (0 if none)?\"))\n",
    "\n",
    "rent = float(input(\"What's your rent ?\"))\n",
    "\n",
    "apl = 0\n",
    "\n",
    "if status == \"s\" and dependents == 0:\n",
    "    if zone == 1:\n",
    "        apl = 295.85\n",
    "    elif zone == 2:\n",
    "        apl = 257.14\n",
    "    elif zone == 3:\n",
    "        apl = 241.00\n",
    "if status == \"c\" and dependents == 0:\n",
    "    if zone == 1:\n",
    "        apl = 355.85\n",
    "    elif zone == 2:\n",
    "        apl = 314.74\n",
    "    elif zone == 3:\n",
    "        apl = 292.16\n",
    "if dependents >= 1:\n",
    "    if zone == 1:\n",
    "        apl = 402.18\n",
    "    elif zone == 2:\n",
    "        apl = 354.17\n",
    "    elif zone == 3:\n",
    "        apl = 327.59\n",
    "if dependents > 1:\n",
    "    if zone == 1:\n",
    "        apl = apl + (dependents - 1) * 58.34\n",
    "    elif zone == 2:\n",
    "        apl = apl + (dependents - 1) * 51.54\n",
    "    elif zone == 3:\n",
    "        apl = apl + (dependents - 1) * 46.95\n",
    "\n",
    "print(\"your APL is :\", apl)\n",
    "print(\"your rent is :\", rent)\n",
    "print(\"With APL you need to pay\", rent - apl)\t\n"
   ]
  },
  {
   "cell_type": "markdown",
   "metadata": {},
   "source": [
    "***\n",
    "## Exercice 04.2\n",
    "***"
   ]
  },
  {
   "cell_type": "markdown",
   "metadata": {},
   "source": [
    "We want to write a program that calculates how frequent is the train in Koh-Lantin sur Orge in Essonne.\n",
    "\n",
    "- On weekends, the train runs every 30 minutes.\n",
    "\n",
    "- During the week, it runs every 20 minutes during off-peak hours and every 10 minutes during peak hours.\n",
    "  - Peak times are between 7 a.m. and 10 a.m. (included) and between 5 p.m. and 7 p.m. (included).\n",
    "\n",
    "Write a program that asks the user for a day (as a string) and a time (0 to 23) and displays the corresponding frequency as a sentence: \"The frequency is one train every n minutes\" (n being either 10, 20 or 30)."
   ]
  },
  {
   "cell_type": "code",
   "execution_count": 14,
   "metadata": {},
   "outputs": [
    {
     "name": "stdout",
     "output_type": "stream",
     "text": [
      "Enter day of week (in words): friday\n",
      "Enter the hour (from 0 to 23) : 3\n",
      "Frequency is : 20\n"
     ]
    }
   ],
   "source": [
    "# enter the day\n",
    "day = input(\"Enter day of week (in words): \").strip().lower()\n",
    "# enter the time\n",
    "hour = int(input(\"Enter the hour (from 0 to 23) : \"))\n",
    "\n",
    "if day == \"saturday\" or day == \"sunday\":\n",
    "    frequence = 30 # On weekends, the train runs every 30 minutes\n",
    "else:\n",
    "    \n",
    "    if (hour >= 7 and hour <= 10) or (hour >= 17 and hour <= 19):\n",
    "        frequence = 10   \n",
    "    else:\n",
    "        frequence = 20  \n",
    "\n",
    "print(\"Frequency is :\",frequence)"
   ]
  },
  {
   "cell_type": "markdown",
   "metadata": {},
   "source": [
    "<hr><h2>Exercice 04.3 - Number of days in a month</h2><hr>\n"
   ]
  },
  {
   "cell_type": "markdown",
   "metadata": {},
   "source": [
    "Write a program that displays the number of days in a month entered by the user (assume all strings are in lowercase)."
   ]
  },
  {
   "cell_type": "markdown",
   "metadata": {},
   "source": [
    "For example:\n",
    "```\n",
    "What's your month? : june\n",
    "The month june has 30 days\n",
    "\n",
    "```"
   ]
  },
  {
   "cell_type": "code",
   "execution_count": 19,
   "metadata": {},
   "outputs": [
    {
     "name": "stdout",
     "output_type": "stream",
     "text": [
      "Enter a month: april\n",
      "The month of april contains: 30 days\n"
     ]
    }
   ],
   "source": [
    "month = input(\"Enter a month: \").strip().lower()\n",
    "\n",
    "if month == \"january\" or month == \"march\" or month == \"may\" or month == \"july\" or month == \"august\" or month == \"october\" or month == \"december\":\n",
    "    number = 31\n",
    "elif month == \"february\":\n",
    "    number = \"28 or 29\"\n",
    "elif month == \"april\" or month == \"june\" or month == \"september\" or month == \"november\":\n",
    "    number = 30\n",
    "\n",
    "print(\"The month of\",month, \"contains:\",number, \"days\")"
   ]
  },
  {
   "cell_type": "code",
   "execution_count": null,
   "metadata": {},
   "outputs": [
    {
     "name": "stdout",
     "output_type": "stream",
     "text": [
      "month  qweq doesn't exist\n"
     ]
    },
    {
     "ename": "NameError",
     "evalue": "name 'number' is not defined",
     "output_type": "error",
     "traceback": [
      "\u001b[0;31m---------------------------------------------------------------------------\u001b[0m",
      "\u001b[0;31mNameError\u001b[0m                                 Traceback (most recent call last)",
      "\u001b[1;32m/workspaces/esme/booster/04-Answers_TD-Control_Flow_II (Conditional structures).ipynb Cell 16\u001b[0m line \u001b[0;36m1\n\u001b[1;32m     <a href='vscode-notebook-cell://codespaces%2Bfictional-spork-ppqpqwgwwrp2rpp9/workspaces/esme/booster/04-Answers_TD-Control_Flow_II%20%28Conditional%20structures%29.ipynb#X24sdnNjb2RlLXJlbW90ZQ%3D%3D?line=9'>10</a>\u001b[0m         \u001b[39mprint\u001b[39m(\u001b[39m\"\u001b[39m\u001b[39mmonth \u001b[39m\u001b[39m\"\u001b[39m, month, \u001b[39m\"\u001b[39m\u001b[39mdoesn\u001b[39m\u001b[39m'\u001b[39m\u001b[39mt exist\u001b[39m\u001b[39m\"\u001b[39m)\n\u001b[1;32m     <a href='vscode-notebook-cell://codespaces%2Bfictional-spork-ppqpqwgwwrp2rpp9/workspaces/esme/booster/04-Answers_TD-Control_Flow_II%20%28Conditional%20structures%29.ipynb#X24sdnNjb2RlLXJlbW90ZQ%3D%3D?line=10'>11</a>\u001b[0m         quit()\n\u001b[0;32m---> <a href='vscode-notebook-cell://codespaces%2Bfictional-spork-ppqpqwgwwrp2rpp9/workspaces/esme/booster/04-Answers_TD-Control_Flow_II%20%28Conditional%20structures%29.ipynb#X24sdnNjb2RlLXJlbW90ZQ%3D%3D?line=12'>13</a>\u001b[0m \u001b[39mprint\u001b[39m(\u001b[39m\"\u001b[39m\u001b[39mThe month of\u001b[39m\u001b[39m\"\u001b[39m,month, \u001b[39m\"\u001b[39m\u001b[39mcontains:\u001b[39m\u001b[39m\"\u001b[39m,number, \u001b[39m\"\u001b[39m\u001b[39mdays\u001b[39m\u001b[39m\"\u001b[39m)\n",
      "\u001b[0;31mNameError\u001b[0m: name 'number' is not defined"
     ]
    },
    {
     "ename": "",
     "evalue": "",
     "output_type": "error",
     "traceback": [
      "\u001b[1;31mThe Kernel crashed while executing code in the the current cell or a previous cell. Please review the code in the cell(s) to identify a possible cause of the failure. Click <a href='https://aka.ms/vscodeJupyterKernelCrash'>here</a> for more info. View Jupyter <a href='command:jupyter.viewOutput'>log</a> for further details."
     ]
    }
   ],
   "source": [
    "month = input(\"Enter a month: \").strip().lower()\n",
    "match month:\n",
    "    case \"january\" | \"march\" | \"may\" | \"july\" | \"august\" | \"october\" | \"december\":\n",
    "        number = 31\n",
    "    case \"february\":\n",
    "        number = \"28 or 29\"\n",
    "    case \"april\" | \"june\" | \"september\" | \"november\":\n",
    "        number = 30\n",
    "    case _:\n",
    "        print(\"month \", month, \"doesn't exist\")\n",
    "        exit()\n",
    "\n",
    "print(\"The month of\",month, \"contains:\",number, \"days\")"
   ]
  },
  {
   "cell_type": "markdown",
   "metadata": {},
   "source": [
    "<hr><h2>Exercice 04.4 - I can't I have to go to the swimming pool</h2><hr>"
   ]
  },
  {
   "cell_type": "markdown",
   "metadata": {},
   "source": [
    "We want to write a program that computes the price of entry to the city's municipal swimming pool. Here is how the municipal council organized its rates:\n",
    "* On weekends, the swimming pool costs €3.50 for adults and €2 for children (12 years and under) all day long.\n",
    "* During the week, the swimming pool has reduced rates for off-peak hours: €2 for everyone.\n",
    "  * However, it costs €3 for adults and €2 for children during peak hours.\n",
    "  * Peak times are between 10 a.m. and 1 p.m. (included) and between 5 p.m. and 8 p.m. (included).\n"
   ]
  },
  {
   "cell_type": "code",
   "execution_count": 29,
   "metadata": {},
   "outputs": [
    {
     "name": "stdout",
     "output_type": "stream",
     "text": [
      "Enter your age: 2\n",
      "Enter the day (in lowercase letters): saturdy\n",
      "Enter the hour (from 0 to 23) : 2\n",
      "The rate is: 2\n"
     ]
    }
   ],
   "source": [
    "age = int(input(\"Enter your age: \"))\n",
    "day = input(\"Enter the day (in lowercase letters): \")\n",
    "hour = int(input(\"Enter the hour (from 0 to 23) : \"))\n",
    "\n",
    "\n",
    "#weekend\n",
    "if day == \"saturday\" or day == \"sunday\":\n",
    "    if age <= 12:\n",
    "        rate = 2 #Children \n",
    "    else:\n",
    "        rate = 3.50 # Adults\n",
    "else:\n",
    "    # weekday\n",
    "    # peak hours\n",
    "    if (hour >= 10 and hour <= 13) or (hour >= 17 and hour <= 20):\n",
    "        if age <= 12:\n",
    "            rate = 2  \n",
    "        else:\n",
    "            rate = 3  \n",
    "    #off-peak \n",
    "    else:\n",
    "        rate = 2  \n",
    "\n",
    "print(\"The rate is:\",rate)\n",
    "\n"
   ]
  }
 ],
 "metadata": {
  "kernelspec": {
   "display_name": "Python 3",
   "language": "python",
   "name": "python3"
  },
  "language_info": {
   "codemirror_mode": {
    "name": "ipython",
    "version": 3
   },
   "file_extension": ".py",
   "mimetype": "text/x-python",
   "name": "python",
   "nbconvert_exporter": "python",
   "pygments_lexer": "ipython3",
   "version": "3.10.8"
  }
 },
 "nbformat": 4,
 "nbformat_minor": 2
}
