{
 "cells": [
  {
   "cell_type": "markdown",
   "metadata": {},
   "source": [
    "<img style=\"margin-top: 0px\" src=\" data:image/png;base64,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\" align=\"left\" alt=\"logo esme\"  height=\"20\"> \n",
    "<div class=\"alert alert-block alert-info\" style=\"margin-top: 10px; padding: 10px; background: linear-gradient(to right, #f7f9fa, #d9edfb);\">\n",
    "    <h1 style=\"margin-left: 85px\">IngeSUP - Course 19 - Graphical interface with TKinter 2 - Image management</h1>\n",
    "</div>"
   ]
  },
  {
   "cell_type": "markdown",
   "metadata": {},
   "source": [
    "<div style='color: rgb(49, 112, 143)'>\n",
    "    <h3>Contents</h3>\n",
    "</div>"
   ]
  },
  {
   "cell_type": "markdown",
   "metadata": {},
   "source": [
    "* <a href=\"#Canvas-widget\">Canvas widget</a>\n",
    "* <a href=\"#Drawing-on-the-canvas\">Drawing on the canvas</a>\n",
    "    * <a href=\"#Line\">line</a>\n",
    "    * <a href=\"#Rectangle\">Rectangle</a>\n",
    "    * <a href=\"#Ellipse-or-Circle\">Ellipse or Circle</a>\n",
    "    * <a href=\"#Displaying-text-on-a-canvas\">Displaying text on a canvas</a>\n",
    "* <a href=\"#Placing-images\">Placing images</a>\n",
    "* <a href=\"#Modifying-items-during-the-program\">Modifying items during the program</a>\n",
    "    * <a href=\"#Changing-properties\">Changing properties</a>\n",
    "    * <a href=\"#Objects-depth\">Objects depth</a>\n",
    "* <a href=\"#TD-Exercices\">TD Exercices</a>"
   ]
  },
  {
   "cell_type": "markdown",
   "metadata": {},
   "source": [
    "<div class=\"alert alert-block alert-info\" style='color:white; background-color:blue; border-color: blue; '>\n",
    "    <h2>Canvas widget</h2>\n",
    "</div>"
   ]
  },
  {
   "cell_type": "markdown",
   "metadata": {},
   "source": [
    "The *tkinter* module has a widget called **_Canvas_** for drawing on the window. If you want to create a canvas named *C*, the call is made as for all widgets in the following way:"
   ]
  },
  {
   "cell_type": "markdown",
   "metadata": {},
   "source": [
    "<center><code style=\"color: black; background: none; text-shadow: 0 1px white; font-size: 1.1em; font-family: monospace, Courier New; text-align: left; white-space: pre; line-height: 1.2;\">C=Canvas(emplacement, options)</code></center>"
   ]
  },
  {
   "cell_type": "markdown",
   "metadata": {},
   "source": [
    "<table style=\"margin: 10px auto; border: 2px solid #9b3f34; border-radius: 8px; border-collapse: collapse; border-spacing: 0; text-align: justify; font-size: 1em\">\n",
    "    <tbody>\n",
    "        <tr>\n",
    "            <th style=\"padding: 5px; vertical-align: middle; border: 1px solid #fb8007; text-align: center; font-weight: bold; background-color: lightgrey;\">Options</th>\n",
    "            <th style=\"padding: 5px; vertical-align: middle; border: 1px solid #fb8007; text-align: center; font-weight: bold; background-color: lightgrey;\">Effect</th>\n",
    "        </tr>\n",
    "        <tr>\n",
    "            <td style=\"text-align: center; padding: 5px; vertical-align: middle; border: 1px solid #e46e0a;\"><strong>bg</strong></td>\n",
    "            <td style=\"text-align: center; padding: 5px; vertical-align: middle; border: 1px solid #e46e0a;\">Canvas background color</td>\n",
    "        </tr>\n",
    "        <tr>\n",
    "            <td style=\"text-align: center; padding: 5px; vertical-align: middle; border: 1px solid #e46e0a;\"><strong>height</strong></td>\n",
    "            <td style=\"text-align: center; padding: 5px; vertical-align: middle; border: 1px solid #e46e0a;\">Specifies Canvas height</td>\n",
    "        </tr>\n",
    "        <tr>\n",
    "            <td style=\"text-align: center; padding: 5px; vertical-align: middle; border: 1px solid #e46e0a;\"><strong>width</strong></td>\n",
    "            <td style=\"text-align: center; padding: 5px; vertical-align: middle; border: 1px solid #e46e0a;\">Specifies Canvas width</td>\n",
    "        </tr>\n",
    "    </tbody>\n",
    "</table>"
   ]
  },
  {
   "cell_type": "markdown",
   "metadata": {},
   "source": [
    "<div style=\"border-color: #007bff; margin: 1.5625em auto; padding: 0 .6rem .8rem !important; overflow: hidden; page-break-inside: avoid;border-left: .2rem solid #007bff; border-radius: .1rem; box-shadow: 0 .2rem .5rem rgba(0,0,0,.05),0 0 .05rem rgba(0,0,0,.1); transition: color .25s,background-color .25s,border-color .25s;\">\n",
    "    <p style=\"background-color: #e7f2fa; position: relative; margin: 0 -.6rem !important; padding: .4rem .6rem .4rem 2rem; font-weight: 700;\">📝 Note</p>\n",
    "    <p style=\"padding: 0 1.4rem; margin-top: .4em; margin-bottom: 0; font-size: 1em;\">\n",
    "        \n",
    " Once the canvas has been created, place it in the window using the **_place_** method or the **_grid_** method described in the previous chapter.\n",
    "        \n",
    "   </p>\n",
    "</div>"
   ]
  },
  {
   "cell_type": "markdown",
   "metadata": {},
   "source": [
    "<div class=\"alert alert-block alert-info\" style='color:white; background-color:blue; border-color: blue; '>\n",
    "    <h2>Drawing on the canvas</h2>\n",
    "</div>"
   ]
  },
  {
   "cell_type": "markdown",
   "metadata": {},
   "source": [
    "On a Canvas (noted here as *C*), you can draw different types of object, known as **item**. We're going to cover just a tiny fraction of the possibilities offered by the Canvas."
   ]
  },
  {
   "cell_type": "markdown",
   "metadata": {},
   "source": [
    "<div style='color: forestgreen'>\n",
    "   <h3>Line</h3>\n",
    "</div>"
   ]
  },
  {
   "cell_type": "markdown",
   "metadata": {},
   "source": [
    "<center><code style=\"color: black; background: none; text-shadow: 0 1px white; font-size: 1.1em; font-family: monospace, Courier New; text-align: left; white-space: pre; line-height: 1.2;\">ligne=C.create_line(x1,y1,x2,y2,options)</code></center>"
   ]
  },
  {
   "cell_type": "markdown",
   "metadata": {},
   "source": [
    "This command draws a segment connecting the point with coordinates $(x1,y1)$ (included) to the point with coordinates $(x2,y2)$ (excluded). Options can be specified:"
   ]
  },
  {
   "cell_type": "markdown",
   "metadata": {},
   "source": [
    "<table style=\"margin: 10px auto; border: 2px solid #9b3f34; border-radius: 8px; border-collapse: collapse; border-spacing: 0; text-align: justify; font-size: 1em\">\n",
    "    <tbody>\n",
    "        <tr>\n",
    "            <th style=\"padding: 5px; vertical-align: middle; border: 1px solid #fb8007; text-align: center; font-weight: bold; background-color: lightgrey;\">Options</th>\n",
    "            <th style=\"padding: 5px; vertical-align: middle; border: 1px solid #fb8007; text-align: center; font-weight: bold; background-color: lightgrey;\">Effect</th>\n",
    "        </tr>\n",
    "        <tr>\n",
    "            <td style=\"text-align: center; padding: 5px; vertical-align: middle; border: 1px solid #e46e0a;\"><strong>width</strong></td>\n",
    "            <td style=\"text-align: center; padding: 5px; vertical-align: middle; border: 1px solid #e46e0a;\">Line thickness in pixels</td>\n",
    "        </tr>\n",
    "        <tr>\n",
    "            <td style=\"text-align: center; padding: 5px; vertical-align: middle; border: 1px solid #e46e0a;\"><strong>fill</strong></td>\n",
    "            <td style=\"text-align: center; padding: 5px; vertical-align: middle; border: 1px solid #e46e0a;\">Line color</td>\n",
    "        </tr>\n",
    "    </tbody>\n",
    "</table>"
   ]
  },
  {
   "cell_type": "markdown",
   "metadata": {},
   "source": [
    "Exemple d'utilisation :"
   ]
  },
  {
   "cell_type": "code",
   "execution_count": 3,
   "metadata": {},
   "outputs": [],
   "source": [
    "from tkinter import *\n",
    "\n",
    "root = Tk()\n",
    "root.geometry('800x600')\n",
    "root.title('Canvas Demo')\n",
    "\n",
    "canvas = Canvas(root, width=600, height=400, bg='white')\n",
    "canvas.pack()\n",
    "canvas.create_line((50, 50), (100, 100), width=4, fill='red')\n",
    "\n",
    "root.mainloop()"
   ]
  },
  {
   "cell_type": "markdown",
   "metadata": {},
   "source": [
    "<div style='color: forestgreen'>\n",
    "   <h3>Rectangle</h3>\n",
    "</div>"
   ]
  },
  {
   "cell_type": "markdown",
   "metadata": {},
   "source": [
    "<center><code style=\"color: black; background: none; text-shadow: 0 1px white; font-size: 1.1em; font-family: monospace, Courier New; text-align: left; white-space: pre; line-height: 1.2;\">rect=C.create_rectangle(x1,y1,x2,y2,options)</code></center>"
   ]
  },
  {
   "cell_type": "markdown",
   "metadata": {},
   "source": [
    "This command draws a rectangle whose two opposite vertices have coordinates $(x1,y1)$ and $(x2,y2)$. You can also specify options:"
   ]
  },
  {
   "cell_type": "markdown",
   "metadata": {},
   "source": [
    "<table style=\"margin: 10px auto; border: 2px solid #9b3f34; border-radius: 8px; border-collapse: collapse; border-spacing: 0; text-align: justify; font-size: 1em\">\n",
    "    <tbody>\n",
    "        <tr>\n",
    "            <th style=\"padding: 5px; vertical-align: middle; border: 1px solid #fb8007; text-align: center; font-weight: bold; background-color: lightgrey;\">Options</th>\n",
    "            <th style=\"padding: 5px; vertical-align: middle; border: 1px solid #fb8007; text-align: center; font-weight: bold; background-color: lightgrey;\">Effect</th>\n",
    "        </tr>\n",
    "        <tr>\n",
    "            <td style=\"text-align: center; padding: 5px; vertical-align: middle; border: 1px solid #e46e0a;\"><strong>width</strong></td>\n",
    "            <td style=\"text-align: center; padding: 5px; vertical-align: middle; border: 1px solid #e46e0a;\">Line thickness in pixels</td>\n",
    "        </tr>\n",
    "        <tr>\n",
    "            <td style=\"text-align: center; padding: 5px; vertical-align: middle; border: 1px solid #e46e0a;\"><strong>outline</strong></td>\n",
    "            <td style=\"text-align: center; padding: 5px; vertical-align: middle; border: 1px solid #e46e0a;\">Line color</td>\n",
    "        </tr>\n",
    "        <tr>\n",
    "            <td style=\"text-align: center; padding: 5px; vertical-align: middle; border: 1px solid #e46e0a;\"><strong>fill</strong></td>\n",
    "            <td style=\"text-align: center; padding: 5px; vertical-align: middle; border: 1px solid #e46e0a;\">Color of rectangle interior</td>\n",
    "        </tr>\n",
    "    </tbody>\n",
    "</table>"
   ]
  },
  {
   "cell_type": "markdown",
   "metadata": {},
   "source": [
    "Example:"
   ]
  },
  {
   "cell_type": "code",
   "execution_count": 4,
   "metadata": {},
   "outputs": [],
   "source": [
    "import tkinter as tk\n",
    "\n",
    "root = Tk()\n",
    "root.geometry('800x600')\n",
    "root.title('Canvas Demo - Rectangle')\n",
    "\n",
    "canvas = Canvas(root, width=600, height=400, bg='white')\n",
    "canvas.pack()\n",
    "\n",
    "canvas.create_rectangle((100, 100), (300, 300), fill='green')\n",
    "\n",
    "root.mainloop()"
   ]
  },
  {
   "cell_type": "markdown",
   "metadata": {},
   "source": [
    "<div style='color: forestgreen'>\n",
    "   <h3>Ellipse or Circle</h3>\n",
    "</div>"
   ]
  },
  {
   "cell_type": "markdown",
   "metadata": {},
   "source": [
    "<center><code style=\"color: black; background: none; text-shadow: 0 1px white; font-size: 1.1em; font-family: monospace, Courier New; text-align: left; white-space: pre; line-height: 1.2;\">el=C.create_oval(x1,y1,x2,y2,options)</code></center>"
   ]
  },
  {
   "cell_type": "markdown",
   "metadata": {},
   "source": [
    "This command draws an ellipse inscribed in an (imaginary) rectangle whose two opposite vertices have coordinates $(x1,y1)$ and $(x2,y2)$. The `create_oval` method has the same options as `create_rectangle`."
   ]
  },
  {
   "cell_type": "code",
   "execution_count": 5,
   "metadata": {},
   "outputs": [],
   "source": [
    "from tkinter import *\n",
    "\n",
    "root = Tk()\n",
    "root.geometry('800x600')\n",
    "root.title('Canvas Demo - Oval')\n",
    "\n",
    "canvas = Canvas(root, width=600, height=400, bg='white')\n",
    "canvas.pack()\n",
    "\n",
    "\n",
    "points = (\n",
    "    (50, 150),\n",
    "    (200, 350),\n",
    ")\n",
    "canvas.create_oval(*points, fill='purple')    # another way of managing points\n",
    "\n",
    "root.mainloop()"
   ]
  },
  {
   "cell_type": "markdown",
   "metadata": {},
   "source": [
    "<div style='color: forestgreen'>\n",
    "   <h3>Displaying text on a canvas</h3>\n",
    "</div>"
   ]
  },
  {
   "cell_type": "markdown",
   "metadata": {},
   "source": [
    "<center><code style=\"color: black; background: none; text-shadow: 0 1px white; font-size: 1.1em; font-family: monospace, Courier New; text-align: left; white-space: pre; line-height: 1.2;\">txt=C.create_text(x,y,options)</code></center>"
   ]
  },
  {
   "cell_type": "markdown",
   "metadata": {},
   "source": [
    "This command displays text at the point with coordinates $(x,y)$."
   ]
  },
  {
   "cell_type": "markdown",
   "metadata": {},
   "source": [
    "<table style=\"margin: 10px auto; border: 2px solid #9b3f34; border-radius: 8px; border-collapse: collapse; border-spacing: 0; text-align: justify; font-size: 1em\">\n",
    "    <tbody>\n",
    "        <tr>\n",
    "            <th style=\"padding: 5px; vertical-align: middle; border: 1px solid #fb8007; text-align: center; font-weight: bold; background-color: lightgrey;\">Options</th>\n",
    "            <th style=\"padding: 5px; vertical-align: middle; border: 1px solid #fb8007; text-align: center; font-weight: bold; background-color: lightgrey;\">Effect</th>\n",
    "        </tr>\n",
    "        <tr>\n",
    "            <td style=\"text-align: center; padding: 5px; vertical-align: middle; border: 1px solid #e46e0a;\"><strong>anchor</strong></td>\n",
    "            <td style=\"text-align: center; padding: 5px; vertical-align: middle; border: 1px solid #e46e0a;\">Specifies text attachment position relative to the point with coordinates $(x,y)$. By default, text is centered around the 'center' point. It can also take the values 'n', 'e', 's', 'w', 'nw', 'ne', 'sw' or 'se'. These acronyms have the same meaning as widgets in the <b>grid</b> (cf previous chapter)</td>\n",
    "        </tr>\n",
    "        <tr>\n",
    "            <td style=\"text-align: center; padding: 5px; vertical-align: middle; border: 1px solid #e46e0a;\"><strong>fill</strong></td>\n",
    "            <td style=\"text-align: center; padding: 5px; vertical-align: middle; border: 1px solid #e46e0a;\">Text color</td>\n",
    "        </tr>\n",
    "        <tr>\n",
    "            <td style=\"text-align: center; padding: 5px; vertical-align: middle; border: 1px solid #e46e0a;\"><strong>font</strong></td>\n",
    "            <td style=\"text-align: center; padding: 5px; vertical-align: middle; border: 1px solid #e46e0a;\">Font used (as for the widget <em> label</em>)</td>\n",
    "        </tr>\n",
    "        <tr>\n",
    "            <td style=\"text-align: center; padding: 5px; vertical-align: middle; border: 1px solid #e46e0a;\"><strong>text</strong></td>\n",
    "            <td style=\"text-align: center; padding: 5px; vertical-align: middle; border: 1px solid #e46e0a;\">A character string containing the text to be displayed</td>\n",
    "        </tr>\n",
    "    </tbody>\n",
    "</table>"
   ]
  },
  {
   "cell_type": "code",
   "execution_count": 6,
   "metadata": {},
   "outputs": [],
   "source": [
    "from tkinter import *\n",
    "\n",
    "root = Tk()\n",
    "root.geometry('800x600')\n",
    "root.title('Canvas Demo - Text')\n",
    "\n",
    "canvas = Canvas(root, width=600, height=400, bg='white')\n",
    "canvas.pack()\n",
    "\n",
    "\n",
    "canvas.create_text(\n",
    "    (300, 100),\n",
    "    text=\"Canvas Demo\",\n",
    "    fill=\"orange\",\n",
    "    font='tkDefaultFont 24'\n",
    ")\n",
    "\n",
    "root.mainloop()"
   ]
  },
  {
   "cell_type": "markdown",
   "metadata": {},
   "source": [
    "<div class=\"alert alert-block alert-info\" style='color:white; background-color:blue; border-color: blue; '>\n",
    "    <h2>Placing images</h2>\n",
    "</div>"
   ]
  },
  {
   "cell_type": "markdown",
   "metadata": {},
   "source": [
    "There are different image formats. The *tkinter* module works very well with GIF images (non-animated). These are 256-color images, with the option of a transparent color, which is well suited to our case. "
   ]
  },
  {
   "cell_type": "markdown",
   "metadata": {},
   "source": [
    "Placing an image is no more complex than displaying text, and takes place in two stages:"
   ]
  },
  {
   "cell_type": "markdown",
   "metadata": {},
   "source": [
    "<div style='color: cadetblue'>\n",
    "    <h4>Step 1</h4>\n",
    "</div>"
   ]
  },
  {
   "cell_type": "markdown",
   "metadata": {},
   "source": [
    "We load the image into a global variable (in this case *fileimg*) using the command"
   ]
  },
  {
   "cell_type": "markdown",
   "metadata": {},
   "source": [
    "<center><code style=\"color: black; background: none; text-shadow: 0 1px white; font-size: 1.1em; font-family: monospace, Courier New; text-align: left; white-space: pre; line-height: 1.2;\">fileimg = PhotoImage(file=\"image.gif\")</code></center><br>\n",
    "<center><small><em>(If the image file is named 'image.gif', of course !)</em></small></center>"
   ]
  },
  {
   "cell_type": "markdown",
   "metadata": {},
   "source": [
    "<div style='color: cadetblue'>\n",
    "    <h4>Step 2</h4>\n",
    "</div>"
   ]
  },
  {
   "cell_type": "markdown",
   "metadata": {},
   "source": [
    "<center><code style=\"color: black; background: none; text-shadow: 0 1px white; font-size: 1.1em; font-family: monospace, Courier New; text-align: left; white-space: pre; line-height: 1.2;\">img = C.create_image(x,y,options)</code></center>"
   ]
  },
  {
   "cell_type": "markdown",
   "metadata": {},
   "source": [
    "The *options* parameter is used to enter properties. For example:"
   ]
  },
  {
   "cell_type": "markdown",
   "metadata": {},
   "source": [
    "<table style=\"margin: 10px auto; border: 2px solid #9b3f34; border-radius: 8px; border-collapse: collapse; border-spacing: 0; text-align: justify; font-size: 1em\">\n",
    "    <tbody>\n",
    "        <tr>\n",
    "            <th style=\"padding: 5px; vertical-align: middle; border: 1px solid #fb8007; text-align: center; font-weight: bold; background-color: lightgrey;\">Options</th>\n",
    "            <th style=\"padding: 5px; vertical-align: middle; border: 1px solid #fb8007; text-align: center; font-weight: bold; background-color: lightgrey;\">Effect</th>\n",
    "        </tr>\n",
    "        <tr>\n",
    "            <td style=\"text-align: center; padding: 5px; vertical-align: middle; border: 1px solid #e46e0a;\"><strong>image</strong></td>\n",
    "            <td style=\"text-align: center; padding: 5px; vertical-align: middle; border: 1px solid #e46e0a;\">Indicates the image to be displayed (<em>fileimg</em> in our example).</td>\n",
    "        </tr>\n",
    "        <tr>\n",
    "            <td style=\"text-align: center; padding: 5px; vertical-align: middle; border: 1px solid #e46e0a;\"><strong>anchor</strong></td>\n",
    "            <td style=\"text-align: center; padding: 5px; vertical-align: middle; border: 1px solid #e46e0a;\">Specifies the attachment position of the image relative to the point with coordinates $(x,y)$. By default, the image is centered around the point (value 'center'), but the parameter can take other values 'n','e','s','w','nw','ne','sw' or 'se'.</td>\n",
    "        </tr>\n",
    "    </tbody>\n",
    "</table>"
   ]
  },
  {
   "cell_type": "markdown",
   "metadata": {},
   "source": [
    "<div style=\"border-color: rgba(40, 167, 70, 0.294); margin: 1.5625em auto; padding: 0 .6rem .8rem !important; overflow: hidden; page-break-inside: avoid; border-left: .2rem solid rgba(40, 167, 70, 0.294); border-radius: .1rem; box-shadow: 0 .2rem .5rem rgba(0,0,0,.05),0 0 .05rem rgba(0,0,0,.1); transition: color .25s,background-color .25s,border-color .25s;\">\n",
    "    <p style=\"background-color: rgba(40,167,70,0.1); position: relative; margin: 0 -.6rem !important; padding: .4rem .6rem .4rem 2rem; font-weight: 700;\">💡 Information</p>\n",
    "    <p style=\"padding: 0 1.4rem; margin-top: .4em; margin-bottom: 0; font-size: 1em;\">You must therefore have loaded our image into a variable via  <strong><em>PhotoImage</em></strong> before you can display it in the Canvas using <code>create_image()</code>.</p>\n",
    "</div>"
   ]
  },
  {
   "cell_type": "markdown",
   "metadata": {},
   "source": [
    "<div style=\"border-color: #007bff; margin: 1.5625em auto; padding: 0 .6rem .8rem !important; overflow: hidden; page-break-inside: avoid;border-left: .2rem solid #007bff; border-radius: .1rem; box-shadow: 0 .2rem .5rem rgba(0,0,0,.05),0 0 .05rem rgba(0,0,0,.1); transition: color .25s,background-color .25s,border-color .25s;\">\n",
    "    <p style=\"background-color: #e7f2fa; position: relative; margin: 0 -.6rem !important; padding: .4rem .6rem .4rem 2rem; font-weight: 700;\">📝 Note</p>\n",
    "    <p style=\"padding: 0 1.4rem; margin-top: .4em; margin-bottom: 0; font-size: 1em;\">\n",
    "        \n",
    "As with files, you can specify a relative path for the image location if it is not in the same place as your program.\n",
    "\n",
    "   </p>\n",
    "</div>"
   ]
  },
  {
   "cell_type": "markdown",
   "metadata": {},
   "source": [
    "<div style='color: cadetblue'>\n",
    "    <h4>Example</h4>\n",
    "</div>\n",
    "\n",
    "For the following example to display anything, you need an image named \"python.gif\" in the same folder as the jupyter notebook."
   ]
  },
  {
   "cell_type": "code",
   "execution_count": 16,
   "metadata": {},
   "outputs": [],
   "source": [
    "from tkinter import *\n",
    "\n",
    "root = Tk()\n",
    "root.geometry('800x600')\n",
    "root.title('Canvas Demo - Image')\n",
    "\n",
    "canvas = Canvas(root, width=600, height=400, bg='white')\n",
    "canvas.pack()\n",
    "\n",
    "python_image = PhotoImage(file='python.gif')\n",
    "\n",
    "canvas.create_image(\n",
    "    (100, 100),\n",
    "    image=python_image\n",
    ")\n",
    "\n",
    "root.mainloop()"
   ]
  },
  {
   "cell_type": "markdown",
   "metadata": {},
   "source": [
    "<div class=\"alert alert-block alert-info\" style='color:white; background-color:blue; border-color: blue; '>\n",
    "    <h2>Modifying items during the program</h2>\n",
    "</div>"
   ]
  },
  {
   "cell_type": "markdown",
   "metadata": {},
   "source": [
    "Now that we know how to place images and other items on the window, it's important to be able to move or modify them as we go."
   ]
  },
  {
   "cell_type": "markdown",
   "metadata": {},
   "source": [
    "<div style='color: forestgreen'>\n",
    "   <h3>Changing properties</h3>\n",
    "</div>"
   ]
  },
  {
   "cell_type": "markdown",
   "metadata": {},
   "source": [
    "Various methods on the *Canvas* widget can be used to modify the properties of placed items:"
   ]
  },
  {
   "cell_type": "markdown",
   "metadata": {},
   "source": [
    "<table style=\"margin: 10px auto; border: 2px solid #9b3f34; border-radius: 8px; border-collapse: collapse; border-spacing: 0; text-align: justify; font-size: 1em\">\n",
    "    <tbody>\n",
    "        <tr>\n",
    "            <th style=\"padding: 5px; vertical-align: middle; border: 1px solid #fb8007; text-align: center; font-weight: bold; background-color: lightgrey;\">Method</th>\n",
    "            <th style=\"padding: 5px; vertical-align: middle; border: 1px solid #fb8007; text-align: center; font-weight: bold; background-color: lightgrey;\">Effect</th>\n",
    "        </tr>\n",
    "        <tr>\n",
    "            <td style=\"text-align: center; padding: 5px; vertical-align: middle; border: 1px solid #e46e0a;\"><strong>C.delete(<em>item</em>)</strong></td>\n",
    "            <td style=\"text-align: center; padding: 5px; vertical-align: middle; border: 1px solid #e46e0a;\">Deletes the item <em>item</em> of Canvas C</td>\n",
    "        </tr>\n",
    "        <tr>\n",
    "            <td style=\"text-align: center; padding: 5px; vertical-align: middle; border: 1px solid #e46e0a;\"><strong>C.delete(ALL)</strong></td>\n",
    "            <td style=\"text-align: center; padding: 5px; vertical-align: middle; border: 1px solid #e46e0a;\">Deletes everything in the Canvas C<./td>\n",
    "        </tr>\n",
    "        <tr>\n",
    "            <td style=\"text-align: center; padding: 5px; vertical-align: middle; border: 1px solid #e46e0a;\"><strong>C.coords(<em>item</em>, x0, y0)</strong>, <strong>C.coords(<em>item</em>, x1, y1,x2,y2)</strong></td>\n",
    "            <td style=\"text-align: center; padding: 5px; vertical-align: middle; border: 1px solid #e46e0a;\">Modifies item coordinates. Two or four coordinates are taken, depending on the object to be moved.</td>\n",
    "        </tr>\n",
    "        <tr>\n",
    "            <td style=\"text-align: center; padding: 5px; vertical-align: middle; border: 1px solid #e46e0a;\"><strong>C.itemconfig(item, options)</strong></td>\n",
    "            <td style=\"text-align: center; padding: 5px; vertical-align: middle; border: 1px solid #e46e0a;\">Allows you to modify one or more item options <em>item</em></td>\n",
    "        </tr>\n",
    "        <tr>\n",
    "            <td style=\"text-align: center; padding: 5px; vertical-align: middle; border: 1px solid #e46e0a;\"><strong>C.itemcget(item, prop)</strong></td>\n",
    "            <td style=\"text-align: center; padding: 5px; vertical-align: middle; border: 1px solid #e46e0a;\">Returns the value of the <em>prop</em> of the <em>item</em></td>\n",
    "        </tr>\n",
    "    </tbody>\n",
    "</table>"
   ]
  },
  {
   "cell_type": "markdown",
   "metadata": {},
   "source": [
    "If you wish to modify several options at once, separate the properties with a comma, e.g. :"
   ]
  },
  {
   "cell_type": "markdown",
   "metadata": {},
   "source": [
    "<center><code style=\"color: black; background: none; text-shadow: 0 1px white; font-size: 1.1em; font-family: monospace, Courier New; text-align: left; white-space: pre; line-height: 1.2;\">C.itemconfig(titre,text='Gagné', fill='red')</code></center>"
   ]
  },
  {
   "cell_type": "markdown",
   "metadata": {},
   "source": [
    "transforms the content of the text *title* placed on Canvas C into \"Won\" and writes it in red."
   ]
  },
  {
   "cell_type": "markdown",
   "metadata": {},
   "source": [
    "<div style='color: forestgreen'>\n",
    "   <h3>Objects depth</h3>\n",
    "</div>"
   ]
  },
  {
   "cell_type": "markdown",
   "metadata": {},
   "source": [
    "As you may have observed, image objects are superimposed in the order in which they are created, i.e. if you create the background first, some images will be invisible because they are behind the scenery."
   ]
  },
  {
   "cell_type": "markdown",
   "metadata": {},
   "source": [
    "This order can be changed during the program using two methods described here:"
   ]
  },
  {
   "cell_type": "markdown",
   "metadata": {},
   "source": [
    "<table style=\"margin: 10px auto; border: 2px solid #9b3f34; border-radius: 8px; border-collapse: collapse; border-spacing: 0; text-align: justify; font-size: 1em\">\n",
    "    <tbody>\n",
    "        <tr>\n",
    "            <th style=\"padding: 5px; vertical-align: middle; border: 1px solid #fb8007; text-align: center; font-weight: bold; background-color: lightgrey;\">Method</th>\n",
    "            <th style=\"padding: 5px; vertical-align: middle; border: 1px solid #fb8007; text-align: center; font-weight: bold; background-color: lightgrey;\">Effect</th>\n",
    "        </tr>\n",
    "        <tr>\n",
    "            <td style=\"text-align: center; padding: 5px; vertical-align: middle; border: 1px solid #e46e0a;\"><strong>C.tag_raise(<em>obj</em>)</strong></td>\n",
    "            <td style=\"text-align: center; padding: 5px; vertical-align: middle; border: 1px solid #e46e0a;\">Places object <em>obj</em> in foreground of Canvas C</td>\n",
    "        </tr>\n",
    "        <tr>\n",
    "            <td style=\"text-align: center; padding: 5px; vertical-align: middle; border: 1px solid #e46e0a;\"><strong>C.tag_lower(<em>obj</em>)</strong></td>\n",
    "            <td style=\"text-align: center; padding: 5px; vertical-align: middle; border: 1px solid #e46e0a;\">Places the <em>obj</em> object in the background of Canvas C</td>\n",
    "        </tr>\n",
    "    </tbody>\n",
    "</table>"
   ]
  },
  {
   "cell_type": "markdown",
   "metadata": {},
   "source": [
    "<div class=\"alert alert-block alert-info\" style='color:white; background-color:blue; border-color: blue; '>\n",
    "    <h2>TD Exercices</h2>\n",
    "</div>"
   ]
  },
  {
   "cell_type": "markdown",
   "metadata": {},
   "source": [
    "You can now practice using the notebook  [TD 19 - Graphical interface with Tkinter 2 - Image management](../TD/TD%2019%20-%20Interface%20graphique%20avec%20Tkinter%202%20-%20Gestion%20des%20images.ipynb#IngeSUP---TD-19---Interface-graphique-avec-TKinter-2---Gestion-des-images)."
   ]
  }
 ],
 "metadata": {
  "kernelspec": {
   "display_name": "Python 3",
   "language": "python",
   "name": "python3"
  },
  "language_info": {
   "codemirror_mode": {
    "name": "ipython",
    "version": 3
   },
   "file_extension": ".py",
   "mimetype": "text/x-python",
   "name": "python",
   "nbconvert_exporter": "python",
   "pygments_lexer": "ipython3",
   "version": "3.8.8"
  }
 },
 "nbformat": 4,
 "nbformat_minor": 2
}
