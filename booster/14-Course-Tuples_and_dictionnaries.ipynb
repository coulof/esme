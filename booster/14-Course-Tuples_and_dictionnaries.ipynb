{
  "cells": [
    {
      "cell_type": "markdown",
      "metadata": {
        "id": "yYltVqY3WLLw"
      },
      "source": [
        "<img style=\"margin-top: 0px\" src=\" data:image/png;base64,iVBORw0KGgoAAAANSUhEUgAAAE8AAABYCAYAAAC056qlAAAT8ElEQVR4nO1deZAc1Xn/dU/Pfe/M3itpJe2iA11ISKCAkRQjTgcIoBCTKjtgILbhDxK7oMIRYoixK45dwRjbsl0YZCAEEUsJEggbc+kKIFkK6AKde+/Ozu7OsXPPdKe+1z17dvfsjmZnRVm/qq7dnfm63/e+973veu/1cnNu+BkU3ATg7wAsBiDgPMYiB+AzAM8C+A1GCOm7AB46L66CqAOwFsAVAO4m4V15XnCTxl0A3ucBPPo5Y/xcwcMkvAv/1KVQJGaS8LKfS9anH1lB8SKq4DhAlIB4IoOcKNInZeBYgoHn4bAZ5b8k4oNDNicinsxAog+mlA8JPM/BbjGC53mlPVWImiGJgeeQTOfQ3hNBQ7UTFpMJmo8pIThFYKLCtFEwoHcgjmg8hRnVLsbXVPJB7aczOZzpiqDGZ4fTZmIDpwZN4aWyIvrDCXz33jW47aoFbCTKJbwT7QPY8OBWcOAQjaVgtwjY+PA1WL24DoKBn3LhJdNZbNt1Eo888x7TQrPRoEqrKbz2rjC+8qXF+Mc7Vk8hq+rgeUAURUgSh95gDM/9y1/g1i/OKysP925YjpauMH7w7F7MmVWhzqfWzWIyg5WLaqeSP030R5LMztHUtdpNWHpB9bTwserCWmZDtOyepvBo+JPJc8MRk8OaDiSo/wYdEenxJGp7mrJiuvgo1K6u8KYLFS4LmyrnyNhp4qyqJ23dERg1PFGxyHtbirF4ST1EGInO3kHsPtgOu9XI4tKJIidKLCRZf+lsFo4Ug6KF97f/vB0vv3kEM2pcJRceaZzVLLD4ajCe1qSl+G/tPS/i+OEuCF7bpIRHbWR7Ilh/3SL87qd/rUpTVWEDMpo5RHHCE0UJez/uQCqdRSiaKuYROhjOMAoJoz0QZeFE7Rw/TEXMgEyFDX/8tAePbdzFYslR4IBDJ3pR4Xcwz6+GojXP77GiM2iGy16cyhcCaUYhm8eygVQWg4k0zNnJd4WyFcLjP3yLNEJ+IjVKn1uMcHhtaKhysumthqKF19odwWDbgO60mgzI7tRVOpDJFrZzecyqc2PdJY04cKwHHqe56La9Fw7HsyRO4qGtJwKH1chmmRaKEh5p8U1rL8Cp5qqzYjoPnuPQ0x/H4ZO9MJuECdsur9OCt39+O5u6dF8pQG2Tpr2x+xQe/PE7MBj4yadneiAb8PQD60vCbB6//+AMrvrGy2isd2vaGC3MqnWXlBfCPTcvw+nOEL7/qz2TT8/KjVgiDY4fLzSSI6/yeTmwYkENc2CTT8/KDIq71BSObA5VdKYDLD3ji0zPphusppjIYOeBtmnhpFB6dk6vz5Ijqaly4vFf7oYg8LhkkVzPG4uRGitXnjGm2iyx2uDIj0ijqex1NhWbc0Z4VLUVs6PjKRp3t8OMgWgS33hyBzxOC/N+I0HOhRtzzzjZKRj5EWlVsC+G269fjOe/c73qoBRCUcKj0X1j90n0R5OwlCBEoE7tO9oNl8s6ytPmU7XIYJotpoSCMUU8CowCGmpd7JNRRn0iBQUOsNnN2LHnJMKDKfjc1knzXaTwJHz9ezvQdqQbnN9RzCNGgYRE6Vitf3SQTE4kHEvgga9egrkN3lECIn3r6hvE0y/vZ964mAKF1ZxDpceGSSXFI1C02tRXOtFXn0SV11bsI0aB+B+bXTDhRVO484almFU7vgBBRdJ/2/QBDAIPo1Cc7+O44tfiiva21FGyPxSbleKiXkgYnc9Sx8hRUKqkhhNtA0zAgk44odt5nmPZRE4nBdND0RlGKptD9Fg3olMQ3fNGA+bUe5i31YPNasRAKI6BeAZwFJEm9g2Ca66CxVRcTbLo3PYXD12D965eCK/LUlTD2s/mEBiI4Re/PYhsTl8jmmZ4sfHR67B91wl4mbOZeDuiYhLuuHFJ+Yuhq5fUs2sqkM7m8PR/7i8oPCg5KF3TgXMySD7dEWJTdppS2gnjnE7PznVoC0+SSlYjOxuQJy5FIF4MCrWrq3mlqhJPFvkSFP2Ix9KTqi6XEjFabE/nNHdlaQrPV+XCL7ccxNHTfWVnusprV5YSeFjMAp741S65PFRG0OLSUy/tg9tn1/Ti3Nwbf9qhbFQeBQpOOwODqHBbcOWqRtiUmtpUr0MTn5FYGu/ub2EpmMlkQEtnCMvmVWP5/Joy7ZLK4f0DrWxdmpZWs+qaH+aa/vInqsIjEKNU0Qj0x/U2+ZUctIw4XFqXWOzX0xdjCXxZwNHqoA1+t1Vzbx4JTwCv/iXTVB7gDRI4IQdpgikMdZQa9Vc4EB1MsuQ9p83AOFDAWutzUhjLykb0PMq+eEGU+SjTGAYjUWTFDOoqaelRVJ1zAserc0OJdmcwApfdjK/dsAx2q6nwnOXAFsLfP9iCI5+2o7bOi69ctxhuh2VC91LUf+R0L3b9Xwtm1riZQaZq8pmufixpqsHKhfVy3a1MuyzPdIbwweF2ODQyEAEawgtG4/B5rNjyvS9j8dzJVVu7+qK46e834YE71+KWtZPfbH/39/8bm3YcRGONF62BENZe3IjNT9wmD2AZ8druY9j63mE0zfKprujxbHhVrkAwjLtuXDFpwRFo2u187ptFCY7w5NevhMtpRjSVQiKbxj/dubbsgiOEYinAxKnKh5k0cCJUL4MIp634VSvTWeRWFOf5vVaksmk47MaiSuSlADlJjteQDydq2zwYgFRmenaG0obqnJiDQZCQEcVp44PjZOGRjNRiPUHiNDwhJ0Lipmt3oQSJjbgkj3JZPIQqF5B4CUxGKtLT0TyRSX66wNqmEdfirwyornBAymVA4RzHjTcdAqcR57H4T8ds7fzkFP59y044LGZEkyksb6rHAxvWae6T+5+9h/Hsmx/CY7chEk9i5bwZ+PaGNTAa1Ok5gwhemTJ6fGzdcwinOvvgtJW6KAvsP94Ov8/O4kxOZYZqah4beR3N+4eNW7Hvf4/AVF2BdCaLLdt3Y0VzA65dOX8cbSyZxn3P/BfaTnbAVOFGOpPBlh17cemCmVi3tEml8by9oSsHrTM/J7v6cOsTzyEXjYO3T37pUBcc4LFb0VDpZsVZNQi8hs2jUdfKIskLmY08qudWw+eSk/jTPRxiyaQqfSKdgdNqxIy51XBaLSxzaA0MIJbQTrdY+5ysfVqaF0umUOmxwF7tgslY+rIVNZvNZTSLsppBMtk8Pc0zmw0QSfBkUGkFS4DmPjbKEsxmHuFEnl6EYOT0t8Ly0vClMYhGAw9B4JCTcnTcTvtZkwBbipzgYoi28Hj9aTuucyWlV77L02v0JZ3Lob0vyHbOW82lCaJ9Tju8TjsyGlN1JATohCq6q8Hs+5zyU4JWgWE0/ZhLLwSh5/HK8zXQWFWBVx++h2nK2D0sxeK3ew5g+0efoNpTeJe/oBWOyF5Yu3PkfeRLGrr0hD3kAIboc5r0XJ6ey4dL6ny47VbcctlFBbo4OZzo7MGmt/egxusseJ+g5oLlzub047whIYjDwtDopGxHxNGXji2Td4ONeG4Z481oIs6coZZcRkKznocCoYpst0RlukrD01cLeVpGLxaMI0fTlxGcHB5NpF3NacsXcAAcP2Ya0u86DY2c3nTx9FPPLPCy5vEaeeVUYSifnYC2a2YYnEF/2soJs3JRqVw3tJHG0Ivy6GoKRRqRlJc3t2V7hrh8u/rQdhjcRDRpjMPQ0yRMkn4EbTlhEgRIhey9Ah2HUWDajnIAYNmA3vTilIxh6B5eh57DKJOgNYqtwT489MJ/sLNqJuHsT19SyHMm0IvGSt/EHAavESTzvL70ecUeyfcraZQuY8P0EvL3aWh9Pj3jczIfGnThWAyb9+6GYDDAajr74wbUit/phNcx0SBZq9MF0rOhWlu+0soXoh9BNyFvK8k8iNp0tJW2scbHhGcxlu6sRkbMTGgXj2YxVCqQAUhKGEF0EkT57wIZg5SnZ5d2XCjr5jCtFl0mm0V/PAyHxYKsWPqDLvROF4vRpHkeQ8fm6WsSp2gRs18QFXodToZCgOFLk3QoVNGnq/N6saChHq3B3qEdDaUE242PnKZt1q7n6Rl0Jc7j87GeVDg2GqLl5fgu7xA0n8/KUZJuMdTndOH1Bx9DIBKGWSh9SWrbgY/w2ObfoL7Cr1ppEXiNDhh4/SCWOQzqoBJyaD2HQSlu8solcXmHoU3Pj6DX48NhsbJrKtBQ4UMqk5J5UFsA0txuUcABMI3Ip09SfgpPPD3jCnhzGOTns2B6mhBLxVndUXZuqpqnVxjQCz+USi8njghVtDMMmTbHfkpD9+nR55SpK+odPJxysHCJ2V4V4Z1dPU+5kBfGBOmHLj16SXFCIuzm0i7uTBj5cExj6ZEfVypSrhwysJrUq7Ny8ZH0IzuCPg2XVd32eGwOpkGy55LpRWThtKifHvLaXbLWGUQMpgZxuP1UGSQ1HjRoopRRlQ8n7xhQ1xibSUDfYAi9kdCoOIdTdjPlxDRMRk5OuyQJFqOAjoGAKn04EWPaSWs0nLKwZDYZ0DHQg8ZIzTj6QHiA0ZkEHjUeD/719U1sIJc3zofRIJTl9UjsvQeRIKwmgxJJqJxCv+yJOzQ3N7LjcXSsSZVZafh45tBRzfH0HPOV0qTpJcUekrD6B8OIJhOo9fhg4A1l2Wg5zNdovkcgLGh5VJJ8MpNCKpsZfyMdtzRZWUKe7wjRJ9JJZHLZcedf6Tub2SKPnoQR9AlkcjlVertZNgG0wdBtt8NusSCeScibb0ohnQKQlAqLxWjWfMGLpsMQle2t2suDErNh+Z5IytZ7i+a5GKUQMIreCAu0MgNx1J1kYx2Gs38NyWQxso9jIajFUQbOgHg6gUQmBVESIfAGNn1oyxftXnJaHEwrzYKJ/QwnovDYXIzWJJjkF7uQBnJ0qjANj93F7BvBabHDJBiRSKfgsjqQzeWQyMgam8ll4LI4UOutRncogFA8wkae2qYekDaSdjssdrQPdMPA8fA7vcq9WbZ7nnhKZ9PMLkaTg3BZnYwf4pHapmmff67DbGM8p7NZGAWBaTwpGbXXHe6F2WhGnaeKaZ6ouq1W5cNUNoEadwUq7G5YjRa0DXQhlUljduUM9v3HbUexpKEZrf2daKpqwM0rrsYrH22H0WDEYCqOdDaDGncl6yhN147+Hnz76juQFXPoDAVwsrcVjb56fHT6Y1S7vJhbOZNxUev243SwA+8e2YOL5yzFwromNoD9sRC6QgEEon1Y2LgAH7cdw0PX3Y1YOoE/HN0Lj9UFt83Bnh1NxtDoa2ID11w1Cx2hACKJKObVzkFvtB+BSB9WzV6Klr4OHOk8Dr+jgg3G6d5WmIwmGHkBoUQE31l3H04GWvHm4Z2wCGatjT7jNS8aj2B181L82ZyLwPMGrLlgFbYc+B2zN2vmXYLPuk/js55TuGn5F2E1WfDH1kO4/dIvYV7NHLy6fwcqbG62jkpaddNFV2HDz+7F5fOWMyZe2LsVVy1ajeaq2fA7XbCbbey+Rn8DBmJhhJJhnAqewuO33I8/X7Aav961GQ0VF+Cp2x/BxndfYuWnlbMXYemseTjecwaL6ufiwvpm2EwWXLNoDV7d/wZ7LbHf4cWC2iZsfO8lxufK2Uvw47eexy0r1sNptWPxjCZsWHkN3j62FxfNXIAL6+bhzcPvMc0nBajzVrLg/A/HOBa2kVDHgh+7MJNfOwBL9jm09LdjIB7GXV+4jTmIHYfexcL6Jnz1slsxu7KBTcFHn3sADd4a7G85hC80X4wr5q3CwbYjWL/wctS6K7Fs1gI8u2sz3j62B28d3Yk5/hl45p3ncf/6O7GkYT6e3fUKm27vH/8Qn3Qchd1uh8FgwIlAC14/9A4C0SBagu345rq/QZ2nGktnzMfP332RTbPrl65Df2wA3ZEg07w7LtvAwp1YOs4Gde+p/cxmHek8gbc/3Y1oahD1nlqmoQfaDsHncONw53FWArvnii/D76xgbTz11q8xv3YuLm9egYHEwHgZcRIMs69e+C2Og1NeW1XepSTStPPDbXUxBl/Ztw2pbIrZiRO9Ldh6YAeWNizAxvdfYHbjWzfcj55oEPe+9AjTtFPBFhYjUS1s8/5taK6ezfaT0Oi1h7qwhN37Iq5dtBZHu4/jtU9+j2sXr2PTkNo/2PoJVs1eBr/Dx+wgaeUr+17DyWAL07CtB9/E1y77K2Z7D3d+ioFEGF6bC5v3b2f2jLbhko0jQdBGHbfNyWxyMptiGtkXH2BmIJKk4wJZNlCb921j/TvQeggt/W24fdWNTFneOrYLoXiYxZkjZUTntbm1P7x1XJw3FIOBY/uDySkMpmLw2b3MeQRj8pFOMr70bpJlMxYyTaOOUoeIIY/NjY6BbuZ4mipnsWfSAICpu4H9Ts6HbAnHshAXqpx+1qHucACCQUClw8c+b+nvRDKTRCQxCK/NzTTxopmLGF8nAqdR5apkm4fSuQyzb+QkSJOrXD4W0HeEulHrrmLCod+Dg/3MTvocXmZHiZb4pOc5zQ70x0NY2bgErf1dTKsr7B7G6xiEubU/umWc8EhoJID8DfnANN9Z8kbkFPLRPjVMts9qNLNKRF4gZLQFXkAql5b/BseEQl6b4kS6jzwmeWiaTiRho2CE3WRj35HXJA9K7ZMW0O/kVamdcDLK/qZ2ybZS4ERRAtg7U0T2d0bhkXn9bIYNPKc8T5JE5sDkPoiyIlB1SOGBBspkEGAzW7UymjC37kc3d9MOUtVA5jz0EKUg+fy/rCkOAi160/+1Kf87zD//6CThPQkOr/2pS6II/IAHJ20DpGeGcs/z10SuVwBpY97e3QfgQ3rTBr2uRHnrxfQdgDj3QMEChR4tADYB+AkA/D9FqwetNp/QDAAAAABJRU5ErkJggg==\" align=\"left\" alt=\"logo esme\"  height=\"20\">\n",
        "<div class=\"alert alert-block alert-info\" style=\"margin-top: 10px; padding: 10px; background: linear-gradient(to right, #f7f9fa, #d9edfb);\">\n",
        "    <h1 style=\"margin-left: 85px\">IngeSUP - Class 14 - Tuples et dictionnaries</h1>\n",
        "</div>"
      ]
    },
    {
      "cell_type": "markdown",
      "metadata": {
        "id": "upMlQEEXWLLz"
      },
      "source": [
        "### Summary"
      ]
    },
    {
      "cell_type": "markdown",
      "metadata": {
        "id": "2noFxgcnWLL0"
      },
      "source": [
        "* [Introduction](#Introduction)\n",
        "* [Reminder about lists](#Reminder-about-lists)\n",
        "* [Tuples](#Tuples)\n",
        "    * [Presentation](#Presentation)\n",
        "    * [Number of elements](#Number-of-elements)\n",
        "    * [Tuple property](#Tuple-property)\n",
        "    * [Operations](#Operations)\n",
        "    * [Membership](#Membership)\n",
        "* [Dictionaries](#Dictionaries)\n",
        "    * [Presentation](#Presentation)\n",
        "    * [Create a dictionary](#Create-a-dictionary)\n",
        "    * [Accessing dictionary values](#Access-dictionary-values)\n",
        "    * [Adding/Deleting elements](#Adding/Deleting-elements)\n",
        "    * [Browse keys, values, elements](#Browse-keys-,-values-,-elements)\n",
        "    * [Delete elements](#Delete-elements)\n",
        "* [TD exercises](#Exercises-de-TD)\n"
      ]
    },
    {
      "cell_type": "markdown",
      "metadata": {
        "id": "ZqaB4QGhWLL0"
      },
      "source": [
        "# Introduction"
      ]
    },
    {
      "cell_type": "markdown",
      "metadata": {
        "id": "zFyqofh4WLL1"
      },
      "source": [
        "In the chapter entitled _Lists and strings_ we looked at lists in Python. Lists are used to arrange elements in a given order. These elements may or may not be of the same type, and you can add elements to them, remove elements from them, sort them, and so on.\n",
        "\n",
        "This is the **data structure** most commonly used in simple algorithms."
      ]
    },
    {
      "cell_type": "markdown",
      "metadata": {
        "id": "1PJ1k5K-WLL1"
      },
      "source": [
        "A **data structure** is an object in a program that contains a series of data items. A simple data structure might be, for example, a list containing the components of a vector, or a list of names. A more complex data structure would be, for example, a telephone directory containing associations between telephone numbers and names."
      ]
    },
    {
      "cell_type": "markdown",
      "metadata": {
        "id": "PsKCcjSdWLL1"
      },
      "source": [
        "In Python, we can identify three commonly used data structures:\n",
        "- lists\n",
        "- tuples\n",
        "- dictionaries"
      ]
    },
    {
      "cell_type": "markdown",
      "metadata": {
        "id": "uAeiAwtdWLL1"
      },
      "source": [
        "This chapter introduces you to the two latest"
      ]
    },
    {
      "cell_type": "markdown",
      "metadata": {
        "id": "rZx0IJlKWLL1"
      },
      "source": [
        "> **Reminder on the lists**\n",
        "\n",
        "A list can be composed of elements of different types, such as `int`, `float`, or `str`. It's also possible to include lists of varying sizes.\n"
      ]
    },
    {
      "cell_type": "markdown",
      "metadata": {
        "id": "eS9lie_VWLL1"
      },
      "source": [
        "If we wanted to list the names and promotions of lab members, we could use a list to model a member whose first element would be the first name and whose second element would be the promotion:"
      ]
    },
    {
      "cell_type": "code",
      "execution_count": 1,
      "metadata": {
        "colab": {
          "base_uri": "https://localhost:8080/"
        },
        "id": "Ib28BsriWLL2",
        "outputId": "a059a4e2-54a5-45a7-c998-6497b79f224e"
      },
      "outputs": [
        {
          "output_type": "stream",
          "name": "stdout",
          "text": [
            "prénom : Jean\n",
            "promo  : Inge1\n"
          ]
        }
      ],
      "source": [
        "member = [\"Jean\",\"Inge1\"]\n",
        "print(\"prénom :\",member[0])\n",
        "print(\"promo  :\",member[1])"
      ]
    },
    {
      "cell_type": "markdown",
      "metadata": {
        "id": "9gU5xqa3WLL3"
      },
      "source": [
        "> **Tuples**"
      ]
    },
    {
      "cell_type": "markdown",
      "metadata": {
        "id": "pvyU47RUWLL3"
      },
      "source": [
        "# Presentation"
      ]
    },
    {
      "cell_type": "markdown",
      "metadata": {
        "id": "GC9mIby2WLL3"
      },
      "source": [
        "Python offers a data type called tuple (a computer science anglicism meaning \"Table uplet\"), which is quite similar to a list but which cannot be modified (it is said to be **_immutable_**).\n",
        "\n",
        "A tuple is a **non-modifiable sequence of elements**."
      ]
    },
    {
      "cell_type": "markdown",
      "metadata": {
        "id": "BW2I_s0zWLL3"
      },
      "source": [
        "A tuple is represented in Python by a sequence of elements separated by commas. Parentheses are generally placed around tuples (for readability), but this is not essential. The following instructions create tuples :"
      ]
    },
    {
      "cell_type": "code",
      "execution_count": null,
      "metadata": {
        "id": "5A52Z7M1WLL4"
      },
      "outputs": [],
      "source": [
        "(1, 9, 5, 3, 7)"
      ]
    },
    {
      "cell_type": "code",
      "execution_count": null,
      "metadata": {
        "id": "ZHeDCRUWWLL4"
      },
      "outputs": [],
      "source": [
        "5, 8, 6, 36"
      ]
    },
    {
      "cell_type": "code",
      "execution_count": null,
      "metadata": {
        "id": "vZMWR5tzWLL4"
      },
      "outputs": [],
      "source": [
        "(58, \"a\", 3.56, \"hoho\")"
      ]
    },
    {
      "cell_type": "markdown",
      "metadata": {
        "id": "z6k7yq60WLL4"
      },
      "source": [
        "As you can see, a tuple can contain elements of different types. It is possible to create an empty tuple :"
      ]
    },
    {
      "cell_type": "code",
      "execution_count": null,
      "metadata": {
        "id": "5zTBj65rWLL4"
      },
      "outputs": [],
      "source": [
        "empty_tuple = ()"
      ]
    },
    {
      "cell_type": "markdown",
      "metadata": {
        "id": "E3hzpTWTWLL4"
      },
      "source": [
        "Obviously you can store a tuple in a variable :"
      ]
    },
    {
      "cell_type": "code",
      "execution_count": 2,
      "metadata": {
        "scrolled": true,
        "colab": {
          "base_uri": "https://localhost:8080/"
        },
        "id": "EDVb9FhoWLL4",
        "outputId": "ddeeed1e-d4e3-45f8-a145-e5e7a97547c6"
      },
      "outputs": [
        {
          "output_type": "stream",
          "name": "stdout",
          "text": [
            "<class 'tuple'>\n",
            "('a', 'b', 'c')\n"
          ]
        }
      ],
      "source": [
        "tup = (\"a\",\"b\",\"c\")\n",
        "print(type(tup))\n",
        "print(tup)"
      ]
    },
    {
      "cell_type": "markdown",
      "metadata": {
        "id": "5rbYxojDWLL4"
      },
      "source": [
        "It may be advantageous to access the elements of a tuple from the end. To do this, use negative indices: -1 for the last element, -2 for the penultimate... It's just like with lists!"
      ]
    },
    {
      "cell_type": "markdown",
      "metadata": {
        "id": "3Ylr_FJpWLL4"
      },
      "source": [
        "You can also create a tuple with a single element (this can be useful):"
      ]
    },
    {
      "cell_type": "markdown",
      "metadata": {
        "id": "-2IvGLduWLL4"
      },
      "source": [
        "`un_tuple_simple = (3,)`"
      ]
    },
    {
      "cell_type": "markdown",
      "metadata": {
        "id": "ImA3YWZfWLL4"
      },
      "source": [
        "And yes, you must put the comma, otherwise python will think it's the number 3 in brackets..."
      ]
    },
    {
      "cell_type": "markdown",
      "metadata": {
        "id": "0BpxRfwXWLL4"
      },
      "source": [
        "> 📝 **Note**\n",
        "\n",
        "And now you finally understand why decimal numbers cause errors when written with commas instead of periods 🤓\n"
      ]
    },
    {
      "cell_type": "markdown",
      "metadata": {
        "id": "g3yVU8HKWLL5"
      },
      "source": [
        "# Number of elements"
      ]
    },
    {
      "cell_type": "markdown",
      "metadata": {
        "id": "r1YAbqVkWLL5"
      },
      "source": [
        "To get the number of elements in a tuple, we always use the `len()` function."
      ]
    },
    {
      "cell_type": "code",
      "execution_count": 3,
      "metadata": {
        "colab": {
          "base_uri": "https://localhost:8080/"
        },
        "id": "ORlG-UjVWLL5",
        "outputId": "f250b034-a21e-4a6a-a3bb-0b0e1824d0b2"
      },
      "outputs": [
        {
          "output_type": "stream",
          "name": "stdout",
          "text": [
            "4\n"
          ]
        }
      ],
      "source": [
        "my_tuple = (\"a\", \"g\", \"toto\", \"tu\")\n",
        "print(len(my_tuple))"
      ]
    },
    {
      "cell_type": "markdown",
      "metadata": {
        "id": "ynA15DCiWLL5"
      },
      "source": [
        "## Tuple properties"
      ]
    },
    {
      "cell_type": "markdown",
      "metadata": {
        "id": "7GXZmPziWLL5"
      },
      "source": [
        "> 💡 **Access an element within a tuple**\n"
      ]
    },
    {
      "cell_type": "markdown",
      "metadata": {
        "id": "t2r4QgWlWLL5"
      },
      "source": [
        "Like lists, a tuple is **indexable** (an element can be accessed by enclosing its index in square brackets):"
      ]
    },
    {
      "cell_type": "code",
      "execution_count": 4,
      "metadata": {
        "colab": {
          "base_uri": "https://localhost:8080/"
        },
        "id": "11oNKCFYWLL5",
        "outputId": "c02ce7b8-5b00-4167-da0d-dd1bd629e624"
      },
      "outputs": [
        {
          "output_type": "stream",
          "name": "stdout",
          "text": [
            "a\n",
            "b\n"
          ]
        }
      ],
      "source": [
        "print(tup[0])\n",
        "print(tup[-2])"
      ]
    },
    {
      "cell_type": "markdown",
      "metadata": {
        "id": "-2YRrEF9WLL5"
      },
      "source": [
        "> 💡 **Tuples are immutable**"
      ]
    },
    {
      "cell_type": "markdown",
      "metadata": {
        "id": "iVlQNZedWLL5"
      },
      "source": [
        "Tuples, on the other hand, are not **modifiable**. In Python terminology, we say that the typle type is *immutable*."
      ]
    },
    {
      "cell_type": "code",
      "execution_count": 7,
      "metadata": {
        "colab": {
          "base_uri": "https://localhost:8080/"
        },
        "id": "kcW1SMiaWLL5",
        "outputId": "e242263b-f76f-48af-da3e-3dd0cb2010e5"
      },
      "outputs": [
        {
          "output_type": "stream",
          "name": "stdout",
          "text": [
            "('one', 'two', 'three ', 2, 3, 4)\n",
            "['one', 'two', 'three ', 2, 3, 4]\n"
          ]
        }
      ],
      "source": [
        "my_list = [\"one\", \"two\", \"three \",2,3,4]\n",
        "tup = (\"one\", \"two\", \"three \",2,3,4)\n",
        "print(tup)\n",
        "print(my_list)"
      ]
    },
    {
      "cell_type": "code",
      "execution_count": 6,
      "metadata": {
        "colab": {
          "base_uri": "https://localhost:8080/",
          "height": 250
        },
        "id": "cnS4cPS2WLL5",
        "outputId": "590f2427-e567-4951-dbb6-4e5870327eb4"
      },
      "outputs": [
        {
          "output_type": "stream",
          "name": "stdout",
          "text": [
            "['uno', 'two', 'three ', 2, 3, 4]\n"
          ]
        },
        {
          "output_type": "error",
          "ename": "TypeError",
          "evalue": "ignored",
          "traceback": [
            "\u001b[0;31m---------------------------------------------------------------------------\u001b[0m",
            "\u001b[0;31mTypeError\u001b[0m                                 Traceback (most recent call last)",
            "\u001b[0;32m<ipython-input-6-ab5c5d44a1ee>\u001b[0m in \u001b[0;36m<cell line: 3>\u001b[0;34m()\u001b[0m\n\u001b[1;32m      1\u001b[0m \u001b[0mmy_list\u001b[0m\u001b[0;34m[\u001b[0m\u001b[0;36m0\u001b[0m\u001b[0;34m]\u001b[0m \u001b[0;34m=\u001b[0m \u001b[0;34m\"uno\"\u001b[0m\u001b[0;34m\u001b[0m\u001b[0;34m\u001b[0m\u001b[0m\n\u001b[1;32m      2\u001b[0m \u001b[0mprint\u001b[0m\u001b[0;34m(\u001b[0m\u001b[0mmy_list\u001b[0m\u001b[0;34m)\u001b[0m\u001b[0;34m\u001b[0m\u001b[0;34m\u001b[0m\u001b[0m\n\u001b[0;32m----> 3\u001b[0;31m \u001b[0mtup\u001b[0m\u001b[0;34m[\u001b[0m\u001b[0;36m0\u001b[0m\u001b[0;34m]\u001b[0m \u001b[0;34m=\u001b[0m \u001b[0;34m\"uno\"\u001b[0m   \u001b[0;31m# Forbidden !\u001b[0m\u001b[0;34m\u001b[0m\u001b[0;34m\u001b[0m\u001b[0m\n\u001b[0m\u001b[1;32m      4\u001b[0m \u001b[0mprint\u001b[0m\u001b[0;34m(\u001b[0m\u001b[0mtup\u001b[0m\u001b[0;34m)\u001b[0m\u001b[0;34m\u001b[0m\u001b[0;34m\u001b[0m\u001b[0m\n",
            "\u001b[0;31mTypeError\u001b[0m: 'tuple' object does not support item assignment"
          ]
        }
      ],
      "source": [
        "my_list[0] = \"uno\"\n",
        "print(my_list)\n",
        "tup[0] = \"uno\"   # Forbidden!\n",
        "print(tup)"
      ]
    },
    {
      "cell_type": "markdown",
      "metadata": {
        "id": "TR0J377uWLL6"
      },
      "source": [
        "> 💡 **Browse a tuple**"
      ]
    },
    {
      "cell_type": "markdown",
      "metadata": {
        "id": "DetMTJzlWLML"
      },
      "source": [
        "Like lists, a tuple is **iterable** (it can be traversed with `for..in`):"
      ]
    },
    {
      "cell_type": "code",
      "execution_count": 8,
      "metadata": {
        "colab": {
          "base_uri": "https://localhost:8080/"
        },
        "id": "qT0qohTSWLML",
        "outputId": "00709ec3-db13-400c-e51f-c8e912c81b2f"
      },
      "outputs": [
        {
          "output_type": "stream",
          "name": "stdout",
          "text": [
            "1\n",
            "9\n",
            "5\n",
            "3\n",
            "7\n"
          ]
        }
      ],
      "source": [
        "tup = (1, 9, 5, 3, 7)\n",
        "\n",
        "for ele in tup:\n",
        "    print(ele)"
      ]
    },
    {
      "cell_type": "code",
      "execution_count": 9,
      "metadata": {
        "colab": {
          "base_uri": "https://localhost:8080/"
        },
        "id": "hFZRDSIYWLML",
        "outputId": "2ad127e1-134c-44d3-b7e4-98a386c1487f"
      },
      "outputs": [
        {
          "output_type": "stream",
          "name": "stdout",
          "text": [
            "mouse\n",
            "cat\n",
            "dog\n",
            "turtle\n"
          ]
        }
      ],
      "source": [
        "my_tuple = (\"mouse\", \"cat\", \"dog\", \"turtle\")\n",
        "\n",
        "for animal in my_tuple:\n",
        "    print(animal)"
      ]
    },
    {
      "cell_type": "markdown",
      "metadata": {
        "id": "vXO2DuJzWLML"
      },
      "source": [
        "📝 Note\n",
        "     \n",
        "  > The `for..range` and `for..enumerate` loops also work with tuples. They are used in the same way as with lists (except that the tuple cannot be modified)."
      ]
    },
    {
      "cell_type": "markdown",
      "metadata": {
        "id": "9M6ek_-qWLML"
      },
      "source": [
        "## Operations"
      ]
    },
    {
      "cell_type": "markdown",
      "metadata": {
        "id": "bYznB6SEWLML"
      },
      "source": [
        "Tuples can be concatenated using the \"+\" operator. Concatenate means **to put together**."
      ]
    },
    {
      "cell_type": "code",
      "execution_count": 10,
      "metadata": {
        "colab": {
          "base_uri": "https://localhost:8080/"
        },
        "id": "s5tvqyc3WLMM",
        "outputId": "e884db44-741a-413c-9582-491f0a0de4ba"
      },
      "outputs": [
        {
          "output_type": "stream",
          "name": "stdout",
          "text": [
            "('a', 'b', 'c', 'd', 'e', 'f')\n"
          ]
        }
      ],
      "source": [
        "tuple1 = (\"a\", \"b\", \"c\")\n",
        "tuple2 = (\"d\", \"e\", \"f\")\n",
        "print(tuple1 + tuple2)"
      ]
    },
    {
      "cell_type": "markdown",
      "metadata": {
        "id": "wUpEivdcWLMM"
      },
      "source": [
        "A tuple can be repeated by multiplying it by an integer."
      ]
    },
    {
      "cell_type": "code",
      "execution_count": 11,
      "metadata": {
        "colab": {
          "base_uri": "https://localhost:8080/"
        },
        "id": "j1abT-BxWLMM",
        "outputId": "bdb356fe-cb89-45c9-8765-cefe8da0652e"
      },
      "outputs": [
        {
          "output_type": "stream",
          "name": "stdout",
          "text": [
            "('a', 'b', 'c', 'a', 'b', 'c', 'a', 'b', 'c')\n"
          ]
        }
      ],
      "source": [
        "tuple1 = (\"a\", \"b\", \"c\")\n",
        "print(tuple1*3)"
      ]
    },
    {
      "cell_type": "markdown",
      "metadata": {
        "id": "aqJMiphTWLMN"
      },
      "source": [
        "## Membership"
      ]
    },
    {
      "cell_type": "markdown",
      "metadata": {
        "id": "lt9adb9bWLMN"
      },
      "source": [
        "We test tuple membership with the **in** statement."
      ]
    },
    {
      "cell_type": "code",
      "execution_count": 12,
      "metadata": {
        "colab": {
          "base_uri": "https://localhost:8080/"
        },
        "id": "UONAPvYSWLMN",
        "outputId": "8a010c3e-6c53-4ad1-e605-eaea6a19b70d"
      },
      "outputs": [
        {
          "output_type": "execute_result",
          "data": {
            "text/plain": [
              "True"
            ]
          },
          "metadata": {},
          "execution_count": 12
        }
      ],
      "source": [
        "a_tuple = (\"a\", \"g\", \"toto\", \"tu\")\n",
        "\"a\" in a_tuple"
      ]
    },
    {
      "cell_type": "code",
      "execution_count": 13,
      "metadata": {
        "colab": {
          "base_uri": "https://localhost:8080/"
        },
        "id": "P56EU4PGWLMN",
        "outputId": "2ac7df82-39e4-417f-e8fa-1db5b851009c"
      },
      "outputs": [
        {
          "output_type": "execute_result",
          "data": {
            "text/plain": [
              "False"
            ]
          },
          "metadata": {},
          "execution_count": 13
        }
      ],
      "source": [
        "a_tuple = (\"a\", \"g\", \"toto\", \"tu\")\n",
        "5 in a_tuple"
      ]
    },
    {
      "cell_type": "markdown",
      "metadata": {
        "id": "E6LWNvF-WLMN"
      },
      "source": [
        "# Dictionnaries"
      ]
    },
    {
      "cell_type": "markdown",
      "metadata": {
        "id": "EwkDeLrOWLMN"
      },
      "source": [
        "## Presentation"
      ]
    },
    {
      "cell_type": "markdown",
      "metadata": {
        "id": "421jW5XXWLMO"
      },
      "source": [
        "A dictionary in Python is a **collection of unordered elements**. Whereas other types of compound data have only the value as an element, a dictionary has **a `key:value` pair**."
      ]
    },
    {
      "cell_type": "markdown",
      "metadata": {
        "id": "5nuZYMS0WLMO"
      },
      "source": [
        "**Each key corresponds to a value**, so we can't have duplicate keys. Dictionaries are *modifiable* objects, which means we can add, delete or update elements after they've been created.\n",
        "\n",
        "Dictionaries are optimized for retrieving values when the key is known."
      ]
    },
    {
      "cell_type": "markdown",
      "metadata": {
        "id": "Ou3mh50gWLMO"
      },
      "source": [
        "📝 Note\n",
        "     \n",
        "   > A dictionary in Python works in a similar way to a dictionary in the real world. The keys of a dictionary must be unique and of **immutable** data type, such as *string*, *integer* and *tuple*, but the key values can be repeated and be of any type."
      ]
    },
    {
      "cell_type": "markdown",
      "metadata": {
        "id": "1rW2TVnfWLMO"
      },
      "source": [
        "## Create a dictionnary"
      ]
    },
    {
      "cell_type": "markdown",
      "metadata": {
        "id": "0SddToZxWLMO"
      },
      "source": [
        "Creating a dictionary is as simple as placing elements in {} braces, separated by a comma."
      ]
    },
    {
      "cell_type": "markdown",
      "metadata": {
        "id": "uOokDlhhWLMO"
      },
      "source": [
        "💡 **Define an empty dictionary**"
      ]
    },
    {
      "cell_type": "code",
      "execution_count": 14,
      "metadata": {
        "colab": {
          "base_uri": "https://localhost:8080/"
        },
        "id": "25awMr9iWLMO",
        "outputId": "d7ecc8e4-4dbc-4125-8a8f-de185f3a79ec"
      },
      "outputs": [
        {
          "output_type": "stream",
          "name": "stdout",
          "text": [
            "dict1 :  {}\n",
            "<class 'dict'>\n"
          ]
        }
      ],
      "source": [
        "# Empty dictionnary\n",
        "dict1={}\n",
        "print(\"dict1 : \",dict1)\n",
        "print(type(dict1))"
      ]
    },
    {
      "cell_type": "markdown",
      "metadata": {
        "id": "IEHzgusbWLMO"
      },
      "source": [
        "💡 **Define a dictionary with string keys**"
      ]
    },
    {
      "cell_type": "code",
      "execution_count": 15,
      "metadata": {
        "colab": {
          "base_uri": "https://localhost:8080/"
        },
        "id": "YDRce2-7WLMO",
        "outputId": "cfbe0720-30d3-4199-d0c2-e8a86ea5fbf3"
      },
      "outputs": [
        {
          "output_type": "stream",
          "name": "stdout",
          "text": [
            "dict2 :  {'Prenom': 'Boris', 'age': 20, 'ville': 'Moscou'}\n"
          ]
        }
      ],
      "source": [
        "# Dictionary with string keys\n",
        "dict2={\"Prenom\":\"Boris\", \"age\":20,\"ville\":\"Moscou\"}\n",
        "print(\"dict2 : \",dict2)"
      ]
    },
    {
      "cell_type": "markdown",
      "metadata": {
        "id": "K2Q1tHxsWLMO"
      },
      "source": [
        "💡 **Define a dictionary with integer keys**"
      ]
    },
    {
      "cell_type": "code",
      "execution_count": 16,
      "metadata": {
        "colab": {
          "base_uri": "https://localhost:8080/"
        },
        "id": "LtuiFI1pWLMO",
        "outputId": "8618e6c1-ee36-4e51-ea4c-7a204aeae61e"
      },
      "outputs": [
        {
          "output_type": "stream",
          "name": "stdout",
          "text": [
            "dict3 :  {1: 'Meknes', 2: 'Marrakech', 3: 'Essaouira'}\n"
          ]
        }
      ],
      "source": [
        "# dictionnary with string keys\n",
        "dict3= {1:\"Meknes\", 2:\"Marrakech\", 3:\"Essaouira\"}\n",
        "print(\"dict3 : \",dict3)"
      ]
    },
    {
      "cell_type": "markdown",
      "metadata": {
        "id": "GJJyD01ZWLMO"
      },
      "source": [
        "💡 **Define a dictionary with mixed keys**"
      ]
    },
    {
      "cell_type": "code",
      "execution_count": 17,
      "metadata": {
        "colab": {
          "base_uri": "https://localhost:8080/"
        },
        "id": "V6Z04d7gWLMO",
        "outputId": "2ac529c6-de2b-4bb5-e790-4f3d7b739bee"
      },
      "outputs": [
        {
          "output_type": "stream",
          "name": "stdout",
          "text": [
            "dict4 :  {1: 'Yoan', 'ville': 'Oslo', 10.4: 1.78}\n",
            "dict5 :  {1: 'Dev', 2: 'Info', 3: 'COM'}\n",
            "dict6 :  {1: 'Geeks', 2: 'For'}\n"
          ]
        }
      ],
      "source": [
        "# dictionnary with mixed keys\n",
        "dict4={1:\"Yoan\", \"ville\":\"Oslo\", 10.4: 1.78}\n",
        "print(\"dict4 : \",dict4)\n",
        "\n",
        "# Creation of a dictionnary with dict()\n",
        "dict5 = dict({1: 'Dev', 2: 'Info', 3:'COM'})\n",
        "print(\"dict5 : \",dict5)\n",
        "\n",
        "# Create a dictionary with each element as a pair\n",
        "dict6 = dict([(1, 'Geeks'), (2, 'For')])\n",
        "print(\"dict6 : \",dict6)"
      ]
    },
    {
      "cell_type": "markdown",
      "metadata": {
        "id": "kbEWhZbEWLMO"
      },
      "source": [
        "💡 **Other methods with <code>dict()</code>**"
      ]
    },
    {
      "cell_type": "code",
      "execution_count": 18,
      "metadata": {
        "colab": {
          "base_uri": "https://localhost:8080/"
        },
        "id": "xewCvQppWLMP",
        "outputId": "fe73740d-85ee-4486-deca-1c0d248b8fe1"
      },
      "outputs": [
        {
          "output_type": "stream",
          "name": "stdout",
          "text": [
            "dict5 :  {1: 'Dev', 2: 'Info', 3: 'COM'}\n",
            "dict6 :  {1: 'Geeks', 2: 'For'}\n"
          ]
        }
      ],
      "source": [
        "# Create a dictionary with the dict () method\n",
        "dict5 = dict({1: 'Dev', 2: 'Info', 3:'COM'})\n",
        "print(\"dict5 : \",dict5)\n",
        "\n",
        "# Create a dictionary with each key-value pair as a tuple\n",
        "dict6 = dict([(1, 'Geeks'), (2, 'For')])\n",
        "print(\"dict6 : \",dict6)"
      ]
    },
    {
      "cell_type": "markdown",
      "metadata": {
        "id": "uaesIhZ2WLMP"
      },
      "source": [
        "## Accessing dictionary values"
      ]
    },
    {
      "cell_type": "markdown",
      "metadata": {
        "id": "4oRdreIDWLMP"
      },
      "source": [
        "As previously mentioned, the order of elements in a dictionary can vary. Consequently, we can't use the element index to access the value. Instead, we use a key. To access the dictionary value, we use the following syntax:"
      ]
    },
    {
      "cell_type": "markdown",
      "metadata": {
        "id": "XPktwtt5WLMP"
      },
      "source": [
        "```python\n",
        "nom_dictionnaire[clé]\n",
        "```"
      ]
    },
    {
      "cell_type": "code",
      "execution_count": 19,
      "metadata": {
        "colab": {
          "base_uri": "https://localhost:8080/"
        },
        "id": "IssjrOkQWLMP",
        "outputId": "f208d928-a56b-4e49-cd31-2f950053a8aa"
      },
      "outputs": [
        {
          "output_type": "stream",
          "name": "stdout",
          "text": [
            "Key 1 has value :  Thomas\n",
            "Key city has the value  Paris\n",
            "Key 10.4 has value :  1.78\n"
          ]
        }
      ],
      "source": [
        "D={1: \"Thomas\", \"city\": \"Paris\", 10.4: 1.78}\n",
        "\n",
        "print(\"Key 1 has value : \", D[1])\n",
        "print(\"Key city has the value \", D[\"city\"])\n",
        "print(\"Key 10.4 has value : \", D[10.4])"
      ]
    },
    {
      "cell_type": "markdown",
      "metadata": {
        "id": "ybD1EIBQWLMP"
      },
      "source": [
        "⚠️ Warning\n",
        "    \n",
        "   > If the specified key does not exist, a **KeyError** exception will be triggered."
      ]
    },
    {
      "cell_type": "markdown",
      "metadata": {
        "id": "D8MFmgWpWLMP"
      },
      "source": [
        "## Adding/Deleting elements"
      ]
    },
    {
      "cell_type": "markdown",
      "metadata": {
        "id": "J48PiitwWLMP"
      },
      "source": [
        "An element is added using the key in square brackets."
      ]
    },
    {
      "cell_type": "code",
      "execution_count": 20,
      "metadata": {
        "colab": {
          "base_uri": "https://localhost:8080/"
        },
        "id": "qNV194q9WLMP",
        "outputId": "248b7224-d884-4fc8-95c1-6d062438c501"
      },
      "outputs": [
        {
          "output_type": "stream",
          "name": "stdout",
          "text": [
            "{'nickname': 'fifou', 'password': '1234', 'name': 'Philippe', 'office': '203', 2: 'yes'}\n"
          ]
        }
      ],
      "source": [
        "dic = {}\n",
        "dic[\"nickname\"]=\"fifou\"\n",
        "dic[\"password\"]=\"1234\"\n",
        "dic[\"name\"]=\"Philippe\"\n",
        "dic[\"office\"]=\"203\"\n",
        "dic[2] = \"yes\"\n",
        "print(dic)"
      ]
    },
    {
      "cell_type": "markdown",
      "metadata": {
        "id": "3aGaWuR0WLMP"
      },
      "source": [
        "## Browse keys, values, elements"
      ]
    },
    {
      "cell_type": "markdown",
      "metadata": {
        "id": "yoduotJ9WLMP"
      },
      "source": [
        "A dictionary is **iterable** via its key and value, using the `items()` method associated with the dictionary."
      ]
    },
    {
      "cell_type": "code",
      "execution_count": 21,
      "metadata": {
        "colab": {
          "base_uri": "https://localhost:8080/"
        },
        "id": "uXxn4IZXWLMP",
        "outputId": "2b9b6315-3444-49e2-99e9-f5ed5791d042"
      },
      "outputs": [
        {
          "output_type": "stream",
          "name": "stdout",
          "text": [
            "nickname fifou\n",
            "password 1234\n",
            "name Philippe\n",
            "office 203\n",
            "2 yes\n"
          ]
        }
      ],
      "source": [
        "for key,value in dic.items():\n",
        "    print(key,value)"
      ]
    },
    {
      "cell_type": "code",
      "execution_count": 22,
      "metadata": {
        "colab": {
          "base_uri": "https://localhost:8080/"
        },
        "id": "1FhqQ3c9WLMP",
        "outputId": "4b1a3ed9-88b5-4e3d-f6a1-4881057a7be1"
      },
      "outputs": [
        {
          "output_type": "stream",
          "name": "stdout",
          "text": [
            "fifou\n",
            "1234\n",
            "Philippe\n",
            "203\n",
            "yes\n"
          ]
        }
      ],
      "source": [
        "for key,value in dic.items():\n",
        "    print(dic[key])"
      ]
    },
    {
      "cell_type": "markdown",
      "metadata": {
        "id": "pZLahv1vWLMQ"
      },
      "source": [
        "It is possible to loop on keys only, using the `.keys()` function associated with the dictionary."
      ]
    },
    {
      "cell_type": "code",
      "execution_count": 23,
      "metadata": {
        "colab": {
          "base_uri": "https://localhost:8080/"
        },
        "id": "1myWMYvCWLMQ",
        "outputId": "cb2c4451-52fc-4083-bdc9-7b4821a6831c"
      },
      "outputs": [
        {
          "output_type": "stream",
          "name": "stdout",
          "text": [
            "nickname\n",
            "password\n",
            "name\n",
            "office\n",
            "2\n"
          ]
        }
      ],
      "source": [
        "for key in dic.keys():\n",
        "    print(key)"
      ]
    },
    {
      "cell_type": "markdown",
      "metadata": {
        "id": "5L2qrUuhWLMQ"
      },
      "source": [
        "You can loop on values only, using the `.values()` function associated with the dictionary."
      ]
    },
    {
      "cell_type": "code",
      "execution_count": 24,
      "metadata": {
        "colab": {
          "base_uri": "https://localhost:8080/"
        },
        "id": "eUsZN4QfWLMQ",
        "outputId": "706ec10c-4141-4f65-eaad-0af72b9be385"
      },
      "outputs": [
        {
          "output_type": "stream",
          "name": "stdout",
          "text": [
            "fifou\n",
            "1234\n",
            "Philippe\n",
            "203\n",
            "yes\n"
          ]
        }
      ],
      "source": [
        "for values in dic.values():\n",
        "    print(values)"
      ]
    },
    {
      "cell_type": "markdown",
      "metadata": {
        "id": "cZV9tHxtWLMQ"
      },
      "source": [
        "📝 Note\n",
        "     \n",
        "  > The `.items()` function can therefore be used to access both the keys and the values involved in each loop."
      ]
    },
    {
      "cell_type": "markdown",
      "metadata": {
        "id": "DI5Qaa2FWLMQ"
      },
      "source": [
        "## Deleting elements"
      ]
    },
    {
      "cell_type": "markdown",
      "metadata": {
        "id": "lWXiLJh5WLMQ"
      },
      "source": [
        "We can delete a particular element in a dictionary using the `pop()` method. This method deletes the element with the key supplied as parameters and returns the value.\n",
        "\n",
        "We can also use the **del** keyword to delete individual elements or the entire dictionary itself."
      ]
    },
    {
      "cell_type": "code",
      "execution_count": 25,
      "metadata": {
        "colab": {
          "base_uri": "https://localhost:8080/"
        },
        "id": "AgsmmNZ1WLMQ",
        "outputId": "87eafbd0-9fad-4c2f-f3fd-4ae6d01963a4"
      },
      "outputs": [
        {
          "output_type": "stream",
          "name": "stdout",
          "text": [
            "{1: 'Adam', 'ville': 'Zurich', 10.4: 1.78, 'age': 32, 3: 45, 'tt': 'test'}\n",
            "val :  Adam\n",
            "Dictionnary after pop() :  {'ville': 'Zurich', 10.4: 1.78, 'age': 32, 3: 45, 'tt': 'test'}\n"
          ]
        }
      ],
      "source": [
        "D={1:\"Adam\", \"ville\":\"Zurich\", 10.4: 1.78, \"age\":32, 3:45, \"tt\":\"test\"}\n",
        "print(D)\n",
        "\n",
        "print(\"val : \", D.pop(1))\n",
        "print(\"Dictionnary after pop() : \",D)"
      ]
    },
    {
      "cell_type": "code",
      "execution_count": 26,
      "metadata": {
        "colab": {
          "base_uri": "https://localhost:8080/"
        },
        "id": "rRkFlE66WLMQ",
        "outputId": "6a6f1cdd-b3c2-4c42-f051-523027973f03"
      },
      "outputs": [
        {
          "output_type": "stream",
          "name": "stdout",
          "text": [
            "{1: 'Adam', 'ville': 'Zurich', 10.4: 1.78, 'age': 32, 3: 45, 'tt': 'test'}\n",
            "Dictionnary after del() :  {1: 'Adam', 'ville': 'Zurich', 10.4: 1.78, 3: 45, 'tt': 'test'}\n",
            "{}\n"
          ]
        }
      ],
      "source": [
        "D={1:\"Adam\", \"ville\":\"Zurich\", 10.4: 1.78, \"age\":32, 3:45, \"tt\":\"test\"}\n",
        "print(D)\n",
        "\n",
        "del D[\"age\"]\n",
        "print(\"Dictionnary after del() : \", D)\n",
        "\n",
        "# vider le dictionnaire\n",
        "D.clear()\n",
        "print(D)"
      ]
    },
    {
      "cell_type": "code",
      "execution_count": 27,
      "metadata": {
        "colab": {
          "base_uri": "https://localhost:8080/"
        },
        "id": "itfcN6ytWLMQ",
        "outputId": "03801d18-0d39-40c6-82fe-38d57c134009"
      },
      "outputs": [
        {
          "output_type": "stream",
          "name": "stdout",
          "text": [
            "{}\n"
          ]
        }
      ],
      "source": [
        "# vider le dictionnaire\n",
        "D.clear()\n",
        "print(D)"
      ]
    },
    {
      "cell_type": "markdown",
      "metadata": {
        "id": "g_wka4SWWLMQ"
      },
      "source": [
        "📝 Note\n",
        "\n",
        " > Until Python version 3.6, a dictionary was displayed in no particular order. The order in which the elements were displayed was not necessarily the same as the order in which they had been filled in. Similarly, when iterating on a dictionary, the order was not guaranteed.\n",
        "\n",
        " Since Python 3.7 (inclusive), this behavior has changed: a dictionary is always displayed in the same order as it was filled. Similarly, if you iterate over a dictionary, this order is respected."
      ]
    },
    {
      "cell_type": "markdown",
      "metadata": {
        "id": "Diss-28YWLMQ"
      },
      "source": [
        "After this initial overview, the advantages of dictionaries become immediately apparent. Being able to find items by names (keys) rather than by clues. Humans retain names better than numbers. So using dictionaries generally makes the code more readable."
      ]
    },
    {
      "cell_type": "markdown",
      "metadata": {
        "id": "LYN5DPMNWLMQ"
      },
      "source": [
        "# TD Exercises"
      ]
    },
    {
      "cell_type": "markdown",
      "metadata": {
        "id": "GwZFLiuVWLMR"
      },
      "source": [
        "You can now practice using the notebook [TD 14](../TD/TD%2014%20-%20Tuples%20and%20dictionaries.ipynb)."
      ]
    }
  ],
  "metadata": {
    "celltoolbar": "Format de la Cellule Texte Brut",
    "kernelspec": {
      "display_name": "Python 3",
      "language": "python",
      "name": "python3"
    },
    "language_info": {
      "codemirror_mode": {
        "name": "ipython",
        "version": 3
      },
      "file_extension": ".py",
      "mimetype": "text/x-python",
      "name": "python",
      "nbconvert_exporter": "python",
      "pygments_lexer": "ipython3",
      "version": "3.7.4"
    },
    "latex_envs": {
      "LaTeX_envs_menu_present": true,
      "autoclose": false,
      "autocomplete": true,
      "bibliofile": "biblio.bib",
      "cite_by": "apalike",
      "current_citInitial": 1,
      "eqLabelWithNumbers": true,
      "eqNumInitial": 1,
      "hotkeys": {
        "equation": "Ctrl-E",
        "itemize": "Ctrl-I"
      },
      "labels_anchors": false,
      "latex_user_defs": false,
      "report_style_numbering": false,
      "user_envs_cfg": false
    },
    "varInspector": {
      "cols": {
        "lenName": 16,
        "lenType": 16,
        "lenVar": 40
      },
      "kernels_config": {
        "python": {
          "delete_cmd_postfix": "",
          "delete_cmd_prefix": "del ",
          "library": "var_list.py",
          "varRefreshCmd": "print(var_dic_list())"
        },
        "r": {
          "delete_cmd_postfix": ") ",
          "delete_cmd_prefix": "rm(",
          "library": "var_list.r",
          "varRefreshCmd": "cat(var_dic_list()) "
        }
      },
      "types_to_exclude": [
        "module",
        "function",
        "builtin_function_or_method",
        "instance",
        "_Feature"
      ],
      "window_display": false
    },
    "colab": {
      "provenance": []
    }
  },
  "nbformat": 4,
  "nbformat_minor": 0
}
