{
 "cells": [
  {
   "cell_type": "markdown",
   "metadata": {},
   "source": [
    "<img style=\"margin-top: 0px\" src=\" data:image/png;base64,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\" align=\"left\" alt=\"logo esme\"  height=\"20\"> \n",
    "<div class=\"alert alert-block alert-info\" style=\"margin-top: 9px; padding: 10px; background: linear-gradient(to right, #f7f9fa, #d9edfb);\">\n",
    "    <h1 style=\"margin-left: 85px\">IngeSUP - TD 11 - Function I</h1>\n",
    "</div>"
   ]
  },
  {
   "cell_type": "markdown",
   "metadata": {},
   "source": [
    "<blockquote><em>“On earth everything has a function, every disease an herb to cure it, every person a mission.”</em></blockquote>&nbsp;&nbsp;<i style=\"font-size: 10px\">Indian Wisdom</i>"
   ]
  },
  {
   "cell_type": "markdown",
   "metadata": {},
   "source": [
    "***\n",
    "## Exercise 07.1\n",
    "***"
   ]
  },
  {
   "cell_type": "markdown",
   "metadata": {},
   "source": [
    "Write a function that returns the area of a disk as a function of the value of the radius.\n",
    "\n",
    "> Note: To import the constant `pi` into Python, call up the `math` library by typing the following instruction, replicated in the cell below:\n",
    "\n",
    "```python\n",
    "from math import pi\n",
    "```\n",
    "\n"
   ]
  },
  {
   "cell_type": "code",
   "execution_count": 1,
   "metadata": {},
   "outputs": [
    {
     "name": "stdout",
     "output_type": "stream",
     "text": [
      "50.26548245743669\n",
      "28.274333882308138\n"
     ]
    }
   ],
   "source": [
    "# Complete the following function to return the area of a disk of radius r\n",
    "\n",
    "from math import pi\n",
    "\n",
    "def diskArea(r):\n",
    "    return pi*r**2\n",
    "\n",
    "\n",
    "# Test your function with the following value\n",
    "print(diskArea(4))\n",
    "\n",
    "# Or with a value given by the user\n",
    "val = int(input(\"What radius do you want the area to be?\"))\n",
    "print(diskArea(val))"
   ]
  },
  {
   "cell_type": "markdown",
   "metadata": {},
   "source": [
    "***\n",
    "## Exercise 07.2\n",
    "***"
   ]
  },
  {
   "cell_type": "markdown",
   "metadata": {},
   "source": [
    "Using the `diskArea()` function coded above\n",
    "\n",
    "1. Write a function that returns the volume of a cylinder as a function of radius and height.\n",
    "\n",
    ">Note: The volume V of a cylinder is equal to the product of π (Pi) multiplied by the radius squared and by the height :\n",
    "\n",
    "<p><center><strong>V = π x r² x h</strong></center></p>\n",
    "\n",
    "2. Test your function with a cylinder whose disk has radius 3 and height 2."
   ]
  },
  {
   "cell_type": "code",
   "execution_count": 2,
   "metadata": {},
   "outputs": [
    {
     "name": "stdout",
     "output_type": "stream",
     "text": [
      "56.548667764616276\n",
      "113.09733552923255\n"
     ]
    }
   ],
   "source": [
    "def cylinderVolume(r,h):\n",
    "    base=diskArea(r)\n",
    "    V= base * h\n",
    "    return V\n",
    "\n",
    "print(cylinderVolume(3,2))\n",
    "\n",
    "radius = float(input(\"radius? >\"))\n",
    "height = float(input(\"height? >\"))\n",
    "print(cylinderVolume(radius, height))"
   ]
  },
  {
   "cell_type": "markdown",
   "metadata": {},
   "source": [
    "***\n",
    "## Exercise 07.3\n",
    "***"
   ]
  },
  {
   "cell_type": "markdown",
   "metadata": {},
   "source": [
    "Write a function called `display_hello(last_name, first_name)` which displays \"hello\" followed by the user's first name and surname. **Your function will return no value**.\n",
    "\n",
    "\n",
    "The default value for first and last name will be _James Bond_."
   ]
  },
  {
   "cell_type": "code",
   "execution_count": null,
   "metadata": {},
   "outputs": [],
   "source": [
    "# Code here\n",
    "\n",
    "def display_hello():\n",
    "    first_name = input(\"First name: \")\n",
    "    last_name = input(\"Last name: \")\n",
    "    print(\"hello \" + first_name + \" \" + last_name)\n",
    "    \n",
    "display_hello()"
   ]
  },
  {
   "cell_type": "markdown",
   "metadata": {},
   "source": [
    "***\n",
    "## Exercise 07.4\n",
    "***"
   ]
  },
  {
   "cell_type": "markdown",
   "metadata": {},
   "source": [
    "Write a function `vowelNumber()` that counts the number of vowels (lowercase, without accents) in a string passed as parameters."
   ]
  },
  {
   "cell_type": "code",
   "execution_count": 3,
   "metadata": {},
   "outputs": [
    {
     "name": "stdout",
     "output_type": "stream",
     "text": [
      "28\n"
     ]
    }
   ],
   "source": [
    "# CODE HERE\n",
    "def vowelNumber(string):\n",
    "    count = 0\n",
    "    for c in string:\n",
    "        if c in [\"a\",\"e\",\"i\",\"o\",\"u\",\"y\"]:\n",
    "            count  = count  + 1\n",
    "    return count\n",
    "\n",
    "print(vowelNumber(\"Être seul vous fait vraiment réaliser que tout ce que vous avez c'est vous-même.\"))"
   ]
  },
  {
   "cell_type": "markdown",
   "metadata": {},
   "source": [
    "***\n",
    "## Exercise 07.5\n",
    "***"
   ]
  },
  {
   "cell_type": "markdown",
   "metadata": {},
   "source": [
    "On se propose d'écrire une fonction qui calcule la valeur d'un réel x élevé à la puissance n.\n",
    "\n",
    "1. Ecrivez une fonction `puissance(x,n)` qui prend en paramètre un réel `x` et une puissance `n` et qui renvoie x**n.\n",
    "\n",
    "We want to write a function that calculates the value of a real x raised to the nth power.\n",
    "\n",
    "1. Write a function `power(x,n)` which takes as parameters a real `x` and a power `n` and returns x**n."
   ]
  },
  {
   "cell_type": "code",
   "execution_count": 7,
   "metadata": {
    "scrolled": true
   },
   "outputs": [
    {
     "name": "stdout",
     "output_type": "stream",
     "text": [
      "8\n"
     ]
    }
   ],
   "source": [
    "def power1(x, n):\n",
    "    return x**n\n",
    "\n",
    "print(power1(2,3))"
   ]
  },
  {
   "cell_type": "markdown",
   "metadata": {},
   "source": [
    "2. Modify the previous function so that it determines the value of a real `x` raised to the power `n` using a **for** loop."
   ]
  },
  {
   "cell_type": "code",
   "execution_count": 9,
   "metadata": {},
   "outputs": [
    {
     "name": "stdout",
     "output_type": "stream",
     "text": [
      "27\n"
     ]
    }
   ],
   "source": [
    "def power2(x,n):\n",
    "    res = 1\n",
    "    for i in range(n):\n",
    "        res = res*x\n",
    "    return res\n",
    "\n",
    "print(power2(3,3))"
   ]
  },
  {
   "cell_type": "markdown",
   "metadata": {},
   "source": [
    "***\n",
    "## Exercise 07.6\n",
    "***"
   ]
  },
  {
   "cell_type": "markdown",
   "metadata": {},
   "source": [
    "The goal of this exercise is to code in Python some of the operations for the polynomials of the second degree."
   ]
  },
  {
   "cell_type": "markdown",
   "metadata": {},
   "source": [
    "1.\tWrite a function `trinomial()` that depends on four parameters `a`, `b`, `c` and `x` and returns the value of the trinomial a<var>x<sup>2</sup></var> + bx + c\n",
    "_For example trinomial(2,-1,0,6) returns 66._"
   ]
  },
  {
   "cell_type": "code",
   "execution_count": 10,
   "metadata": {},
   "outputs": [
    {
     "data": {
      "text/plain": [
       "66"
      ]
     },
     "execution_count": 10,
     "metadata": {},
     "output_type": "execute_result"
    }
   ],
   "source": [
    "# CODE HERE\n",
    "def trinomial(a, b, c, x):\n",
    "    return a * x**2 + b*x +c\n",
    "\n",
    "trinomial(2, -1, 0, 6)"
   ]
  },
  {
   "cell_type": "markdown",
   "metadata": {},
   "source": [
    "2. Write a function `root()` which, given three parameters `a`, `b` and `c`, displays the number of roots available to the polynomial a<var>x<sup>2</sup></var> + bx + c.\n",
    "\n",
    "**Note:** The function returns no value. Display can be done by using **print**, For example: \"This polynomial contains two roots.\"\n",
    "\n",
    "**Hint 2:** Don't forget to calculate the discriminant..."
   ]
  },
  {
   "cell_type": "code",
   "execution_count": 11,
   "metadata": {},
   "outputs": [
    {
     "name": "stdout",
     "output_type": "stream",
     "text": [
      "The polynomial has twp real roots.\n"
     ]
    }
   ],
   "source": [
    "def root(a,b,c):\n",
    "    delta = b**2-4*a*c\n",
    "    if delta < 0:\n",
    "        print(\"The polynomial has no real roots.\")\n",
    "    elif delta == 0:\n",
    "        print(\"The polynomial has one real roots.\")\n",
    "    else:\n",
    "        print(\"The polynomial has two real roots.\")\n",
    "\n",
    "root(2,2,-1)"
   ]
  },
  {
   "cell_type": "markdown",
   "metadata": {},
   "source": [
    "3. This time, we want to know the value of the roots in question. To do this, we want the program to return three different types of value.\n",
    "\n",
    "\n",
    "* If the polynomial has no roots, we return **None** (this is a Python keyword that expresses emptiness).\n",
    "\n",
    "* If the polynomial has a single root, it is returned.\n",
    "\n",
    "* If the polynomial has two roots, both are returned, separated by a comma (tuple).\n",
    "\n",
    "We're only interested in real roots.\n",
    "\n",
    "Modify the previous function to perform this calculation."
   ]
  },
  {
   "cell_type": "code",
   "execution_count": 12,
   "metadata": {},
   "outputs": [
    {
     "name": "stdout",
     "output_type": "stream",
     "text": [
      "(1.0, 2.0)\n"
     ]
    }
   ],
   "source": [
    "from math import sqrt\n",
    "\n",
    "def root2(a,b,c):\n",
    "    delta = b**2-4*a*c\n",
    "    if delta < 0:\n",
    "        return None\n",
    "    elif delta == 0:\n",
    "        return -b/2*a\n",
    "    else:\n",
    "        return (-b-sqrt(delta)) / 2*a , (-b+sqrt(delta)) / 2*a\n",
    "\n",
    "print(root2(1,-3,2))"
   ]
  },
  {
   "cell_type": "markdown",
   "metadata": {},
   "source": [
    "***\n",
    "## Exercise 07.7\n",
    "***"
   ]
  },
  {
   "cell_type": "markdown",
   "metadata": {},
   "source": [
    "Here is the truth table for the Boolean operators AND, OR and NOT :"
   ]
  },
  {
   "cell_type": "markdown",
   "metadata": {},
   "source": [
    "<img src=\" data:image/png;base64,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\">"
   ]
  },
  {
   "cell_type": "markdown",
   "metadata": {},
   "source": [
    "Write functions `ET()`, `OU()`, `NON()`, which, using conditional structures, take two Booleans `a` and `b` as parameters (`NON` takes only one Boolean as a parameter) and return `True` if according to the truth table their combination is true and `False` if according to the truth table their combination is false."
   ]
  },
  {
   "cell_type": "code",
   "execution_count": null,
   "metadata": {},
   "outputs": [],
   "source": [
    "# CODE HERE\n",
    "def ET(a,b):\n",
    "    if a == True and b == True:\n",
    "        return True\n",
    "    else:\n",
    "        return False\n",
    "\n",
    "def OU(a,b):\n",
    "    if a == False and b == False:\n",
    "        return False\n",
    "    else:\n",
    "        return True\n",
    "    \n",
    "def NON(a):\n",
    "    return not(a)\n",
    "\n",
    "print(ET(True,False))\n",
    "print(OU(True, False))\n",
    "print(NON(False))"
   ]
  },
  {
   "cell_type": "markdown",
   "metadata": {},
   "source": [
    "***\n",
    "## Exercise 07.8\n",
    "***"
   ]
  },
  {
   "cell_type": "markdown",
   "metadata": {},
   "source": [
    "A palindrome is defined as a string of characters that reads the same from left to right and right to left. \n",
    "\n",
    "Write a function `palindrome()` that returns `True` if the word given as a parameter is a palindrome and `False` if it isn't. For example, your function will return `True` for \"RADAR\" or \"KAYAK\".\n",
    "\n",
    "For example, your function will return `True` for \"RADAR\" or \"KAYAK\" but `False` for \"Exercise\".\n"
   ]
  },
  {
   "cell_type": "code",
   "execution_count": 18,
   "metadata": {},
   "outputs": [
    {
     "name": "stdout",
     "output_type": "stream",
     "text": [
      "True\n",
      "False\n",
      "True\n",
      "False\n"
     ]
    }
   ],
   "source": [
    "# CODE HERE\n",
    "def palindrome(word):\n",
    "    n = len(word)\n",
    "    for i in range(n//2):\n",
    "        if word[i] != word[n-(1+i)]:\n",
    "            return False\n",
    "    return True\n",
    "\n",
    "print(palindrome(\"tenet\"))\n",
    "print(palindrome(\"batman\"))\n",
    "\n",
    "\n",
    "def palindrome2(word):\n",
    "    for i in range(len(word)):\n",
    "        if word[i] != word[(i + 1) * -1]:\n",
    "            return False\n",
    "    return True\n",
    "print(palindrome2(\"tenet\"))\n",
    "print(palindrome2(\"batman\"))\n",
    "\n"
   ]
  },
  {
   "cell_type": "markdown",
   "metadata": {},
   "source": [
    "***\n",
    "## Exercise 07.9\n",
    "***"
   ]
  },
  {
   "cell_type": "markdown",
   "metadata": {},
   "source": [
    "Write a `strip_vowels()` function that takes any string as parameter and returns the same string without its vowels."
   ]
  },
  {
   "cell_type": "code",
   "execution_count": 19,
   "metadata": {},
   "outputs": [
    {
     "name": "stdout",
     "output_type": "stream",
     "text": [
      "M cnscnc m' dt q s-t? Vx-t fnr dns l vc  dns l qétd?\n"
     ]
    }
   ],
   "source": [
    "# CODE HERE\n",
    "def strip_vowels(string):\n",
    "    res = ''\n",
    "    for c in string:\n",
    "        if c not in [\"a\",\"e\",\"i\",\"o\",\"u\",\"y\"]:\n",
    "            res = res + c\n",
    "    return res\n",
    "\n",
    "print(strip_vowels(\"Ma conscience m'a dit qui es-tu? Veux-tu finir dans le vice ou dans la quiétude?\"))"
   ]
  },
  {
   "cell_type": "markdown",
   "metadata": {},
   "source": [
    "***\n",
    "## Exercise 07.10\n",
    "***"
   ]
  },
  {
   "cell_type": "markdown",
   "metadata": {},
   "source": [
    "1. Write a function `convert_euros_to_dollars()` which takes a parameter `amount`, expressed in euros, returns its value in dollars (we'll take 1 euro = 1.15 dollars)."
   ]
  },
  {
   "cell_type": "code",
   "execution_count": null,
   "metadata": {},
   "outputs": [],
   "source": [
    "# CODE HERE\n",
    "def convert_euros_to_dollars(montant):\n",
    "    return montant * 1.15\n",
    "\n",
    "convert_euros_to_dollars(150)"
   ]
  },
  {
   "cell_type": "markdown",
   "metadata": {},
   "source": [
    "2. Write a function `convert_euros()` that takes a parameter `amount` and a currency `currency` and converts the given `amount` into euros, in the desired currency. \n",
    "\n",
    "Currency examples: 1 euro = 1.15 dollars; 1 euro = 0.81 pounds; 1 euro = 130 yen. \n",
    "\n",
    "For example, conversion_euros(100, \"pounds\") returns 81."
   ]
  },
  {
   "cell_type": "code",
   "execution_count": 20,
   "metadata": {},
   "outputs": [
    {
     "name": "stdout",
     "output_type": "stream",
     "text": [
      "81.0\n"
     ]
    }
   ],
   "source": [
    "# CODE HERE\n",
    "\n",
    "def convert_euros(montant, devise):\n",
    "    if devise == \"dollars\":\n",
    "        return montant * 1.15\n",
    "    elif devise == \"pounds\":\n",
    "        return montant * 0.81\n",
    "    elif devise == \"yens\":\n",
    "        return montant * 130\n",
    "    else:\n",
    "        return montant\n",
    "\n",
    "print(convert_euros(100, \"pounds\"))"
   ]
  }
 ],
 "metadata": {
  "kernelspec": {
   "display_name": "Python 3",
   "language": "python",
   "name": "python3"
  },
  "language_info": {
   "codemirror_mode": {
    "name": "ipython",
    "version": 3
   },
   "file_extension": ".py",
   "mimetype": "text/x-python",
   "name": "python",
   "nbconvert_exporter": "python",
   "pygments_lexer": "ipython3",
   "version": "3.10.8"
  },
  "latex_envs": {
   "LaTeX_envs_menu_present": true,
   "autoclose": false,
   "autocomplete": true,
   "bibliofile": "biblio.bib",
   "cite_by": "apalike",
   "current_citInitial": 1,
   "eqLabelWithNumbers": true,
   "eqNumInitial": 1,
   "hotkeys": {
    "equation": "Ctrl-E",
    "itemize": "Ctrl-I"
   },
   "labels_anchors": false,
   "latex_user_defs": false,
   "report_style_numbering": false,
   "user_envs_cfg": false
  },
  "varInspector": {
   "cols": {
    "lenName": 16,
    "lenType": 16,
    "lenVar": 40
   },
   "kernels_config": {
    "python": {
     "delete_cmd_postfix": "",
     "delete_cmd_prefix": "del ",
     "library": "var_list.py",
     "varRefreshCmd": "print(var_dic_list())"
    },
    "r": {
     "delete_cmd_postfix": ") ",
     "delete_cmd_prefix": "rm(",
     "library": "var_list.r",
     "varRefreshCmd": "cat(var_dic_list()) "
    }
   },
   "types_to_exclude": [
    "module",
    "function",
    "builtin_function_or_method",
    "instance",
    "_Feature"
   ],
   "window_display": false
  }
 },
 "nbformat": 4,
 "nbformat_minor": 2
}
