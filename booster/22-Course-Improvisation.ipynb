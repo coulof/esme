{
 "cells": [
  {
   "cell_type": "markdown",
   "metadata": {},
   "source": [
    "# Course 22 - Improvisation\n",
    "\n",
    "This course will be mix of topic and TDs"
   ]
  },
  {
   "cell_type": "markdown",
   "metadata": {},
   "source": [
    "## Reminder on Reccursion\n",
    "Give me the two ideas behind a recurvise function\n",
    "\n",
    "### TD - Binary search\n",
    "\n",
    "Binary search is an algorithm for finding a specific `value` in a sorted list or array. It works by repeatedly dividing the search space in half. Here's how it works:\n",
    "* Start with two boundaries, `low` and `high`, representing the range of elements to search\n",
    "* Then calculate the `middle` index ; use the `//` operator for the integer division\n",
    "* Compare the middle element with the target value:\n",
    "  * If the `middle` element is equal to the target, the search is successful, and the index is returned\n",
    "  * If the `middle` element is greater than the target, update `high = mid - 1` to search the left half\n",
    "  * If the `middle` element is less than the target, update `low = mid + 1` to search the right half.\n",
    "* Repeat until the `value` is found ; or not...\n",
    "\n",
    "> Note: Binary search has a time complexity of O(log n), making it much more efficient than linear search for large datasets."
   ]
  },
  {
   "cell_type": "code",
   "execution_count": null,
   "metadata": {},
   "outputs": [],
   "source": [
    "def binary_search(arr, target, low, high):\n",
    "    if low > high:\n",
    "        return -1  # Target not found\n",
    "    middle = (low + high) // 2\n",
    "    if arr[middle] == target:\n",
    "        return middle  # Target found at index middle\n",
    "    elif arr[middle] > target:\n",
    "        return binary_search(arr, target, low, middle - 1)  # Search left half\n",
    "    else:\n",
    "        return binary_search(arr, target, middle + 1, high) \n",
    "\n",
    "sorted_list = [1, 2, 3, 4, 5, 6, 7, 8, 9, 10]\n",
    "target_value = 7\n",
    "result = binary_search(sorted_list, target_value, 0, len(sorted_list) - 1)\n",
    "print(f\"Index of {target_value} in the list: {result}\")"
   ]
  },
  {
   "cell_type": "markdown",
   "metadata": {},
   "source": [
    "# Introduction on Bit, Bytes, and Hexa\n",
    "\n",
    "## Bits\n",
    "Are the basic units of digital information, representing binary digits (0 or 1).\n",
    "\n",
    "They represent the two possible states, 0 and 1, which align with the electrical states of off and on in electronic systems.\n",
    "\n",
    "Computers process and store data in the form of bits. Memory addresses, CPU instructions, and data are all ultimately represented using bits.\n",
    "\n",
    "## Bytes\n",
    "Are groups of 8 bits, forming the fundamental unit of storage in computers.\n",
    "\n",
    "This grouping allows for a more convenient representation of data. Many computer architectures and programming languages are designed to handle data in byte-sized chunks.\n",
    "\n",
    "Bytes are commonly used to represent characters in character encoding systems like ASCII and UTF-8.\n",
    "\n",
    "## Hexadecimal Notation\n",
    "Is a base-16 system used to represent binary data more compactly.\n",
    "\n",
    "Hexadecimal is often used to represent memory addresses. It is also used to represent colors in web development and graphic design.\n",
    "\n",
    "> Note: Python is able to manipulate each of these units"
   ]
  },
  {
   "cell_type": "code",
   "execution_count": null,
   "metadata": {},
   "outputs": [],
   "source": [
    "decimal_number = 1024\n",
    "\n",
    "print(f\"Binary: {bin(decimal_number)}\")\n",
    "print(f\"Decimal: {decimal_number}\")\n",
    "print(f\"Hexadecimal: {hex(decimal_number)}\")"
   ]
  },
  {
   "cell_type": "markdown",
   "metadata": {},
   "source": [
    "# ASCII (American Standard Code for Information Interchange)\n",
    "ASCII was developed in the early 1960s to establish a standardized way to represent characters and control characters in computers, ensuring compatibility and interchangeability of data between different systems.\n",
    "\n",
    "In the early days of computing, each computer manufacturer had its own character set, leading to compatibility issues when sharing data between systems.\n",
    "\n",
    "ASCII originally defined a **7-bit** character set, with 128 possible characters. These characters include uppercase and lowercase letters, numerals, punctuation marks, and control characters.\n",
    "\n",
    "Even though more advanced character encodings like UTF-8 are widely used today, ASCII remains relevant in many contexts, especially in basic text processing and communication protocols."
   ]
  },
  {
   "cell_type": "markdown",
   "metadata": {},
   "source": [
    "## Exercises\n",
    "### 1. Alphabet\n",
    "\n",
    "Using above functions write a function to display the ASCII table in the format:\n",
    "```\n",
    "Character: A \t Decimal: 65 \t Binary: 0b1000001 \t Hex: 0x41\n",
    "```\n",
    ">Hint: the [`chr()` function](https://docs.python.org/3/library/functions.html#chr) cast a decimal into its character representation ; `ord()` does the opposite.\n",
    "\n",
    "### 2. Full ASCII table\n",
    "Do the same starting from 0 ; what do you notice ?\n"
   ]
  },
  {
   "cell_type": "code",
   "execution_count": null,
   "metadata": {},
   "outputs": [],
   "source": [
    "# CODE HERE\n",
    "for i in range(0,129):\n",
    "   \n",
    "    print(f\"{chr(i)} Binary: {bin(i)}\")\n"
   ]
  },
  {
   "cell_type": "markdown",
   "metadata": {},
   "source": [
    "# UTF-8 - Unicode Transformation Format - 8-bit\n",
    "\n",
    "Unicode is a standardized character set that assigns a unique code point (an integer value) to every character, symbol, and emoji from every script and language in the world.\n",
    "\n",
    "The Unicode Consortium is the organization responsible for deciding and assigning the codes for Unicode.\n",
    "\n",
    "UTF-8 was designed by [Ken Thompson](https://en.wikipedia.org/wiki/Ken_Thompson) and [Rob Pike](https://en.wikipedia.org/wiki/Rob_Pike) at Bell Labs in 1992. The specification was later published by the Internet Engineering Task Force (IETF) as RFC 3629 in 2003.\n",
    "\n",
    "The same team later worked together at Google to create the [golang language](https://go.dev/).\n",
    "\n",
    "UTF-8 was created to address the limitations of existing character encodings, such as ASCII. It aimed to provide a flexible and efficient way to represent the vast array of characters from different writing systems and to maintain compatibility with ASCII.\n",
    "\n",
    "\n",
    "\n",
    "Unicode is a character set, and UTF-8 is one of the encoding schemes used to represent Unicode characters in binary form.\n",
    "\n",
    "\n",
    "## Key features\n",
    "* Variable-Length Encoding: UTF-8 uses a variable-length encoding scheme, where different characters may be represented using 1 to 4 bytes. Commonly used characters are represented with fewer bytes, ensuring backward compatibility with ASCII.\n",
    "\n",
    "* Compatibility with ASCII: UTF-8 is designed to be fully compatible with ASCII. The first 128 characters (0 to 127) in UTF-8 are identical to ASCII, making it easy to represent and process ASCII text using UTF-8.\n",
    "\n",
    "* Unicode Support: UTF-8 can represent all Unicode characters, making it a comprehensive and widely adopted character encoding standard.\n",
    "\n",
    "## Encoding\n",
    "\n",
    "UTF-8 encodes code points in one to four bytes, depending on the value of the code point. In the following table, the x characters are replaced by the bits of the code point:\n",
    "\n",
    "\n",
    "| First code point | Last code point    | Byte 1    | Byte 2    | Byte 3    | Byte 4    |\n",
    "|------------------|--------------------|-----------|-----------|-----------|-----------|\n",
    "| U+0000           | U+007F             | 0xxxxxxx  |           |           |           |\n",
    "| U+0080           | U+07FF             | 110xxxxx  | 10xxxxxx  |           |           |\n",
    "| U+0800           | U+FFFF             | 1110xxxx  | 10xxxxxx  | 10xxxxxx  |           |\n",
    "| U+10000          | U+10FFFF           | 11110xxx  | 10xxxxxx  | 10xxxxxx  | 10xxxxxx  |\n"
   ]
  },
  {
   "cell_type": "markdown",
   "metadata": {},
   "source": [
    "## Exercises\n",
    "### 1. Possible characters\n",
    "Reading at the above table, what is in theory to number of possible character values in UTF-8\n",
    "\n",
    "> Hint: How many bits can change ?"
   ]
  },
  {
   "cell_type": "code",
   "execution_count": null,
   "metadata": {},
   "outputs": [],
   "source": []
  },
  {
   "cell_type": "markdown",
   "metadata": {},
   "source": [
    "### 2. : UTF-8 notation to print\n",
    "\n",
    "Let's say you have a `unicode_value = \"U+1F604\"` write a function to extract the hexadecimal value and print the character.\n",
    "\n",
    "> Hint: you cannot cast a string to hexa decimal, you have to use an `int` and parse it in the corresponding base."
   ]
  },
  {
   "cell_type": "code",
   "execution_count": 1,
   "metadata": {},
   "outputs": [
    {
     "name": "stdout",
     "output_type": "stream",
     "text": [
      "😄\n",
      "😄\n"
     ]
    }
   ],
   "source": [
    "unicode_value = \"U+1F604\"\n",
    "print(chr(int(unicode_value.split(\"+\")[1],16)))\n",
    "\n",
    "print(chr(int(unicode_value[2:],16)))\n",
    "\n",
    "\n"
   ]
  },
  {
   "cell_type": "markdown",
   "metadata": {},
   "source": [
    "### 3. Print all available emojis\n",
    "From [official Unicode page](https://unicode.org/emoji/charts/full-emoji-list.html) get the code for the first and last emojis.\n",
    "\n",
    "Using previous function or piece of code print all available emojis"
   ]
  },
  {
   "cell_type": "code",
   "execution_count": null,
   "metadata": {},
   "outputs": [],
   "source": [
    "\n",
    "a=int(\"1F600\",16)\n",
    "b=int(\"1F64D\",16)\n",
    "for i in range(a,b):\n",
    "    print(chr((i))\n",
    "    "
   ]
  }
 ],
 "metadata": {
  "kernelspec": {
   "display_name": "Python 3 (ipykernel)",
   "language": "python",
   "name": "python3"
  },
  "orig_nbformat": 4
 },
 "nbformat": 4,
 "nbformat_minor": 2
}
