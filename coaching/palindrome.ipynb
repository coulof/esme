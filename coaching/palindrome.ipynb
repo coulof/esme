{
 "cells": [
  {
   "cell_type": "markdown",
   "metadata": {},
   "source": [
    "# Palindrome"
   ]
  },
  {
   "cell_type": "markdown",
   "metadata": {},
   "source": [
    "## Iterative"
   ]
  },
  {
   "cell_type": "code",
   "execution_count": 5,
   "metadata": {},
   "outputs": [
    {
     "name": "stdout",
     "output_type": "stream",
     "text": [
      "True\n",
      "False\n"
     ]
    }
   ],
   "source": [
    "def is_palindrome(word):\n",
    "    left = 0\n",
    "    right = len(word) - 1\n",
    "    while left < right:\n",
    "        if word[left] != word[right]:\n",
    "            return False\n",
    "        left += 1\n",
    "        right -= 1\n",
    "    return True\n",
    "\n",
    "print(is_palindrome(\"kayak\"))\n",
    "print(is_palindrome(\"toto\"))"
   ]
  },
  {
   "cell_type": "markdown",
   "metadata": {},
   "source": [
    "## The hackerway"
   ]
  },
  {
   "cell_type": "code",
   "execution_count": 6,
   "metadata": {},
   "outputs": [
    {
     "name": "stdout",
     "output_type": "stream",
     "text": [
      "True\n",
      "False\n"
     ]
    }
   ],
   "source": [
    "def is_palindrome_reverse(word):\n",
    "    return word == word[::-1]\n",
    "\n",
    "print(is_palindrome_reverse(\"kayak\"))\n",
    "print(is_palindrome_reverse(\"toto\"))"
   ]
  },
  {
   "cell_type": "markdown",
   "metadata": {},
   "source": [
    "## Reccursive"
   ]
  },
  {
   "cell_type": "code",
   "execution_count": 7,
   "metadata": {},
   "outputs": [
    {
     "name": "stdout",
     "output_type": "stream",
     "text": [
      "True\n",
      "False\n"
     ]
    }
   ],
   "source": [
    "def is_palindrome_reccursive(word):\n",
    "    # empty or single character for the end result\n",
    "    if len(word) <= 1:\n",
    "        return True\n",
    "    # Recursive case: check if the first and last characters are the same, and\n",
    "    # recursively check the substring without these characters\n",
    "    else:\n",
    "        return word[0] == word[-1] and is_palindrome_reccursive(word[1:-1])\n",
    "\n",
    "print(is_palindrome_reccursive(\"kayak\"))\n",
    "print(is_palindrome_reccursive(\"toto\"))"
   ]
  },
  {
   "cell_type": "markdown",
   "metadata": {},
   "source": [
    "## Benchmark"
   ]
  },
  {
   "cell_type": "code",
   "execution_count": 9,
   "metadata": {},
   "outputs": [
    {
     "name": "stdout",
     "output_type": "stream",
     "text": [
      "Execution times:\n",
      "- Iterative: 0.12027949999901466 seconds\n",
      "- Reverse: 0.012825199999497272 seconds\n",
      "- Reccursive: 0.23129539999354165 seconds\n"
     ]
    }
   ],
   "source": [
    "import timeit\n",
    "\n",
    "\n",
    "iterative_time  = timeit.timeit(lambda: is_palindrome(\"aaaaaaaaaaaaaaaaaaaaaaaaaaaaaaaaaaaaaaaaaa\"), number=100000)\n",
    "reverse_time    = timeit.timeit(lambda: is_palindrome_reverse(\"aaaaaaaaaaaaaaaaaaaaaaaaaaaaaaaaaaaaaaaaaa\"), number=100000)\n",
    "reccursive_time = timeit.timeit(lambda: is_palindrome_reccursive(\"aaaaaaaaaaaaaaaaaaaaaaaaaaaaaaaaaaaaaaaaaa\"), number=100000)\n",
    "\n",
    "print(f\"Execution times:\")\n",
    "print(f\"- Iterative: {iterative_time} seconds\")\n",
    "print(f\"- Reverse: {reverse_time} seconds\")\n",
    "print(f\"- Reccursive: {reccursive_time} seconds\")\n"
   ]
  }
 ],
 "metadata": {
  "kernelspec": {
   "display_name": "Python 3.10.5 64-bit",
   "language": "python",
   "name": "python3"
  },
  "language_info": {
   "codemirror_mode": {
    "name": "ipython",
    "version": 3
   },
   "file_extension": ".py",
   "mimetype": "text/x-python",
   "name": "python",
   "nbconvert_exporter": "python",
   "pygments_lexer": "ipython3",
   "version": "3.10.5"
  },
  "orig_nbformat": 4,
  "vscode": {
   "interpreter": {
    "hash": "26de051ba29f2982a8de78e945f0abaf191376122a1563185a90213a26c5da77"
   }
  }
 },
 "nbformat": 4,
 "nbformat_minor": 2
}
