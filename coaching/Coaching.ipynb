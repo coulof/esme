{
 "cells": [
  {
   "cell_type": "markdown",
   "metadata": {},
   "source": [
    "# Coaching\n",
    "\n",
    "Just throwing ideas for ESME student coaching"
   ]
  },
  {
   "cell_type": "markdown",
   "metadata": {},
   "source": [
    "## File, Dict & Loop - Play with The Beatles words\n",
    "In the following exercise we will do basic data analysis on The Beatles songs.\n",
    "\n",
    "In just a decade, they released 12 studio albums and more than 200 songs.\n",
    "\n",
    "All the lyrics are available as text files under `lyrics/ReleaseYear_AlbumName`\n"
   ]
  },
  {
   "cell_type": "markdown",
   "metadata": {},
   "source": [
    "Your first task is to create a dictionary where the key is a word from the lyrics and the number of occurences in The Beatles production.\n",
    "\n",
    "To do you you have to:\n",
    "- go through each file\n",
    "- for each lyrics file parse each word\n",
    "- create an entry or increment it counter\n",
    "\n",
    "\n",
    "<!-- file_path in txt_files:\n",
    "        with open(file_path, 'r') as f:\n",
    "            content = f.read()\n",
    "            words = content.split()\n",
    "            for word in words:\n",
    "                if word in word_count:\n",
    "                    word_count[word] += 1\n",
    "                else:\n",
    "                    word_count[word] = 1\n",
    "-->"
   ]
  },
  {
   "cell_type": "code",
   "execution_count": null,
   "metadata": {},
   "outputs": [],
   "source": [
    "import glob\n",
    "import os\n",
    "\n",
    "def read_txt_files(directory):\n",
    "    word_count = {}\n",
    "    # get a list of each files\n",
    "    txt_files = glob.glob(os.path.join(directory, '**/*.txt'), recursive=True)\n",
    "    for ...    \n",
    "    return word_count\n",
    "\n",
    "directory_path = './lyrics'\n",
    "words = read_txt_files(directory_path)\n",
    "\n",
    "\n",
    "\n"
   ]
  },
  {
   "cell_type": "markdown",
   "metadata": {},
   "source": [
    "Now that we have a dictionnary with the occurence of each word we want to order it to show often used words first.\n",
    "\n",
    "Python has built-in `list.sort()` and `sorted()` (for any iterable) functions to create a sorted list (cf. [the documentation](https://docs.python.org/3/howto/sorting.html)).\n",
    "\n",
    "\n",
    "Since a dictionary is made of keys and items (and items can be made of any type, nested structure or object) you have  types,)\n",
    "\n",
    "\n",
    "\n",
    "<!-- \n",
    "sorted_word_count = sorted(words.items(), key=lambda x: x[1], reverse=True)\n",
    "-->\n"
   ]
  },
  {
   "cell_type": "code",
   "execution_count": null,
   "metadata": {},
   "outputs": [],
   "source": [
    "sorted_word_count = ..."
   ]
  },
  {
   "cell_type": "markdown",
   "metadata": {},
   "source": [
    "Create the following functions :\n",
    "1. `top_n_words` that takes the sorted list and return the first n words with maximum number of occurrences\n",
    "2. `filter_words` that returns all the words that matches an expression"
   ]
  },
  {
   "cell_type": "code",
   "execution_count": null,
   "metadata": {},
   "outputs": [],
   "source": [
    "\n",
    "def top_n_words(word_count, n):\n",
    "    ...\n",
    "\n",
    "\n",
    "def filter_words(word_count, predicate):\n",
    "    ...\n",
    "    if predicate(count):\n",
    "        print(...)\n",
    "\n",
    "filter_words(word_count, lambda count: 50 <= count <= 100)"
   ]
  },
  {
   "cell_type": "markdown",
   "metadata": {},
   "source": [
    "Create a function to sanitize a word, that is to say:\n",
    "- strip any [punctuation](https://docs.python.org/3.12/library/string.html#string.punctuation)\n",
    "- make it lower case"
   ]
  },
  {
   "cell_type": "code",
   "execution_count": null,
   "metadata": {},
   "outputs": [],
   "source": [
    "import string\n",
    "\n",
    "def sanitize_word(word):\n",
    "    ...\n",
    "\n"
   ]
  },
  {
   "cell_type": "markdown",
   "metadata": {},
   "source": [
    "Remove from the dict `word_count` all the pronouns, conjunctions, and articles so we get a list of \"meaningful words\".\n",
    "\n",
    "Choose the approach you prefer between removing the words from the existing dict or create a new list."
   ]
  },
  {
   "cell_type": "code",
   "execution_count": null,
   "metadata": {},
   "outputs": [],
   "source": [
    "exclude_words = ['i', 'me', 'my', 'mine', 'you', 'your', 'yours', 'he', 'him', 'his', 'she', 'her', 'hers', 'it', 'its', 'we', 'us', 'our', 'ours', 'you', 'your', 'yours', 'they', 'them', 'their', 'theirs', 'and', 'or', 'but', 'nor', 'so', 'for', 'yet', 'after', 'although', 'as', 'because', 'before', 'if', 'since', 'though', 'unless', 'until', 'when', 'where', 'while', 'a', 'an', 'the', 'on', 'in', 'to', 'at', 'by', 'with', 'of', 'off', 'up', 'down', 'over', 'under']\n",
    "\n"
   ]
  },
  {
   "cell_type": "markdown",
   "metadata": {},
   "source": [
    "Have more fun by :\n",
    "- Recreating the list with sanitized words\n",
    "- Change the structure to have stats per song/record/year\n",
    "- Find the song with most unique words / longest words in average / lowest number of words"
   ]
  }
 ],
 "metadata": {
  "kernelspec": {
   "display_name": "Python 3 (ipykernel)",
   "language": "python",
   "name": "python3"
  },
  "language_info": {
   "codemirror_mode": {
    "name": "ipython",
    "version": 3
   },
   "file_extension": ".py",
   "mimetype": "text/x-python",
   "name": "python",
   "nbconvert_exporter": "python",
   "pygments_lexer": "ipython3",
   "version": "3.12.1"
  },
  "orig_nbformat": 4
 },
 "nbformat": 4,
 "nbformat_minor": 2
}
