{
 "cells": [
  {
   "cell_type": "markdown",
   "metadata": {},
   "source": [
    "# Coaching\n",
    "\n",
    "Just throwing ideas for ESME student coaching"
   ]
  },
  {
   "cell_type": "markdown",
   "metadata": {},
   "source": [
    "## Exercise from previous year"
   ]
  },
  {
   "cell_type": "code",
   "execution_count": 4,
   "metadata": {},
   "outputs": [
    {
     "name": "stdout",
     "output_type": "stream",
     "text": [
      "# of 1:  2\n",
      "# of 0:  1\n"
     ]
    }
   ],
   "source": [
    "def readword():\n",
    "    word=\"\"\n",
    "    n = input(\"Type 0 or 1 :\")\n",
    "    while n==\"0\" or n==\"1\":\n",
    "        word += n\n",
    "        n = input(\"Type 0 ou 1 :\")\n",
    "    return word \n",
    "\n",
    "def countletter(word, letter=\"0\"):\n",
    "    count = 0 \n",
    "    for v in word:\n",
    "        if v == letter:\n",
    "            count += 1 \n",
    "    return count\n",
    "word = readword()\n",
    "\n",
    "print(\"# of 1: \", countletter(word, '1'))\n",
    "print(\"# of 0: \", countletter(word))\n"
   ]
  },
  {
   "cell_type": "markdown",
   "metadata": {},
   "source": [
    "## File, Dict & Loop - Play with The Beatles words\n",
    "In the following exercise we will do basic data analysis on The Beatles songs.\n",
    "\n",
    "In just a decade, they released 12 studio albums and more than 200 songs.\n",
    "\n",
    "All the lyrics are available as text files under `lyrics/ReleaseYear_AlbumName`\n"
   ]
  },
  {
   "cell_type": "markdown",
   "metadata": {},
   "source": [
    "Your first task is to create a dictionary where the key is a word from the lyrics and the number of occurences in The Beatles production.\n",
    "\n",
    "To do you you have to:\n",
    "- go through each file\n",
    "- for each lyrics file parse each word\n",
    "- create an entry or increment it counter\n",
    "\n",
    "\n",
    "<!-- file_path in txt_files:\n",
    "        with open(file_path, 'r') as f:\n",
    "            content = f.read()\n",
    "            words = content.split()\n",
    "            for word in words:\n",
    "                if word in word_count:\n",
    "                    word_count[word] += 1\n",
    "                else:\n",
    "                    word_count[word] = 1\n",
    "-->"
   ]
  },
  {
   "cell_type": "code",
   "execution_count": null,
   "metadata": {},
   "outputs": [],
   "source": [
    "import glob\n",
    "import os\n",
    "\n",
    "def read_txt_files(directory):\n",
    "    word_count = {}\n",
    "    # get a list of each files\n",
    "    txt_files = glob.glob(os.path.join(directory, '**/*.txt'), recursive=True)\n",
    "    for ...    \n",
    "    return word_count\n",
    "\n",
    "directory_path = './lyrics'\n",
    "words = read_txt_files(directory_path)\n",
    "\n",
    "\n",
    "\n"
   ]
  },
  {
   "cell_type": "markdown",
   "metadata": {},
   "source": [
    "Now that we have a dictionnary with the occurence of each word, sort the dictionnary to show often used words first.\n",
    "\n",
    "Python has built-in `list.sort()` and `sorted()` (for any iterable) functions to create a sorted list (cf. [the documentation](https://docs.python.org/3/howto/sorting.html)).\n",
    "\n",
    "\n",
    "Since a dictionary is made of keys and items (and items can be made of any type, nested structure or object) you have to code how to sort the elements. This can done with the help of an anonymous function also name [lambda](https://docs.python.org/3/reference/expressions.html#lambda).\n",
    "\n",
    "\n",
    "> Note: Since Python 3.7 only dictionaries keep their order. In previous versions the dictionary was a \"normal\" Hash with any possible arrangemment. To keep order you had to use a [OrderedDict](https://docs.python.org/3/library/collections.html#collections.OrderedDict)\n",
    "\n",
    "<!-- \n",
    "sorted_word_count = sorted(words.items(), key=lambda x: x[1], reverse=True)\n",
    "-->\n"
   ]
  },
  {
   "cell_type": "code",
   "execution_count": null,
   "metadata": {},
   "outputs": [],
   "source": [
    "sorted_word_count = ..."
   ]
  },
  {
   "cell_type": "markdown",
   "metadata": {},
   "source": [
    "Create the following functions :\n",
    "1. `top_n_words` that takes the sorted list and return the first n words with maximum number of occurrences\n",
    "2. `filter_words` that returns all the words that matches an expression"
   ]
  },
  {
   "cell_type": "code",
   "execution_count": null,
   "metadata": {},
   "outputs": [],
   "source": [
    "\n",
    "def top_n_words(word_count, n):\n",
    "    ...\n",
    "\n",
    "\n",
    "def filter_words(word_count, predicate):\n",
    "    ...\n",
    "    if predicate(count):\n",
    "        print(...)\n",
    "\n",
    "filter_words(word_count, lambda count: 50 <= count <= 100)"
   ]
  },
  {
   "cell_type": "markdown",
   "metadata": {},
   "source": [
    "Create a function to sanitize a word, that is to say:\n",
    "- strip any [punctuation](https://docs.python.org/3.12/library/string.html#string.punctuation)\n",
    "- make it lower case"
   ]
  },
  {
   "cell_type": "code",
   "execution_count": null,
   "metadata": {},
   "outputs": [],
   "source": [
    "import string\n",
    "\n",
    "def sanitize_word(word):\n",
    "    ...\n",
    "\n"
   ]
  },
  {
   "cell_type": "markdown",
   "metadata": {},
   "source": [
    "Remove from the dict `word_count` all the pronouns, conjunctions, and articles so we get a list of \"meaningful words\".\n",
    "\n",
    "Choose the approach you prefer between removing the words from the existing dict or create a new list."
   ]
  },
  {
   "cell_type": "code",
   "execution_count": null,
   "metadata": {},
   "outputs": [],
   "source": [
    "exclude_words = ['i', 'me', 'my', 'mine', 'you', 'your', 'yours', 'he', 'him', 'his', 'she', 'her', 'hers', 'it', 'its', 'we', 'us', 'our', 'ours', 'you', 'your', 'yours', 'they', 'them', 'their', 'theirs', 'and', 'or', 'but', 'nor', 'so', 'for', 'yet', 'after', 'although', 'as', 'because', 'before', 'if', 'since', 'though', 'unless', 'until', 'when', 'where', 'while', 'a', 'an', 'the', 'on', 'in', 'to', 'at', 'by', 'with', 'of', 'off', 'up', 'down', 'over', 'under']\n",
    "\n"
   ]
  },
  {
   "cell_type": "markdown",
   "metadata": {},
   "source": [
    "Have more fun by :\n",
    "- Recreating the list with sanitized words\n",
    "- Change the structure to have stats per song/record/year\n",
    "- Find the song with most unique words / longest words in average / lowest number of words"
   ]
  }
 ],
 "metadata": {
  "kernelspec": {
   "display_name": "Python 3.10.5 64-bit",
   "language": "python",
   "name": "python3"
  },
  "language_info": {
   "codemirror_mode": {
    "name": "ipython",
    "version": 3
   },
   "file_extension": ".py",
   "mimetype": "text/x-python",
   "name": "python",
   "nbconvert_exporter": "python",
   "pygments_lexer": "ipython3",
   "version": "3.10.5"
  },
  "orig_nbformat": 4,
  "vscode": {
   "interpreter": {
    "hash": "26de051ba29f2982a8de78e945f0abaf191376122a1563185a90213a26c5da77"
   }
  }
 },
 "nbformat": 4,
 "nbformat_minor": 2
}
