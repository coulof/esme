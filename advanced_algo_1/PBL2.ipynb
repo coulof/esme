{
 "cells": [
  {
   "cell_type": "markdown",
   "metadata": {},
   "source": [
    "# PBL 2 resolution"
   ]
  },
  {
   "cell_type": "markdown",
   "metadata": {},
   "source": [
    "# title"
   ]
  },
  {
   "cell_type": "code",
   "execution_count": null,
   "metadata": {},
   "outputs": [],
   "source": []
  },
  {
   "cell_type": "code",
   "execution_count": 16,
   "metadata": {},
   "outputs": [
    {
     "name": "stdout",
     "output_type": "stream",
     "text": [
      "731\n"
     ]
    }
   ],
   "source": [
    "import csv\n",
    "data = []\n",
    "with open('hotel_info_dedup.csv', 'r') as file:\n",
    "    content = csv.reader(file)\n",
    "    next(content)\n",
    "    for row in content: \n",
    "        hotel = {\n",
    "            \"hotel_name\" : row[1],\n",
    "        }\n",
    "        if row[2] == \"\":\n",
    "            hotel['hotel_rating'] = 0\n",
    "        else:\n",
    "            hotel['hotel_rating'] = float(row[2])\n",
    "        if row[9] == \"\":\n",
    "            hotel['price'] = 300\n",
    "        else:\n",
    "            hotel['price'] = int(row[9])\n",
    "        data.append(hotel)\n",
    "\n",
    "print(len(data))"
   ]
  },
  {
   "cell_type": "markdown",
   "metadata": {},
   "source": [
    "\n",
    "## Select Sort\n",
    "\n",
    " Here's a step-by-step breakdown:\n",
    "\n",
    "1. **Step 1**: The algorithm starts at the first element in the array. It considers this element as the \"minimum\".\n",
    "\n",
    "2. **Step 2**: The algorithm compares this \"minimum\" with the rest of the elements in the array. If it finds an element that is smaller, it updates the \"minimum\".\n",
    "\n",
    "3. **Step 3**: Once the algorithm has gone through all the elements, it swaps the \"minimum\" element with the first element in the array.\n",
    "\n",
    "4. **Step 4**: The algorithm moves to the next element in the array and repeats the process until the entire array is sorted.\n"
   ]
  },
  {
   "cell_type": "code",
   "execution_count": 18,
   "metadata": {},
   "outputs": [
    {
     "name": "stdout",
     "output_type": "stream",
     "text": [
      "[{'name': 'Alice', 'age': 115}, {'name': 'John', 'age': 169}, {'name': 'Bob', 'age': 300}]\n",
      "[{'hotel_name': 'Chatham Motel', 'hotel_rating': 2.0, 'price': 50}, {'hotel_name': 'Kent Motel', 'hotel_rating': 3.5, 'price': 60}, {'hotel_name': 'Saxony Motel & Restaurant', 'hotel_rating': 4.0, 'price': 69}, {'hotel_name': 'Motel Econo-Nuit', 'hotel_rating': 0, 'price': 70}, {'hotel_name': 'Arbour Cottage B & B', 'hotel_rating': 5.0, 'price': 90}, {'hotel_name': 'River Heights Motel', 'hotel_rating': 3.5, 'price': 80}, {'hotel_name': 'Motel Le Sabre', 'hotel_rating': 4.0, 'price': 75}, {'hotel_name': 'Serenity Lodge Bed And Breakfast', 'hotel_rating': 0, 'price': 125}, {'hotel_name': 'Holiday Inn Express Hotel & Suites Courtenay Comox Valley SW', 'hotel_rating': 4.5, 'price': 160}, {'hotel_name': 'Estuary House B&B', 'hotel_rating': 3.5, 'price': 110}, {'hotel_name': 'Retro Suites Hotel', 'hotel_rating': 5.0, 'price': 155}, {'hotel_name': 'Stafford House B&B', 'hotel_rating': 5.0, 'price': 115}, {'hotel_name': 'Comfort Inn Chatham', 'hotel_rating': 0, 'price': 135}, {'hotel_name': \"Gite L'Antre D'Eux\", 'hotel_rating': 5.0, 'price': 103}, {'hotel_name': 'Days Inn by Wyndham Wallaceburg', 'hotel_rating': 3.0, 'price': 118}, {'hotel_name': 'Motel des Cedres', 'hotel_rating': 4.5, 'price': 90}, {'hotel_name': 'Auberge Marquis de Montcalm', 'hotel_rating': 5.0, 'price': 169}, {'hotel_name': 'Old House Hotel & Spa', 'hotel_rating': 4.5, 'price': 170}, {'hotel_name': 'Hotel Le Floral', 'hotel_rating': 4.5, 'price': 115}, {'hotel_name': 'Charmes de Provence', 'hotel_rating': 5.0, 'price': 300}, {'hotel_name': \"Les Matins d'Antoine\", 'hotel_rating': 4.5, 'price': 300}, {'hotel_name': \"Bishop's University\", 'hotel_rating': 4.5, 'price': 300}, {'hotel_name': 'Villa Marco Polo', 'hotel_rating': 4.0, 'price': 300}, {'hotel_name': 'Quality Hotel & Suites', 'hotel_rating': 3.0, 'price': 300}, {'hotel_name': 'Au gite des 4 Lacs', 'hotel_rating': 0, 'price': 300}, {'hotel_name': \"Au Coeur de l'Emeraude\", 'hotel_rating': 5.0, 'price': 300}, {'hotel_name': 'Camping Lac Magog', 'hotel_rating': 4.0, 'price': 300}, {'hotel_name': 'Camping Ile-Marie', 'hotel_rating': 4.0, 'price': 300}, {'hotel_name': 'A Aurore Boreale', 'hotel_rating': 5.0, 'price': 300}, {'hotel_name': 'La Maison Orientale', 'hotel_rating': 5.0, 'price': 300}, {'hotel_name': 'Camping Beau-Lieu', 'hotel_rating': 0, 'price': 300}, {'hotel_name': 'Hebergement Hotelier Universite de Sherbrooke', 'hotel_rating': 0, 'price': 300}, {'hotel_name': 'Kingfisher Oceanside Resort and Spa', 'hotel_rating': 4.0, 'price': 300}, {'hotel_name': 'Hotel Le President', 'hotel_rating': 4.0, 'price': 300}, {'hotel_name': 'Grand Times Hotel Sherbrooke', 'hotel_rating': 3.5, 'price': 300}, {'hotel_name': 'Travelodge Courtenay BC', 'hotel_rating': 0, 'price': 300}, {'hotel_name': 'The Villas at Crown Isle Resort', 'hotel_rating': 4.5, 'price': 300}, {'hotel_name': 'Anco Inn', 'hotel_rating': 4.0, 'price': 300}, {'hotel_name': 'Best Western The Westerly Hotel', 'hotel_rating': 4.0, 'price': 300}, {'hotel_name': 'Lake Trail Guesthouse', 'hotel_rating': 4.5, 'price': 300}, {'hotel_name': 'Comfort Inn Sherbrooke', 'hotel_rating': 3.5, 'price': 300}, {'hotel_name': 'Motel Lennoxville', 'hotel_rating': 4.0, 'price': 300}, {'hotel_name': 'Peterborough House B&B', 'hotel_rating': 0, 'price': 300}, {'hotel_name': 'OTL Gouverneur Sherbrooke', 'hotel_rating': 5.0, 'price': 300}, {'hotel_name': 'Belle Vue Bed and Breakfast', 'hotel_rating': 5.0, 'price': 300}, {'hotel_name': 'Blue Willow Guest House', 'hotel_rating': 5.0, 'price': 300}, {'hotel_name': 'Tree Island Bed And Breakfast', 'hotel_rating': 5.0, 'price': 300}, {'hotel_name': 'Salsbury House B&B', 'hotel_rating': 5.0, 'price': 300}, {'hotel_name': 'Motel Le Refuge', 'hotel_rating': 3.5, 'price': 300}, {'hotel_name': 'Seal Bay RV Park & Campground', 'hotel_rating': 4.5, 'price': 300}, {'hotel_name': 'The Cona Hostel', 'hotel_rating': 4.5, 'price': 300}, {'hotel_name': 'Horne Lake Regional Park Campground', 'hotel_rating': 3.5, 'price': 300}, {'hotel_name': 'McCullough Cottage B&B', 'hotel_rating': 5.0, 'price': 300}, {'hotel_name': 'Mission Ridge B&B', 'hotel_rating': 5.0, 'price': 300}, {'hotel_name': 'Shantz Haus Hostel', 'hotel_rating': 3.0, 'price': 300}, {'hotel_name': 'Arbutus Pacific Hotel', 'hotel_rating': 1.5, 'price': 300}, {'hotel_name': 'La Pause Vacation Home', 'hotel_rating': 0, 'price': 300}, {'hotel_name': 'Sea Lion Bed & Breakfast', 'hotel_rating': 0, 'price': 300}, {'hotel_name': 'Holiday Inn Express Hotel & Suites Chatham South', 'hotel_rating': 4.0, 'price': 300}, {'hotel_name': 'Hotellerie Jardins de ville', 'hotel_rating': 3.5, 'price': 300}, {'hotel_name': 'Universite de Sherbrooke Hotellerie', 'hotel_rating': 3.5, 'price': 300}, {'hotel_name': \"Wenzler's Landing Bed & Breakfast\", 'hotel_rating': 5.0, 'price': 300}, {'hotel_name': \"Omstead's On Erie B&B\", 'hotel_rating': 5.0, 'price': 300}, {'hotel_name': 'Travelodge Chatham', 'hotel_rating': 3.5, 'price': 300}, {'hotel_name': 'Ile de Garde', 'hotel_rating': 5.0, 'price': 300}, {'hotel_name': 'Hotel & Motel La Marquise', 'hotel_rating': 3.5, 'price': 300}, {'hotel_name': 'Delta Hotels by Marriott Sherbrooke Conference Center', 'hotel_rating': 3.5, 'price': 300}, {'hotel_name': 'Bye the Bay Bed and Breakfast', 'hotel_rating': 4.5, 'price': 300}, {'hotel_name': 'Silver Motel', 'hotel_rating': 4.5, 'price': 300}, {'hotel_name': 'Bound to Please Bed and Breakfast', 'hotel_rating': 5.0, 'price': 300}, {'hotel_name': 'Super 8 by Wyndham Chatham', 'hotel_rating': 3.0, 'price': 300}, {'hotel_name': 'Lakeside Village Motel and Campground', 'hotel_rating': 5.0, 'price': 300}, {'hotel_name': 'Traveller Inn', 'hotel_rating': 2.0, 'price': 300}, {'hotel_name': 'Ramada Inn', 'hotel_rating': 0, 'price': 300}, {'hotel_name': 'The Duchess of Wellington', 'hotel_rating': 5.0, 'price': 300}, {'hotel_name': 'Campers Cove Campground', 'hotel_rating': 4.0, 'price': 300}, {'hotel_name': 'Erie-O Motel & Marina', 'hotel_rating': 4.5, 'price': 300}, {'hotel_name': \"Katharine's Bed and Breakfast\", 'hotel_rating': 5.0, 'price': 300}, {'hotel_name': 'Holiday Harbour Campground', 'hotel_rating': 4.0, 'price': 300}, {'hotel_name': 'Regent Guest House Ltd', 'hotel_rating': 0, 'price': 300}, {'hotel_name': 'Parkside Cabins', 'hotel_rating': 3.5, 'price': 300}, {'hotel_name': 'Raleigh Street Executive Suites', 'hotel_rating': 1.0, 'price': 300}, {'hotel_name': 'Blue Water Shiloh Park', 'hotel_rating': 0, 'price': 300}, {'hotel_name': 'Lakeside Cabin Rentals', 'hotel_rating': 0, 'price': 300}, {'hotel_name': 'Maison Bleu Bed & Breakfast', 'hotel_rating': 0, 'price': 300}, {'hotel_name': 'Toulinguet Inn B&B and Suites', 'hotel_rating': 4.5, 'price': 300}, {'hotel_name': 'White On Wood', 'hotel_rating': 4.0, 'price': 300}, {'hotel_name': 'Alphabet Fleet Inn B&B', 'hotel_rating': 4.5, 'price': 300}, {'hotel_name': 'Whispering Wind Cove Cottages', 'hotel_rating': 5.0, 'price': 300}, {'hotel_name': 'Tranquility Hill B & B', 'hotel_rating': 0, 'price': 300}, {'hotel_name': 'Admirals Bed & Breakfast', 'hotel_rating': 0, 'price': 300}, {'hotel_name': 'Harbour Lights Inn', 'hotel_rating': 4.0, 'price': 300}, {'hotel_name': \"Rum Runner's Roost Bed & Breakfast\", 'hotel_rating': 4.5, 'price': 300}, {'hotel_name': \"Kelsie's Inn - B & B\", 'hotel_rating': 4.0, 'price': 300}, {'hotel_name': 'Waterside Cabins', 'hotel_rating': 4.5, 'price': 300}, {'hotel_name': 'Twillingate Century House Bed and Breakfast', 'hotel_rating': 4.5, 'price': 300}, {'hotel_name': \"Peyton's Woods RV Park and Campground\", 'hotel_rating': 4.0, 'price': 300}, {'hotel_name': 'Sunset Bed & Breakfast', 'hotel_rating': 4.5, 'price': 300}, {'hotel_name': \"Dove's Nest B&B\", 'hotel_rating': 3.5, 'price': 300}]\n"
     ]
    }
   ],
   "source": [
    "def select_sort(array, key):\n",
    "    list_sorted = array.copy()\n",
    "    \n",
    "    for i in range(len(list_sorted)):\n",
    "        minimum = i\n",
    "        for j in range(i+1, len(list_sorted)):\n",
    "            # print(list_sorted[minimum], list_sorted[j])\n",
    "            if list_sorted[minimum][key] > list_sorted[j][key]:\n",
    "                list_sorted[i], list_sorted[j] = list_sorted[j], list_sorted[i]\n",
    "                minimum = j\n",
    "    return list_sorted\n",
    "\n",
    "sample = [\n",
    "    {'name': 'John', 'age': 169},\n",
    "    {'name': 'Alice', 'age': 115},\n",
    "    {'name': 'Bob', 'age': 300}\n",
    "]\n",
    "\n",
    "print(select_sort(sample, 'age'))\n",
    "\n",
    "print(select_sort(data[0:99], 'price'))"
   ]
  },
  {
   "cell_type": "markdown",
   "metadata": {},
   "source": [
    "## Exam"
   ]
  },
  {
   "cell_type": "code",
   "execution_count": 3,
   "metadata": {},
   "outputs": [
    {
     "name": "stdout",
     "output_type": "stream",
     "text": [
      "[('A', 9), ('B', 2), ('C', 5), ('D', 9), ('E', 0), ('F', 8), ('G', 9), ('H', 3), ('I', 4), ('J', 4), ('K', 5), ('L', 0), ('M', 4), ('N', 3), ('O', 10), ('P', 6), ('Q', 7), ('R', 7), ('S', 9), ('T', 7), ('U', 6), ('V', 3), ('W', 5), ('X', 5), ('Y', 5), ('Z', 6)]\n"
     ]
    }
   ],
   "source": []
  }
 ],
 "metadata": {
  "kernelspec": {
   "display_name": "Python 3",
   "language": "python",
   "name": "python3"
  },
  "language_info": {
   "codemirror_mode": {
    "name": "ipython",
    "version": 3
   },
   "file_extension": ".py",
   "mimetype": "text/x-python",
   "name": "python",
   "nbconvert_exporter": "python",
   "pygments_lexer": "ipython3",
   "version": "3.10.8"
  }
 },
 "nbformat": 4,
 "nbformat_minor": 2
}
