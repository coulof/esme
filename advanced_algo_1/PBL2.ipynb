{
 "cells": [
  {
   "cell_type": "markdown",
   "metadata": {},
   "source": [
    "# PBL 2 resolution"
   ]
  },
  {
   "cell_type": "code",
   "execution_count": 16,
   "metadata": {},
   "outputs": [
    {
     "name": "stdout",
     "output_type": "stream",
     "text": [
      "731\n"
     ]
    }
   ],
   "source": [
    "import csv\n",
    "data = []\n",
    "with open('hotel_info_dedup.csv', 'r') as file:\n",
    "    content = csv.reader(file)\n",
    "    next(content)\n",
    "    for row in content: \n",
    "        hotel = {\n",
    "            \"hotel_name\" : row[1],\n",
    "        }\n",
    "        if row[2] == \"\":\n",
    "            hotel['hotel_rating'] = 0\n",
    "        else:\n",
    "            hotel['hotel_rating'] = float(row[2])\n",
    "        if row[9] == \"\":\n",
    "            hotel['price'] = 300\n",
    "        else:\n",
    "            hotel['price'] = int(row[9])\n",
    "        data.append(hotel)\n",
    "\n",
    "print(len(data))"
   ]
  }
 ],
 "metadata": {
  "kernelspec": {
   "display_name": "Python 3",
   "language": "python",
   "name": "python3"
  },
  "language_info": {
   "codemirror_mode": {
    "name": "ipython",
    "version": 3
   },
   "file_extension": ".py",
   "mimetype": "text/x-python",
   "name": "python",
   "nbconvert_exporter": "python",
   "pygments_lexer": "ipython3",
   "version": "3.10.8"
  }
 },
 "nbformat": 4,
 "nbformat_minor": 2
}
