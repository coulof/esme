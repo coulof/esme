{
 "cells": [
  {
   "cell_type": "markdown",
   "metadata": {},
   "source": [
    "<img style=\"margin-top: 0px\" src=\" data:image/png;base64,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\" align=\"left\" alt=\"logo esme\"  height=\"20\"> \n",
    "<div class=\"alert alert-block alert-info\" style=\"margin-top: 9px; padding: 10px; background: linear-gradient(to right, #f7f9fa, #d9edfb);\">\n",
    "    <h1 style=\"margin-left: 85px\">Advanced Algorithmics 1 - TD 03 - Sorting algorithms 2</h1>\n",
    "</div>"
   ]
  },
  {
   "cell_type": "markdown",
   "metadata": {},
   "source": [
    "<blockquote><em>“There are three kinds of people:those who can count,and those who can't.”</em></blockquote>&nbsp;&nbsp;<i style=\"font-size: 10px\"> Benjamin Dereca</i>"
   ]
  },
  {
   "cell_type": "markdown",
   "metadata": {},
   "source": [
    "***\n",
    "## Exercice 1 - Counting sort\n",
    "***"
   ]
  },
  {
   "cell_type": "markdown",
   "metadata": {
    "deletable": false,
    "editable": false
   },
   "source": [
    "1. Quels sont les autres noms donnés pour le tri par comptage ?"
   ]
  },
  {
   "cell_type": "markdown",
   "metadata": {},
   "source": [
    "1. What are the other names given to count sorting?"
   ]
  },
  {
   "cell_type": "markdown",
   "metadata": {},
   "source": [
    "*Enter your answer here*"
   ]
  },
  {
   "cell_type": "markdown",
   "metadata": {
    "deletable": false,
    "editable": false
   },
   "source": [
    "2. Quelle est la condition à satisfaire sur les données pour pouvoir appliquer le tri par comptage ?"
   ]
  },
  {
   "cell_type": "markdown",
   "metadata": {},
   "source": [
    "2. What is the condition to satisfy on the data to be able to apply sorting by counting?"
   ]
  },
  {
   "cell_type": "markdown",
   "metadata": {},
   "source": [
    "*Enter your answer here*"
   ]
  },
  {
   "cell_type": "markdown",
   "metadata": {
    "deletable": false,
    "editable": false
   },
   "source": [
    "3. Qu’est qu’un histogramme ?"
   ]
  },
  {
   "cell_type": "markdown",
   "metadata": {},
   "source": [
    "3. What is a histogram?"
   ]
  },
  {
   "cell_type": "markdown",
   "metadata": {},
   "source": [
    "*Enter your answer here*"
   ]
  },
  {
   "cell_type": "markdown",
   "metadata": {
    "deletable": false,
    "editable": false
   },
   "source": [
    "4. Ce tri est très efficace dans un cas précis. Quel est ce cas ?"
   ]
  },
  {
   "cell_type": "markdown",
   "metadata": {},
   "source": [
    "4. This sorting is very efficient in one specific case. What is this case?"
   ]
  },
  {
   "cell_type": "markdown",
   "metadata": {},
   "source": [
    "*Enter your answer here*"
   ]
  },
  {
   "cell_type": "markdown",
   "metadata": {
    "deletable": false,
    "editable": false
   },
   "source": [
    "5. Expliquer les différentes étapes de ce tri"
   ]
  },
  {
   "cell_type": "markdown",
   "metadata": {},
   "source": [
    "5. Explain the various stages of sorting"
   ]
  },
  {
   "cell_type": "markdown",
   "metadata": {},
   "source": [
    "*Enter your answer here*"
   ]
  },
  {
   "cell_type": "markdown",
   "metadata": {
    "deletable": false,
    "editable": false
   },
   "source": [
    "6. Dérouler l’algorithme du tri par comptage manuellement sur la liste\n",
    "L=[4,7,2,8,2,5,4,2,1,2,7,3,5,1,4], en précisant les valeurs de l’histogramme et les valeurs de la liste triée."
   ]
  },
  {
   "cell_type": "markdown",
   "metadata": {},
   "source": [
    "6. Run the count sort algorithm manually on the list\n",
    "L=[4,7,2,8,2,5,4,2,1,2,7,3,5,1,4], specifying the histogram values and the sorted list values."
   ]
  },
  {
   "cell_type": "markdown",
   "metadata": {},
   "source": [
    "**Answer:**\n",
    "\n",
    "Let's unroll the enumeration sort on the list L=[4,7,2,8,2,5,4,2,1,2,7,3,5,1,4]\n",
    "\n",
    "#### 1. histogram of values\n",
    "\n",
    "| 0 | 1 | 2 | 3 | 4 | 5 | 6 | 7 | 8 |\n",
    "|---|---|---|---|---|---|---|---|---|\n",
    "|  |  |  |  |  |  |  |  |  |\n",
    "\n",
    "#### 2.Browsing the histogram and writing  the values\n",
    "\n",
    "| i |hist[i] | Action                  | Sorted table |\n",
    "|---|--------|-------------------------|-----------------|\n",
    "| 0 |        |                         |                 |\n",
    "| 1 |        |                         |                 |  \n",
    "| 2 |        |                         |                 |  \n",
    "| 3 |        |                         |                 | \n",
    "| 4 |        |                         |                 |  \n",
    "| 5 |        |                         |                 |   \n",
    "| 6 |        |                         |                 |   \n",
    "| 7 |        |                         |                 |\n",
    "| 8 |        |                         |                 |"
   ]
  },
  {
   "cell_type": "markdown",
   "metadata": {},
   "source": [
    "7. Write a count function, with arguments *L*, returning a list of length *N* whose index element *k* designates the number of occurrences of the integer *k* in the list *L*."
   ]
  },
  {
   "cell_type": "code",
   "execution_count": null,
   "metadata": {},
   "outputs": [],
   "source": [
    "def counting(L):\n",
    "\"\"\"returns a list of the number of occurrences in L of elements \n",
    " from 0 to N-1. N is assumed to be the length of the array L\"\"\"\n",
    "    ..."
   ]
  },
  {
   "cell_type": "markdown",
   "metadata": {},
   "source": [
    "8. Derive a function `triCount`, with arguments *L*, which returns a list sorted in ascending order."
   ]
  },
  {
   "cell_type": "code",
   "execution_count": null,
   "metadata": {},
   "outputs": [],
   "source": [
    "def counting_sort(L):\n",
    "\"\"\"sorts the list L, whose elements are less than or equal to N-1, using \n",
    " the hit list given by the count function\"\"\"\n",
    "    ..."
   ]
  },
  {
   "cell_type": "markdown",
   "metadata": {},
   "source": [
    "9. Test the `triComptage` function on a list of 20 randomly chosen integers less than or equal to 5."
   ]
  },
  {
   "cell_type": "code",
   "execution_count": null,
   "metadata": {},
   "outputs": [],
   "source": [
    "#CODE"
   ]
  },
  {
   "cell_type": "markdown",
   "metadata": {
    "deletable": false,
    "editable": false
   },
   "source": [
    "10. Quelle est la complexité de cet algorithme ?"
   ]
  },
  {
   "cell_type": "markdown",
   "metadata": {},
   "source": [
    "10. What is the complexity of this algorithm?"
   ]
  },
  {
   "cell_type": "code",
   "execution_count": null,
   "metadata": {},
   "outputs": [],
   "source": [
    "#CODE"
   ]
  },
  {
   "cell_type": "markdown",
   "metadata": {},
   "source": [
    "***\n",
    "## Exercice 2 - Algorithmic complexity\n",
    "***"
   ]
  },
  {
   "cell_type": "markdown",
   "metadata": {
    "deletable": false,
    "editable": false
   },
   "source": [
    "1. Quel est le coût de l’algorithme suivant ?\n",
    "<pre>\n",
    "def test_de_presence (L) :\n",
    "    if 2 in L :\n",
    "        print ( \" Il y est \" )\n",
    "    else :\n",
    "        print(\" Il n’y est pas \")\n",
    "</pre>"
   ]
  },
  {
   "cell_type": "markdown",
   "metadata": {},
   "source": [
    "1. What is the cost of the following algorithm?\n",
    "<pre>\n",
    "def test_of_presence (L) :\n",
    "    if 2 in L :\n",
    "        print ( \" YES\" )\n",
    "    else :\n",
    "        print(\" NO \")\n",
    "</pre>"
   ]
  },
  {
   "cell_type": "markdown",
   "metadata": {},
   "source": [
    "*Enter your answer here*"
   ]
  },
  {
   "cell_type": "markdown",
   "metadata": {
    "deletable": false,
    "editable": false
   },
   "source": [
    "2. Quel est le coût de l’algorithme suivant ?\n",
    "<pre>\n",
    "def test_de_presence (a, L) :\n",
    "    if a == 0:\n",
    "        print ( \"a doit être non nul \" )\n",
    "    else :\n",
    "        L . remove ( a )\n",
    "</pre>"
   ]
  },
  {
   "cell_type": "markdown",
   "metadata": {},
   "source": [
    "2. What is the cost of the following algorithm?\n",
    "<pre>\n",
    "def test_of_presence (a, L) :\n",
    "    if a == 0:\n",
    "        print ( \"a must not be none\" )\n",
    "    else :\n",
    "        L . remove ( a )\n",
    "</pre>"
   ]
  },
  {
   "cell_type": "markdown",
   "metadata": {},
   "source": [
    "*Enter your answer here*"
   ]
  },
  {
   "cell_type": "markdown",
   "metadata": {
    "deletable": false,
    "editable": false
   },
   "source": [
    "3. Quel est le coût de l’algorithme suivant ?\n",
    "<pre>\n",
    "for i in range (11) :\n",
    "        print(i∗n)\n",
    "</pre>"
   ]
  },
  {
   "cell_type": "markdown",
   "metadata": {},
   "source": [
    "3. What is the cost of the following algorithm?\n",
    "<pre>\n",
    "for i in range (11) :\n",
    "        print(i∗n)\n",
    "</pre>"
   ]
  },
  {
   "cell_type": "markdown",
   "metadata": {},
   "source": [
    "*Enter your answer here*"
   ]
  },
  {
   "cell_type": "markdown",
   "metadata": {
    "deletable": false,
    "editable": false
   },
   "source": [
    "4. Quel est le coût de l’algorithme suivant ?\n",
    "<pre>\n",
    "for i in range (n) :\n",
    "        print(i∗i)\n",
    "</pre>"
   ]
  },
  {
   "cell_type": "markdown",
   "metadata": {},
   "source": [
    "4. What is the cost of the following algorithm ?\n",
    "<pre>\n",
    "for i in range (n) :\n",
    "        print(i∗i)\n",
    "</pre>"
   ]
  },
  {
   "cell_type": "markdown",
   "metadata": {},
   "source": [
    "*Enter your answer here*"
   ]
  },
  {
   "cell_type": "markdown",
   "metadata": {
    "deletable": false,
    "editable": false
   },
   "source": [
    "5. Quel est le coût de l’algorithme suivant ?\n",
    "<pre>\n",
    "for i in range (n) :\n",
    "        for j in range (n) :\n",
    "                print(i∗j)\n",
    "</pre>"
   ]
  },
  {
   "cell_type": "markdown",
   "metadata": {},
   "source": [
    "5. What is the cost of the following algorithm?\n",
    "<pre>\n",
    "for i in range (n) :\n",
    "        for j in range (n) :\n",
    "                print(i∗j)\n",
    "</pre>"
   ]
  },
  {
   "cell_type": "markdown",
   "metadata": {},
   "source": [
    "*Enter your answer here*"
   ]
  },
  {
   "cell_type": "markdown",
   "metadata": {
    "deletable": false,
    "editable": false
   },
   "source": [
    "6. Quel est le coût de l’algorithme suivant ?\n",
    "<pre>\n",
    "for i in range (n) :\n",
    "        for j in range (i) :\n",
    "                print(i∗j)\n",
    "</pre>"
   ]
  },
  {
   "cell_type": "markdown",
   "metadata": {},
   "source": [
    "6. What is the cost of the following algorithm?\n",
    "<pre>\n",
    "for i in range (n) :\n",
    "        for j in range (i) :\n",
    "                print(i∗j)\n",
    "</pre>"
   ]
  },
  {
   "cell_type": "markdown",
   "metadata": {},
   "source": [
    "*Enter your answer here*"
   ]
  },
  {
   "cell_type": "markdown",
   "metadata": {
    "deletable": false,
    "editable": false
   },
   "source": [
    "7. Quel est le coût de l’algorithme suivant ?\n",
    "<pre>\n",
    "for i in range (5, n - 4) :\n",
    "        for j in range (i - 5, i + 6) :\n",
    "                print(x+2)\n",
    "</pre>"
   ]
  },
  {
   "cell_type": "markdown",
   "metadata": {},
   "source": [
    "7. What is the cost of the following algorithm?\n",
    "<pre>\n",
    "for i in range (5, n - 4) :\n",
    "        for j in range (i - 5, i + 6) :\n",
    "                print(x+2)\n",
    "</pre>"
   ]
  },
  {
   "cell_type": "markdown",
   "metadata": {},
   "source": [
    "*Enter your answer here*"
   ]
  },
  {
   "cell_type": "markdown",
   "metadata": {
    "deletable": false,
    "editable": false
   },
   "source": [
    "8. Quel est le coût de l’algorithme suivant ?\n",
    "<pre>\n",
    "for i in range (1, n+1) :\n",
    "        for j in range (1, i+1):\n",
    "                for k in range (1, j+1):\n",
    "                        sudripyth(x)\n",
    "</pre>"
   ]
  },
  {
   "cell_type": "markdown",
   "metadata": {},
   "source": [
    "8. What is the cost of the following algorithm?\n",
    "<pre>\n",
    "for i in range (1, n+1) :\n",
    "        for j in range (1, i+1):\n",
    "                for k in range (1, j+1):\n",
    "                        sudripyth(x)\n",
    "</pre>"
   ]
  },
  {
   "cell_type": "markdown",
   "metadata": {},
   "source": [
    "*Enter your answer here*"
   ]
  },
  {
   "cell_type": "markdown",
   "metadata": {},
   "source": [
    "***\n",
    "## Exercice 3 : Merge sort\n",
    "***"
   ]
  },
  {
   "cell_type": "markdown",
   "metadata": {},
   "source": [
    "The principle of merge sorting follows the \"divide and conquer\" paradigm:\n",
    "- The list to be sorted is divided into two halves.\n",
    "- Each half is sorted.\n",
    "- The two halves are merged to reconstitute the sorted list.\n",
    "Here's an example of how to sort by merging a list L=[ 8 , 2 , 5 , 4 , 9 , 6 , 1 , 7]:\n",
    "\n",
    "<img src=\"data:image/png;base64,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\"  width=\"500\"/>"
   ]
  },
  {
   "cell_type": "markdown",
   "metadata": {},
   "source": [
    "1. Unroll the merge sort algorithm by hand on the following list:\n",
    "<pre>15, 23, 9, 12, 21, 14, 17, 23, 8, 78</pre>"
   ]
  },
  {
   "cell_type": "markdown",
   "metadata": {},
   "source": [
    "**Answer:**"
   ]
  },
  {
   "cell_type": "markdown",
   "metadata": {},
   "source": [
    "2. The following python code implements merge sorting. Complete the lines containing three suspension points ..."
   ]
  },
  {
   "cell_type": "code",
   "execution_count": null,
   "metadata": {},
   "outputs": [],
   "source": [
    "#function that returns a sorted list from two sorted lists(liste_gauche et liste_droite)\n",
    "def merge(Liste_gauche,Liste_droite):\n",
    "    resultat = … #inatiation of the result list\n",
    "    index_gauche, index_droite = 0, 0\n",
    "    while index_gauche < len(Liste_gauche) and index_droite < len(Liste_droite):\n",
    "        if Liste_gauche[index_gauche] <= Liste_droite[index_droite]:\n",
    "            resultat.append(Liste_gauche[index_gauche])\n",
    "            index_gauche += 1\n",
    "        else:\n",
    "            …\n",
    "            …\n",
    "    if Liste_gauche:\n",
    "        resultat.extend(Liste_gauche[index_gauche:])\n",
    "    if Liste_droite:\n",
    "        …\n",
    "    return …\n",
    "\n",
    "def merge_sort(L):\n",
    "    if len(L) <= 1:\n",
    "        return …\n",
    "    milieu = …\n",
    "#cutting the L list into two sub-lists Left_list and Right_list\n",
    "    Liste_gauche = L[:milieu]\n",
    "    Liste_droite = …\n",
    "    Liste_gauche = tri_fusion(Liste_gauche)# same for Liste_gauche\n",
    "    Liste_droite = …    # same for Liste_droite\n",
    "    return fusion(Liste_gauche, Liste_droite) #merging Liste_gauche and Liste_droite"
   ]
  },
  {
   "cell_type": "markdown",
   "metadata": {},
   "source": [
    "3. Modify the algorithm to use merge sorting in descending order"
   ]
  },
  {
   "cell_type": "code",
   "execution_count": null,
   "metadata": {},
   "outputs": [],
   "source": [
    "# CODE"
   ]
  },
  {
   "cell_type": "markdown",
   "metadata": {},
   "source": [
    "4. Write a version of merge sort that works with lists of three elements, for example to sort the score of a certain number of blackjack players. We'll call this function `merge_sort_list`.\n",
    "\n",
    "\n",
    "**Example :**\n",
    "\n",
    "    scores = [[\"SUPA\",\"Gontrand\", 18], [\"SUPC\",\"Théo\", 13], [\"SUPE\",\"Myriam\",19], [\"SUPN\",\"Philibert\",21],[\"SUPX\",\"Suzanne\",16],[\"SUPY\",\"Obi-Wan\",21], [\"SUPTheta\",\"Olibrius\",99], [\"SUPG\",\"Maryama\",17]]"
   ]
  },
  {
   "cell_type": "code",
   "execution_count": null,
   "metadata": {},
   "outputs": [],
   "source": [
    "# CODE"
   ]
  },
  {
   "cell_type": "markdown",
   "metadata": {},
   "source": [
    "***\n",
    "## Exercice 4 - Asymptotic values\n",
    "***"
   ]
  },
  {
   "cell_type": "markdown",
   "metadata": {
    "deletable": false,
    "editable": false
   },
   "source": [
    "Classer les fonctions suivantes par ordre croissant de leur valeur asymptotique :\n",
    "\n",
    "$log(n$<sup>$3$</sup>) , $2$<sup>$n$<sup>$2$</sup></sup> , $n$<sup>$3$</sup>$log(n)$, $\\sqrt{n!}$ , $2\\sqrt{x}$"
   ]
  },
  {
   "cell_type": "markdown",
   "metadata": {},
   "source": [
    "Classify the following functions in ascending order of their asymptotic value :\n",
    "\n",
    "$log(n$<sup>$3$</sup>) , $2$<sup>$n$<sup>$2$</sup></sup> , $n$<sup>$3$</sup>$log(n)$, $\\sqrt{n!}$ , $2\\sqrt{x}$"
   ]
  },
  {
   "cell_type": "markdown",
   "metadata": {},
   "source": [
    "*Enter your answer here*"
   ]
  }
 ],
 "metadata": {
  "celltoolbar": "Format de la Cellule Texte Brut",
  "kernelspec": {
   "display_name": "Python 3 (ipykernel)",
   "language": "python",
   "name": "python3"
  },
  "language_info": {
   "codemirror_mode": {
    "name": "ipython",
    "version": 3
   },
   "file_extension": ".py",
   "mimetype": "text/x-python",
   "name": "python",
   "nbconvert_exporter": "python",
   "pygments_lexer": "ipython3",
   "version": "3.11.5"
  },
  "varInspector": {
   "cols": {
    "lenName": 16,
    "lenType": 16,
    "lenVar": 40
   },
   "kernels_config": {
    "python": {
     "delete_cmd_postfix": "",
     "delete_cmd_prefix": "del ",
     "library": "var_list.py",
     "varRefreshCmd": "print(var_dic_list())"
    },
    "r": {
     "delete_cmd_postfix": ") ",
     "delete_cmd_prefix": "rm(",
     "library": "var_list.r",
     "varRefreshCmd": "cat(var_dic_list()) "
    }
   },
   "types_to_exclude": [
    "module",
    "function",
    "builtin_function_or_method",
    "instance",
    "_Feature"
   ],
   "window_display": false
  }
 },
 "nbformat": 4,
 "nbformat_minor": 4
}
