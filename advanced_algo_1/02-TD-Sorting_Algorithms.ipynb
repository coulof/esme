{
 "cells": [
  {
   "cell_type": "markdown",
   "metadata": {},
   "source": [
    "***\n",
    "# Lab 2 - Selection Sort\n",
    "***"
   ]
  },
  {
   "cell_type": "markdown",
   "metadata": {},
   "source": [
    "***\n",
    "## Exercise 1 : Selection Sort\n",
    "***"
   ]
  },
  {
   "cell_type": "markdown",
   "metadata": {
    "deletable": false,
    "editable": false
   },
   "source": [
    "1. Describe the steps involved in the selection sort"
   ]
  },
  {
   "cell_type": "markdown",
   "metadata": {},
   "source": [
    "*your answer here*"
   ]
  },
  {
   "cell_type": "markdown",
   "metadata": {
    "deletable": false,
    "editable": false
   },
   "source": [
    "2. Implement the selection sort algorithm. Then apply the algorithm by hand on the following algorithm\n",
    "L=[24,8,98,16,2,76,30,1].\n",
    "<br> \n",
    "Compare the results obtained at each step by executing the code."
   ]
  },
  {
   "cell_type": "markdown",
   "metadata": {},
   "source": [
    "*your answer here*"
   ]
  },
  {
   "cell_type": "code",
   "execution_count": null,
   "metadata": {},
   "outputs": [],
   "source": [
    "# YOUR CODE HERE"
   ]
  },
  {
   "cell_type": "markdown",
   "metadata": {
    "deletable": false,
    "editable": false
   },
   "source": [
    "3. The  selection sort algorithm starts with the smallest element in the remaining slice to be sorted. It is possible to sort from the largest element. Implement the algorithm in a function that takes a list and returns the sorted list in descending order."
   ]
  },
  {
   "cell_type": "code",
   "execution_count": null,
   "metadata": {},
   "outputs": [],
   "source": [
    "# YOUR CODE HERE"
   ]
  },
  {
   "cell_type": "markdown",
   "metadata": {
    "deletable": false,
    "editable": false
   },
   "source": [
    " 4. Determine the complexity of this algorithm by inserting a variable that tracks the number of operations performed. Compare the theoretical complexity with the value calculated."
   ]
  },
  {
   "cell_type": "code",
   "execution_count": null,
   "metadata": {},
   "outputs": [],
   "source": [
    "# YOUR CODE HERE"
   ]
  },
  {
   "cell_type": "markdown",
   "metadata": {
    "deletable": false,
    "editable": false
   },
   "source": [
    "5. Implement the selection sort recursively."
   ]
  },
  {
   "cell_type": "code",
   "execution_count": null,
   "metadata": {},
   "outputs": [],
   "source": [
    "# YOUR CODE HERE"
   ]
  },
  {
   "cell_type": "markdown",
   "metadata": {
    "deletable": false,
    "editable": false
   },
   "source": [
    "***\n",
    "## Exercise 2 : Insertion Sort\n",
    "***"
   ]
  },
  {
   "cell_type": "markdown",
   "metadata": {
    "deletable": false,
    "editable": false
   },
   "source": [
    "1. Describe the steps involved in the insertion sort algorithm"
   ]
  },
  {
   "cell_type": "code",
   "execution_count": null,
   "metadata": {},
   "outputs": [],
   "source": [
    "# VOTRE CODE ICI"
   ]
  },
  {
   "cell_type": "markdown",
   "metadata": {
    "deletable": false,
    "editable": false
   },
   "source": [
    "1. Implement the insertion sort and apply it by hand on the following list\n",
    "L=[24,8,98,16,2,76,30,1]\n",
    "<br>\n",
    "Compare the results by hand with the ones from your code"
   ]
  },
  {
   "cell_type": "markdown",
   "metadata": {},
   "source": [
    "*Answer*"
   ]
  },
  {
   "cell_type": "code",
   "execution_count": null,
   "metadata": {},
   "outputs": [],
   "source": [
    "# YOUR CODE HERE"
   ]
  },
  {
   "cell_type": "markdown",
   "metadata": {
    "deletable": false,
    "editable": false
   },
   "source": [
    "3. We now want to invert the insertion sort by performing the sort from the last index to the first index.  Implement the modification in a new function."
   ]
  },
  {
   "cell_type": "code",
   "execution_count": null,
   "metadata": {},
   "outputs": [],
   "source": [
    "# YOUR CODE HERE"
   ]
  },
  {
   "cell_type": "markdown",
   "metadata": {
    "deletable": false,
    "editable": false
   },
   "source": [
    "4. Run the previous algorithm on the following list. What is the list obtained?\n",
    "<table>\n",
    " <tr>\n",
    "  <td>L= </td>     \n",
    "  <td style=\"background-color: LightSalmon\">B </td>\n",
    "  <td style=\"background-color: DarkSalmon\">O </td>\n",
    "  <td style=\"background-color: Salmon\">N </td>\n",
    "  <td style=\"background-color: pink\">J </td>\n",
    "  <td style=\"background-color: LightCoral\">O </td>\n",
    "  <td style=\"background-color: IndianRed\">U </td>\n",
    "  <td style=\"background-color: Coral\">R </td>\n",
    " </tr>\n",
    "</table>"
   ]
  },
  {
   "cell_type": "code",
   "execution_count": null,
   "metadata": {},
   "outputs": [],
   "source": [
    "# YOUR CODE HERE"
   ]
  },
  {
   "cell_type": "markdown",
   "metadata": {
    "deletable": false,
    "editable": false
   },
   "source": [
    "5. Modify the initial insertion sort algorithm to sort in descending order."
   ]
  },
  {
   "cell_type": "code",
   "execution_count": null,
   "metadata": {},
   "outputs": [],
   "source": [
    "# YOUR CODE HERE"
   ]
  },
  {
   "cell_type": "markdown",
   "metadata": {
    "deletable": false,
    "editable": false
   },
   "source": [
    "6. Calculate the complexity of this algorithm by inserting a variable calculating the number of operations performed. Compare the theoretical complexity with the displayed value."
   ]
  },
  {
   "cell_type": "code",
   "execution_count": null,
   "metadata": {},
   "outputs": [],
   "source": [
    "# YOUR CODE HERE"
   ]
  },
  {
   "cell_type": "markdown",
   "metadata": {
    "deletable": false,
    "editable": false
   },
   "source": [
    "7. Develop a recursive version of insertion sort."
   ]
  },
  {
   "cell_type": "code",
   "execution_count": null,
   "metadata": {},
   "outputs": [],
   "source": [
    "#YOUR CODE HERE"
   ]
  },
  {
   "cell_type": "markdown",
   "metadata": {},
   "source": [
    "***\n",
    "# Implement the sorts for the Hotel Problem - Sponsored by Bing AI\n",
    "***\n",
    "\n",
    "## Insert Sort\n",
    "\n",
    "Here's a step-by-step breakdown:\n",
    "\n",
    "1. **Step 1**: The algorithm starts at the first element in the array. It considers this element as the \"minimum\".\n",
    "\n",
    "2. **Step 2**: The algorithm compares this \"minimum\" with the rest of the elements in the array. If it finds an element that is smaller, it updates the \"minimum\".\n",
    "\n",
    "3. **Step 3**: Once the algorithm has gone through all the elements, it swaps the \"minimum\" element with the first element in the array.\n",
    "\n",
    "4. **Step 4**: The algorithm moves to the next element in the array and repeats the process until the entire array is sorted.\n",
    "\n",
    "Here's a simple example:\n",
    "\n",
    "Let's say we have an array `[4, 3, 2, 1]`.\n",
    "\n",
    "- In the first step, `4` is the \"minimum\". The algorithm finds `3`, `2`, and `1` are smaller, so it updates the \"minimum\" to `1`. It then swaps `1` with `4`. The array becomes `[1, 3, 2, 4]`.\n",
    "- In the second step, `3` is the \"minimum\". The algorithm finds `2` is smaller, so it updates the \"minimum\" to `2`. It then swaps `2` with `3`. The array becomes `[1, 2, 3, 4]`.\n",
    "- In the third and fourth steps, `3` and `4` are already the \"minimum\" in their respective sub-arrays, so no swap is needed.\n",
    "\n",
    "And that's it! The array is now sorted. This algorithm is simple and has a time complexity of O(n^2), making it inefficient on large lists, and generally performs worse than the similar insertion sort.\n",
    "\n",
    "\n",
    "## Select Sort\n",
    "\n",
    " Here's a step-by-step breakdown:\n",
    "\n",
    "1. **Step 1**: The algorithm starts at the first element in the array. It considers this element as the \"minimum\".\n",
    "\n",
    "2. **Step 2**: The algorithm compares this \"minimum\" with the rest of the elements in the array. If it finds an element that is smaller, it updates the \"minimum\".\n",
    "\n",
    "3. **Step 3**: Once the algorithm has gone through all the elements, it swaps the \"minimum\" element with the first element in the array.\n",
    "\n",
    "4. **Step 4**: The algorithm moves to the next element in the array and repeats the process until the entire array is sorted.\n",
    "\n",
    "Here's a simple example:\n",
    "\n",
    "Let's say we have an array `[4, 3, 2, 1]`.\n",
    "\n",
    "- In the first step, `4` is the \"minimum\". The algorithm finds `3`, `2`, and `1` are smaller, so it updates the \"minimum\" to `1`. It then swaps `1` with `4`. The array becomes `[1, 3, 2, 4]`.\n",
    "- In the second step, `3` is the \"minimum\". The algorithm finds `2` is smaller, so it updates the \"minimum\" to `2`. It then swaps `2` with `3`. The array becomes `[1, 2, 3, 4]`.\n",
    "- In the third and fourth steps, `3` and `4` are already the \"minimum\" in their respective sub-arrays, so no swap is needed.\n",
    "\n",
    "And that's it! The array is now sorted. This algorithm is simple and has a time complexity of O(n^2), making it inefficient on large lists, and generally performs worse than the similar insertion sort.\n",
    "\n",
    "## Bubble Sort\n",
    "\n",
    "Sure, I'd be happy to explain the behavior of a bubble sort algorithm. Here's a step-by-step breakdown:\n",
    "\n",
    "1. **Step 1**: The algorithm starts at the first element in the array.\n",
    "\n",
    "2. **Step 2**: It compares the current element with the next element. If the current element is greater than the next element, it swaps them.\n",
    "\n",
    "3. **Step 3**: The algorithm moves to the next pair of elements and repeats the process until it has gone through the entire array.\n",
    "\n",
    "4. **Step 4**: The algorithm repeats the entire process for the length of the array times. However, with each iteration, the largest element \"bubbles up\" to its correct position, which means there's no need to consider the last elements in the subsequent iterations.\n",
    "\n",
    "Here's a simple example:\n",
    "\n",
    "Let's say we have an array `[4, 3, 2, 1]`.\n",
    "\n",
    "- In the first step, `4` is compared with `3`, `2`, and `1` and swapped each time since `4` is greater. The array becomes `[3, 2, 1, 4]`.\n",
    "- In the second step, `3` is compared with `2` and `1` and swapped each time since `3` is greater. The array becomes `[2, 1, 3, 4]`.\n",
    "- In the third step, `2` is compared with `1` and swapped since `2` is greater. The array becomes `[1, 2, 3, 4]`.\n",
    "- In the fourth step, no swaps are needed since the array is already sorted.\n",
    "\n",
    "And that's it! The array is now sorted. This algorithm is simple and has a time complexity of O(n^2), making it inefficient on large lists. However, it has the property of being able to detect that the list is sorted efficiently if it is nearly sorted (which is the case in many practical data sets).\n",
    "\n"
   ]
  }
 ],
 "metadata": {
  "celltoolbar": "Format de la Cellule Texte Brut",
  "kernelspec": {
   "display_name": "Python 3",
   "language": "python",
   "name": "python3"
  },
  "language_info": {
   "codemirror_mode": {
    "name": "ipython",
    "version": 3
   },
   "file_extension": ".py",
   "mimetype": "text/x-python",
   "name": "python",
   "nbconvert_exporter": "python",
   "pygments_lexer": "ipython3",
   "version": "3.7.4"
  },
  "varInspector": {
   "cols": {
    "lenName": 16,
    "lenType": 16,
    "lenVar": 40
   },
   "kernels_config": {
    "python": {
     "delete_cmd_postfix": "",
     "delete_cmd_prefix": "del ",
     "library": "var_list.py",
     "varRefreshCmd": "print(var_dic_list())"
    },
    "r": {
     "delete_cmd_postfix": ") ",
     "delete_cmd_prefix": "rm(",
     "library": "var_list.r",
     "varRefreshCmd": "cat(var_dic_list()) "
    }
   },
   "types_to_exclude": [
    "module",
    "function",
    "builtin_function_or_method",
    "instance",
    "_Feature"
   ],
   "window_display": false
  }
 },
 "nbformat": 4,
 "nbformat_minor": 4
}
