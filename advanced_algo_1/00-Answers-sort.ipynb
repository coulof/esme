{
 "cells": [
  {
   "cell_type": "markdown",
   "metadata": {},
   "source": [
    "---\n",
    "# Sorting algorithms\n",
    "---\n",
    "\n",
    "### General Notes on Complexity Calculation:\n",
    "- **Nested loops** typically contribute to quadratic time complexities ($O(N^2)$).\n",
    "- If the number of operations is proportional to the size of the input ($N$), the complexity is $O(N)$.\n",
    "- **Space complexity** concerns additional space required by the algorithm, not including the input size. In-place algorithms, which sort the array without using extra space, have $O(1)$ space complexity.\n"
   ]
  },
  {
   "cell_type": "markdown",
   "metadata": {},
   "source": [
    "---\n",
    "## Bubble Sort Exercise\n",
    "---\n",
    "**Task:** Implement the Bubble Sort algorithm to sort an array of integers in ascending order. After each pass, print the array to see how the elements are being sorted.\n",
    "\n",
    "**Hints:**\n",
    "- Start with two nested loops.\n",
    "- In the inner loop, compare each pair of adjacent items and swap them if the first one is greater than the second.\n",
    "- Continue this process until no swaps are needed."
   ]
  },
  {
   "cell_type": "code",
   "execution_count": 1,
   "metadata": {},
   "outputs": [
    {
     "name": "stdout",
     "output_type": "stream",
     "text": [
      "Sorted array is: [11, 12, 22, 25, 34, 64, 90]\n"
     ]
    }
   ],
   "source": [
    "def bubble_sort(arr):\n",
    "    n = len(arr)\n",
    "    #### Outer Loop ####\n",
    "    for i in range(n):\n",
    "        # `n-i-1`` is the index of the last element that has not been processed yet. \n",
    "        # In each iteration of the outer loop, the largest element \"bubbles\" to the end of the array.\n",
    "        # `range(0, n-i-1)` in the inner loop ensures that we only consider elements up to the last unsorted element\n",
    "        #### Inner Loop ####\n",
    "        for j in range(0, n-i-1):\n",
    "            if arr[j] > arr[j+1]:\n",
    "                arr[j], arr[j+1] = arr[j+1], arr[j]  # Swap elements\n",
    "    return arr\n",
    "\n",
    "# Test the function\n",
    "arr = [64, 34, 25, 12, 22, 11, 90]\n",
    "bubble_sort(arr)\n",
    "print(\"Sorted array is:\", arr)\n"
   ]
  },
  {
   "cell_type": "code",
   "execution_count": 1,
   "metadata": {},
   "outputs": [
    {
     "name": "stdout",
     "output_type": "stream",
     "text": [
      "Sorted array is: [11, 12, 22, 25, 34, 64, 90]\n"
     ]
    }
   ],
   "source": [
    "def bubble_sort_while(arr):\n",
    "    n = len(arr)\n",
    "    swapped = True\n",
    "    while swapped:\n",
    "        swapped = False\n",
    "        for i in range(n - 1):\n",
    "            # Compare adjacent elements\n",
    "            if arr[i] > arr[i + 1]:\n",
    "                arr[i], arr[i + 1] = arr[i + 1], arr[i]\n",
    "                swapped = True\n",
    "arr = [64, 34, 25, 12, 22, 11, 90]\n",
    "bubble_sort_while(arr)\n",
    "print(\"Sorted array is:\", arr)\n"
   ]
  },
  {
   "cell_type": "markdown",
   "metadata": {},
   "source": [
    "\n",
    "### Bubble Sort Complexity Analysis\n",
    "Bubble Sort involves two nested loops over the input array:\n",
    "\n",
    "- **Outer loop:** Runs $N$ times, where $N$ is the array length.\n",
    "- **Inner loop:** In the first iteration, runs $N-1$ times, then $N-2$, down to 1.\n",
    "\n",
    "**Total Comparisons:** Approximately $\\frac{N(N-1)}{2}$, which simplifies to $O(N^2)$ in Big O notation.\n",
    "\n",
    "**Best Case:** If the array is already sorted, and if we optimize the algorithm to stop if there's an iteration with no swaps, the best-case time complexity is $O(N)$.\n",
    "\n",
    "**Space Complexity:** $O(1)$ since Bubble Sort is an in-place sorting algorithm.\n"
   ]
  },
  {
   "cell_type": "markdown",
   "metadata": {},
   "source": [
    "---\n",
    "## Insertion Sort Exercise\n",
    "---\n",
    "**Task:** Write an Insertion Sort function to sort an array of integers. Print the array after each iteration of the outer loop to observe how the sorted sublist grows and how elements are inserted into their correct positions.\n",
    "\n",
    "**Hints:**\n",
    "- The outer loop should iterate through each element of the array starting from the second element.\n",
    "- The inner loop compares the current element with the ones in the sorted sublist (elements before the current one) and inserts the current element into its correct position in the sorted sublist."
   ]
  },
  {
   "cell_type": "code",
   "execution_count": 2,
   "metadata": {},
   "outputs": [
    {
     "name": "stdout",
     "output_type": "stream",
     "text": [
      "Sorted array is: [5, 6, 11, 12, 13]\n"
     ]
    }
   ],
   "source": [
    "def insertion_sort(arr):\n",
    "    for i in range(1, len(arr)):\n",
    "        key = arr[i]\n",
    "        j = i-1\n",
    "        while j >=0 and key < arr[j]:\n",
    "            arr[j + 1] = arr[j]\n",
    "            j -= 1\n",
    "        arr[j + 1] = key\n",
    "    return arr\n",
    "\n",
    "# Test your function\n",
    "arr = [12, 11, 13, 5, 6]\n",
    "insertion_sort(arr)\n",
    "print(\"Sorted array is:\", arr)\n"
   ]
  },
  {
   "cell_type": "markdown",
   "metadata": {},
   "source": [
    "### Insertion Sort Complexity Analysis\n",
    "Insertion Sort builds the sorted array one element at a time, with a worst-case scenario of comparing each new element to all others already sorted:\n",
    "\n",
    "- **Best Case:** When the array is already sorted, the inner loop does not perform any swaps, resulting in $O(N)$ comparisons and thus $O(N)$ time complexity.\n",
    "- **Worst and Average Case:** For each insertion, the element may need to be compared with all others in the sorted part of the array, leading to $\\frac{N(N-1)}{2}$ comparisons, which simplifies to $O(N^2)$.\n",
    "\n",
    "**Space Complexity:** $O(1)$, as it only requires a single additional space for the element being inserted.\n"
   ]
  },
  {
   "cell_type": "markdown",
   "metadata": {},
   "source": [
    "---\n",
    "## Selection Sort Exercise\n",
    "---\n",
    "**Task:** Implement Selection Sort to organize an array of numbers in ascending order. At the end of each outer loop iteration, print the state of the array to see how the sorted section of the array increases and how the minimum element is selected and placed at the beginning of the unsorted section.\n",
    "\n",
    "**Hints:**\n",
    "- Use two nested loops: the outer loop tracks the boundary between the sorted and unsorted sections, and the inner loop finds the minimum element in the unsorted section.\n",
    "- Swap the found minimum element with the first element of the unsorted section."
   ]
  },
  {
   "cell_type": "code",
   "execution_count": 3,
   "metadata": {},
   "outputs": [
    {
     "name": "stdout",
     "output_type": "stream",
     "text": [
      "Sorted array is: [11, 12, 22, 25, 64]\n"
     ]
    }
   ],
   "source": [
    "def selection_sort(arr):\n",
    "    for i in range(len(arr)):\n",
    "        min_idx = i\n",
    "        for j in range(i+1, len(arr)):\n",
    "            if arr[min_idx] > arr[j]:\n",
    "                min_idx = j\n",
    "        arr[i], arr[min_idx] = arr[min_idx], arr[i]  # Swap elements\n",
    "    return arr\n",
    "\n",
    "# Test your function\n",
    "arr = [64, 25, 12, 22, 11]\n",
    "selection_sort(arr)\n",
    "print(\"Sorted array is:\", arr)\n"
   ]
  },
  {
   "cell_type": "markdown",
   "metadata": {},
   "source": [
    "### Selection Sort Complexity Analysis\n",
    "Selection Sort divides the input into a sorted and an unsorted region, and removes the smallest element from the unsorted region and adds it to the sorted region, which involves:\n",
    "\n",
    "- **Outer loop:** Runs $N-1$ times (where $N$ is the array length).\n",
    "- **Inner loop:** Runs $N-i$ times for each iteration of the outer loop, where $i$ is the current iteration of the outer loop.\n",
    "\n",
    "**Total Comparisons:** Almost  $\\frac{N(N-1)}{2}$, regardless of the initial array order, making its time complexity $O(N^2)$ in the best, worst, and average cases.\n",
    "\n",
    "**Space Complexity:** $O(1)$ as it is an in-place sorting algorithm.\n"
   ]
  }
 ],
 "metadata": {
  "kernelspec": {
   "display_name": "Python 3",
   "language": "python",
   "name": "python3"
  },
  "language_info": {
   "codemirror_mode": {
    "name": "ipython",
    "version": 3
   },
   "file_extension": ".py",
   "mimetype": "text/x-python",
   "name": "python",
   "nbconvert_exporter": "python",
   "pygments_lexer": "ipython3",
   "version": "3.10.8"
  }
 },
 "nbformat": 4,
 "nbformat_minor": 2
}
